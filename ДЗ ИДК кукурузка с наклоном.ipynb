{
 "cells": [
  {
   "cell_type": "markdown",
   "metadata": {},
   "source": [
    "#### Исходные данные"
   ]
  },
  {
   "cell_type": "code",
   "execution_count": 1,
   "metadata": {},
   "outputs": [],
   "source": [
    "import numpy as np\n",
    "import matplotlib.pyplot as plt\n",
    "import prop\n",
    "from pandas import DataFrame\n",
    "from scipy.optimize import fsolve\n",
    "from scipy.interpolate import interp1d\n",
    "from scipy.integrate import ode, simps\n",
    "import math\n",
    "import random\n",
    "\n",
    "%matplotlib inline\n",
    "%config InlineBackend.figure_format = 'svg'\n",
    "\n",
    "#Perараметры текста\n",
    "plt.rcParams[\"font.family\"] = 'serif'\n",
    "plt.rcParams['font.weight'] = 'ultralight'\n",
    "plt.rcParams['font.serif'] = 'Times New Roman'\n",
    "plt.rcParams['font.size'] = 14\n",
    "plt.rcParams['font.style'] = 'normal'\n",
    "plt.rcParams['mathtext.default'] = 'regular'\n",
    "plt.rcParams['mathtext.fontset'] = 'stix'"
   ]
  },
  {
   "cell_type": "code",
   "execution_count": 2,
   "metadata": {},
   "outputs": [],
   "source": [
    "#вспомогательные гд функции\n",
    "tau = lambda lmbd, k: 1 - (k - 1)/(k + 1)*lmbd**2\n",
    "pi = lambda lmbd, k: (1 - (k - 1)/(k + 1)*lmbd**2) ** (k / (k - 1))\n",
    "eps = lambda lmbd, k: pi(lmbd,k) / tau(lmbd,k)\n",
    "q = lambda lmbd, k:  ((k + 1) / 2)**(1 / (k - 1)) * lmbd * eps(lmbd, k)\n",
    "nu = lambda lmbd, k: 1 / q(lmbd,k)\n",
    "f = lambda lmbd, k: (lmbd**2 + 1) * (1 - (k - 1) / (k + 1) * lmbd**2) ** (1 / (k - 1))\n",
    "A = lambda k: np.sqrt(k * ((2 / (k + 1))**((k + 1) / (k - 1))))"
   ]
  },
  {
   "cell_type": "code",
   "execution_count": 3,
   "metadata": {},
   "outputs": [],
   "source": [
    "def results_for_one_m(m):\n",
    "        n = 1\n",
    "        ki = 1\n",
    "        while m > ki:\n",
    "            n += 3 * (m - ki)\n",
    "            ki += 2\n",
    "\n",
    "        D_nar = (D_km - 2e-3) / m\n",
    "        D_vn = D_nar - 2 * e_0\n",
    "        L_zar = S_g / (np.pi * n * (D_nar + D_vn))\n",
    "        kappa_vn = 4 * L_zar / D_vn\n",
    "        kappa_nar = 4 * n * D_nar * L_zar / (D_km**2 - n * D_nar ** 2)\n",
    "        eps_s = (D_nar ** 2 - D_vn ** 2) / D_km ** 2 * n\n",
    "        Sh = 4 * F_kr / (np.pi * D_km**2 * (1 - eps_s))\n",
    "\n",
    "        result = {\n",
    "            'm': m,\n",
    "            'n': n,\n",
    "            'D_nar': np.round(D_nar*1e3,1),\n",
    "            'D_vn': np.round(D_vn*1e3,1),\n",
    "            'L_zar': np.round(L_zar*1e3),\n",
    "            'kappa_vn': np.round(kappa_vn,2),\n",
    "            'kappa_nar': np.round(kappa_nar,2),\n",
    "            'eps_s': np.round(eps_s,3),\n",
    "            'Sh': np.round(Sh,3),\n",
    "            'pass': []\n",
    "        }\n",
    "\n",
    "        if D_vn <= 1.5e-3:\n",
    "            result['pass'].append('D_вн')\n",
    "        if L_zar > L_max - L1 - L2 - L3:\n",
    "            result['pass'].append(f'L_з на {(L_zar - (L_max - L1 - L2 - L3))*1e3:.1f} мм')\n",
    "        if kappa_vn > kappa_pred:\n",
    "            result['pass'].append('к_вн')\n",
    "        if kappa_nar > kappa_pred:\n",
    "            result['pass'].append('к_нар')\n",
    "        if eps_s <= 0.5:\n",
    "            result['pass'].append('eps_s')\n",
    "        if Sh >= 0.75:\n",
    "            result['pass'].append('Sh')\n",
    "\n",
    "        return result"
   ]
  },
  {
   "cell_type": "code",
   "execution_count": 4,
   "metadata": {},
   "outputs": [],
   "source": [
    "# Исходные данные\n",
    "D_sn = 0.21    # калибр снаряда\n",
    "\n",
    "# скорость полета во время коррекции, м/с\n",
    "V_sn_kor_min = 210\n",
    "V_sn_kor_max = 260\n",
    "# угловая скорость снаряда, об/с\n",
    "nu_sn_min = 5\n",
    "nu_sn_max = 8\n",
    "I_kor = 160     # требуемый импульс коррекции\n",
    "fi2_tel = np.deg2rad(120) # телесный угол коррекции\n",
    "n_du = 18       # 18\n",
    "m_du_max = 0.35 # максимальная масса одного ИДК\n",
    "# кол-во коррекций: 6 (по 3 ДУ),   12 (6 по 2 ДУ + 6 по 1 ДУ),   18 (по 1 ДУ)\n",
    "# угол наклона сопла: 25 градусов\n",
    "# угол между осями ДУ: 60 градусов\n",
    "T_nom = 273.15 + 18\n",
    "T_min = T_nom - 60\n",
    "T_max = T_nom + 60\n",
    "\n",
    "mu_c = 0.95\n",
    "kappa_pred = 180\n",
    "#L_treb = 55e-3\n",
    "\n",
    "t_v = 1e-3  # = delta_t время выхода двигателя на режим\n",
    "#У Аркаши было 1e-3 вместо 4е-3\n",
    "\n",
    "#Не использовалось\n",
    "m_sn = 93       # масса снаряда"
   ]
  },
  {
   "cell_type": "markdown",
   "metadata": {},
   "source": [
    "#### 0. Комплексы варьирования"
   ]
  },
  {
   "cell_type": "code",
   "execution_count": 20,
   "metadata": {},
   "outputs": [],
   "source": [
    "def calculate(var_dict):\n",
    "    h = 4e-3\n",
    "\n",
    "    D_du = var_dict['Диаметр ИДК']\n",
    "    # максимальная длина ДУ\n",
    "    L_max = (D_sn / 2 - np.sqrt(3) / 2 * D_du - 2 * h) / np.cos(np.deg2rad(25))\n",
    "    #print(f'L_max = {L_max*1e3:.1f}')\n",
    "    L_max = math.ceil(L_max * 1000) / 1000\n",
    "\n",
    "    p1_max = var_dict['Максимальное давление в камере']\n",
    "    # толщина стенки при максимальном давлении\n",
    "    delta_st = np.round(1.3 * p1_max * D_du / (2 * 1000e6),4)\n",
    "    #print(f'Толщина стенки = {delta_st*1e3:.1f}')\n",
    "    D_km = np.round(D_du - 2 * delta_st,4)\n",
    "    #print(f'Внутренний диаметр КС = {D_km*1e3:.1f}')\n",
    "\n",
    "    # Определение времени работы ИДК\n",
    "    t_d_min = 1 / nu_sn_max * fi2_tel / (2 * np.pi)\n",
    "    t_d_max = 1 / nu_sn_min * fi2_tel / (2 * np.pi)\n",
    "    #print(f'Время коррекции {t_d_min:.3f} ... {t_d_max:.3f} с')\n",
    "\n",
    "    # Окончательное время \n",
    "    t_d = 0.042 \n",
    "    # Коэффициент заполнения индикаторной кривой\n",
    "    # ksi_max = interp1d(np.linspace(0.01,0.07,7),[0.5,0.55,0.65,0.75,0.79,0.8,0.8])\n",
    "    # ksi_min = interp1d(np.linspace(0.01,0.07,7),[0.5,0.52,0.59,0.68,0.71,0.72,0.72])\n",
    "    # # ksi = np.mean([ksi_min(t_d),ksi_max(t_d)])\n",
    "    # ksi = ksi_max(t_d) - 0.01\n",
    "    ksi = var_dict['Коэффициент заполнения индикаторной кривой ИДК']\n",
    "    #print(f'ksi = {ksi:.3f}')\n",
    "\n",
    "    t_g = t_d / 4 * (5 * ksi - 1) - 3/8 * t_v   # Время горения заряда топлива (первое приближение)\n",
    "    t_g = math.ceil(t_g * 1000) / 1000\n",
    "    t_p = t_d - t_v - t_g                       # Время последействия\n",
    "    #print(f'Время горения заряда топлива: {t_g} c\\nВремя последействия: {t_p:.3f} c')    \n",
    "\n",
    "\n",
    "    # Назначим в первом приближении коэффициент расширения сопла\n",
    "    zeta = var_dict['Коэффициент расширения сопла']\n",
    "\n",
    "    # теоретический коэффициент тяги\n",
    "    K_tf = interp1d(np.linspace(1.4,2.6,7),[1.46,1.51,1.56,1.6,1.62,1.64,1.67])\n",
    "    K_t = K_tf(zeta) + 0\n",
    "    #print(f'Теоретический коэффициент тяги {K_t}')\n",
    "    # потери\n",
    "    fi1 = 0.95\n",
    "    fi2 = 0.95\n",
    "    # Действительный коэффициент тяги\n",
    "    K_d = fi1 * fi2 * K_t\n",
    "    #print(f'Действительный коэффициент тяги {K_d:.3f}')\n",
    "\n",
    "\n",
    "    # Коэффициенты\n",
    "    a = 340\n",
    "    # print(V_sn_kor_min, '-', V_sn_kor_max)\n",
    "    # print(V_sn_kor_min/a, '-', V_sn_kor_max/a)\n",
    "\n",
    "    K1 = 0.92\n",
    "    K2 = 0.95\n",
    "\n",
    "    # необходимая тяга\n",
    "    P_need_ = I_kor / (K1 * K2 * ksi * t_d)\n",
    "    P_need = P_need_/np.cos(np.deg2rad(25))\n",
    "\n",
    "    # print(f'Необходимая тяга без потерь на угол {P_need_:.2f}')\n",
    "    # print(f'Необходимая тяга ИДК {P_need:.2f}')\n",
    "\n",
    "\n",
    "    # посчитать тепловые потери\n",
    "\n",
    "    propel = var_dict['Топливо']\n",
    "    # Из уравнения Бори находим минимальное и номинальное давления по одному заданному\n",
    "    def fun(x):\n",
    "        p1N, p1_min = x[0], x[1]\n",
    "        return [propel.u(p1_max,T_max) / p1_max - propel.F1(p1N/1e6) / p1N,\n",
    "                propel.u(p1_max,T_max) / (p1_max * propel.F3(T_min)) - propel.F1(p1_min/1e6) / p1_min]\n",
    "\n",
    "    find_p1N = lambda p1N: propel.u(p1_max,T_max) / p1_max - propel.F1(p1N/1e6) / p1N\n",
    "    find_p1_min = lambda p1_min: propel.u(p1_max,T_max) / (p1_max * propel.F3(T_min)) - propel.F1(p1_min/1e6) / p1_min\n",
    "\n",
    "    p1N, p1_min = fsolve(fun,[0.9 * p1_max, 0.6 * p1_max])\n",
    "\n",
    "    # print(f'p1N = {p1N/1e6:.3f} МПа\\np1_min = {p1_min/1e6:.3f} МПа')\n",
    "    \n",
    "    # Площадь критического сечения сопла\n",
    "    F_kr = P_need / (K_d * p1_min)    # Заменено с p1N\n",
    "    # print(f'Площадь критики {F_kr}')\n",
    "\n",
    "    # диаметр критического сечения сопла\n",
    "    D_kr = np.sqrt(4 * F_kr / np.pi)\n",
    "    # print(f'Диаметр критики {D_kr}')\n",
    "\n",
    "    fi_vx = var_dict['Угол наклона дозвуковой части']\n",
    "    fi_c = var_dict['Угол наклона сверхзвуковой части']\n",
    "\n",
    "    # Длины участков сопла\n",
    "    L1 = np.round((D_km - D_kr) / (2 * np.tan(fi_vx)),3)\n",
    "    L2 = 2e-3\n",
    "    L3 = np.round(D_kr/(2*np.tan(fi_c)) * (zeta - 1),4)\n",
    "\n",
    "    # print(f'Длины блоков сопла: {L1,L2,L3}\\n',\n",
    "    #     f'Общая длина сопла: {L1 + L2 + L3}\\n',\n",
    "    #     f'Макс допуст длина заряда {L_max - (L1 + L2 + L3)}')\n",
    "\n",
    "    # Расчет газодинамических параметров в выходном сечении сопла\n",
    "    find_lambda_a = lambda lmbd: q(lmbd,propel.k) - 1 / zeta ** 2\n",
    "\n",
    "    lambda_a = fsolve(find_lambda_a,1.5)[0]\n",
    "    c_kr = np.sqrt(2 * propel.k / (propel.k + 1) * propel.R * propel.T0)\n",
    "    V_a = lambda_a * c_kr\n",
    "    p_a = pi(lambda_a,propel.k) * p1N\n",
    "    T_a = tau(lambda_a,propel.k) * propel.T0\n",
    "    rho_a = p_a / (propel.R * T_a)\n",
    "\n",
    "    # print(f'Безразм скорость потока {lambda_a:.3f}\\n',\n",
    "    #     f'Критическая скорость звука {c_kr:.3f}\\n',\n",
    "    #     f'Скорость {V_a:.3f}\\n',\n",
    "    #     f'Давление {p_a/1e6:.3f}\\n',\n",
    "    #     f'Температура {T_a:.3f}\\n',\n",
    "    #     f'Плотность {rho_a:.3f}')\n",
    "\n",
    "    G_p = mu_c * A(propel.k) * F_kr * p1_min / np.sqrt(propel.R * propel.T0)\n",
    "    omega_t = G_p * t_g\n",
    "    e_0 = 2 * propel.u(p1_min,T_min) * t_g\n",
    "    S_g = omega_t / (propel.rho * propel.u(p1_min,T_min) * t_g)\n",
    "\n",
    "    def results_for_one_m(m):\n",
    "        n = 1\n",
    "        ki = 1\n",
    "        while m > ki:\n",
    "            n += 3 * (m - ki)\n",
    "            ki += 2\n",
    "\n",
    "        D_nar = (D_km - 2e-3) / m\n",
    "        D_vn = D_nar - 2 * e_0\n",
    "        L_zar = S_g / (np.pi * n * (D_nar + D_vn))\n",
    "        kappa_vn = 4 * L_zar / D_vn\n",
    "        kappa_nar = 4 * n * D_nar * L_zar / (D_km**2 - n * D_nar ** 2)\n",
    "        eps_s = (D_nar ** 2 - D_vn ** 2) / D_km ** 2 * n\n",
    "        Sh = 4 * F_kr / (np.pi * D_km**2 * (1 - eps_s))\n",
    "\n",
    "        result = {\n",
    "            'm': m,\n",
    "            'n': n,\n",
    "            'D_nar': np.round(D_nar*1e3,1),\n",
    "            'D_vn': np.round(D_vn*1e3,1),\n",
    "            'L_zar': np.round(L_zar*1e3),\n",
    "            'kappa_vn': np.round(kappa_vn,2),\n",
    "            'kappa_nar': np.round(kappa_nar,2),\n",
    "            'eps_s': np.round(eps_s,3),\n",
    "            'Sh': np.round(Sh,3),\n",
    "            'pass': []\n",
    "        }\n",
    "\n",
    "        if D_vn <= 1.5e-3:\n",
    "            result['pass'].append('D_вн')\n",
    "        if L_zar > L_max - L1 - L2 - L3:\n",
    "            result['pass'].append(f'L_з на {(L_zar - (L_max - L1 - L2 - L3))*1e3:.1f} мм')\n",
    "        if kappa_vn > kappa_pred:\n",
    "            result['pass'].append('к_вн')\n",
    "        if kappa_nar > kappa_pred:\n",
    "            result['pass'].append('к_нар')\n",
    "        if eps_s <= 0.5:\n",
    "            result['pass'].append('eps_s')\n",
    "        if Sh >= 0.75:\n",
    "            result['pass'].append('Sh')\n",
    "\n",
    "        return result\n",
    "\n",
    "    results = []\n",
    "    for m in range(3,13,2):\n",
    "        results.append(results_for_one_m(m))\n",
    "\n",
    "    df_dict = {}\n",
    "    for data in results:\n",
    "        if len(df_dict[data['pass']]) == 0:\n",
    "            df_dict[data['m']] = list(data.values())[1:]\n",
    "    df = DataFrame(df_dict,index = ['n','D_н','D_вн','L_з','к_вн','к_нар','eps_s','Sh','не подходит по'])\n",
    "    df.style.hide(axis='index')\n",
    "\n",
    "    df.plot\n"
   ]
  },
  {
   "cell_type": "code",
   "execution_count": 21,
   "metadata": {},
   "outputs": [
    {
     "name": "stdout",
     "output_type": "stream",
     "text": [
      "Диаметр ИДК : 0.046\n",
      "Максимальное давление в камере : 111708720\n",
      "Коэффициент заполнения индикаторной кривой ИДК : 0.697\n",
      "Коэффициент расширения сопла : 2.1\n",
      "Топливо : <prop.__Prop object at 0x00000227ED49C9A0>\n",
      "Угол наклона дозвуковой части : 0.9075712110370514\n",
      "Угол наклона сверхзвуковой части : 0.29670597283903605\n"
     ]
    },
    {
     "name": "stderr",
     "output_type": "stream",
     "text": [
      "C:\\Users\\i_Ber\\AppData\\Local\\Temp\\ipykernel_3300\\1712053588.py:10: DeprecationWarning: non-integer arguments to randrange() have been deprecated since Python 3.10 and will be removed in a subsequent version\n",
      "  p1_max = random.randrange(p1_max_min, p1_max_max)                      # Максимальное давление в камере\n"
     ]
    },
    {
     "ename": "TypeError",
     "evalue": "unhashable type: 'list'",
     "output_type": "error",
     "traceback": [
      "\u001b[1;31m---------------------------------------------------------------------------\u001b[0m",
      "\u001b[1;31mTypeError\u001b[0m                                 Traceback (most recent call last)",
      "\u001b[1;32mc:\\Users\\i_Ber\\OneDrive\\Documents\\GitHub\\peuro-dz-idk\\ДЗ ИДК кукурузка с наклоном.ipynb Ячейка 8\u001b[0m in \u001b[0;36m<cell line: 30>\u001b[1;34m()\u001b[0m\n\u001b[0;32m     <a href='vscode-notebook-cell:/c%3A/Users/i_Ber/OneDrive/Documents/GitHub/peuro-dz-idk/%D0%94%D0%97%20%D0%98%D0%94%D0%9A%20%D0%BA%D1%83%D0%BA%D1%83%D1%80%D1%83%D0%B7%D0%BA%D0%B0%20%D1%81%20%D0%BD%D0%B0%D0%BA%D0%BB%D0%BE%D0%BD%D0%BE%D0%BC.ipynb#W4sZmlsZQ%3D%3D?line=25'>26</a>\u001b[0m \u001b[39mfor\u001b[39;00m key, value \u001b[39min\u001b[39;00m var_dict\u001b[39m.\u001b[39mitems():\n\u001b[0;32m     <a href='vscode-notebook-cell:/c%3A/Users/i_Ber/OneDrive/Documents/GitHub/peuro-dz-idk/%D0%94%D0%97%20%D0%98%D0%94%D0%9A%20%D0%BA%D1%83%D0%BA%D1%83%D1%80%D1%83%D0%B7%D0%BA%D0%B0%20%D1%81%20%D0%BD%D0%B0%D0%BA%D0%BB%D0%BE%D0%BD%D0%BE%D0%BC.ipynb#W4sZmlsZQ%3D%3D?line=26'>27</a>\u001b[0m     \u001b[39mprint\u001b[39m(key, \u001b[39m'\u001b[39m\u001b[39m:\u001b[39m\u001b[39m'\u001b[39m, value)\n\u001b[1;32m---> <a href='vscode-notebook-cell:/c%3A/Users/i_Ber/OneDrive/Documents/GitHub/peuro-dz-idk/%D0%94%D0%97%20%D0%98%D0%94%D0%9A%20%D0%BA%D1%83%D0%BA%D1%83%D1%80%D1%83%D0%B7%D0%BA%D0%B0%20%D1%81%20%D0%BD%D0%B0%D0%BA%D0%BB%D0%BE%D0%BD%D0%BE%D0%BC.ipynb#W4sZmlsZQ%3D%3D?line=29'>30</a>\u001b[0m calculate(var_dict)\n",
      "\u001b[1;32mc:\\Users\\i_Ber\\OneDrive\\Documents\\GitHub\\peuro-dz-idk\\ДЗ ИДК кукурузка с наклоном.ipynb Ячейка 8\u001b[0m in \u001b[0;36mcalculate\u001b[1;34m(var_dict)\u001b[0m\n\u001b[0;32m    <a href='vscode-notebook-cell:/c%3A/Users/i_Ber/OneDrive/Documents/GitHub/peuro-dz-idk/%D0%94%D0%97%20%D0%98%D0%94%D0%9A%20%D0%BA%D1%83%D0%BA%D1%83%D1%80%D1%83%D0%B7%D0%BA%D0%B0%20%D1%81%20%D0%BD%D0%B0%D0%BA%D0%BB%D0%BE%D0%BD%D0%BE%D0%BC.ipynb#W4sZmlsZQ%3D%3D?line=173'>174</a>\u001b[0m df_dict \u001b[39m=\u001b[39m {}\n\u001b[0;32m    <a href='vscode-notebook-cell:/c%3A/Users/i_Ber/OneDrive/Documents/GitHub/peuro-dz-idk/%D0%94%D0%97%20%D0%98%D0%94%D0%9A%20%D0%BA%D1%83%D0%BA%D1%83%D1%80%D1%83%D0%B7%D0%BA%D0%B0%20%D1%81%20%D0%BD%D0%B0%D0%BA%D0%BB%D0%BE%D0%BD%D0%BE%D0%BC.ipynb#W4sZmlsZQ%3D%3D?line=174'>175</a>\u001b[0m \u001b[39mfor\u001b[39;00m data \u001b[39min\u001b[39;00m results:\n\u001b[1;32m--> <a href='vscode-notebook-cell:/c%3A/Users/i_Ber/OneDrive/Documents/GitHub/peuro-dz-idk/%D0%94%D0%97%20%D0%98%D0%94%D0%9A%20%D0%BA%D1%83%D0%BA%D1%83%D1%80%D1%83%D0%B7%D0%BA%D0%B0%20%D1%81%20%D0%BD%D0%B0%D0%BA%D0%BB%D0%BE%D0%BD%D0%BE%D0%BC.ipynb#W4sZmlsZQ%3D%3D?line=175'>176</a>\u001b[0m     \u001b[39mif\u001b[39;00m \u001b[39mlen\u001b[39m(df_dict[data[\u001b[39m'\u001b[39;49m\u001b[39mpass\u001b[39;49m\u001b[39m'\u001b[39;49m]]) \u001b[39m==\u001b[39m \u001b[39m0\u001b[39m:\n\u001b[0;32m    <a href='vscode-notebook-cell:/c%3A/Users/i_Ber/OneDrive/Documents/GitHub/peuro-dz-idk/%D0%94%D0%97%20%D0%98%D0%94%D0%9A%20%D0%BA%D1%83%D0%BA%D1%83%D1%80%D1%83%D0%B7%D0%BA%D0%B0%20%D1%81%20%D0%BD%D0%B0%D0%BA%D0%BB%D0%BE%D0%BD%D0%BE%D0%BC.ipynb#W4sZmlsZQ%3D%3D?line=176'>177</a>\u001b[0m         df_dict[data[\u001b[39m'\u001b[39m\u001b[39mm\u001b[39m\u001b[39m'\u001b[39m]] \u001b[39m=\u001b[39m \u001b[39mlist\u001b[39m(data\u001b[39m.\u001b[39mvalues())[\u001b[39m1\u001b[39m:]\n\u001b[0;32m    <a href='vscode-notebook-cell:/c%3A/Users/i_Ber/OneDrive/Documents/GitHub/peuro-dz-idk/%D0%94%D0%97%20%D0%98%D0%94%D0%9A%20%D0%BA%D1%83%D0%BA%D1%83%D1%80%D1%83%D0%B7%D0%BA%D0%B0%20%D1%81%20%D0%BD%D0%B0%D0%BA%D0%BB%D0%BE%D0%BD%D0%BE%D0%BC.ipynb#W4sZmlsZQ%3D%3D?line=177'>178</a>\u001b[0m df \u001b[39m=\u001b[39m DataFrame(df_dict,index \u001b[39m=\u001b[39m [\u001b[39m'\u001b[39m\u001b[39mn\u001b[39m\u001b[39m'\u001b[39m,\u001b[39m'\u001b[39m\u001b[39mD_н\u001b[39m\u001b[39m'\u001b[39m,\u001b[39m'\u001b[39m\u001b[39mD_вн\u001b[39m\u001b[39m'\u001b[39m,\u001b[39m'\u001b[39m\u001b[39mL_з\u001b[39m\u001b[39m'\u001b[39m,\u001b[39m'\u001b[39m\u001b[39mк_вн\u001b[39m\u001b[39m'\u001b[39m,\u001b[39m'\u001b[39m\u001b[39mк_нар\u001b[39m\u001b[39m'\u001b[39m,\u001b[39m'\u001b[39m\u001b[39meps_s\u001b[39m\u001b[39m'\u001b[39m,\u001b[39m'\u001b[39m\u001b[39mSh\u001b[39m\u001b[39m'\u001b[39m,\u001b[39m'\u001b[39m\u001b[39mне подходит по\u001b[39m\u001b[39m'\u001b[39m])\n",
      "\u001b[1;31mTypeError\u001b[0m: unhashable type: 'list'"
     ]
    }
   ],
   "source": [
    "D_du_min, D_du_max = 20, 70\n",
    "p1_max_min, p1_max_max = 50e6, 200e6\n",
    "ksi_min, ksi_max= 0.7 - 3.447/30.795/10, 0.7 + 19.088/30.795/10\n",
    "zeta_min, zeta_max  = 1.4, 2.6 \n",
    "propels = ['P-1', 'P-2', 'P-3', 'B-1', 'B-2', 'B-3', 'C-1']\n",
    "fi_vx_min, fi_vx_max = 40, 80\n",
    "fi_c_min, fi_c_max = 15, 30 \n",
    "\n",
    "D_du = random.randrange(D_du_min, D_du_max)/1000                       # Диаметр ИДК\n",
    "p1_max = random.randrange(p1_max_min, p1_max_max)                      # Максимальное давление в камере\n",
    "ksi = random.randrange(round(ksi_min*1000), round(ksi_max*1000))/1000  # Коэффициент заполнения индикаторной кривой ИДК\n",
    "zeta = random.randint(int(zeta_min*10), int(zeta_max*10))/10           # Коэффициент расширения сопла                                                      # Теоретический коэффициент тяги\n",
    "propel = prop.get_propellant(propels[-2])                              # Марка топлива\n",
    "fi_vx = np.deg2rad(random.randrange(fi_vx_min, fi_vx_max))             # Угол наклона дозвуковой части\n",
    "fi_c = np.deg2rad(random.randrange(fi_c_min, fi_c_max))                # Угол наклона сверхзвуковой части\n",
    "\n",
    "var_dict = {\n",
    "    'Диаметр ИДК': D_du,\n",
    "    'Максимальное давление в камере': p1_max,\n",
    "    'Коэффициент заполнения индикаторной кривой ИДК': ksi,\n",
    "    'Коэффициент расширения сопла': zeta,\n",
    "    'Топливо': propel,\n",
    "    'Угол наклона дозвуковой части': fi_vx,\n",
    "    'Угол наклона сверхзвуковой части': fi_c\n",
    "}\n",
    "for key, value in var_dict.items():\n",
    "    print(key, ':', value)\n",
    "\n",
    "\n",
    "calculate(var_dict)"
   ]
  },
  {
   "cell_type": "code",
   "execution_count": 13,
   "metadata": {},
   "outputs": [
    {
     "ename": "NameError",
     "evalue": "name 'results' is not defined",
     "output_type": "error",
     "traceback": [
      "\u001b[1;31m---------------------------------------------------------------------------\u001b[0m",
      "\u001b[1;31mNameError\u001b[0m                                 Traceback (most recent call last)",
      "\u001b[1;32mc:\\Users\\i_Ber\\OneDrive\\Documents\\GitHub\\peuro-dz-idk\\ДЗ ИДК кукурузка с наклоном.ipynb Ячейка 9\u001b[0m in \u001b[0;36m<cell line: 1>\u001b[1;34m()\u001b[0m\n\u001b[1;32m----> <a href='vscode-notebook-cell:/c%3A/Users/i_Ber/OneDrive/Documents/GitHub/peuro-dz-idk/%D0%94%D0%97%20%D0%98%D0%94%D0%9A%20%D0%BA%D1%83%D0%BA%D1%83%D1%80%D1%83%D0%B7%D0%BA%D0%B0%20%D1%81%20%D0%BD%D0%B0%D0%BA%D0%BB%D0%BE%D0%BD%D0%BE%D0%BC.ipynb#X22sZmlsZQ%3D%3D?line=0'>1</a>\u001b[0m itog \u001b[39m=\u001b[39m results[\u001b[39m-\u001b[39m\u001b[39m4\u001b[39m]\n\u001b[0;32m      <a href='vscode-notebook-cell:/c%3A/Users/i_Ber/OneDrive/Documents/GitHub/peuro-dz-idk/%D0%94%D0%97%20%D0%98%D0%94%D0%9A%20%D0%BA%D1%83%D0%BA%D1%83%D1%80%D1%83%D0%B7%D0%BA%D0%B0%20%D1%81%20%D0%BD%D0%B0%D0%BA%D0%BB%D0%BE%D0%BD%D0%BE%D0%BC.ipynb#X22sZmlsZQ%3D%3D?line=1'>2</a>\u001b[0m L_zar \u001b[39m=\u001b[39m itog[\u001b[39m'\u001b[39m\u001b[39mL_zar\u001b[39m\u001b[39m'\u001b[39m]\u001b[39m/\u001b[39m\u001b[39m1e3\u001b[39m\n\u001b[0;32m      <a href='vscode-notebook-cell:/c%3A/Users/i_Ber/OneDrive/Documents/GitHub/peuro-dz-idk/%D0%94%D0%97%20%D0%98%D0%94%D0%9A%20%D0%BA%D1%83%D0%BA%D1%83%D1%80%D1%83%D0%B7%D0%BA%D0%B0%20%D1%81%20%D0%BD%D0%B0%D0%BA%D0%BB%D0%BE%D0%BD%D0%BE%D0%BC.ipynb#X22sZmlsZQ%3D%3D?line=2'>3</a>\u001b[0m D_nar \u001b[39m=\u001b[39m itog[\u001b[39m'\u001b[39m\u001b[39mD_nar\u001b[39m\u001b[39m'\u001b[39m]\u001b[39m/\u001b[39m\u001b[39m1e3\u001b[39m\n",
      "\u001b[1;31mNameError\u001b[0m: name 'results' is not defined"
     ]
    }
   ],
   "source": [
    "itog = results[-4]\n",
    "L_zar = itog['L_zar']/1e3\n",
    "D_nar = itog['D_nar']/1e3\n",
    "D_vn = itog['D_vn']/1e3\n",
    "n_zar = itog['n']"
   ]
  },
  {
   "cell_type": "code",
   "execution_count": null,
   "metadata": {},
   "outputs": [
    {
     "name": "stdout",
     "output_type": "stream",
     "text": [
      "19\n"
     ]
    }
   ],
   "source": [
    "print(n_zar)"
   ]
  },
  {
   "cell_type": "code",
   "execution_count": null,
   "metadata": {},
   "outputs": [],
   "source": [
    "sigma_t = 300\n",
    "nu_t = 0.7\n",
    "\n",
    "# тепловые потери\n",
    "# F_oxl = 1.2 * np.pi * D_km * L_zar + n_zar * np.pi * L_zar * (D_vn + D_nar) + \\\n",
    "#         np.pi * n_zar / 2 * (D_nar**2 - D_vn**2)\n",
    "# Q_zh = propel.k / (propel.k - 1) * propel.R * propel.T0\n",
    "\n",
    "# def chi_teplf(p0):\n",
    "#      chi_tepl1 = sigma_t * nu_t * F_oxl * p0 / (Q_zh * propel.R * G_p)\n",
    "#      chi_tepl2 = propel.k / (propel.k - 1) * p0 / (propel.rho * Q_zh)\n",
    "#      return 1 - chi_tepl1 - chi_tepl2\n",
    "# print(chi_teplf(p1_max))"
   ]
  },
  {
   "cell_type": "markdown",
   "metadata": {},
   "source": [
    "#### Расчет воспламенителя"
   ]
  },
  {
   "cell_type": "code",
   "execution_count": null,
   "metadata": {},
   "outputs": [
    {
     "name": "stdout",
     "output_type": "stream",
     "text": [
      "p_vsp-50 = 0.129\n",
      "omega_v = -0.00166\n"
     ]
    }
   ],
   "source": [
    "sigma_t = 300\n",
    "v_t = 0.7\n",
    "\n",
    "R_v = 314\n",
    "Q_v = 3050e3\n",
    "u_v = 0.05\n",
    "k_v = 1.25\n",
    "rho_v = 1700\n",
    "e_v = 4e-3\n",
    "m_v = 3\n",
    "p_atm = 101325\n",
    "\n",
    "t_vv = e_v / u_v\n",
    "T_v = ((k_v - 1) / k_v) * (Q_v / R_v)\n",
    "T_s = 500\n",
    "\n",
    "W_0 = np.pi / 4 * (D_km**2) * L_zar - omega_t / propel.rho\n",
    "F_oxl = 1.2 * np.pi * D_km * L_zar + n_zar * np.pi * L_zar * (D_vn + D_nar) + \\\n",
    "        np.pi * n_zar / 2 * (D_nar**2 - D_vn**2)\n",
    "\n",
    "lambda_t = 0.23\n",
    "\n",
    "def p_vsp(T0):\n",
    "    return 1250 * propel.rho / sigma_t * propel.u(0.5e6, T0) * R_v * T_v * (T_s - T0) / (T_v - T_s)\n",
    "\n",
    "p_vsp_50 = p_vsp(273.15 - 50)\n",
    "#p_vsp_50 = 5e6\n",
    "p_max = 1.1 * p_vsp_50\n",
    "print(f'p_vsp-50 = {p_vsp_50/1e6:.3f}')\n",
    "\n",
    "b2 = (((propel.k - 1) / W_0) * (v_t * sigma_t * F_oxl / propel.R)) + ((propel.k * A(propel.k) * F_kr / W_0) *\\\n",
    "     (np.sqrt(propel.R * propel.T0)))\n",
    "S0_v = (p_max * b2 * ((m_v / (t_vv * b2)) ** (-m_v / (t_vv * b2 - m_v)))) / (((propel.k - 1) / W_0) * u_v * rho_v * Q_v)\n",
    "b1 = ((propel.k-1) / W_0) * rho_v * S0_v * u_v * Q_v\n",
    "\n",
    "\n",
    "def p_v(t):\n",
    "    p = - ((b1 / ((m_v / t_vv) - b2)) * (np.exp(- m_v * t / t_vv))) + ((p_atm + (b1 / ((m_v / t_vv) - b2))) * (np.exp(- b2 * t)))\n",
    "    return p\n",
    "\n",
    "omega_v = e_v * rho_v * S0_v * ((1 - np.exp(- m_v)) / m_v)\n",
    "print(f'omega_v = {(omega_v):.5f}')"
   ]
  },
  {
   "cell_type": "code",
   "execution_count": null,
   "metadata": {},
   "outputs": [
    {
     "data": {
      "image/svg+xml": "<?xml version=\"1.0\" encoding=\"utf-8\" standalone=\"no\"?>\n<!DOCTYPE svg PUBLIC \"-//W3C//DTD SVG 1.1//EN\"\n  \"http://www.w3.org/Graphics/SVG/1.1/DTD/svg11.dtd\">\n<svg xmlns:xlink=\"http://www.w3.org/1999/xlink\" width=\"564.815938pt\" height=\"376.991875pt\" viewBox=\"0 0 564.815938 376.991875\" xmlns=\"http://www.w3.org/2000/svg\" version=\"1.1\">\n <metadata>\n  <rdf:RDF xmlns:dc=\"http://purl.org/dc/elements/1.1/\" xmlns:cc=\"http://creativecommons.org/ns#\" xmlns:rdf=\"http://www.w3.org/1999/02/22-rdf-syntax-ns#\">\n   <cc:Work>\n    <dc:type rdf:resource=\"http://purl.org/dc/dcmitype/StillImage\"/>\n    <dc:date>2022-11-20T13:58:53.449620</dc:date>\n    <dc:format>image/svg+xml</dc:format>\n    <dc:creator>\n     <cc:Agent>\n      <dc:title>Matplotlib v3.5.2, https://matplotlib.org/</dc:title>\n     </cc:Agent>\n    </dc:creator>\n   </cc:Work>\n  </rdf:RDF>\n </metadata>\n <defs>\n  <style type=\"text/css\">*{stroke-linejoin: round; stroke-linecap: butt}</style>\n </defs>\n <g id=\"figure_1\">\n  <g id=\"patch_1\">\n   <path d=\"M 0 376.991875 \nL 564.815938 376.991875 \nL 564.815938 0 \nL 0 0 \nL 0 376.991875 \nz\n\" style=\"fill: none\"/>\n  </g>\n  <g id=\"axes_1\">\n   <g id=\"patch_2\">\n    <path d=\"M 55.415938 333.36 \nL 557.615938 333.36 \nL 557.615938 7.2 \nL 55.415938 7.2 \nz\n\" style=\"fill: #ffffff\"/>\n   </g>\n   <g id=\"matplotlib.axis_1\">\n    <g id=\"xtick_1\">\n     <g id=\"line2d_1\">\n      <path d=\"M 78.24321 333.36 \nL 78.24321 7.2 \n\" clip-path=\"url(#pb8cbc555d5)\" style=\"fill: none; stroke: #b0b0b0; stroke-width: 0.8; stroke-linecap: square\"/>\n     </g>\n     <g id=\"line2d_2\">\n      <defs>\n       <path id=\"m35ef1ce33e\" d=\"M 0 0 \nL 0 3.5 \n\" style=\"stroke: #000000; stroke-width: 0.8\"/>\n      </defs>\n      <g>\n       <use xlink:href=\"#m35ef1ce33e\" x=\"78.24321\" y=\"333.36\" style=\"stroke: #000000; stroke-width: 0.8\"/>\n      </g>\n     </g>\n     <g id=\"text_1\">\n      <!-- 0.000 -->\n      <g transform=\"translate(62.49321 350.08125)scale(0.14 -0.14)\">\n       <defs>\n        <path id=\"TimesNewRomanPSMT-30\" d=\"M 231 2094 \nQ 231 2819 450 3342 \nQ 669 3866 1031 4122 \nQ 1313 4325 1613 4325 \nQ 2100 4325 2488 3828 \nQ 2972 3213 2972 2159 \nQ 2972 1422 2759 906 \nQ 2547 391 2217 158 \nQ 1888 -75 1581 -75 \nQ 975 -75 572 641 \nQ 231 1244 231 2094 \nz\nM 844 2016 \nQ 844 1141 1059 588 \nQ 1238 122 1591 122 \nQ 1759 122 1940 273 \nQ 2122 425 2216 781 \nQ 2359 1319 2359 2297 \nQ 2359 3022 2209 3506 \nQ 2097 3866 1919 4016 \nQ 1791 4119 1609 4119 \nQ 1397 4119 1231 3928 \nQ 1006 3669 925 3112 \nQ 844 2556 844 2016 \nz\n\" transform=\"scale(0.015625)\"/>\n        <path id=\"TimesNewRomanPSMT-2e\" d=\"M 800 606 \nQ 947 606 1047 504 \nQ 1147 403 1147 259 \nQ 1147 116 1045 14 \nQ 944 -88 800 -88 \nQ 656 -88 554 14 \nQ 453 116 453 259 \nQ 453 406 554 506 \nQ 656 606 800 606 \nz\n\" transform=\"scale(0.015625)\"/>\n       </defs>\n       <use xlink:href=\"#TimesNewRomanPSMT-30\"/>\n       <use xlink:href=\"#TimesNewRomanPSMT-2e\" x=\"50\"/>\n       <use xlink:href=\"#TimesNewRomanPSMT-30\" x=\"75\"/>\n       <use xlink:href=\"#TimesNewRomanPSMT-30\" x=\"125\"/>\n       <use xlink:href=\"#TimesNewRomanPSMT-30\" x=\"175\"/>\n      </g>\n     </g>\n    </g>\n    <g id=\"xtick_2\">\n     <g id=\"line2d_3\">\n      <path d=\"M 158.298856 333.36 \nL 158.298856 7.2 \n\" clip-path=\"url(#pb8cbc555d5)\" style=\"fill: none; stroke: #b0b0b0; stroke-width: 0.8; stroke-linecap: square\"/>\n     </g>\n     <g id=\"line2d_4\">\n      <g>\n       <use xlink:href=\"#m35ef1ce33e\" x=\"158.298856\" y=\"333.36\" style=\"stroke: #000000; stroke-width: 0.8\"/>\n      </g>\n     </g>\n     <g id=\"text_2\">\n      <!-- 0.002 -->\n      <g transform=\"translate(142.548856 350.08125)scale(0.14 -0.14)\">\n       <defs>\n        <path id=\"TimesNewRomanPSMT-32\" d=\"M 2934 816 \nL 2638 0 \nL 138 0 \nL 138 116 \nQ 1241 1122 1691 1759 \nQ 2141 2397 2141 2925 \nQ 2141 3328 1894 3587 \nQ 1647 3847 1303 3847 \nQ 991 3847 742 3664 \nQ 494 3481 375 3128 \nL 259 3128 \nQ 338 3706 661 4015 \nQ 984 4325 1469 4325 \nQ 1984 4325 2329 3994 \nQ 2675 3663 2675 3213 \nQ 2675 2891 2525 2569 \nQ 2294 2063 1775 1497 \nQ 997 647 803 472 \nL 1909 472 \nQ 2247 472 2383 497 \nQ 2519 522 2628 598 \nQ 2738 675 2819 816 \nL 2934 816 \nz\n\" transform=\"scale(0.015625)\"/>\n       </defs>\n       <use xlink:href=\"#TimesNewRomanPSMT-30\"/>\n       <use xlink:href=\"#TimesNewRomanPSMT-2e\" x=\"50\"/>\n       <use xlink:href=\"#TimesNewRomanPSMT-30\" x=\"75\"/>\n       <use xlink:href=\"#TimesNewRomanPSMT-30\" x=\"125\"/>\n       <use xlink:href=\"#TimesNewRomanPSMT-32\" x=\"175\"/>\n      </g>\n     </g>\n    </g>\n    <g id=\"xtick_3\">\n     <g id=\"line2d_5\">\n      <path d=\"M 238.354502 333.36 \nL 238.354502 7.2 \n\" clip-path=\"url(#pb8cbc555d5)\" style=\"fill: none; stroke: #b0b0b0; stroke-width: 0.8; stroke-linecap: square\"/>\n     </g>\n     <g id=\"line2d_6\">\n      <g>\n       <use xlink:href=\"#m35ef1ce33e\" x=\"238.354502\" y=\"333.36\" style=\"stroke: #000000; stroke-width: 0.8\"/>\n      </g>\n     </g>\n     <g id=\"text_3\">\n      <!-- 0.004 -->\n      <g transform=\"translate(222.604502 350.08125)scale(0.14 -0.14)\">\n       <defs>\n        <path id=\"TimesNewRomanPSMT-34\" d=\"M 2978 1563 \nL 2978 1119 \nL 2409 1119 \nL 2409 0 \nL 1894 0 \nL 1894 1119 \nL 100 1119 \nL 100 1519 \nL 2066 4325 \nL 2409 4325 \nL 2409 1563 \nL 2978 1563 \nz\nM 1894 1563 \nL 1894 3666 \nL 406 1563 \nL 1894 1563 \nz\n\" transform=\"scale(0.015625)\"/>\n       </defs>\n       <use xlink:href=\"#TimesNewRomanPSMT-30\"/>\n       <use xlink:href=\"#TimesNewRomanPSMT-2e\" x=\"50\"/>\n       <use xlink:href=\"#TimesNewRomanPSMT-30\" x=\"75\"/>\n       <use xlink:href=\"#TimesNewRomanPSMT-30\" x=\"125\"/>\n       <use xlink:href=\"#TimesNewRomanPSMT-34\" x=\"175\"/>\n      </g>\n     </g>\n    </g>\n    <g id=\"xtick_4\">\n     <g id=\"line2d_7\">\n      <path d=\"M 318.410148 333.36 \nL 318.410148 7.2 \n\" clip-path=\"url(#pb8cbc555d5)\" style=\"fill: none; stroke: #b0b0b0; stroke-width: 0.8; stroke-linecap: square\"/>\n     </g>\n     <g id=\"line2d_8\">\n      <g>\n       <use xlink:href=\"#m35ef1ce33e\" x=\"318.410148\" y=\"333.36\" style=\"stroke: #000000; stroke-width: 0.8\"/>\n      </g>\n     </g>\n     <g id=\"text_4\">\n      <!-- 0.006 -->\n      <g transform=\"translate(302.660148 350.08125)scale(0.14 -0.14)\">\n       <defs>\n        <path id=\"TimesNewRomanPSMT-36\" d=\"M 2869 4325 \nL 2869 4209 \nQ 2456 4169 2195 4045 \nQ 1934 3922 1679 3669 \nQ 1425 3416 1258 3105 \nQ 1091 2794 978 2366 \nQ 1428 2675 1881 2675 \nQ 2316 2675 2634 2325 \nQ 2953 1975 2953 1425 \nQ 2953 894 2631 456 \nQ 2244 -75 1606 -75 \nQ 1172 -75 869 213 \nQ 275 772 275 1663 \nQ 275 2231 503 2743 \nQ 731 3256 1154 3653 \nQ 1578 4050 1965 4187 \nQ 2353 4325 2688 4325 \nL 2869 4325 \nz\nM 925 2138 \nQ 869 1716 869 1456 \nQ 869 1156 980 804 \nQ 1091 453 1309 247 \nQ 1469 100 1697 100 \nQ 1969 100 2183 356 \nQ 2397 613 2397 1088 \nQ 2397 1622 2184 2012 \nQ 1972 2403 1581 2403 \nQ 1463 2403 1327 2353 \nQ 1191 2303 925 2138 \nz\n\" transform=\"scale(0.015625)\"/>\n       </defs>\n       <use xlink:href=\"#TimesNewRomanPSMT-30\"/>\n       <use xlink:href=\"#TimesNewRomanPSMT-2e\" x=\"50\"/>\n       <use xlink:href=\"#TimesNewRomanPSMT-30\" x=\"75\"/>\n       <use xlink:href=\"#TimesNewRomanPSMT-30\" x=\"125\"/>\n       <use xlink:href=\"#TimesNewRomanPSMT-36\" x=\"175\"/>\n      </g>\n     </g>\n    </g>\n    <g id=\"xtick_5\">\n     <g id=\"line2d_9\">\n      <path d=\"M 398.465794 333.36 \nL 398.465794 7.2 \n\" clip-path=\"url(#pb8cbc555d5)\" style=\"fill: none; stroke: #b0b0b0; stroke-width: 0.8; stroke-linecap: square\"/>\n     </g>\n     <g id=\"line2d_10\">\n      <g>\n       <use xlink:href=\"#m35ef1ce33e\" x=\"398.465794\" y=\"333.36\" style=\"stroke: #000000; stroke-width: 0.8\"/>\n      </g>\n     </g>\n     <g id=\"text_5\">\n      <!-- 0.008 -->\n      <g transform=\"translate(382.715794 350.08125)scale(0.14 -0.14)\">\n       <defs>\n        <path id=\"TimesNewRomanPSMT-38\" d=\"M 1228 2134 \nQ 725 2547 579 2797 \nQ 434 3047 434 3316 \nQ 434 3728 753 4026 \nQ 1072 4325 1600 4325 \nQ 2113 4325 2425 4047 \nQ 2738 3769 2738 3413 \nQ 2738 3175 2569 2928 \nQ 2400 2681 1866 2347 \nQ 2416 1922 2594 1678 \nQ 2831 1359 2831 1006 \nQ 2831 559 2490 242 \nQ 2150 -75 1597 -75 \nQ 994 -75 656 303 \nQ 388 606 388 966 \nQ 388 1247 577 1523 \nQ 766 1800 1228 2134 \nz\nM 1719 2469 \nQ 2094 2806 2194 3001 \nQ 2294 3197 2294 3444 \nQ 2294 3772 2109 3958 \nQ 1925 4144 1606 4144 \nQ 1288 4144 1088 3959 \nQ 888 3775 888 3528 \nQ 888 3366 970 3203 \nQ 1053 3041 1206 2894 \nL 1719 2469 \nz\nM 1375 2016 \nQ 1116 1797 991 1539 \nQ 866 1281 866 981 \nQ 866 578 1086 336 \nQ 1306 94 1647 94 \nQ 1984 94 2187 284 \nQ 2391 475 2391 747 \nQ 2391 972 2272 1150 \nQ 2050 1481 1375 2016 \nz\n\" transform=\"scale(0.015625)\"/>\n       </defs>\n       <use xlink:href=\"#TimesNewRomanPSMT-30\"/>\n       <use xlink:href=\"#TimesNewRomanPSMT-2e\" x=\"50\"/>\n       <use xlink:href=\"#TimesNewRomanPSMT-30\" x=\"75\"/>\n       <use xlink:href=\"#TimesNewRomanPSMT-30\" x=\"125\"/>\n       <use xlink:href=\"#TimesNewRomanPSMT-38\" x=\"175\"/>\n      </g>\n     </g>\n    </g>\n    <g id=\"xtick_6\">\n     <g id=\"line2d_11\">\n      <path d=\"M 478.52144 333.36 \nL 478.52144 7.2 \n\" clip-path=\"url(#pb8cbc555d5)\" style=\"fill: none; stroke: #b0b0b0; stroke-width: 0.8; stroke-linecap: square\"/>\n     </g>\n     <g id=\"line2d_12\">\n      <g>\n       <use xlink:href=\"#m35ef1ce33e\" x=\"478.52144\" y=\"333.36\" style=\"stroke: #000000; stroke-width: 0.8\"/>\n      </g>\n     </g>\n     <g id=\"text_6\">\n      <!-- 0.010 -->\n      <g transform=\"translate(462.77144 350.08125)scale(0.14 -0.14)\">\n       <defs>\n        <path id=\"TimesNewRomanPSMT-31\" d=\"M 750 3822 \nL 1781 4325 \nL 1884 4325 \nL 1884 747 \nQ 1884 391 1914 303 \nQ 1944 216 2037 169 \nQ 2131 122 2419 116 \nL 2419 0 \nL 825 0 \nL 825 116 \nQ 1125 122 1212 167 \nQ 1300 213 1334 289 \nQ 1369 366 1369 747 \nL 1369 3034 \nQ 1369 3497 1338 3628 \nQ 1316 3728 1258 3775 \nQ 1200 3822 1119 3822 \nQ 1003 3822 797 3725 \nL 750 3822 \nz\n\" transform=\"scale(0.015625)\"/>\n       </defs>\n       <use xlink:href=\"#TimesNewRomanPSMT-30\"/>\n       <use xlink:href=\"#TimesNewRomanPSMT-2e\" x=\"50\"/>\n       <use xlink:href=\"#TimesNewRomanPSMT-30\" x=\"75\"/>\n       <use xlink:href=\"#TimesNewRomanPSMT-31\" x=\"125\"/>\n       <use xlink:href=\"#TimesNewRomanPSMT-30\" x=\"175\"/>\n      </g>\n     </g>\n    </g>\n    <g id=\"text_7\">\n     <!-- $\\mathit{t}, с$ -->\n     <g transform=\"translate(298.605938 366.797188)scale(0.14 -0.14)\">\n      <defs>\n       <path id=\"STIXGeneral-Italic-74\" d=\"M 1894 2739 \nL 1862 2534 \nL 1325 2534 \nL 768 435 \nQ 755 384 755 346 \nQ 755 243 851 243 \nQ 928 243 1030 342 \nQ 1133 442 1370 749 \nL 1453 704 \nQ 1158 256 969 93 \nQ 781 -70 538 -70 \nQ 243 -70 243 166 \nQ 243 230 346 640 \nL 845 2534 \nL 365 2534 \nL 358 2573 \nQ 358 2688 570 2733 \nQ 730 2771 992 2979 \nQ 1254 3187 1421 3437 \nQ 1459 3494 1510 3494 \nQ 1568 3494 1568 3443 \nQ 1568 3411 1562 3398 \nL 1382 2739 \nL 1894 2739 \nz\n\" transform=\"scale(0.015625)\"/>\n       <path id=\"TimesNewRomanPSMT-2c\" d=\"M 344 -1066 \nL 344 -928 \nQ 666 -822 842 -598 \nQ 1019 -375 1019 -125 \nQ 1019 -66 991 -25 \nQ 969 3 947 3 \nQ 913 3 797 -59 \nQ 741 -88 678 -88 \nQ 525 -88 434 3 \nQ 344 94 344 253 \nQ 344 406 461 515 \nQ 578 625 747 625 \nQ 953 625 1114 445 \nQ 1275 266 1275 -31 \nQ 1275 -353 1051 -629 \nQ 828 -906 344 -1066 \nz\n\" transform=\"scale(0.015625)\"/>\n       <path id=\"TimesNewRomanPSMT-441\" d=\"M 2631 1088 \nQ 2516 522 2178 217 \nQ 1841 -88 1431 -88 \nQ 944 -88 581 321 \nQ 219 731 219 1428 \nQ 219 2103 620 2525 \nQ 1022 2947 1584 2947 \nQ 2006 2947 2278 2723 \nQ 2550 2500 2550 2259 \nQ 2550 2141 2473 2067 \nQ 2397 1994 2259 1994 \nQ 2075 1994 1981 2113 \nQ 1928 2178 1911 2362 \nQ 1894 2547 1784 2644 \nQ 1675 2738 1481 2738 \nQ 1169 2738 978 2506 \nQ 725 2200 725 1697 \nQ 725 1184 976 792 \nQ 1228 400 1656 400 \nQ 1963 400 2206 609 \nQ 2378 753 2541 1131 \nL 2631 1088 \nz\n\" transform=\"scale(0.015625)\"/>\n      </defs>\n      <use xlink:href=\"#STIXGeneral-Italic-74\" transform=\"translate(0 0.40625)\"/>\n      <use xlink:href=\"#TimesNewRomanPSMT-2c\" transform=\"translate(27.799988 0.40625)\"/>\n      <use xlink:href=\"#TimesNewRomanPSMT-441\" transform=\"translate(68.356628 0.40625)\"/>\n     </g>\n    </g>\n   </g>\n   <g id=\"matplotlib.axis_2\">\n    <g id=\"ytick_1\">\n     <g id=\"line2d_13\">\n      <path d=\"M 55.415938 327.677717 \nL 557.615938 327.677717 \n\" clip-path=\"url(#pb8cbc555d5)\" style=\"fill: none; stroke: #b0b0b0; stroke-width: 0.8; stroke-linecap: square\"/>\n     </g>\n     <g id=\"line2d_14\">\n      <defs>\n       <path id=\"mc5bfbeb54c\" d=\"M 0 0 \nL -3.5 0 \n\" style=\"stroke: #000000; stroke-width: 0.8\"/>\n      </defs>\n      <g>\n       <use xlink:href=\"#mc5bfbeb54c\" x=\"55.415938\" y=\"327.677717\" style=\"stroke: #000000; stroke-width: 0.8\"/>\n      </g>\n     </g>\n     <g id=\"text_8\">\n      <!-- 0.10 -->\n      <g transform=\"translate(23.915938 332.538342)scale(0.14 -0.14)\">\n       <use xlink:href=\"#TimesNewRomanPSMT-30\"/>\n       <use xlink:href=\"#TimesNewRomanPSMT-2e\" x=\"50\"/>\n       <use xlink:href=\"#TimesNewRomanPSMT-31\" x=\"75\"/>\n       <use xlink:href=\"#TimesNewRomanPSMT-30\" x=\"125\"/>\n      </g>\n     </g>\n    </g>\n    <g id=\"ytick_2\">\n     <g id=\"line2d_15\">\n      <path d=\"M 55.415938 258.672651 \nL 557.615938 258.672651 \n\" clip-path=\"url(#pb8cbc555d5)\" style=\"fill: none; stroke: #b0b0b0; stroke-width: 0.8; stroke-linecap: square\"/>\n     </g>\n     <g id=\"line2d_16\">\n      <g>\n       <use xlink:href=\"#mc5bfbeb54c\" x=\"55.415938\" y=\"258.672651\" style=\"stroke: #000000; stroke-width: 0.8\"/>\n      </g>\n     </g>\n     <g id=\"text_9\">\n      <!-- 0.11 -->\n      <g transform=\"translate(24.440938 263.533276)scale(0.14 -0.14)\">\n       <use xlink:href=\"#TimesNewRomanPSMT-30\"/>\n       <use xlink:href=\"#TimesNewRomanPSMT-2e\" x=\"50\"/>\n       <use xlink:href=\"#TimesNewRomanPSMT-31\" x=\"75\"/>\n       <use xlink:href=\"#TimesNewRomanPSMT-31\" x=\"121.25\"/>\n      </g>\n     </g>\n    </g>\n    <g id=\"ytick_3\">\n     <g id=\"line2d_17\">\n      <path d=\"M 55.415938 189.667586 \nL 557.615938 189.667586 \n\" clip-path=\"url(#pb8cbc555d5)\" style=\"fill: none; stroke: #b0b0b0; stroke-width: 0.8; stroke-linecap: square\"/>\n     </g>\n     <g id=\"line2d_18\">\n      <g>\n       <use xlink:href=\"#mc5bfbeb54c\" x=\"55.415938\" y=\"189.667586\" style=\"stroke: #000000; stroke-width: 0.8\"/>\n      </g>\n     </g>\n     <g id=\"text_10\">\n      <!-- 0.12 -->\n      <g transform=\"translate(23.915938 194.528211)scale(0.14 -0.14)\">\n       <use xlink:href=\"#TimesNewRomanPSMT-30\"/>\n       <use xlink:href=\"#TimesNewRomanPSMT-2e\" x=\"50\"/>\n       <use xlink:href=\"#TimesNewRomanPSMT-31\" x=\"75\"/>\n       <use xlink:href=\"#TimesNewRomanPSMT-32\" x=\"125\"/>\n      </g>\n     </g>\n    </g>\n    <g id=\"ytick_4\">\n     <g id=\"line2d_19\">\n      <path d=\"M 55.415938 120.662521 \nL 557.615938 120.662521 \n\" clip-path=\"url(#pb8cbc555d5)\" style=\"fill: none; stroke: #b0b0b0; stroke-width: 0.8; stroke-linecap: square\"/>\n     </g>\n     <g id=\"line2d_20\">\n      <g>\n       <use xlink:href=\"#mc5bfbeb54c\" x=\"55.415938\" y=\"120.662521\" style=\"stroke: #000000; stroke-width: 0.8\"/>\n      </g>\n     </g>\n     <g id=\"text_11\">\n      <!-- 0.13 -->\n      <g transform=\"translate(23.915938 125.523146)scale(0.14 -0.14)\">\n       <defs>\n        <path id=\"TimesNewRomanPSMT-33\" d=\"M 325 3431 \nQ 506 3859 782 4092 \nQ 1059 4325 1472 4325 \nQ 1981 4325 2253 3994 \nQ 2459 3747 2459 3466 \nQ 2459 3003 1878 2509 \nQ 2269 2356 2469 2072 \nQ 2669 1788 2669 1403 \nQ 2669 853 2319 450 \nQ 1863 -75 997 -75 \nQ 569 -75 414 31 \nQ 259 138 259 259 \nQ 259 350 332 419 \nQ 406 488 509 488 \nQ 588 488 669 463 \nQ 722 447 909 348 \nQ 1097 250 1169 231 \nQ 1284 197 1416 197 \nQ 1734 197 1970 444 \nQ 2206 691 2206 1028 \nQ 2206 1275 2097 1509 \nQ 2016 1684 1919 1775 \nQ 1784 1900 1550 2001 \nQ 1316 2103 1072 2103 \nL 972 2103 \nL 972 2197 \nQ 1219 2228 1467 2375 \nQ 1716 2522 1828 2728 \nQ 1941 2934 1941 3181 \nQ 1941 3503 1739 3701 \nQ 1538 3900 1238 3900 \nQ 753 3900 428 3381 \nL 325 3431 \nz\n\" transform=\"scale(0.015625)\"/>\n       </defs>\n       <use xlink:href=\"#TimesNewRomanPSMT-30\"/>\n       <use xlink:href=\"#TimesNewRomanPSMT-2e\" x=\"50\"/>\n       <use xlink:href=\"#TimesNewRomanPSMT-31\" x=\"75\"/>\n       <use xlink:href=\"#TimesNewRomanPSMT-33\" x=\"125\"/>\n      </g>\n     </g>\n    </g>\n    <g id=\"ytick_5\">\n     <g id=\"line2d_21\">\n      <path d=\"M 55.415938 51.657456 \nL 557.615938 51.657456 \n\" clip-path=\"url(#pb8cbc555d5)\" style=\"fill: none; stroke: #b0b0b0; stroke-width: 0.8; stroke-linecap: square\"/>\n     </g>\n     <g id=\"line2d_22\">\n      <g>\n       <use xlink:href=\"#mc5bfbeb54c\" x=\"55.415938\" y=\"51.657456\" style=\"stroke: #000000; stroke-width: 0.8\"/>\n      </g>\n     </g>\n     <g id=\"text_12\">\n      <!-- 0.14 -->\n      <g transform=\"translate(23.915938 56.518081)scale(0.14 -0.14)\">\n       <use xlink:href=\"#TimesNewRomanPSMT-30\"/>\n       <use xlink:href=\"#TimesNewRomanPSMT-2e\" x=\"50\"/>\n       <use xlink:href=\"#TimesNewRomanPSMT-31\" x=\"75\"/>\n       <use xlink:href=\"#TimesNewRomanPSMT-34\" x=\"125\"/>\n      </g>\n     </g>\n    </g>\n    <g id=\"text_13\">\n     <!-- $\\mathit{p}, МПа$ -->\n     <g transform=\"translate(16.92125 191.07)rotate(-90)scale(0.14 -0.14)\">\n      <defs>\n       <path id=\"STIXGeneral-Italic-70\" d=\"M 1376 2739 \nL 1190 2099 \nQ 1670 2822 2285 2822 \nQ 2637 2822 2829 2611 \nQ 3021 2400 3021 2022 \nQ 3021 1235 2422 582 \nQ 1824 -70 1120 -70 \nQ 890 -70 678 38 \nQ 422 -1018 422 -1024 \nQ 422 -1126 508 -1168 \nQ 595 -1210 819 -1210 \nL 819 -1312 \nL -480 -1312 \nL -480 -1210 \nQ -275 -1203 -188 -1120 \nQ -102 -1037 -45 -806 \nL 691 1958 \nQ 794 2330 794 2413 \nQ 794 2586 512 2586 \nL 371 2586 \nL 358 2682 \nL 1357 2822 \nQ 1389 2822 1389 2797 \nQ 1382 2765 1376 2739 \nz\nM 2445 2003 \nQ 2445 2285 2352 2416 \nQ 2259 2547 2048 2547 \nQ 1798 2547 1548 2329 \nQ 1299 2112 1184 1818 \nQ 1043 1453 905 953 \nQ 768 454 768 294 \nQ 768 186 854 118 \nQ 941 51 1075 51 \nQ 1574 51 2003 659 \nQ 2445 1274 2445 2003 \nz\n\" transform=\"scale(0.015625)\"/>\n       <path id=\"TimesNewRomanPSMT-41c\" d=\"M 2619 0 \nL 981 3566 \nL 981 734 \nQ 981 344 1066 247 \nQ 1181 116 1431 116 \nL 1581 116 \nL 1581 0 \nL 106 0 \nL 106 116 \nL 256 116 \nQ 525 116 638 278 \nQ 706 378 706 734 \nL 706 3503 \nQ 706 3784 644 3909 \nQ 600 4000 483 4061 \nQ 366 4122 106 4122 \nL 106 4238 \nL 1306 4238 \nL 2844 922 \nL 4356 4238 \nL 5556 4238 \nL 5556 4122 \nL 5409 4122 \nQ 5138 4122 5025 3959 \nQ 4956 3859 4956 3503 \nL 4956 734 \nQ 4956 344 5044 247 \nQ 5159 116 5409 116 \nL 5556 116 \nL 5556 0 \nL 3756 0 \nL 3756 116 \nL 3906 116 \nQ 4178 116 4288 278 \nQ 4356 378 4356 734 \nL 4356 3566 \nL 2722 0 \nL 2619 0 \nz\n\" transform=\"scale(0.015625)\"/>\n       <path id=\"TimesNewRomanPSMT-41f\" d=\"M 3294 4006 \nL 1328 4006 \nL 1328 772 \nQ 1328 353 1436 240 \nQ 1544 128 1941 116 \nL 1941 0 \nL 116 0 \nL 116 116 \nQ 509 128 618 240 \nQ 728 353 728 772 \nL 728 3466 \nQ 728 3884 618 3996 \nQ 509 4109 116 4122 \nL 116 4238 \nL 4506 4238 \nL 4506 4122 \nQ 4113 4109 4003 3996 \nQ 3894 3884 3894 3466 \nL 3894 772 \nQ 3894 353 4003 240 \nQ 4113 128 4506 116 \nL 4506 0 \nL 2684 0 \nL 2684 116 \nQ 3075 128 3184 239 \nQ 3294 350 3294 772 \nL 3294 4006 \nz\n\" transform=\"scale(0.015625)\"/>\n       <path id=\"TimesNewRomanPSMT-430\" d=\"M 1822 413 \nQ 1381 72 1269 19 \nQ 1100 -59 909 -59 \nQ 613 -59 420 144 \nQ 228 347 228 678 \nQ 228 888 322 1041 \nQ 450 1253 767 1440 \nQ 1084 1628 1822 1897 \nL 1822 2009 \nQ 1822 2438 1686 2597 \nQ 1550 2756 1291 2756 \nQ 1094 2756 978 2650 \nQ 859 2544 859 2406 \nL 866 2225 \nQ 866 2081 792 2003 \nQ 719 1925 600 1925 \nQ 484 1925 411 2006 \nQ 338 2088 338 2228 \nQ 338 2497 613 2722 \nQ 888 2947 1384 2947 \nQ 1766 2947 2009 2819 \nQ 2194 2722 2281 2516 \nQ 2338 2381 2338 1966 \nL 2338 994 \nQ 2338 584 2353 492 \nQ 2369 400 2405 369 \nQ 2441 338 2488 338 \nQ 2538 338 2575 359 \nQ 2641 400 2828 588 \nL 2828 413 \nQ 2478 -56 2159 -56 \nQ 2006 -56 1915 50 \nQ 1825 156 1822 413 \nz\nM 1822 616 \nL 1822 1706 \nQ 1350 1519 1213 1441 \nQ 966 1303 859 1153 \nQ 753 1003 753 825 \nQ 753 600 887 451 \nQ 1022 303 1197 303 \nQ 1434 303 1822 616 \nz\n\" transform=\"scale(0.015625)\"/>\n      </defs>\n      <use xlink:href=\"#STIXGeneral-Italic-70\" transform=\"translate(0 0.78125)\"/>\n      <use xlink:href=\"#TimesNewRomanPSMT-2c\" transform=\"translate(50.399994 0.78125)\"/>\n      <use xlink:href=\"#TimesNewRomanPSMT-41c\" transform=\"translate(90.956635 0.78125)\"/>\n      <use xlink:href=\"#TimesNewRomanPSMT-41f\" transform=\"translate(179.87265 0.78125)\"/>\n      <use xlink:href=\"#TimesNewRomanPSMT-430\" transform=\"translate(252.089447 0.78125)\"/>\n     </g>\n    </g>\n   </g>\n   <g id=\"line2d_23\">\n    <path d=\"M 78.24321 318.534545 \nL 80.245603 285.195547 \nL 82.247995 255.191065 \nL 84.250387 228.205864 \nL 86.25278 203.954476 \nL 88.255172 182.178394 \nL 90.257564 162.64352 \nL 92.259957 145.137865 \nL 94.262349 129.469459 \nL 96.264741 115.46446 \nL 98.267134 102.965445 \nL 100.269526 91.829855 \nL 102.271918 81.928596 \nL 104.274311 73.144764 \nL 106.276703 65.372495 \nL 108.279095 58.515924 \nL 110.281488 52.488239 \nL 112.28388 47.210825 \nL 114.286272 42.612494 \nL 116.288665 38.628778 \nL 118.291057 35.201301 \nL 120.293449 32.277198 \nL 122.295842 29.808596 \nL 124.298234 27.752147 \nL 126.300626 26.068593 \nL 128.303019 24.722386 \nL 130.305411 23.681335 \nL 132.307804 22.916291 \nL 134.310196 22.400855 \nL 136.312588 22.111125 \nL 138.314981 22.025455 \nL 140.317373 22.124243 \nL 142.319765 22.38974 \nL 144.322158 22.805873 \nL 146.32455 23.358089 \nL 150.329335 24.819295 \nL 154.334119 26.682171 \nL 158.338904 28.871948 \nL 162.343689 31.327322 \nL 166.348473 33.99803 \nL 172.35565 38.319763 \nL 178.362827 42.925841 \nL 186.372397 49.372673 \nL 196.384359 57.739014 \nL 212.403497 71.465396 \nL 252.451344 105.908681 \nL 272.475268 122.813567 \nL 292.499191 139.42998 \nL 312.523115 155.747115 \nL 332.547038 171.764538 \nL 352.570961 187.485595 \nL 372.594885 202.91497 \nL 392.618808 218.057777 \nL 412.642732 232.91923 \nL 432.666655 247.504515 \nL 452.690579 261.818748 \nL 472.714502 275.866962 \nL 492.738426 289.654098 \nL 512.762349 303.185007 \nL 532.786272 316.46445 \nL 534.788665 317.778745 \nL 534.788665 317.778745 \n\" clip-path=\"url(#pb8cbc555d5)\" style=\"fill: none; stroke: #1f77b4; stroke-width: 1.5; stroke-linecap: square\"/>\n   </g>\n   <g id=\"line2d_24\">\n    <path d=\"M 55.415938 130.740976 \nL 557.615938 130.740976 \n\" clip-path=\"url(#pb8cbc555d5)\" style=\"fill: none; stroke-dasharray: 5.55,2.4; stroke-dashoffset: 0; stroke: #d62728; stroke-width: 1.5\"/>\n   </g>\n   <g id=\"patch_3\">\n    <path d=\"M 55.415938 333.36 \nL 55.415938 7.2 \n\" style=\"fill: none; stroke: #000000; stroke-width: 0.8; stroke-linejoin: miter; stroke-linecap: square\"/>\n   </g>\n   <g id=\"patch_4\">\n    <path d=\"M 557.615938 333.36 \nL 557.615938 7.2 \n\" style=\"fill: none; stroke: #000000; stroke-width: 0.8; stroke-linejoin: miter; stroke-linecap: square\"/>\n   </g>\n   <g id=\"patch_5\">\n    <path d=\"M 55.415938 333.36 \nL 557.615938 333.36 \n\" style=\"fill: none; stroke: #000000; stroke-width: 0.8; stroke-linejoin: miter; stroke-linecap: square\"/>\n   </g>\n   <g id=\"patch_6\">\n    <path d=\"M 55.415938 7.2 \nL 557.615938 7.2 \n\" style=\"fill: none; stroke: #000000; stroke-width: 0.8; stroke-linejoin: miter; stroke-linecap: square\"/>\n   </g>\n   <g id=\"legend_1\">\n    <g id=\"patch_7\">\n     <path d=\"M 416.355938 38.98 \nL 547.815938 38.98 \nQ 550.615938 38.98 550.615938 36.18 \nL 550.615938 17 \nQ 550.615938 14.2 547.815938 14.2 \nL 416.355938 14.2 \nQ 413.555938 14.2 413.555938 17 \nL 413.555938 36.18 \nQ 413.555938 38.98 416.355938 38.98 \nz\n\" style=\"fill: #ffffff; opacity: 0.8; stroke: #cccccc; stroke-linejoin: miter\"/>\n    </g>\n    <g id=\"line2d_25\">\n     <path d=\"M 419.155938 24.7 \nL 433.155938 24.7 \nL 447.155938 24.7 \n\" style=\"fill: none; stroke-dasharray: 5.55,2.4; stroke-dashoffset: 0; stroke: #d62728; stroke-width: 1.5\"/>\n    </g>\n    <g id=\"text_14\">\n     <!-- $\\mathit{p}_{всп}$ = 0.1 МПа -->\n     <g transform=\"translate(458.355938 29.6)scale(0.14 -0.14)\">\n      <defs>\n       <path id=\"TimesNewRomanPSMT-432\" d=\"M 2016 1513 \nQ 2800 1350 2800 778 \nQ 2800 388 2473 194 \nQ 2147 0 1563 0 \nL 150 0 \nL 150 116 \nQ 428 116 501 220 \nQ 575 325 575 672 \nL 575 2191 \nQ 575 2528 542 2587 \nQ 509 2647 439 2695 \nQ 369 2744 150 2744 \nL 150 2863 \nL 1469 2863 \nQ 1850 2863 2086 2803 \nQ 2322 2744 2473 2569 \nQ 2625 2394 2625 2144 \nQ 2625 1656 2016 1513 \nz\nM 1094 1584 \nQ 1231 1581 1259 1581 \nQ 1688 1581 1878 1745 \nQ 2069 1909 2069 2144 \nQ 2069 2416 1875 2537 \nQ 1681 2659 1256 2659 \nL 1094 2659 \nL 1094 1584 \nz\nM 1094 253 \nQ 1250 203 1466 203 \nQ 1838 203 2019 365 \nQ 2200 528 2200 784 \nQ 2200 1072 1965 1225 \nQ 1731 1378 1316 1378 \nQ 1213 1378 1094 1372 \nL 1094 253 \nz\n\" transform=\"scale(0.015625)\"/>\n       <path id=\"TimesNewRomanPSMT-43f\" d=\"M 2331 2659 \nL 1094 2659 \nL 1094 672 \nQ 1094 341 1128 277 \nQ 1163 213 1236 164 \nQ 1309 116 1528 116 \nL 1528 0 \nL 144 0 \nL 144 116 \nQ 422 116 500 217 \nQ 578 319 578 672 \nL 578 2191 \nQ 578 2525 543 2586 \nQ 509 2647 437 2695 \nQ 366 2744 144 2744 \nL 144 2863 \nL 3281 2863 \nL 3281 2744 \nQ 3072 2744 3000 2701 \nQ 2928 2659 2887 2596 \nQ 2847 2534 2847 2191 \nL 2847 672 \nQ 2847 341 2881 277 \nQ 2916 213 2989 164 \nQ 3063 116 3281 116 \nL 3281 0 \nL 1897 0 \nL 1897 116 \nQ 2156 116 2243 211 \nQ 2331 306 2331 672 \nL 2331 2659 \nz\n\" transform=\"scale(0.015625)\"/>\n       <path id=\"TimesNewRomanPSMT-20\" transform=\"scale(0.015625)\"/>\n       <path id=\"TimesNewRomanPSMT-3d\" d=\"M 116 2759 \nL 3488 2759 \nL 3488 2503 \nL 116 2503 \nL 116 2759 \nz\nM 116 1741 \nL 3488 1741 \nL 3488 1484 \nL 116 1484 \nL 116 1741 \nz\n\" transform=\"scale(0.015625)\"/>\n      </defs>\n      <use xlink:href=\"#STIXGeneral-Italic-70\" transform=\"translate(0 0.421875)\"/>\n      <use xlink:href=\"#TimesNewRomanPSMT-432\" transform=\"translate(50.399994 -25.340625)scale(0.7)\"/>\n      <use xlink:href=\"#TimesNewRomanPSMT-441\" transform=\"translate(83.451752 -25.340625)scale(0.7)\"/>\n      <use xlink:href=\"#TimesNewRomanPSMT-43f\" transform=\"translate(114.521088 -25.340625)scale(0.7)\"/>\n      <use xlink:href=\"#TimesNewRomanPSMT-20\" transform=\"translate(156.275775 0.421875)\"/>\n      <use xlink:href=\"#TimesNewRomanPSMT-3d\" transform=\"translate(181.275775 0.421875)\"/>\n      <use xlink:href=\"#TimesNewRomanPSMT-20\" transform=\"translate(237.67226 0.421875)\"/>\n      <use xlink:href=\"#TimesNewRomanPSMT-30\" transform=\"translate(262.67226 0.421875)\"/>\n      <use xlink:href=\"#TimesNewRomanPSMT-2e\" transform=\"translate(312.67226 0.421875)\"/>\n      <use xlink:href=\"#TimesNewRomanPSMT-31\" transform=\"translate(337.67226 0.421875)\"/>\n      <use xlink:href=\"#TimesNewRomanPSMT-20\" transform=\"translate(387.67226 0.421875)\"/>\n      <use xlink:href=\"#TimesNewRomanPSMT-41c\" transform=\"translate(412.67226 0.421875)\"/>\n      <use xlink:href=\"#TimesNewRomanPSMT-41f\" transform=\"translate(501.588275 0.421875)\"/>\n      <use xlink:href=\"#TimesNewRomanPSMT-430\" transform=\"translate(573.805072 0.421875)\"/>\n     </g>\n    </g>\n   </g>\n  </g>\n </g>\n <defs>\n  <clipPath id=\"pb8cbc555d5\">\n   <rect x=\"55.415938\" y=\"7.2\" width=\"502.2\" height=\"326.16\"/>\n  </clipPath>\n </defs>\n</svg>\n",
      "text/plain": [
       "<Figure size 648x432 with 1 Axes>"
      ]
     },
     "metadata": {
      "needs_background": "light"
     },
     "output_type": "display_data"
    }
   ],
   "source": [
    "t_vs = np.linspace(0,0.1,2000)\n",
    "p_vs = np.array([p_v(t) for t in t_vs])\n",
    "\n",
    "f = plt.figure(figsize=(9, 6))\n",
    "plt.plot(t_vs[p_vs >= p_atm], p_vs[p_vs >= p_atm]/1e6)\n",
    "plt.axhline(p_vsp_50/1e6, linestyle = '--', color = 'tab:red', label = '$\\mathit{p}_{всп}$ = '+f'{p_vsp_50/1e6:.1f} МПа')\n",
    "\n",
    "plt.legend(loc = 'upper right')\n",
    "plt.grid()\n",
    "plt.xlabel('$\\mathit{t}, с$')\n",
    "plt.ylabel('$\\mathit{p}, МПа$')\n",
    "# plt.savefig('График pW0.svg', dpi=500, bbox_inches='tight')\n",
    "\n",
    "plt.show()"
   ]
  },
  {
   "cell_type": "code",
   "execution_count": null,
   "metadata": {},
   "outputs": [
    {
     "data": {
      "text/plain": [
       "0.40020010005002504"
      ]
     },
     "execution_count": 18,
     "metadata": {},
     "output_type": "execute_result"
    }
   ],
   "source": [
    "t_vs[p_vs >= p_vsp_50][0]*1e3"
   ]
  },
  {
   "cell_type": "markdown",
   "metadata": {},
   "source": [
    "#### ОЗВБ"
   ]
  },
  {
   "cell_type": "code",
   "execution_count": null,
   "metadata": {},
   "outputs": [],
   "source": [
    "mu_c = 0.95\n",
    "e_max = e_0\n",
    "Q_t = propel.k / (propel.k - 1) * propel.R * propel.T0\n",
    "\n",
    "def S_zar(e):\n",
    "    return n_zar * (np.pi * (D_vn + 2 * e)*(L_zar - 2 * e) + np.pi * (D_nar - 2 * e) * (L_zar - 2 * e) + \\\n",
    "        2 * np.pi * 0.25 * (((D_nar - 2 * e) ** 2) - ((D_vn + 2 * e) ** 2)))"
   ]
  },
  {
   "cell_type": "code",
   "execution_count": null,
   "metadata": {},
   "outputs": [],
   "source": [
    "def sys_int(t, Y, T0, p_vsp):\n",
    "\n",
    "    p, W, omega_g, omega_vg, e_t = Y\n",
    "    U = np.zeros(5)\n",
    "\n",
    "    Hev_v = 1 if t <= t_v else 0\n",
    "    Hev_p = 1 if p > p_vsp or abs(e_t) > 0 else 0\n",
    "    Hev_e = 1 if 0 <= abs(e_t) <= e_max else 0\n",
    "\n",
    "    u_g = propel.u(p,T0)\n",
    "    S_g = S_zar(abs(e_t))\n",
    "\n",
    "    #domega_v/dt\n",
    "    U[3] = S0_v * np.exp(-m_v * t / t_v) * u_v * rho_v * Hev_v\n",
    "\n",
    "    #dp/dt\n",
    "    p1 = (propel.k - 1) * Q_v / (propel.rho * S_g * u_g) * U[3] + (propel.k - 1) * Q_t * Hev_e\n",
    "    p2 = propel.k * (mu_c * A(propel.k) * F_kr * p / (propel.rho * S_g * u_g)) ** 2\n",
    "    p3 = (propel.k - 1) * sigma_t * v_t * F_oxl * p / (propel.R * propel.rho * S_g * u_g)\n",
    "    p4 = propel.k * p / (rho_v * propel.rho * S_g * u_g) * U[3]\n",
    "    p5 = propel.k * p / propel.rho * Hev_e\n",
    "    U[0] = (p1 - p2 - p3 - p4 - p5) * propel.rho * S_g * u_g / W\n",
    "\n",
    "    #de/dt\n",
    "    U[4] = u_g * Hev_p * Hev_e\n",
    "\n",
    "    #domega_t/dt\n",
    "    U[2] = S_g * propel.rho * U[4]\n",
    "\n",
    "    #dW/dt\n",
    "    U[1] = 1 / propel.rho * U[2] + 1 / rho_v * U[3]\n",
    "\n",
    "    return U\n",
    "\n",
    "def res_int(T0):\n",
    "\n",
    "    stop = lambda p: p * pi(1,propel.k) <= p_atm\n",
    "    # stop = lambda p: p <= p_atm\n",
    "\n",
    "    Y_0 = [0, p_atm, W_0, 0, 0, 0]\n",
    "\n",
    "    result = dict()\n",
    "    keys = ['t','p','W','omega_g','omega_gv','e_t']\n",
    "    for key, val in zip(keys,Y_0):\n",
    "        result[key] = np.array([val])\n",
    "\n",
    "    r = ode(sys_int).set_integrator('vode', method = 'adams')     #'vode', method = 'adams'\n",
    "    r.set_initial_value(Y_0[1:])\n",
    "    r.set_f_params(T0, p_vsp(T0))\n",
    "\n",
    "    while r.successful() and (not stop(result['p'][-1]) or result['t'][-1] < 0.005):\n",
    "        dt = 5e-6\n",
    "        result['t'] = np.append(result['t'], result['t'][-1] + dt)\n",
    "        Y_tek = r.integrate(r.t+dt)\n",
    "        for key, val in zip(keys[1:],Y_tek):\n",
    "            if key != 'p':\n",
    "                result[key] = np.append(result[key], val)\n",
    "            else:\n",
    "                result[key] = np.append(result[key], val * 1)\n",
    "\n",
    "    return result"
   ]
  },
  {
   "cell_type": "code",
   "execution_count": null,
   "metadata": {},
   "outputs": [],
   "source": [
    "res18 = res_int(T_nom)\n",
    "res50 = res_int(T_max)\n",
    "res_50 = res_int(T_min)"
   ]
  },
  {
   "cell_type": "code",
   "execution_count": null,
   "metadata": {},
   "outputs": [
    {
     "data": {
      "image/svg+xml": "<?xml version=\"1.0\" encoding=\"utf-8\" standalone=\"no\"?>\n<!DOCTYPE svg PUBLIC \"-//W3C//DTD SVG 1.1//EN\"\n  \"http://www.w3.org/Graphics/SVG/1.1/DTD/svg11.dtd\">\n<svg xmlns:xlink=\"http://www.w3.org/1999/xlink\" width=\"627.575157pt\" height=\"431.351875pt\" viewBox=\"0 0 627.575157 431.351875\" xmlns=\"http://www.w3.org/2000/svg\" version=\"1.1\">\n <metadata>\n  <rdf:RDF xmlns:dc=\"http://purl.org/dc/elements/1.1/\" xmlns:cc=\"http://creativecommons.org/ns#\" xmlns:rdf=\"http://www.w3.org/1999/02/22-rdf-syntax-ns#\">\n   <cc:Work>\n    <dc:type rdf:resource=\"http://purl.org/dc/dcmitype/StillImage\"/>\n    <dc:date>2022-11-20T13:58:56.326200</dc:date>\n    <dc:format>image/svg+xml</dc:format>\n    <dc:creator>\n     <cc:Agent>\n      <dc:title>Matplotlib v3.5.2, https://matplotlib.org/</dc:title>\n     </cc:Agent>\n    </dc:creator>\n   </cc:Work>\n  </rdf:RDF>\n </metadata>\n <defs>\n  <style type=\"text/css\">*{stroke-linejoin: round; stroke-linecap: butt}</style>\n </defs>\n <g id=\"figure_1\">\n  <g id=\"patch_1\">\n   <path d=\"M 0 431.351875 \nL 627.575157 431.351875 \nL 627.575157 0 \nL 0 0 \nL 0 431.351875 \nz\n\" style=\"fill: none\"/>\n  </g>\n  <g id=\"axes_1\">\n   <g id=\"patch_2\">\n    <path d=\"M 58.915937 387.72 \nL 616.915938 387.72 \nL 616.915938 7.2 \nL 58.915937 7.2 \nz\n\" style=\"fill: #ffffff\"/>\n   </g>\n   <g id=\"matplotlib.axis_1\">\n    <g id=\"xtick_1\">\n     <g id=\"line2d_1\">\n      <path d=\"M 58.915937 387.72 \nL 58.915937 7.2 \n\" clip-path=\"url(#pbe38ae16cd)\" style=\"fill: none; stroke: #b0b0b0; stroke-width: 0.8; stroke-linecap: square\"/>\n     </g>\n     <g id=\"line2d_2\">\n      <defs>\n       <path id=\"m7fb0699bea\" d=\"M 0 0 \nL 0 3.5 \n\" style=\"stroke: #000000; stroke-width: 0.8\"/>\n      </defs>\n      <g>\n       <use xlink:href=\"#m7fb0699bea\" x=\"58.915937\" y=\"387.72\" style=\"stroke: #000000; stroke-width: 0.8\"/>\n      </g>\n     </g>\n     <g id=\"text_1\">\n      <!-- 0.00 -->\n      <g transform=\"translate(46.665937 404.44125)scale(0.14 -0.14)\">\n       <defs>\n        <path id=\"TimesNewRomanPSMT-30\" d=\"M 231 2094 \nQ 231 2819 450 3342 \nQ 669 3866 1031 4122 \nQ 1313 4325 1613 4325 \nQ 2100 4325 2488 3828 \nQ 2972 3213 2972 2159 \nQ 2972 1422 2759 906 \nQ 2547 391 2217 158 \nQ 1888 -75 1581 -75 \nQ 975 -75 572 641 \nQ 231 1244 231 2094 \nz\nM 844 2016 \nQ 844 1141 1059 588 \nQ 1238 122 1591 122 \nQ 1759 122 1940 273 \nQ 2122 425 2216 781 \nQ 2359 1319 2359 2297 \nQ 2359 3022 2209 3506 \nQ 2097 3866 1919 4016 \nQ 1791 4119 1609 4119 \nQ 1397 4119 1231 3928 \nQ 1006 3669 925 3112 \nQ 844 2556 844 2016 \nz\n\" transform=\"scale(0.015625)\"/>\n        <path id=\"TimesNewRomanPSMT-2e\" d=\"M 800 606 \nQ 947 606 1047 504 \nQ 1147 403 1147 259 \nQ 1147 116 1045 14 \nQ 944 -88 800 -88 \nQ 656 -88 554 14 \nQ 453 116 453 259 \nQ 453 406 554 506 \nQ 656 606 800 606 \nz\n\" transform=\"scale(0.015625)\"/>\n       </defs>\n       <use xlink:href=\"#TimesNewRomanPSMT-30\"/>\n       <use xlink:href=\"#TimesNewRomanPSMT-2e\" x=\"50\"/>\n       <use xlink:href=\"#TimesNewRomanPSMT-30\" x=\"75\"/>\n       <use xlink:href=\"#TimesNewRomanPSMT-30\" x=\"125\"/>\n      </g>\n     </g>\n    </g>\n    <g id=\"xtick_2\">\n     <g id=\"line2d_3\">\n      <path d=\"M 127.56709 387.72 \nL 127.56709 7.2 \n\" clip-path=\"url(#pbe38ae16cd)\" style=\"fill: none; stroke: #b0b0b0; stroke-width: 0.8; stroke-linecap: square\"/>\n     </g>\n     <g id=\"line2d_4\">\n      <g>\n       <use xlink:href=\"#m7fb0699bea\" x=\"127.56709\" y=\"387.72\" style=\"stroke: #000000; stroke-width: 0.8\"/>\n      </g>\n     </g>\n     <g id=\"text_2\">\n      <!-- 0.01 -->\n      <g transform=\"translate(115.31709 404.44125)scale(0.14 -0.14)\">\n       <defs>\n        <path id=\"TimesNewRomanPSMT-31\" d=\"M 750 3822 \nL 1781 4325 \nL 1884 4325 \nL 1884 747 \nQ 1884 391 1914 303 \nQ 1944 216 2037 169 \nQ 2131 122 2419 116 \nL 2419 0 \nL 825 0 \nL 825 116 \nQ 1125 122 1212 167 \nQ 1300 213 1334 289 \nQ 1369 366 1369 747 \nL 1369 3034 \nQ 1369 3497 1338 3628 \nQ 1316 3728 1258 3775 \nQ 1200 3822 1119 3822 \nQ 1003 3822 797 3725 \nL 750 3822 \nz\n\" transform=\"scale(0.015625)\"/>\n       </defs>\n       <use xlink:href=\"#TimesNewRomanPSMT-30\"/>\n       <use xlink:href=\"#TimesNewRomanPSMT-2e\" x=\"50\"/>\n       <use xlink:href=\"#TimesNewRomanPSMT-30\" x=\"75\"/>\n       <use xlink:href=\"#TimesNewRomanPSMT-31\" x=\"125\"/>\n      </g>\n     </g>\n    </g>\n    <g id=\"xtick_3\">\n     <g id=\"line2d_5\">\n      <path d=\"M 196.218242 387.72 \nL 196.218242 7.2 \n\" clip-path=\"url(#pbe38ae16cd)\" style=\"fill: none; stroke: #b0b0b0; stroke-width: 0.8; stroke-linecap: square\"/>\n     </g>\n     <g id=\"line2d_6\">\n      <g>\n       <use xlink:href=\"#m7fb0699bea\" x=\"196.218242\" y=\"387.72\" style=\"stroke: #000000; stroke-width: 0.8\"/>\n      </g>\n     </g>\n     <g id=\"text_3\">\n      <!-- 0.02 -->\n      <g transform=\"translate(183.968242 404.44125)scale(0.14 -0.14)\">\n       <defs>\n        <path id=\"TimesNewRomanPSMT-32\" d=\"M 2934 816 \nL 2638 0 \nL 138 0 \nL 138 116 \nQ 1241 1122 1691 1759 \nQ 2141 2397 2141 2925 \nQ 2141 3328 1894 3587 \nQ 1647 3847 1303 3847 \nQ 991 3847 742 3664 \nQ 494 3481 375 3128 \nL 259 3128 \nQ 338 3706 661 4015 \nQ 984 4325 1469 4325 \nQ 1984 4325 2329 3994 \nQ 2675 3663 2675 3213 \nQ 2675 2891 2525 2569 \nQ 2294 2063 1775 1497 \nQ 997 647 803 472 \nL 1909 472 \nQ 2247 472 2383 497 \nQ 2519 522 2628 598 \nQ 2738 675 2819 816 \nL 2934 816 \nz\n\" transform=\"scale(0.015625)\"/>\n       </defs>\n       <use xlink:href=\"#TimesNewRomanPSMT-30\"/>\n       <use xlink:href=\"#TimesNewRomanPSMT-2e\" x=\"50\"/>\n       <use xlink:href=\"#TimesNewRomanPSMT-30\" x=\"75\"/>\n       <use xlink:href=\"#TimesNewRomanPSMT-32\" x=\"125\"/>\n      </g>\n     </g>\n    </g>\n    <g id=\"xtick_4\">\n     <g id=\"line2d_7\">\n      <path d=\"M 264.869395 387.72 \nL 264.869395 7.2 \n\" clip-path=\"url(#pbe38ae16cd)\" style=\"fill: none; stroke: #b0b0b0; stroke-width: 0.8; stroke-linecap: square\"/>\n     </g>\n     <g id=\"line2d_8\">\n      <g>\n       <use xlink:href=\"#m7fb0699bea\" x=\"264.869395\" y=\"387.72\" style=\"stroke: #000000; stroke-width: 0.8\"/>\n      </g>\n     </g>\n     <g id=\"text_4\">\n      <!-- 0.03 -->\n      <g transform=\"translate(252.619395 404.44125)scale(0.14 -0.14)\">\n       <defs>\n        <path id=\"TimesNewRomanPSMT-33\" d=\"M 325 3431 \nQ 506 3859 782 4092 \nQ 1059 4325 1472 4325 \nQ 1981 4325 2253 3994 \nQ 2459 3747 2459 3466 \nQ 2459 3003 1878 2509 \nQ 2269 2356 2469 2072 \nQ 2669 1788 2669 1403 \nQ 2669 853 2319 450 \nQ 1863 -75 997 -75 \nQ 569 -75 414 31 \nQ 259 138 259 259 \nQ 259 350 332 419 \nQ 406 488 509 488 \nQ 588 488 669 463 \nQ 722 447 909 348 \nQ 1097 250 1169 231 \nQ 1284 197 1416 197 \nQ 1734 197 1970 444 \nQ 2206 691 2206 1028 \nQ 2206 1275 2097 1509 \nQ 2016 1684 1919 1775 \nQ 1784 1900 1550 2001 \nQ 1316 2103 1072 2103 \nL 972 2103 \nL 972 2197 \nQ 1219 2228 1467 2375 \nQ 1716 2522 1828 2728 \nQ 1941 2934 1941 3181 \nQ 1941 3503 1739 3701 \nQ 1538 3900 1238 3900 \nQ 753 3900 428 3381 \nL 325 3431 \nz\n\" transform=\"scale(0.015625)\"/>\n       </defs>\n       <use xlink:href=\"#TimesNewRomanPSMT-30\"/>\n       <use xlink:href=\"#TimesNewRomanPSMT-2e\" x=\"50\"/>\n       <use xlink:href=\"#TimesNewRomanPSMT-30\" x=\"75\"/>\n       <use xlink:href=\"#TimesNewRomanPSMT-33\" x=\"125\"/>\n      </g>\n     </g>\n    </g>\n    <g id=\"xtick_5\">\n     <g id=\"line2d_9\">\n      <path d=\"M 333.520547 387.72 \nL 333.520547 7.2 \n\" clip-path=\"url(#pbe38ae16cd)\" style=\"fill: none; stroke: #b0b0b0; stroke-width: 0.8; stroke-linecap: square\"/>\n     </g>\n     <g id=\"line2d_10\">\n      <g>\n       <use xlink:href=\"#m7fb0699bea\" x=\"333.520547\" y=\"387.72\" style=\"stroke: #000000; stroke-width: 0.8\"/>\n      </g>\n     </g>\n     <g id=\"text_5\">\n      <!-- 0.04 -->\n      <g transform=\"translate(321.270547 404.44125)scale(0.14 -0.14)\">\n       <defs>\n        <path id=\"TimesNewRomanPSMT-34\" d=\"M 2978 1563 \nL 2978 1119 \nL 2409 1119 \nL 2409 0 \nL 1894 0 \nL 1894 1119 \nL 100 1119 \nL 100 1519 \nL 2066 4325 \nL 2409 4325 \nL 2409 1563 \nL 2978 1563 \nz\nM 1894 1563 \nL 1894 3666 \nL 406 1563 \nL 1894 1563 \nz\n\" transform=\"scale(0.015625)\"/>\n       </defs>\n       <use xlink:href=\"#TimesNewRomanPSMT-30\"/>\n       <use xlink:href=\"#TimesNewRomanPSMT-2e\" x=\"50\"/>\n       <use xlink:href=\"#TimesNewRomanPSMT-30\" x=\"75\"/>\n       <use xlink:href=\"#TimesNewRomanPSMT-34\" x=\"125\"/>\n      </g>\n     </g>\n    </g>\n    <g id=\"xtick_6\">\n     <g id=\"line2d_11\">\n      <path d=\"M 402.1717 387.72 \nL 402.1717 7.2 \n\" clip-path=\"url(#pbe38ae16cd)\" style=\"fill: none; stroke: #b0b0b0; stroke-width: 0.8; stroke-linecap: square\"/>\n     </g>\n     <g id=\"line2d_12\">\n      <g>\n       <use xlink:href=\"#m7fb0699bea\" x=\"402.1717\" y=\"387.72\" style=\"stroke: #000000; stroke-width: 0.8\"/>\n      </g>\n     </g>\n     <g id=\"text_6\">\n      <!-- 0.05 -->\n      <g transform=\"translate(389.9217 404.44125)scale(0.14 -0.14)\">\n       <defs>\n        <path id=\"TimesNewRomanPSMT-35\" d=\"M 2778 4238 \nL 2534 3706 \nL 1259 3706 \nL 981 3138 \nQ 1809 3016 2294 2522 \nQ 2709 2097 2709 1522 \nQ 2709 1188 2573 903 \nQ 2438 619 2231 419 \nQ 2025 219 1772 97 \nQ 1413 -75 1034 -75 \nQ 653 -75 479 54 \nQ 306 184 306 341 \nQ 306 428 378 495 \nQ 450 563 559 563 \nQ 641 563 702 538 \nQ 763 513 909 409 \nQ 1144 247 1384 247 \nQ 1750 247 2026 523 \nQ 2303 800 2303 1197 \nQ 2303 1581 2056 1914 \nQ 1809 2247 1375 2428 \nQ 1034 2569 447 2591 \nL 1259 4238 \nL 2778 4238 \nz\n\" transform=\"scale(0.015625)\"/>\n       </defs>\n       <use xlink:href=\"#TimesNewRomanPSMT-30\"/>\n       <use xlink:href=\"#TimesNewRomanPSMT-2e\" x=\"50\"/>\n       <use xlink:href=\"#TimesNewRomanPSMT-30\" x=\"75\"/>\n       <use xlink:href=\"#TimesNewRomanPSMT-35\" x=\"125\"/>\n      </g>\n     </g>\n    </g>\n    <g id=\"xtick_7\">\n     <g id=\"line2d_13\">\n      <path d=\"M 470.822852 387.72 \nL 470.822852 7.2 \n\" clip-path=\"url(#pbe38ae16cd)\" style=\"fill: none; stroke: #b0b0b0; stroke-width: 0.8; stroke-linecap: square\"/>\n     </g>\n     <g id=\"line2d_14\">\n      <g>\n       <use xlink:href=\"#m7fb0699bea\" x=\"470.822852\" y=\"387.72\" style=\"stroke: #000000; stroke-width: 0.8\"/>\n      </g>\n     </g>\n     <g id=\"text_7\">\n      <!-- 0.06 -->\n      <g transform=\"translate(458.572852 404.44125)scale(0.14 -0.14)\">\n       <defs>\n        <path id=\"TimesNewRomanPSMT-36\" d=\"M 2869 4325 \nL 2869 4209 \nQ 2456 4169 2195 4045 \nQ 1934 3922 1679 3669 \nQ 1425 3416 1258 3105 \nQ 1091 2794 978 2366 \nQ 1428 2675 1881 2675 \nQ 2316 2675 2634 2325 \nQ 2953 1975 2953 1425 \nQ 2953 894 2631 456 \nQ 2244 -75 1606 -75 \nQ 1172 -75 869 213 \nQ 275 772 275 1663 \nQ 275 2231 503 2743 \nQ 731 3256 1154 3653 \nQ 1578 4050 1965 4187 \nQ 2353 4325 2688 4325 \nL 2869 4325 \nz\nM 925 2138 \nQ 869 1716 869 1456 \nQ 869 1156 980 804 \nQ 1091 453 1309 247 \nQ 1469 100 1697 100 \nQ 1969 100 2183 356 \nQ 2397 613 2397 1088 \nQ 2397 1622 2184 2012 \nQ 1972 2403 1581 2403 \nQ 1463 2403 1327 2353 \nQ 1191 2303 925 2138 \nz\n\" transform=\"scale(0.015625)\"/>\n       </defs>\n       <use xlink:href=\"#TimesNewRomanPSMT-30\"/>\n       <use xlink:href=\"#TimesNewRomanPSMT-2e\" x=\"50\"/>\n       <use xlink:href=\"#TimesNewRomanPSMT-30\" x=\"75\"/>\n       <use xlink:href=\"#TimesNewRomanPSMT-36\" x=\"125\"/>\n      </g>\n     </g>\n    </g>\n    <g id=\"xtick_8\">\n     <g id=\"line2d_15\">\n      <path d=\"M 539.474005 387.72 \nL 539.474005 7.2 \n\" clip-path=\"url(#pbe38ae16cd)\" style=\"fill: none; stroke: #b0b0b0; stroke-width: 0.8; stroke-linecap: square\"/>\n     </g>\n     <g id=\"line2d_16\">\n      <g>\n       <use xlink:href=\"#m7fb0699bea\" x=\"539.474005\" y=\"387.72\" style=\"stroke: #000000; stroke-width: 0.8\"/>\n      </g>\n     </g>\n     <g id=\"text_8\">\n      <!-- 0.07 -->\n      <g transform=\"translate(527.224005 404.44125)scale(0.14 -0.14)\">\n       <defs>\n        <path id=\"TimesNewRomanPSMT-37\" d=\"M 644 4238 \nL 2916 4238 \nL 2916 4119 \nL 1503 -88 \nL 1153 -88 \nL 2419 3728 \nL 1253 3728 \nQ 900 3728 750 3644 \nQ 488 3500 328 3200 \nL 238 3234 \nL 644 4238 \nz\n\" transform=\"scale(0.015625)\"/>\n       </defs>\n       <use xlink:href=\"#TimesNewRomanPSMT-30\"/>\n       <use xlink:href=\"#TimesNewRomanPSMT-2e\" x=\"50\"/>\n       <use xlink:href=\"#TimesNewRomanPSMT-30\" x=\"75\"/>\n       <use xlink:href=\"#TimesNewRomanPSMT-37\" x=\"125\"/>\n      </g>\n     </g>\n    </g>\n    <g id=\"xtick_9\">\n     <g id=\"line2d_17\">\n      <path d=\"M 608.125157 387.72 \nL 608.125157 7.2 \n\" clip-path=\"url(#pbe38ae16cd)\" style=\"fill: none; stroke: #b0b0b0; stroke-width: 0.8; stroke-linecap: square\"/>\n     </g>\n     <g id=\"line2d_18\">\n      <g>\n       <use xlink:href=\"#m7fb0699bea\" x=\"608.125157\" y=\"387.72\" style=\"stroke: #000000; stroke-width: 0.8\"/>\n      </g>\n     </g>\n     <g id=\"text_9\">\n      <!-- 0.08 -->\n      <g transform=\"translate(595.875157 404.44125)scale(0.14 -0.14)\">\n       <defs>\n        <path id=\"TimesNewRomanPSMT-38\" d=\"M 1228 2134 \nQ 725 2547 579 2797 \nQ 434 3047 434 3316 \nQ 434 3728 753 4026 \nQ 1072 4325 1600 4325 \nQ 2113 4325 2425 4047 \nQ 2738 3769 2738 3413 \nQ 2738 3175 2569 2928 \nQ 2400 2681 1866 2347 \nQ 2416 1922 2594 1678 \nQ 2831 1359 2831 1006 \nQ 2831 559 2490 242 \nQ 2150 -75 1597 -75 \nQ 994 -75 656 303 \nQ 388 606 388 966 \nQ 388 1247 577 1523 \nQ 766 1800 1228 2134 \nz\nM 1719 2469 \nQ 2094 2806 2194 3001 \nQ 2294 3197 2294 3444 \nQ 2294 3772 2109 3958 \nQ 1925 4144 1606 4144 \nQ 1288 4144 1088 3959 \nQ 888 3775 888 3528 \nQ 888 3366 970 3203 \nQ 1053 3041 1206 2894 \nL 1719 2469 \nz\nM 1375 2016 \nQ 1116 1797 991 1539 \nQ 866 1281 866 981 \nQ 866 578 1086 336 \nQ 1306 94 1647 94 \nQ 1984 94 2187 284 \nQ 2391 475 2391 747 \nQ 2391 972 2272 1150 \nQ 2050 1481 1375 2016 \nz\n\" transform=\"scale(0.015625)\"/>\n       </defs>\n       <use xlink:href=\"#TimesNewRomanPSMT-30\"/>\n       <use xlink:href=\"#TimesNewRomanPSMT-2e\" x=\"50\"/>\n       <use xlink:href=\"#TimesNewRomanPSMT-30\" x=\"75\"/>\n       <use xlink:href=\"#TimesNewRomanPSMT-38\" x=\"125\"/>\n      </g>\n     </g>\n    </g>\n    <g id=\"text_10\">\n     <!-- $\\mathit{t}$, с -->\n     <g transform=\"translate(329.305937 421.157187)scale(0.14 -0.14)\">\n      <defs>\n       <path id=\"STIXGeneral-Italic-74\" d=\"M 1894 2739 \nL 1862 2534 \nL 1325 2534 \nL 768 435 \nQ 755 384 755 346 \nQ 755 243 851 243 \nQ 928 243 1030 342 \nQ 1133 442 1370 749 \nL 1453 704 \nQ 1158 256 969 93 \nQ 781 -70 538 -70 \nQ 243 -70 243 166 \nQ 243 230 346 640 \nL 845 2534 \nL 365 2534 \nL 358 2573 \nQ 358 2688 570 2733 \nQ 730 2771 992 2979 \nQ 1254 3187 1421 3437 \nQ 1459 3494 1510 3494 \nQ 1568 3494 1568 3443 \nQ 1568 3411 1562 3398 \nL 1382 2739 \nL 1894 2739 \nz\n\" transform=\"scale(0.015625)\"/>\n       <path id=\"TimesNewRomanPSMT-2c\" d=\"M 344 -1066 \nL 344 -928 \nQ 666 -822 842 -598 \nQ 1019 -375 1019 -125 \nQ 1019 -66 991 -25 \nQ 969 3 947 3 \nQ 913 3 797 -59 \nQ 741 -88 678 -88 \nQ 525 -88 434 3 \nQ 344 94 344 253 \nQ 344 406 461 515 \nQ 578 625 747 625 \nQ 953 625 1114 445 \nQ 1275 266 1275 -31 \nQ 1275 -353 1051 -629 \nQ 828 -906 344 -1066 \nz\n\" transform=\"scale(0.015625)\"/>\n       <path id=\"TimesNewRomanPSMT-20\" transform=\"scale(0.015625)\"/>\n       <path id=\"TimesNewRomanPSMT-441\" d=\"M 2631 1088 \nQ 2516 522 2178 217 \nQ 1841 -88 1431 -88 \nQ 944 -88 581 321 \nQ 219 731 219 1428 \nQ 219 2103 620 2525 \nQ 1022 2947 1584 2947 \nQ 2006 2947 2278 2723 \nQ 2550 2500 2550 2259 \nQ 2550 2141 2473 2067 \nQ 2397 1994 2259 1994 \nQ 2075 1994 1981 2113 \nQ 1928 2178 1911 2362 \nQ 1894 2547 1784 2644 \nQ 1675 2738 1481 2738 \nQ 1169 2738 978 2506 \nQ 725 2200 725 1697 \nQ 725 1184 976 792 \nQ 1228 400 1656 400 \nQ 1963 400 2206 609 \nQ 2378 753 2541 1131 \nL 2631 1088 \nz\n\" transform=\"scale(0.015625)\"/>\n      </defs>\n      <use xlink:href=\"#STIXGeneral-Italic-74\" transform=\"translate(0 0.40625)\"/>\n      <use xlink:href=\"#TimesNewRomanPSMT-2c\" transform=\"translate(27.799988 0.40625)\"/>\n      <use xlink:href=\"#TimesNewRomanPSMT-20\" transform=\"translate(52.799988 0.40625)\"/>\n      <use xlink:href=\"#TimesNewRomanPSMT-441\" transform=\"translate(77.799988 0.40625)\"/>\n     </g>\n    </g>\n   </g>\n   <g id=\"matplotlib.axis_2\">\n    <g id=\"ytick_1\">\n     <g id=\"line2d_19\">\n      <path d=\"M 58.915937 370.442114 \nL 616.915938 370.442114 \n\" clip-path=\"url(#pbe38ae16cd)\" style=\"fill: none; stroke: #b0b0b0; stroke-width: 0.8; stroke-linecap: square\"/>\n     </g>\n     <g id=\"line2d_20\">\n      <defs>\n       <path id=\"m741b57d16f\" d=\"M 0 0 \nL -3.5 0 \n\" style=\"stroke: #000000; stroke-width: 0.8\"/>\n      </defs>\n      <g>\n       <use xlink:href=\"#m741b57d16f\" x=\"58.915937\" y=\"370.442114\" style=\"stroke: #000000; stroke-width: 0.8\"/>\n      </g>\n     </g>\n     <g id=\"text_11\">\n      <!-- 0 -->\n      <g transform=\"translate(44.915937 375.302739)scale(0.14 -0.14)\">\n       <use xlink:href=\"#TimesNewRomanPSMT-30\"/>\n      </g>\n     </g>\n    </g>\n    <g id=\"ytick_2\">\n     <g id=\"line2d_21\">\n      <path d=\"M 58.915937 324.853076 \nL 616.915938 324.853076 \n\" clip-path=\"url(#pbe38ae16cd)\" style=\"fill: none; stroke: #b0b0b0; stroke-width: 0.8; stroke-linecap: square\"/>\n     </g>\n     <g id=\"line2d_22\">\n      <g>\n       <use xlink:href=\"#m741b57d16f\" x=\"58.915937\" y=\"324.853076\" style=\"stroke: #000000; stroke-width: 0.8\"/>\n      </g>\n     </g>\n     <g id=\"text_12\">\n      <!-- 250 -->\n      <g transform=\"translate(30.915937 329.713701)scale(0.14 -0.14)\">\n       <use xlink:href=\"#TimesNewRomanPSMT-32\"/>\n       <use xlink:href=\"#TimesNewRomanPSMT-35\" x=\"50\"/>\n       <use xlink:href=\"#TimesNewRomanPSMT-30\" x=\"100\"/>\n      </g>\n     </g>\n    </g>\n    <g id=\"ytick_3\">\n     <g id=\"line2d_23\">\n      <path d=\"M 58.915937 279.264038 \nL 616.915938 279.264038 \n\" clip-path=\"url(#pbe38ae16cd)\" style=\"fill: none; stroke: #b0b0b0; stroke-width: 0.8; stroke-linecap: square\"/>\n     </g>\n     <g id=\"line2d_24\">\n      <g>\n       <use xlink:href=\"#m741b57d16f\" x=\"58.915937\" y=\"279.264038\" style=\"stroke: #000000; stroke-width: 0.8\"/>\n      </g>\n     </g>\n     <g id=\"text_13\">\n      <!-- 500 -->\n      <g transform=\"translate(30.915937 284.124663)scale(0.14 -0.14)\">\n       <use xlink:href=\"#TimesNewRomanPSMT-35\"/>\n       <use xlink:href=\"#TimesNewRomanPSMT-30\" x=\"50\"/>\n       <use xlink:href=\"#TimesNewRomanPSMT-30\" x=\"100\"/>\n      </g>\n     </g>\n    </g>\n    <g id=\"ytick_4\">\n     <g id=\"line2d_25\">\n      <path d=\"M 58.915937 233.675 \nL 616.915938 233.675 \n\" clip-path=\"url(#pbe38ae16cd)\" style=\"fill: none; stroke: #b0b0b0; stroke-width: 0.8; stroke-linecap: square\"/>\n     </g>\n     <g id=\"line2d_26\">\n      <g>\n       <use xlink:href=\"#m741b57d16f\" x=\"58.915937\" y=\"233.675\" style=\"stroke: #000000; stroke-width: 0.8\"/>\n      </g>\n     </g>\n     <g id=\"text_14\">\n      <!-- 750 -->\n      <g transform=\"translate(30.915937 238.535625)scale(0.14 -0.14)\">\n       <use xlink:href=\"#TimesNewRomanPSMT-37\"/>\n       <use xlink:href=\"#TimesNewRomanPSMT-35\" x=\"50\"/>\n       <use xlink:href=\"#TimesNewRomanPSMT-30\" x=\"100\"/>\n      </g>\n     </g>\n    </g>\n    <g id=\"ytick_5\">\n     <g id=\"line2d_27\">\n      <path d=\"M 58.915937 188.085963 \nL 616.915938 188.085963 \n\" clip-path=\"url(#pbe38ae16cd)\" style=\"fill: none; stroke: #b0b0b0; stroke-width: 0.8; stroke-linecap: square\"/>\n     </g>\n     <g id=\"line2d_28\">\n      <g>\n       <use xlink:href=\"#m741b57d16f\" x=\"58.915937\" y=\"188.085963\" style=\"stroke: #000000; stroke-width: 0.8\"/>\n      </g>\n     </g>\n     <g id=\"text_15\">\n      <!-- 1000 -->\n      <g transform=\"translate(23.915937 192.946588)scale(0.14 -0.14)\">\n       <use xlink:href=\"#TimesNewRomanPSMT-31\"/>\n       <use xlink:href=\"#TimesNewRomanPSMT-30\" x=\"50\"/>\n       <use xlink:href=\"#TimesNewRomanPSMT-30\" x=\"100\"/>\n       <use xlink:href=\"#TimesNewRomanPSMT-30\" x=\"150\"/>\n      </g>\n     </g>\n    </g>\n    <g id=\"ytick_6\">\n     <g id=\"line2d_29\">\n      <path d=\"M 58.915937 142.496925 \nL 616.915938 142.496925 \n\" clip-path=\"url(#pbe38ae16cd)\" style=\"fill: none; stroke: #b0b0b0; stroke-width: 0.8; stroke-linecap: square\"/>\n     </g>\n     <g id=\"line2d_30\">\n      <g>\n       <use xlink:href=\"#m741b57d16f\" x=\"58.915937\" y=\"142.496925\" style=\"stroke: #000000; stroke-width: 0.8\"/>\n      </g>\n     </g>\n     <g id=\"text_16\">\n      <!-- 1250 -->\n      <g transform=\"translate(23.915937 147.35755)scale(0.14 -0.14)\">\n       <use xlink:href=\"#TimesNewRomanPSMT-31\"/>\n       <use xlink:href=\"#TimesNewRomanPSMT-32\" x=\"50\"/>\n       <use xlink:href=\"#TimesNewRomanPSMT-35\" x=\"100\"/>\n       <use xlink:href=\"#TimesNewRomanPSMT-30\" x=\"150\"/>\n      </g>\n     </g>\n    </g>\n    <g id=\"ytick_7\">\n     <g id=\"line2d_31\">\n      <path d=\"M 58.915937 96.907887 \nL 616.915938 96.907887 \n\" clip-path=\"url(#pbe38ae16cd)\" style=\"fill: none; stroke: #b0b0b0; stroke-width: 0.8; stroke-linecap: square\"/>\n     </g>\n     <g id=\"line2d_32\">\n      <g>\n       <use xlink:href=\"#m741b57d16f\" x=\"58.915937\" y=\"96.907887\" style=\"stroke: #000000; stroke-width: 0.8\"/>\n      </g>\n     </g>\n     <g id=\"text_17\">\n      <!-- 1500 -->\n      <g transform=\"translate(23.915937 101.768512)scale(0.14 -0.14)\">\n       <use xlink:href=\"#TimesNewRomanPSMT-31\"/>\n       <use xlink:href=\"#TimesNewRomanPSMT-35\" x=\"50\"/>\n       <use xlink:href=\"#TimesNewRomanPSMT-30\" x=\"100\"/>\n       <use xlink:href=\"#TimesNewRomanPSMT-30\" x=\"150\"/>\n      </g>\n     </g>\n    </g>\n    <g id=\"ytick_8\">\n     <g id=\"line2d_33\">\n      <path d=\"M 58.915937 51.318849 \nL 616.915938 51.318849 \n\" clip-path=\"url(#pbe38ae16cd)\" style=\"fill: none; stroke: #b0b0b0; stroke-width: 0.8; stroke-linecap: square\"/>\n     </g>\n     <g id=\"line2d_34\">\n      <g>\n       <use xlink:href=\"#m741b57d16f\" x=\"58.915937\" y=\"51.318849\" style=\"stroke: #000000; stroke-width: 0.8\"/>\n      </g>\n     </g>\n     <g id=\"text_18\">\n      <!-- 1750 -->\n      <g transform=\"translate(23.915937 56.179474)scale(0.14 -0.14)\">\n       <use xlink:href=\"#TimesNewRomanPSMT-31\"/>\n       <use xlink:href=\"#TimesNewRomanPSMT-37\" x=\"50\"/>\n       <use xlink:href=\"#TimesNewRomanPSMT-35\" x=\"100\"/>\n       <use xlink:href=\"#TimesNewRomanPSMT-30\" x=\"150\"/>\n      </g>\n     </g>\n    </g>\n    <g id=\"text_19\">\n     <!-- $\\mathit{p}$, МПа -->\n     <g transform=\"translate(16.92125 218.88)rotate(-90)scale(0.14 -0.14)\">\n      <defs>\n       <path id=\"STIXGeneral-Italic-70\" d=\"M 1376 2739 \nL 1190 2099 \nQ 1670 2822 2285 2822 \nQ 2637 2822 2829 2611 \nQ 3021 2400 3021 2022 \nQ 3021 1235 2422 582 \nQ 1824 -70 1120 -70 \nQ 890 -70 678 38 \nQ 422 -1018 422 -1024 \nQ 422 -1126 508 -1168 \nQ 595 -1210 819 -1210 \nL 819 -1312 \nL -480 -1312 \nL -480 -1210 \nQ -275 -1203 -188 -1120 \nQ -102 -1037 -45 -806 \nL 691 1958 \nQ 794 2330 794 2413 \nQ 794 2586 512 2586 \nL 371 2586 \nL 358 2682 \nL 1357 2822 \nQ 1389 2822 1389 2797 \nQ 1382 2765 1376 2739 \nz\nM 2445 2003 \nQ 2445 2285 2352 2416 \nQ 2259 2547 2048 2547 \nQ 1798 2547 1548 2329 \nQ 1299 2112 1184 1818 \nQ 1043 1453 905 953 \nQ 768 454 768 294 \nQ 768 186 854 118 \nQ 941 51 1075 51 \nQ 1574 51 2003 659 \nQ 2445 1274 2445 2003 \nz\n\" transform=\"scale(0.015625)\"/>\n       <path id=\"TimesNewRomanPSMT-41c\" d=\"M 2619 0 \nL 981 3566 \nL 981 734 \nQ 981 344 1066 247 \nQ 1181 116 1431 116 \nL 1581 116 \nL 1581 0 \nL 106 0 \nL 106 116 \nL 256 116 \nQ 525 116 638 278 \nQ 706 378 706 734 \nL 706 3503 \nQ 706 3784 644 3909 \nQ 600 4000 483 4061 \nQ 366 4122 106 4122 \nL 106 4238 \nL 1306 4238 \nL 2844 922 \nL 4356 4238 \nL 5556 4238 \nL 5556 4122 \nL 5409 4122 \nQ 5138 4122 5025 3959 \nQ 4956 3859 4956 3503 \nL 4956 734 \nQ 4956 344 5044 247 \nQ 5159 116 5409 116 \nL 5556 116 \nL 5556 0 \nL 3756 0 \nL 3756 116 \nL 3906 116 \nQ 4178 116 4288 278 \nQ 4356 378 4356 734 \nL 4356 3566 \nL 2722 0 \nL 2619 0 \nz\n\" transform=\"scale(0.015625)\"/>\n       <path id=\"TimesNewRomanPSMT-41f\" d=\"M 3294 4006 \nL 1328 4006 \nL 1328 772 \nQ 1328 353 1436 240 \nQ 1544 128 1941 116 \nL 1941 0 \nL 116 0 \nL 116 116 \nQ 509 128 618 240 \nQ 728 353 728 772 \nL 728 3466 \nQ 728 3884 618 3996 \nQ 509 4109 116 4122 \nL 116 4238 \nL 4506 4238 \nL 4506 4122 \nQ 4113 4109 4003 3996 \nQ 3894 3884 3894 3466 \nL 3894 772 \nQ 3894 353 4003 240 \nQ 4113 128 4506 116 \nL 4506 0 \nL 2684 0 \nL 2684 116 \nQ 3075 128 3184 239 \nQ 3294 350 3294 772 \nL 3294 4006 \nz\n\" transform=\"scale(0.015625)\"/>\n       <path id=\"TimesNewRomanPSMT-430\" d=\"M 1822 413 \nQ 1381 72 1269 19 \nQ 1100 -59 909 -59 \nQ 613 -59 420 144 \nQ 228 347 228 678 \nQ 228 888 322 1041 \nQ 450 1253 767 1440 \nQ 1084 1628 1822 1897 \nL 1822 2009 \nQ 1822 2438 1686 2597 \nQ 1550 2756 1291 2756 \nQ 1094 2756 978 2650 \nQ 859 2544 859 2406 \nL 866 2225 \nQ 866 2081 792 2003 \nQ 719 1925 600 1925 \nQ 484 1925 411 2006 \nQ 338 2088 338 2228 \nQ 338 2497 613 2722 \nQ 888 2947 1384 2947 \nQ 1766 2947 2009 2819 \nQ 2194 2722 2281 2516 \nQ 2338 2381 2338 1966 \nL 2338 994 \nQ 2338 584 2353 492 \nQ 2369 400 2405 369 \nQ 2441 338 2488 338 \nQ 2538 338 2575 359 \nQ 2641 400 2828 588 \nL 2828 413 \nQ 2478 -56 2159 -56 \nQ 2006 -56 1915 50 \nQ 1825 156 1822 413 \nz\nM 1822 616 \nL 1822 1706 \nQ 1350 1519 1213 1441 \nQ 966 1303 859 1153 \nQ 753 1003 753 825 \nQ 753 600 887 451 \nQ 1022 303 1197 303 \nQ 1434 303 1822 616 \nz\n\" transform=\"scale(0.015625)\"/>\n      </defs>\n      <use xlink:href=\"#STIXGeneral-Italic-70\" transform=\"translate(0 0.78125)\"/>\n      <use xlink:href=\"#TimesNewRomanPSMT-2c\" transform=\"translate(50.399994 0.78125)\"/>\n      <use xlink:href=\"#TimesNewRomanPSMT-20\" transform=\"translate(75.399994 0.78125)\"/>\n      <use xlink:href=\"#TimesNewRomanPSMT-41c\" transform=\"translate(100.399994 0.78125)\"/>\n      <use xlink:href=\"#TimesNewRomanPSMT-41f\" transform=\"translate(189.31601 0.78125)\"/>\n      <use xlink:href=\"#TimesNewRomanPSMT-430\" transform=\"translate(261.532806 0.78125)\"/>\n     </g>\n    </g>\n   </g>\n   <g id=\"line2d_35\">\n    <path d=\"M 58.915937 370.423636 \nL 60.460588 370.270573 \nL 60.975472 370.009756 \nL 61.284402 369.620303 \nL 61.559007 368.879112 \nL 61.799286 367.50665 \nL 62.039565 364.503824 \nL 62.245518 358.865743 \nL 62.451472 346.734047 \nL 62.691751 315.679251 \nL 63.137983 210.901089 \nL 63.515565 149.657229 \nL 63.893146 121.266901 \nL 64.305053 106.256088 \nL 64.751285 97.667309 \nL 65.231844 92.357763 \nL 65.781053 88.681912 \nL 66.364588 86.21201 \nL 67.016773 84.397028 \nL 67.737611 83.050322 \nL 68.527099 82.041553 \nL 69.419564 81.254995 \nL 70.483657 80.616592 \nL 71.788029 80.103127 \nL 73.435656 79.705373 \nL 75.598168 79.426032 \nL 78.515842 79.288943 \nL 82.531934 79.336759 \nL 88.127003 79.638489 \nL 95.575653 80.271788 \nL 104.465977 81.2536 \nL 113.768208 82.503104 \nL 122.761509 83.932744 \nL 131.13695 85.48601 \nL 138.860205 87.141176 \nL 145.965599 88.888486 \nL 152.487458 90.718081 \nL 158.460109 92.621155 \nL 164.055178 94.635187 \nL 169.306991 96.759294 \nL 174.146897 98.955737 \nL 178.677873 101.254335 \nL 182.934244 103.660933 \nL 186.950337 106.18512 \nL 190.760476 108.84118 \nL 194.398987 111.649399 \nL 197.86587 114.606788 \nL 201.195451 117.741013 \nL 204.38773 121.052125 \nL 207.477031 124.578173 \nL 210.463357 128.324728 \nL 213.381031 132.34442 \nL 216.230053 136.65158 \nL 219.010425 141.258961 \nL 221.756471 146.242113 \nL 224.468192 151.62619 \nL 227.179912 157.512207 \nL 229.891633 163.94121 \nL 232.603353 170.951259 \nL 235.349399 178.674276 \nL 238.164097 187.264655 \nL 241.081771 196.894661 \nL 244.205398 207.994976 \nL 247.637956 221.041632 \nL 251.825676 237.886188 \nL 263.668 286.086709 \nL 266.825953 297.672122 \nL 269.606324 307.051115 \nL 272.180743 314.967391 \nL 274.617859 321.750264 \nL 276.951998 327.59736 \nL 279.217486 332.682501 \nL 281.448648 337.151072 \nL 283.645485 341.062594 \nL 285.842322 344.528208 \nL 288.039159 347.588232 \nL 290.270321 350.322414 \nL 292.570135 352.78952 \nL 294.904274 354.971591 \nL 297.34139 356.947308 \nL 299.881483 358.721374 \nL 302.558878 360.321156 \nL 305.407901 361.765178 \nL 308.497202 363.078982 \nL 311.861109 364.263655 \nL 315.568271 365.328589 \nL 319.68734 366.276798 \nL 324.355619 367.119446 \nL 329.744734 367.861307 \nL 336.094966 368.504872 \nL 343.783895 369.052794 \nL 353.429382 369.506927 \nL 366.061194 369.867057 \nL 383.876168 370.136521 \nL 412.057466 370.317281 \nL 460.937086 370.408947 \nL 460.937086 370.408947 \n\" clip-path=\"url(#pbe38ae16cd)\" style=\"fill: none; stroke: #2ca02c; stroke-width: 1.5; stroke-linecap: square\"/>\n   </g>\n   <g id=\"line2d_36\">\n    <path d=\"M 58.915937 344.220836 \nL 616.915938 344.220836 \n\" clip-path=\"url(#pbe38ae16cd)\" style=\"fill: none; stroke-dasharray: 5.55,2.4; stroke-dashoffset: 0; stroke: #ffa500; stroke-width: 1.5\"/>\n   </g>\n   <g id=\"line2d_37\">\n    <path d=\"M 58.915937 24.496364 \nL 616.915938 24.496364 \n\" clip-path=\"url(#pbe38ae16cd)\" style=\"fill: none; stroke-dasharray: 5.55,2.4; stroke-dashoffset: 0; stroke: #ffa500; stroke-width: 1.5\"/>\n   </g>\n   <g id=\"line2d_38\">\n    <path d=\"M 58.915937 260.854492 \nL 616.915938 260.854492 \n\" clip-path=\"url(#pbe38ae16cd)\" style=\"fill: none; stroke-dasharray: 5.55,2.4; stroke-dashoffset: 0; stroke: #ffa500; stroke-width: 1.5\"/>\n   </g>\n   <g id=\"line2d_39\">\n    <path d=\"M 58.915937 370.423636 \nL 60.083007 370.275777 \nL 60.460588 370.038288 \nL 60.735193 369.588856 \nL 60.941146 368.831325 \nL 61.1471 367.151979 \nL 61.353053 363.070152 \nL 61.524681 354.906518 \nL 61.696309 336.30893 \nL 61.936588 277.797228 \nL 62.451472 145.867591 \nL 62.794728 114.852953 \nL 63.172309 99.893071 \nL 63.584216 91.822692 \nL 64.030448 87.020449 \nL 64.545332 83.773263 \nL 65.094541 81.640446 \nL 65.712402 80.097435 \nL 66.398913 78.969537 \nL 67.188401 78.106578 \nL 68.115192 77.436984 \nL 69.21361 76.923326 \nL 70.620959 76.520827 \nL 72.47454 76.235727 \nL 74.980307 76.08747 \nL 78.515842 76.11568 \nL 83.49305 76.392272 \nL 90.117886 76.992748 \nL 97.806815 77.914242 \nL 105.633047 79.073339 \nL 113.013046 80.387215 \nL 119.775184 81.81253 \nL 125.953788 83.339025 \nL 131.548857 84.946548 \nL 136.697693 86.654712 \nL 141.365972 88.433459 \nL 145.656669 90.303717 \nL 149.638436 92.278457 \nL 153.345598 94.364031 \nL 156.812481 96.569918 \nL 160.039085 98.884725 \nL 163.094061 101.349722 \nL 165.97741 103.961318 \nL 168.723456 106.748807 \nL 171.3322 109.711743 \nL 173.837967 112.892209 \nL 176.275083 116.348598 \nL 178.609222 120.045393 \nL 180.87471 124.048486 \nL 183.105872 128.448059 \nL 185.268384 133.205831 \nL 187.396569 138.426473 \nL 189.49043 144.151232 \nL 191.58429 150.53038 \nL 193.67815 157.637008 \nL 195.77201 165.544175 \nL 197.900196 174.468355 \nL 200.097033 184.672522 \nL 202.362521 196.273647 \nL 204.833962 210.133631 \nL 207.648659 227.240293 \nL 211.83638 254.25713 \nL 216.298705 282.634672 \nL 218.873123 297.58906 \nL 221.06996 309.076884 \nL 223.060843 318.33135 \nL 224.914424 325.924959 \nL 226.699354 332.32554 \nL 228.415633 337.684167 \nL 230.131912 342.326065 \nL 231.813865 346.248724 \nL 233.495818 349.621581 \nL 235.177772 352.512734 \nL 236.89405 355.032543 \nL 238.644655 357.21833 \nL 240.46391 359.14021 \nL 242.386143 360.84531 \nL 244.411352 362.340961 \nL 246.573863 363.658392 \nL 248.908002 364.818094 \nL 251.48242 365.845878 \nL 254.365769 366.753093 \nL 257.661024 367.550366 \nL 261.471163 368.238069 \nL 266.036465 368.828843 \nL 271.665859 369.323436 \nL 278.87423 369.722733 \nL 288.72567 370.031111 \nL 303.451343 370.249502 \nL 329.401478 370.381587 \nL 344.745011 370.408968 \nL 344.745011 370.408968 \n\" clip-path=\"url(#pbe38ae16cd)\" style=\"fill: none; stroke: #d62728; stroke-width: 1.5; stroke-linecap: square\"/>\n   </g>\n   <g id=\"line2d_40\">\n    <path d=\"M 58.915937 370.423636 \nL 60.83817 370.272664 \nL 61.490356 370.013971 \nL 61.867937 369.643465 \nL 62.176867 369.027439 \nL 62.451472 367.954395 \nL 62.726076 365.787913 \nL 62.966355 361.924766 \nL 63.206635 354.040998 \nL 63.446914 337.867659 \nL 63.721518 301.768072 \nL 64.71696 146.268748 \nL 65.128867 123.216296 \nL 65.575099 109.960956 \nL 66.055657 101.874069 \nL 66.570541 96.638041 \nL 67.154076 92.896604 \nL 67.771936 90.308959 \nL 68.458448 88.36862 \nL 69.21361 86.90215 \nL 70.037424 85.784797 \nL 70.964215 84.899946 \nL 72.028308 84.189314 \nL 73.298354 83.608733 \nL 74.87733 83.137664 \nL 76.902539 82.777622 \nL 79.545609 82.546054 \nL 83.115469 82.469976 \nL 88.024026 82.601764 \nL 94.751839 83.01659 \nL 103.539187 83.789218 \nL 113.802534 84.917237 \nL 124.477788 86.313217 \nL 134.809787 87.885791 \nL 144.523925 89.586188 \nL 153.551551 91.388945 \nL 161.926992 93.285305 \nL 169.684572 95.266613 \nL 176.892943 97.334178 \nL 183.620756 99.492324 \nL 189.936662 101.749282 \nL 195.840661 104.093733 \nL 201.401404 106.540386 \nL 206.653218 109.093337 \nL 211.630426 111.759932 \nL 216.33303 114.529675 \nL 220.829681 117.434618 \nL 225.120378 120.469014 \nL 229.239447 123.6519 \nL 233.221214 127.008629 \nL 237.065678 130.539524 \nL 240.807166 134.278236 \nL 244.445677 138.229153 \nL 248.015537 142.436628 \nL 251.516746 146.911019 \nL 254.949303 151.660593 \nL 258.347535 156.74491 \nL 261.711442 162.179325 \nL 265.075348 168.038341 \nL 268.47358 174.410795 \nL 271.906138 181.328656 \nL 275.407347 188.894133 \nL 279.011532 197.219389 \nL 282.787346 206.507252 \nL 286.872089 217.156242 \nL 291.540368 229.96954 \nL 297.821948 247.921336 \nL 307.879342 276.668255 \nL 312.307341 288.604081 \nL 316.083155 298.157656 \nL 319.481387 306.163152 \nL 322.63934 313.047709 \nL 325.659991 319.109263 \nL 328.577664 324.472346 \nL 331.426687 329.249052 \nL 334.241385 333.536078 \nL 337.021756 337.369098 \nL 339.802128 340.826599 \nL 342.5825 343.934847 \nL 345.397197 346.753881 \nL 348.280545 349.329873 \nL 351.232545 351.671609 \nL 354.287521 353.812848 \nL 357.4798 355.778028 \nL 360.809381 357.566928 \nL 364.344915 359.212667 \nL 368.120728 360.721682 \nL 372.171146 362.097723 \nL 376.56482 363.352134 \nL 381.370401 364.489732 \nL 386.690865 365.51753 \nL 392.663515 366.441026 \nL 399.459979 367.262552 \nL 407.354862 367.986885 \nL 416.691419 368.613246 \nL 428.053184 369.144289 \nL 442.36695 369.580797 \nL 461.348993 369.924697 \nL 488.500524 370.177558 \nL 532.711866 370.342207 \nL 590.344509 370.408932 \nL 590.344509 370.408932 \n\" clip-path=\"url(#pbe38ae16cd)\" style=\"fill: none; stroke: #1f77b4; stroke-width: 1.5; stroke-linecap: square\"/>\n   </g>\n   <g id=\"line2d_41\">\n    <path d=\"M 250.109397 387.72 \nL 250.109397 7.2 \n\" clip-path=\"url(#pbe38ae16cd)\" style=\"fill: none; stroke-dasharray: 5.55,2.4; stroke-dashoffset: 0; stroke: #808080; stroke-width: 1.5\"/>\n   </g>\n   <g id=\"patch_3\">\n    <path d=\"M 58.915937 387.72 \nL 58.915937 7.2 \n\" style=\"fill: none; stroke: #000000; stroke-width: 0.8; stroke-linejoin: miter; stroke-linecap: square\"/>\n   </g>\n   <g id=\"patch_4\">\n    <path d=\"M 616.915938 387.72 \nL 616.915938 7.2 \n\" style=\"fill: none; stroke: #000000; stroke-width: 0.8; stroke-linejoin: miter; stroke-linecap: square\"/>\n   </g>\n   <g id=\"patch_5\">\n    <path d=\"M 58.915937 387.72 \nL 616.915938 387.72 \n\" style=\"fill: none; stroke: #000000; stroke-width: 0.8; stroke-linejoin: miter; stroke-linecap: square\"/>\n   </g>\n   <g id=\"patch_6\">\n    <path d=\"M 58.915937 7.2 \nL 616.915938 7.2 \n\" style=\"fill: none; stroke: #000000; stroke-width: 0.8; stroke-linejoin: miter; stroke-linecap: square\"/>\n   </g>\n   <g id=\"legend_1\">\n    <g id=\"patch_7\">\n     <path d=\"M 506.595937 239.542031 \nL 607.115937 239.542031 \nQ 609.915937 239.542031 609.915937 236.742031 \nL 609.915937 158.177969 \nQ 609.915937 155.377969 607.115937 155.377969 \nL 506.595937 155.377969 \nQ 503.795937 155.377969 503.795937 158.177969 \nL 503.795937 236.742031 \nQ 503.795937 239.542031 506.595937 239.542031 \nz\n\" style=\"fill: #ffffff; opacity: 0.8; stroke: #cccccc; stroke-linejoin: miter\"/>\n    </g>\n    <g id=\"line2d_42\">\n     <path d=\"M 509.395938 165.877969 \nL 523.395937 165.877969 \nL 537.395937 165.877969 \n\" style=\"fill: none; stroke: #2ca02c; stroke-width: 1.5; stroke-linecap: square\"/>\n    </g>\n    <g id=\"text_20\">\n     <!-- $\\mathit{t}$ = +18°C -->\n     <g transform=\"translate(548.595937 170.777969)scale(0.14 -0.14)\">\n      <defs>\n       <path id=\"TimesNewRomanPSMT-3d\" d=\"M 116 2759 \nL 3488 2759 \nL 3488 2503 \nL 116 2503 \nL 116 2759 \nz\nM 116 1741 \nL 3488 1741 \nL 3488 1484 \nL 116 1484 \nL 116 1741 \nz\n\" transform=\"scale(0.015625)\"/>\n       <path id=\"TimesNewRomanPSMT-2b\" d=\"M 1672 441 \nL 1672 2000 \nL 116 2000 \nL 116 2256 \nL 1672 2256 \nL 1672 3809 \nL 1922 3809 \nL 1922 2256 \nL 3484 2256 \nL 3484 2000 \nL 1922 2000 \nL 1922 441 \nL 1672 441 \nz\n\" transform=\"scale(0.015625)\"/>\n       <path id=\"TimesNewRomanPSMT-b0\" d=\"M 1266 4331 \nQ 1669 4331 1948 4050 \nQ 2228 3769 2228 3369 \nQ 2228 2972 1947 2690 \nQ 1666 2409 1266 2409 \nQ 869 2409 587 2690 \nQ 306 2972 306 3369 \nQ 306 3769 586 4050 \nQ 866 4331 1266 4331 \nz\nM 1266 4069 \nQ 975 4069 772 3866 \nQ 569 3663 569 3372 \nQ 569 3084 772 2879 \nQ 975 2675 1266 2675 \nQ 1553 2675 1758 2879 \nQ 1963 3084 1963 3372 \nQ 1963 3663 1759 3866 \nQ 1556 4069 1266 4069 \nz\n\" transform=\"scale(0.015625)\"/>\n       <path id=\"TimesNewRomanPSMT-43\" d=\"M 3853 4334 \nL 3950 2894 \nL 3853 2894 \nQ 3659 3541 3300 3825 \nQ 2941 4109 2438 4109 \nQ 2016 4109 1675 3895 \nQ 1334 3681 1139 3212 \nQ 944 2744 944 2047 \nQ 944 1472 1128 1050 \nQ 1313 628 1683 403 \nQ 2053 178 2528 178 \nQ 2941 178 3256 354 \nQ 3572 531 3950 1056 \nL 4047 994 \nQ 3728 428 3303 165 \nQ 2878 -97 2294 -97 \nQ 1241 -97 663 684 \nQ 231 1266 231 2053 \nQ 231 2688 515 3219 \nQ 800 3750 1298 4042 \nQ 1797 4334 2388 4334 \nQ 2847 4334 3294 4109 \nQ 3425 4041 3481 4041 \nQ 3566 4041 3628 4100 \nQ 3709 4184 3744 4334 \nL 3853 4334 \nz\n\" transform=\"scale(0.015625)\"/>\n      </defs>\n      <use xlink:href=\"#STIXGeneral-Italic-74\" transform=\"translate(0 0.28125)\"/>\n      <use xlink:href=\"#TimesNewRomanPSMT-20\" transform=\"translate(27.799988 0.28125)\"/>\n      <use xlink:href=\"#TimesNewRomanPSMT-3d\" transform=\"translate(52.799988 0.28125)\"/>\n      <use xlink:href=\"#TimesNewRomanPSMT-20\" transform=\"translate(109.196472 0.28125)\"/>\n      <use xlink:href=\"#TimesNewRomanPSMT-2b\" transform=\"translate(134.196472 0.28125)\"/>\n      <use xlink:href=\"#TimesNewRomanPSMT-31\" transform=\"translate(190.592957 0.28125)\"/>\n      <use xlink:href=\"#TimesNewRomanPSMT-38\" transform=\"translate(240.592957 0.28125)\"/>\n      <use xlink:href=\"#TimesNewRomanPSMT-b0\" transform=\"translate(290.592957 0.28125)\"/>\n      <use xlink:href=\"#TimesNewRomanPSMT-43\" transform=\"translate(330.583191 0.28125)\"/>\n     </g>\n    </g>\n    <g id=\"line2d_43\">\n     <path d=\"M 509.395938 185.672656 \nL 523.395937 185.672656 \nL 537.395937 185.672656 \n\" style=\"fill: none; stroke: #d62728; stroke-width: 1.5; stroke-linecap: square\"/>\n    </g>\n    <g id=\"text_21\">\n     <!-- $\\mathit{t}$ = +50°C -->\n     <g transform=\"translate(548.595937 190.572656)scale(0.14 -0.14)\">\n      <use xlink:href=\"#STIXGeneral-Italic-74\" transform=\"translate(0 0.28125)\"/>\n      <use xlink:href=\"#TimesNewRomanPSMT-20\" transform=\"translate(27.799988 0.28125)\"/>\n      <use xlink:href=\"#TimesNewRomanPSMT-3d\" transform=\"translate(52.799988 0.28125)\"/>\n      <use xlink:href=\"#TimesNewRomanPSMT-20\" transform=\"translate(109.196472 0.28125)\"/>\n      <use xlink:href=\"#TimesNewRomanPSMT-2b\" transform=\"translate(134.196472 0.28125)\"/>\n      <use xlink:href=\"#TimesNewRomanPSMT-35\" transform=\"translate(190.592957 0.28125)\"/>\n      <use xlink:href=\"#TimesNewRomanPSMT-30\" transform=\"translate(240.592957 0.28125)\"/>\n      <use xlink:href=\"#TimesNewRomanPSMT-b0\" transform=\"translate(290.592957 0.28125)\"/>\n      <use xlink:href=\"#TimesNewRomanPSMT-43\" transform=\"translate(330.583191 0.28125)\"/>\n     </g>\n    </g>\n    <g id=\"line2d_44\">\n     <path d=\"M 509.395938 205.467344 \nL 523.395937 205.467344 \nL 537.395937 205.467344 \n\" style=\"fill: none; stroke: #1f77b4; stroke-width: 1.5; stroke-linecap: square\"/>\n    </g>\n    <g id=\"text_22\">\n     <!-- $\\mathit{t}$ = $-$50°C -->\n     <g transform=\"translate(548.595937 210.367344)scale(0.14 -0.14)\">\n      <defs>\n       <path id=\"TimesNewRomanPSMT-2212\" d=\"M 3484 2000 \nL 116 2000 \nL 116 2256 \nL 3484 2256 \nL 3484 2000 \nz\n\" transform=\"scale(0.015625)\"/>\n      </defs>\n      <use xlink:href=\"#STIXGeneral-Italic-74\" transform=\"translate(0 0.28125)\"/>\n      <use xlink:href=\"#TimesNewRomanPSMT-20\" transform=\"translate(27.799988 0.28125)\"/>\n      <use xlink:href=\"#TimesNewRomanPSMT-3d\" transform=\"translate(52.799988 0.28125)\"/>\n      <use xlink:href=\"#TimesNewRomanPSMT-20\" transform=\"translate(109.196472 0.28125)\"/>\n      <use xlink:href=\"#TimesNewRomanPSMT-2212\" transform=\"translate(134.196472 0.28125)\"/>\n      <use xlink:href=\"#TimesNewRomanPSMT-35\" transform=\"translate(190.592957 0.28125)\"/>\n      <use xlink:href=\"#TimesNewRomanPSMT-30\" transform=\"translate(240.592957 0.28125)\"/>\n      <use xlink:href=\"#TimesNewRomanPSMT-b0\" transform=\"translate(290.592957 0.28125)\"/>\n      <use xlink:href=\"#TimesNewRomanPSMT-43\" transform=\"translate(330.583191 0.28125)\"/>\n     </g>\n    </g>\n    <g id=\"line2d_45\">\n     <path d=\"M 509.395938 225.262031 \nL 523.395937 225.262031 \nL 537.395937 225.262031 \n\" style=\"fill: none; stroke-dasharray: 5.55,2.4; stroke-dashoffset: 0; stroke: #808080; stroke-width: 1.5\"/>\n    </g>\n    <g id=\"text_23\">\n     <!-- $\\mathit{t}_{всп}$ + $\\mathit{t}_г$ -->\n     <g transform=\"translate(548.595937 230.162031)scale(0.14 -0.14)\">\n      <defs>\n       <path id=\"TimesNewRomanPSMT-432\" d=\"M 2016 1513 \nQ 2800 1350 2800 778 \nQ 2800 388 2473 194 \nQ 2147 0 1563 0 \nL 150 0 \nL 150 116 \nQ 428 116 501 220 \nQ 575 325 575 672 \nL 575 2191 \nQ 575 2528 542 2587 \nQ 509 2647 439 2695 \nQ 369 2744 150 2744 \nL 150 2863 \nL 1469 2863 \nQ 1850 2863 2086 2803 \nQ 2322 2744 2473 2569 \nQ 2625 2394 2625 2144 \nQ 2625 1656 2016 1513 \nz\nM 1094 1584 \nQ 1231 1581 1259 1581 \nQ 1688 1581 1878 1745 \nQ 2069 1909 2069 2144 \nQ 2069 2416 1875 2537 \nQ 1681 2659 1256 2659 \nL 1094 2659 \nL 1094 1584 \nz\nM 1094 253 \nQ 1250 203 1466 203 \nQ 1838 203 2019 365 \nQ 2200 528 2200 784 \nQ 2200 1072 1965 1225 \nQ 1731 1378 1316 1378 \nQ 1213 1378 1094 1372 \nL 1094 253 \nz\n\" transform=\"scale(0.015625)\"/>\n       <path id=\"TimesNewRomanPSMT-43f\" d=\"M 2331 2659 \nL 1094 2659 \nL 1094 672 \nQ 1094 341 1128 277 \nQ 1163 213 1236 164 \nQ 1309 116 1528 116 \nL 1528 0 \nL 144 0 \nL 144 116 \nQ 422 116 500 217 \nQ 578 319 578 672 \nL 578 2191 \nQ 578 2525 543 2586 \nQ 509 2647 437 2695 \nQ 366 2744 144 2744 \nL 144 2863 \nL 3281 2863 \nL 3281 2744 \nQ 3072 2744 3000 2701 \nQ 2928 2659 2887 2596 \nQ 2847 2534 2847 2191 \nL 2847 672 \nQ 2847 341 2881 277 \nQ 2916 213 2989 164 \nQ 3063 116 3281 116 \nL 3281 0 \nL 1897 0 \nL 1897 116 \nQ 2156 116 2243 211 \nQ 2331 306 2331 672 \nL 2331 2659 \nz\n\" transform=\"scale(0.015625)\"/>\n       <path id=\"TimesNewRomanPSMT-433\" d=\"M 2469 2863 \nL 2584 2081 \nL 2447 2081 \nQ 2328 2469 2208 2564 \nQ 2088 2659 1700 2659 \nL 1094 2659 \nL 1094 672 \nQ 1094 341 1128 277 \nQ 1163 213 1236 164 \nQ 1309 116 1528 116 \nL 1528 0 \nL 97 0 \nL 97 116 \nQ 403 122 490 211 \nQ 578 300 578 672 \nL 578 2191 \nQ 578 2494 543 2580 \nQ 509 2666 423 2703 \nQ 338 2741 97 2744 \nL 97 2863 \nL 2469 2863 \nz\n\" transform=\"scale(0.015625)\"/>\n      </defs>\n      <use xlink:href=\"#STIXGeneral-Italic-74\" transform=\"translate(0 0.484375)\"/>\n      <use xlink:href=\"#TimesNewRomanPSMT-432\" transform=\"translate(27.799988 -25.278125)scale(0.7)\"/>\n      <use xlink:href=\"#TimesNewRomanPSMT-441\" transform=\"translate(60.851746 -25.278125)scale(0.7)\"/>\n      <use xlink:href=\"#TimesNewRomanPSMT-43f\" transform=\"translate(91.921082 -25.278125)scale(0.7)\"/>\n      <use xlink:href=\"#TimesNewRomanPSMT-20\" transform=\"translate(133.675769 0.484375)\"/>\n      <use xlink:href=\"#TimesNewRomanPSMT-2b\" transform=\"translate(158.675769 0.484375)\"/>\n      <use xlink:href=\"#TimesNewRomanPSMT-20\" transform=\"translate(215.072253 0.484375)\"/>\n      <use xlink:href=\"#STIXGeneral-Italic-74\" transform=\"translate(240.072253 0.484375)\"/>\n      <use xlink:href=\"#TimesNewRomanPSMT-433\" transform=\"translate(267.872241 -25.278125)scale(0.7)\"/>\n     </g>\n    </g>\n   </g>\n  </g>\n </g>\n <defs>\n  <clipPath id=\"pbe38ae16cd\">\n   <rect x=\"58.915937\" y=\"7.2\" width=\"558\" height=\"380.52\"/>\n  </clipPath>\n </defs>\n</svg>\n",
      "text/plain": [
       "<Figure size 720x504 with 1 Axes>"
      ]
     },
     "metadata": {
      "needs_background": "light"
     },
     "output_type": "display_data"
    }
   ],
   "source": [
    "plt.figure(figsize = (10,7))\n",
    "plt.plot(res18['t'],res18['p']/1e6, c = 'tab:green', label = '$\\mathit{t}$ = +18°C')\n",
    "plt.axhline(p1_max/1e6,ls = '--',c = 'orange')\n",
    "plt.axhline(p1_min/1e6,ls = '--',c = 'orange')\n",
    "plt.axhline(p1N/1e6,ls = '--',c = 'orange')\n",
    "plt.plot(res50['t'],res50['p']/1e6, c = 'tab:red', label = '$\\mathit{t}$ = +50°C')\n",
    "plt.plot(res_50['t'],res_50['p']/1e6, c = 'tab:blue', label = '$\\mathit{t}$ = $-$50°C')\n",
    "plt.axvline(t_g + 0.85e-3,ls = '--',c = 'grey', label = '$\\mathit{t}_{всп}$ + $\\mathit{t}_г$')\n",
    "\n",
    "plt.xlim(0)\n",
    "# plt.ylim(top = 18.5)\n",
    "plt.xlabel('$\\mathit{t}$, с')\n",
    "plt.ylabel('$\\mathit{p}$, МПа')\n",
    "plt.legend()\n",
    "plt.grid()\n",
    "# plt.savefig('Инд p.svg', dpi=500, bbox_inches='tight')\n",
    "plt.show()"
   ]
  },
  {
   "cell_type": "code",
   "execution_count": null,
   "metadata": {},
   "outputs": [
    {
     "data": {
      "text/plain": [
       "(-51525.54133556599, -44130.76217427655, -79928.62539024207, 160)"
      ]
     },
     "execution_count": 23,
     "metadata": {},
     "output_type": "execute_result"
    }
   ],
   "source": [
    "G_ts = lambda res, T_0: np.array([S_zar(abs(e_t)) * propel.rho * propel.u(p,T_0) for e_t, p in zip(res['e_t'],res['p'])])\n",
    "Ps = lambda res, T_0: 1.365*np.array([G_t * V_a + np.pi * zeta * D_kr**2 / 4 * (p * 1.05 * pi(lambda_a,propel.k) - p_atm) for G_t, p in zip(G_ts(res,T_0),res['p'])])\n",
    "\n",
    "I_sumf = lambda res, T_0: simps(Ps(res,T_0),res['t'])\n",
    "\n",
    "# Импульсы\n",
    "I_sumf(res_50,T_min), I_sumf(res18,T_nom), I_sumf(res_50,T_max), I_kor"
   ]
  },
  {
   "cell_type": "code",
   "execution_count": null,
   "metadata": {},
   "outputs": [
    {
     "data": {
      "image/svg+xml": "<?xml version=\"1.0\" encoding=\"utf-8\" standalone=\"no\"?>\n<!DOCTYPE svg PUBLIC \"-//W3C//DTD SVG 1.1//EN\"\n  \"http://www.w3.org/Graphics/SVG/1.1/DTD/svg11.dtd\">\n<svg xmlns:xlink=\"http://www.w3.org/1999/xlink\" width=\"642.469845pt\" height=\"431.351875pt\" viewBox=\"0 0 642.469845 431.351875\" xmlns=\"http://www.w3.org/2000/svg\" version=\"1.1\">\n <metadata>\n  <rdf:RDF xmlns:dc=\"http://purl.org/dc/elements/1.1/\" xmlns:cc=\"http://creativecommons.org/ns#\" xmlns:rdf=\"http://www.w3.org/1999/02/22-rdf-syntax-ns#\">\n   <cc:Work>\n    <dc:type rdf:resource=\"http://purl.org/dc/dcmitype/StillImage\"/>\n    <dc:date>2022-11-20T13:58:57.374834</dc:date>\n    <dc:format>image/svg+xml</dc:format>\n    <dc:creator>\n     <cc:Agent>\n      <dc:title>Matplotlib v3.5.2, https://matplotlib.org/</dc:title>\n     </cc:Agent>\n    </dc:creator>\n   </cc:Work>\n  </rdf:RDF>\n </metadata>\n <defs>\n  <style type=\"text/css\">*{stroke-linejoin: round; stroke-linecap: butt}</style>\n </defs>\n <g id=\"figure_1\">\n  <g id=\"patch_1\">\n   <path d=\"M 0 431.351875 \nL 642.469845 431.351875 \nL 642.469845 0 \nL 0 0 \nL 0 431.351875 \nz\n\" style=\"fill: none\"/>\n  </g>\n  <g id=\"axes_1\">\n   <g id=\"patch_2\">\n    <path d=\"M 73.810625 387.72 \nL 631.810625 387.72 \nL 631.810625 7.2 \nL 73.810625 7.2 \nz\n\" style=\"fill: #ffffff\"/>\n   </g>\n   <g id=\"matplotlib.axis_1\">\n    <g id=\"xtick_1\">\n     <g id=\"line2d_1\">\n      <path d=\"M 73.810625 387.72 \nL 73.810625 7.2 \n\" clip-path=\"url(#p9278d52a19)\" style=\"fill: none; stroke: #b0b0b0; stroke-width: 0.8; stroke-linecap: square\"/>\n     </g>\n     <g id=\"line2d_2\">\n      <defs>\n       <path id=\"m5f7c677a0d\" d=\"M 0 0 \nL 0 3.5 \n\" style=\"stroke: #000000; stroke-width: 0.8\"/>\n      </defs>\n      <g>\n       <use xlink:href=\"#m5f7c677a0d\" x=\"73.810625\" y=\"387.72\" style=\"stroke: #000000; stroke-width: 0.8\"/>\n      </g>\n     </g>\n     <g id=\"text_1\">\n      <!-- 0.00 -->\n      <g transform=\"translate(61.560625 404.44125)scale(0.14 -0.14)\">\n       <defs>\n        <path id=\"TimesNewRomanPSMT-30\" d=\"M 231 2094 \nQ 231 2819 450 3342 \nQ 669 3866 1031 4122 \nQ 1313 4325 1613 4325 \nQ 2100 4325 2488 3828 \nQ 2972 3213 2972 2159 \nQ 2972 1422 2759 906 \nQ 2547 391 2217 158 \nQ 1888 -75 1581 -75 \nQ 975 -75 572 641 \nQ 231 1244 231 2094 \nz\nM 844 2016 \nQ 844 1141 1059 588 \nQ 1238 122 1591 122 \nQ 1759 122 1940 273 \nQ 2122 425 2216 781 \nQ 2359 1319 2359 2297 \nQ 2359 3022 2209 3506 \nQ 2097 3866 1919 4016 \nQ 1791 4119 1609 4119 \nQ 1397 4119 1231 3928 \nQ 1006 3669 925 3112 \nQ 844 2556 844 2016 \nz\n\" transform=\"scale(0.015625)\"/>\n        <path id=\"TimesNewRomanPSMT-2e\" d=\"M 800 606 \nQ 947 606 1047 504 \nQ 1147 403 1147 259 \nQ 1147 116 1045 14 \nQ 944 -88 800 -88 \nQ 656 -88 554 14 \nQ 453 116 453 259 \nQ 453 406 554 506 \nQ 656 606 800 606 \nz\n\" transform=\"scale(0.015625)\"/>\n       </defs>\n       <use xlink:href=\"#TimesNewRomanPSMT-30\"/>\n       <use xlink:href=\"#TimesNewRomanPSMT-2e\" x=\"50\"/>\n       <use xlink:href=\"#TimesNewRomanPSMT-30\" x=\"75\"/>\n       <use xlink:href=\"#TimesNewRomanPSMT-30\" x=\"125\"/>\n      </g>\n     </g>\n    </g>\n    <g id=\"xtick_2\">\n     <g id=\"line2d_3\">\n      <path d=\"M 142.461777 387.72 \nL 142.461777 7.2 \n\" clip-path=\"url(#p9278d52a19)\" style=\"fill: none; stroke: #b0b0b0; stroke-width: 0.8; stroke-linecap: square\"/>\n     </g>\n     <g id=\"line2d_4\">\n      <g>\n       <use xlink:href=\"#m5f7c677a0d\" x=\"142.461777\" y=\"387.72\" style=\"stroke: #000000; stroke-width: 0.8\"/>\n      </g>\n     </g>\n     <g id=\"text_2\">\n      <!-- 0.01 -->\n      <g transform=\"translate(130.211777 404.44125)scale(0.14 -0.14)\">\n       <defs>\n        <path id=\"TimesNewRomanPSMT-31\" d=\"M 750 3822 \nL 1781 4325 \nL 1884 4325 \nL 1884 747 \nQ 1884 391 1914 303 \nQ 1944 216 2037 169 \nQ 2131 122 2419 116 \nL 2419 0 \nL 825 0 \nL 825 116 \nQ 1125 122 1212 167 \nQ 1300 213 1334 289 \nQ 1369 366 1369 747 \nL 1369 3034 \nQ 1369 3497 1338 3628 \nQ 1316 3728 1258 3775 \nQ 1200 3822 1119 3822 \nQ 1003 3822 797 3725 \nL 750 3822 \nz\n\" transform=\"scale(0.015625)\"/>\n       </defs>\n       <use xlink:href=\"#TimesNewRomanPSMT-30\"/>\n       <use xlink:href=\"#TimesNewRomanPSMT-2e\" x=\"50\"/>\n       <use xlink:href=\"#TimesNewRomanPSMT-30\" x=\"75\"/>\n       <use xlink:href=\"#TimesNewRomanPSMT-31\" x=\"125\"/>\n      </g>\n     </g>\n    </g>\n    <g id=\"xtick_3\">\n     <g id=\"line2d_5\">\n      <path d=\"M 211.11293 387.72 \nL 211.11293 7.2 \n\" clip-path=\"url(#p9278d52a19)\" style=\"fill: none; stroke: #b0b0b0; stroke-width: 0.8; stroke-linecap: square\"/>\n     </g>\n     <g id=\"line2d_6\">\n      <g>\n       <use xlink:href=\"#m5f7c677a0d\" x=\"211.11293\" y=\"387.72\" style=\"stroke: #000000; stroke-width: 0.8\"/>\n      </g>\n     </g>\n     <g id=\"text_3\">\n      <!-- 0.02 -->\n      <g transform=\"translate(198.86293 404.44125)scale(0.14 -0.14)\">\n       <defs>\n        <path id=\"TimesNewRomanPSMT-32\" d=\"M 2934 816 \nL 2638 0 \nL 138 0 \nL 138 116 \nQ 1241 1122 1691 1759 \nQ 2141 2397 2141 2925 \nQ 2141 3328 1894 3587 \nQ 1647 3847 1303 3847 \nQ 991 3847 742 3664 \nQ 494 3481 375 3128 \nL 259 3128 \nQ 338 3706 661 4015 \nQ 984 4325 1469 4325 \nQ 1984 4325 2329 3994 \nQ 2675 3663 2675 3213 \nQ 2675 2891 2525 2569 \nQ 2294 2063 1775 1497 \nQ 997 647 803 472 \nL 1909 472 \nQ 2247 472 2383 497 \nQ 2519 522 2628 598 \nQ 2738 675 2819 816 \nL 2934 816 \nz\n\" transform=\"scale(0.015625)\"/>\n       </defs>\n       <use xlink:href=\"#TimesNewRomanPSMT-30\"/>\n       <use xlink:href=\"#TimesNewRomanPSMT-2e\" x=\"50\"/>\n       <use xlink:href=\"#TimesNewRomanPSMT-30\" x=\"75\"/>\n       <use xlink:href=\"#TimesNewRomanPSMT-32\" x=\"125\"/>\n      </g>\n     </g>\n    </g>\n    <g id=\"xtick_4\">\n     <g id=\"line2d_7\">\n      <path d=\"M 279.764082 387.72 \nL 279.764082 7.2 \n\" clip-path=\"url(#p9278d52a19)\" style=\"fill: none; stroke: #b0b0b0; stroke-width: 0.8; stroke-linecap: square\"/>\n     </g>\n     <g id=\"line2d_8\">\n      <g>\n       <use xlink:href=\"#m5f7c677a0d\" x=\"279.764082\" y=\"387.72\" style=\"stroke: #000000; stroke-width: 0.8\"/>\n      </g>\n     </g>\n     <g id=\"text_4\">\n      <!-- 0.03 -->\n      <g transform=\"translate(267.514082 404.44125)scale(0.14 -0.14)\">\n       <defs>\n        <path id=\"TimesNewRomanPSMT-33\" d=\"M 325 3431 \nQ 506 3859 782 4092 \nQ 1059 4325 1472 4325 \nQ 1981 4325 2253 3994 \nQ 2459 3747 2459 3466 \nQ 2459 3003 1878 2509 \nQ 2269 2356 2469 2072 \nQ 2669 1788 2669 1403 \nQ 2669 853 2319 450 \nQ 1863 -75 997 -75 \nQ 569 -75 414 31 \nQ 259 138 259 259 \nQ 259 350 332 419 \nQ 406 488 509 488 \nQ 588 488 669 463 \nQ 722 447 909 348 \nQ 1097 250 1169 231 \nQ 1284 197 1416 197 \nQ 1734 197 1970 444 \nQ 2206 691 2206 1028 \nQ 2206 1275 2097 1509 \nQ 2016 1684 1919 1775 \nQ 1784 1900 1550 2001 \nQ 1316 2103 1072 2103 \nL 972 2103 \nL 972 2197 \nQ 1219 2228 1467 2375 \nQ 1716 2522 1828 2728 \nQ 1941 2934 1941 3181 \nQ 1941 3503 1739 3701 \nQ 1538 3900 1238 3900 \nQ 753 3900 428 3381 \nL 325 3431 \nz\n\" transform=\"scale(0.015625)\"/>\n       </defs>\n       <use xlink:href=\"#TimesNewRomanPSMT-30\"/>\n       <use xlink:href=\"#TimesNewRomanPSMT-2e\" x=\"50\"/>\n       <use xlink:href=\"#TimesNewRomanPSMT-30\" x=\"75\"/>\n       <use xlink:href=\"#TimesNewRomanPSMT-33\" x=\"125\"/>\n      </g>\n     </g>\n    </g>\n    <g id=\"xtick_5\">\n     <g id=\"line2d_9\">\n      <path d=\"M 348.415235 387.72 \nL 348.415235 7.2 \n\" clip-path=\"url(#p9278d52a19)\" style=\"fill: none; stroke: #b0b0b0; stroke-width: 0.8; stroke-linecap: square\"/>\n     </g>\n     <g id=\"line2d_10\">\n      <g>\n       <use xlink:href=\"#m5f7c677a0d\" x=\"348.415235\" y=\"387.72\" style=\"stroke: #000000; stroke-width: 0.8\"/>\n      </g>\n     </g>\n     <g id=\"text_5\">\n      <!-- 0.04 -->\n      <g transform=\"translate(336.165235 404.44125)scale(0.14 -0.14)\">\n       <defs>\n        <path id=\"TimesNewRomanPSMT-34\" d=\"M 2978 1563 \nL 2978 1119 \nL 2409 1119 \nL 2409 0 \nL 1894 0 \nL 1894 1119 \nL 100 1119 \nL 100 1519 \nL 2066 4325 \nL 2409 4325 \nL 2409 1563 \nL 2978 1563 \nz\nM 1894 1563 \nL 1894 3666 \nL 406 1563 \nL 1894 1563 \nz\n\" transform=\"scale(0.015625)\"/>\n       </defs>\n       <use xlink:href=\"#TimesNewRomanPSMT-30\"/>\n       <use xlink:href=\"#TimesNewRomanPSMT-2e\" x=\"50\"/>\n       <use xlink:href=\"#TimesNewRomanPSMT-30\" x=\"75\"/>\n       <use xlink:href=\"#TimesNewRomanPSMT-34\" x=\"125\"/>\n      </g>\n     </g>\n    </g>\n    <g id=\"xtick_6\">\n     <g id=\"line2d_11\">\n      <path d=\"M 417.066387 387.72 \nL 417.066387 7.2 \n\" clip-path=\"url(#p9278d52a19)\" style=\"fill: none; stroke: #b0b0b0; stroke-width: 0.8; stroke-linecap: square\"/>\n     </g>\n     <g id=\"line2d_12\">\n      <g>\n       <use xlink:href=\"#m5f7c677a0d\" x=\"417.066387\" y=\"387.72\" style=\"stroke: #000000; stroke-width: 0.8\"/>\n      </g>\n     </g>\n     <g id=\"text_6\">\n      <!-- 0.05 -->\n      <g transform=\"translate(404.816387 404.44125)scale(0.14 -0.14)\">\n       <defs>\n        <path id=\"TimesNewRomanPSMT-35\" d=\"M 2778 4238 \nL 2534 3706 \nL 1259 3706 \nL 981 3138 \nQ 1809 3016 2294 2522 \nQ 2709 2097 2709 1522 \nQ 2709 1188 2573 903 \nQ 2438 619 2231 419 \nQ 2025 219 1772 97 \nQ 1413 -75 1034 -75 \nQ 653 -75 479 54 \nQ 306 184 306 341 \nQ 306 428 378 495 \nQ 450 563 559 563 \nQ 641 563 702 538 \nQ 763 513 909 409 \nQ 1144 247 1384 247 \nQ 1750 247 2026 523 \nQ 2303 800 2303 1197 \nQ 2303 1581 2056 1914 \nQ 1809 2247 1375 2428 \nQ 1034 2569 447 2591 \nL 1259 4238 \nL 2778 4238 \nz\n\" transform=\"scale(0.015625)\"/>\n       </defs>\n       <use xlink:href=\"#TimesNewRomanPSMT-30\"/>\n       <use xlink:href=\"#TimesNewRomanPSMT-2e\" x=\"50\"/>\n       <use xlink:href=\"#TimesNewRomanPSMT-30\" x=\"75\"/>\n       <use xlink:href=\"#TimesNewRomanPSMT-35\" x=\"125\"/>\n      </g>\n     </g>\n    </g>\n    <g id=\"xtick_7\">\n     <g id=\"line2d_13\">\n      <path d=\"M 485.71754 387.72 \nL 485.71754 7.2 \n\" clip-path=\"url(#p9278d52a19)\" style=\"fill: none; stroke: #b0b0b0; stroke-width: 0.8; stroke-linecap: square\"/>\n     </g>\n     <g id=\"line2d_14\">\n      <g>\n       <use xlink:href=\"#m5f7c677a0d\" x=\"485.71754\" y=\"387.72\" style=\"stroke: #000000; stroke-width: 0.8\"/>\n      </g>\n     </g>\n     <g id=\"text_7\">\n      <!-- 0.06 -->\n      <g transform=\"translate(473.46754 404.44125)scale(0.14 -0.14)\">\n       <defs>\n        <path id=\"TimesNewRomanPSMT-36\" d=\"M 2869 4325 \nL 2869 4209 \nQ 2456 4169 2195 4045 \nQ 1934 3922 1679 3669 \nQ 1425 3416 1258 3105 \nQ 1091 2794 978 2366 \nQ 1428 2675 1881 2675 \nQ 2316 2675 2634 2325 \nQ 2953 1975 2953 1425 \nQ 2953 894 2631 456 \nQ 2244 -75 1606 -75 \nQ 1172 -75 869 213 \nQ 275 772 275 1663 \nQ 275 2231 503 2743 \nQ 731 3256 1154 3653 \nQ 1578 4050 1965 4187 \nQ 2353 4325 2688 4325 \nL 2869 4325 \nz\nM 925 2138 \nQ 869 1716 869 1456 \nQ 869 1156 980 804 \nQ 1091 453 1309 247 \nQ 1469 100 1697 100 \nQ 1969 100 2183 356 \nQ 2397 613 2397 1088 \nQ 2397 1622 2184 2012 \nQ 1972 2403 1581 2403 \nQ 1463 2403 1327 2353 \nQ 1191 2303 925 2138 \nz\n\" transform=\"scale(0.015625)\"/>\n       </defs>\n       <use xlink:href=\"#TimesNewRomanPSMT-30\"/>\n       <use xlink:href=\"#TimesNewRomanPSMT-2e\" x=\"50\"/>\n       <use xlink:href=\"#TimesNewRomanPSMT-30\" x=\"75\"/>\n       <use xlink:href=\"#TimesNewRomanPSMT-36\" x=\"125\"/>\n      </g>\n     </g>\n    </g>\n    <g id=\"xtick_8\">\n     <g id=\"line2d_15\">\n      <path d=\"M 554.368692 387.72 \nL 554.368692 7.2 \n\" clip-path=\"url(#p9278d52a19)\" style=\"fill: none; stroke: #b0b0b0; stroke-width: 0.8; stroke-linecap: square\"/>\n     </g>\n     <g id=\"line2d_16\">\n      <g>\n       <use xlink:href=\"#m5f7c677a0d\" x=\"554.368692\" y=\"387.72\" style=\"stroke: #000000; stroke-width: 0.8\"/>\n      </g>\n     </g>\n     <g id=\"text_8\">\n      <!-- 0.07 -->\n      <g transform=\"translate(542.118692 404.44125)scale(0.14 -0.14)\">\n       <defs>\n        <path id=\"TimesNewRomanPSMT-37\" d=\"M 644 4238 \nL 2916 4238 \nL 2916 4119 \nL 1503 -88 \nL 1153 -88 \nL 2419 3728 \nL 1253 3728 \nQ 900 3728 750 3644 \nQ 488 3500 328 3200 \nL 238 3234 \nL 644 4238 \nz\n\" transform=\"scale(0.015625)\"/>\n       </defs>\n       <use xlink:href=\"#TimesNewRomanPSMT-30\"/>\n       <use xlink:href=\"#TimesNewRomanPSMT-2e\" x=\"50\"/>\n       <use xlink:href=\"#TimesNewRomanPSMT-30\" x=\"75\"/>\n       <use xlink:href=\"#TimesNewRomanPSMT-37\" x=\"125\"/>\n      </g>\n     </g>\n    </g>\n    <g id=\"xtick_9\">\n     <g id=\"line2d_17\">\n      <path d=\"M 623.019845 387.72 \nL 623.019845 7.2 \n\" clip-path=\"url(#p9278d52a19)\" style=\"fill: none; stroke: #b0b0b0; stroke-width: 0.8; stroke-linecap: square\"/>\n     </g>\n     <g id=\"line2d_18\">\n      <g>\n       <use xlink:href=\"#m5f7c677a0d\" x=\"623.019845\" y=\"387.72\" style=\"stroke: #000000; stroke-width: 0.8\"/>\n      </g>\n     </g>\n     <g id=\"text_9\">\n      <!-- 0.08 -->\n      <g transform=\"translate(610.769845 404.44125)scale(0.14 -0.14)\">\n       <defs>\n        <path id=\"TimesNewRomanPSMT-38\" d=\"M 1228 2134 \nQ 725 2547 579 2797 \nQ 434 3047 434 3316 \nQ 434 3728 753 4026 \nQ 1072 4325 1600 4325 \nQ 2113 4325 2425 4047 \nQ 2738 3769 2738 3413 \nQ 2738 3175 2569 2928 \nQ 2400 2681 1866 2347 \nQ 2416 1922 2594 1678 \nQ 2831 1359 2831 1006 \nQ 2831 559 2490 242 \nQ 2150 -75 1597 -75 \nQ 994 -75 656 303 \nQ 388 606 388 966 \nQ 388 1247 577 1523 \nQ 766 1800 1228 2134 \nz\nM 1719 2469 \nQ 2094 2806 2194 3001 \nQ 2294 3197 2294 3444 \nQ 2294 3772 2109 3958 \nQ 1925 4144 1606 4144 \nQ 1288 4144 1088 3959 \nQ 888 3775 888 3528 \nQ 888 3366 970 3203 \nQ 1053 3041 1206 2894 \nL 1719 2469 \nz\nM 1375 2016 \nQ 1116 1797 991 1539 \nQ 866 1281 866 981 \nQ 866 578 1086 336 \nQ 1306 94 1647 94 \nQ 1984 94 2187 284 \nQ 2391 475 2391 747 \nQ 2391 972 2272 1150 \nQ 2050 1481 1375 2016 \nz\n\" transform=\"scale(0.015625)\"/>\n       </defs>\n       <use xlink:href=\"#TimesNewRomanPSMT-30\"/>\n       <use xlink:href=\"#TimesNewRomanPSMT-2e\" x=\"50\"/>\n       <use xlink:href=\"#TimesNewRomanPSMT-30\" x=\"75\"/>\n       <use xlink:href=\"#TimesNewRomanPSMT-38\" x=\"125\"/>\n      </g>\n     </g>\n    </g>\n    <g id=\"text_10\">\n     <!-- $\\mathit{t}$, с -->\n     <g transform=\"translate(344.200625 421.157187)scale(0.14 -0.14)\">\n      <defs>\n       <path id=\"STIXGeneral-Italic-74\" d=\"M 1894 2739 \nL 1862 2534 \nL 1325 2534 \nL 768 435 \nQ 755 384 755 346 \nQ 755 243 851 243 \nQ 928 243 1030 342 \nQ 1133 442 1370 749 \nL 1453 704 \nQ 1158 256 969 93 \nQ 781 -70 538 -70 \nQ 243 -70 243 166 \nQ 243 230 346 640 \nL 845 2534 \nL 365 2534 \nL 358 2573 \nQ 358 2688 570 2733 \nQ 730 2771 992 2979 \nQ 1254 3187 1421 3437 \nQ 1459 3494 1510 3494 \nQ 1568 3494 1568 3443 \nQ 1568 3411 1562 3398 \nL 1382 2739 \nL 1894 2739 \nz\n\" transform=\"scale(0.015625)\"/>\n       <path id=\"TimesNewRomanPSMT-2c\" d=\"M 344 -1066 \nL 344 -928 \nQ 666 -822 842 -598 \nQ 1019 -375 1019 -125 \nQ 1019 -66 991 -25 \nQ 969 3 947 3 \nQ 913 3 797 -59 \nQ 741 -88 678 -88 \nQ 525 -88 434 3 \nQ 344 94 344 253 \nQ 344 406 461 515 \nQ 578 625 747 625 \nQ 953 625 1114 445 \nQ 1275 266 1275 -31 \nQ 1275 -353 1051 -629 \nQ 828 -906 344 -1066 \nz\n\" transform=\"scale(0.015625)\"/>\n       <path id=\"TimesNewRomanPSMT-20\" transform=\"scale(0.015625)\"/>\n       <path id=\"TimesNewRomanPSMT-441\" d=\"M 2631 1088 \nQ 2516 522 2178 217 \nQ 1841 -88 1431 -88 \nQ 944 -88 581 321 \nQ 219 731 219 1428 \nQ 219 2103 620 2525 \nQ 1022 2947 1584 2947 \nQ 2006 2947 2278 2723 \nQ 2550 2500 2550 2259 \nQ 2550 2141 2473 2067 \nQ 2397 1994 2259 1994 \nQ 2075 1994 1981 2113 \nQ 1928 2178 1911 2362 \nQ 1894 2547 1784 2644 \nQ 1675 2738 1481 2738 \nQ 1169 2738 978 2506 \nQ 725 2200 725 1697 \nQ 725 1184 976 792 \nQ 1228 400 1656 400 \nQ 1963 400 2206 609 \nQ 2378 753 2541 1131 \nL 2631 1088 \nz\n\" transform=\"scale(0.015625)\"/>\n      </defs>\n      <use xlink:href=\"#STIXGeneral-Italic-74\" transform=\"translate(0 0.40625)\"/>\n      <use xlink:href=\"#TimesNewRomanPSMT-2c\" transform=\"translate(27.799988 0.40625)\"/>\n      <use xlink:href=\"#TimesNewRomanPSMT-20\" transform=\"translate(52.799988 0.40625)\"/>\n      <use xlink:href=\"#TimesNewRomanPSMT-441\" transform=\"translate(77.799988 0.40625)\"/>\n     </g>\n    </g>\n   </g>\n   <g id=\"matplotlib.axis_2\">\n    <g id=\"ytick_1\">\n     <g id=\"line2d_19\">\n      <path d=\"M 73.810625 307.829211 \nL 631.810625 307.829211 \n\" clip-path=\"url(#p9278d52a19)\" style=\"fill: none; stroke: #b0b0b0; stroke-width: 0.8; stroke-linecap: square\"/>\n     </g>\n     <g id=\"line2d_20\">\n      <defs>\n       <path id=\"mf841449e70\" d=\"M 0 0 \nL -3.5 0 \n\" style=\"stroke: #000000; stroke-width: 0.8\"/>\n      </defs>\n      <g>\n       <use xlink:href=\"#mf841449e70\" x=\"73.810625\" y=\"307.829211\" style=\"stroke: #000000; stroke-width: 0.8\"/>\n      </g>\n     </g>\n     <g id=\"text_11\">\n      <!-- −20000 -->\n      <g transform=\"translate(23.915938 312.689836)scale(0.14 -0.14)\">\n       <defs>\n        <path id=\"TimesNewRomanPSMT-2212\" d=\"M 3484 2000 \nL 116 2000 \nL 116 2256 \nL 3484 2256 \nL 3484 2000 \nz\n\" transform=\"scale(0.015625)\"/>\n       </defs>\n       <use xlink:href=\"#TimesNewRomanPSMT-2212\"/>\n       <use xlink:href=\"#TimesNewRomanPSMT-32\" x=\"56.396484\"/>\n       <use xlink:href=\"#TimesNewRomanPSMT-30\" x=\"106.396484\"/>\n       <use xlink:href=\"#TimesNewRomanPSMT-30\" x=\"156.396484\"/>\n       <use xlink:href=\"#TimesNewRomanPSMT-30\" x=\"206.396484\"/>\n       <use xlink:href=\"#TimesNewRomanPSMT-30\" x=\"256.396484\"/>\n      </g>\n     </g>\n    </g>\n    <g id=\"ytick_2\">\n     <g id=\"line2d_21\">\n      <path d=\"M 73.810625 225.192547 \nL 631.810625 225.192547 \n\" clip-path=\"url(#p9278d52a19)\" style=\"fill: none; stroke: #b0b0b0; stroke-width: 0.8; stroke-linecap: square\"/>\n     </g>\n     <g id=\"line2d_22\">\n      <g>\n       <use xlink:href=\"#mf841449e70\" x=\"73.810625\" y=\"225.192547\" style=\"stroke: #000000; stroke-width: 0.8\"/>\n      </g>\n     </g>\n     <g id=\"text_12\">\n      <!-- −10000 -->\n      <g transform=\"translate(23.915938 230.053172)scale(0.14 -0.14)\">\n       <use xlink:href=\"#TimesNewRomanPSMT-2212\"/>\n       <use xlink:href=\"#TimesNewRomanPSMT-31\" x=\"56.396484\"/>\n       <use xlink:href=\"#TimesNewRomanPSMT-30\" x=\"106.396484\"/>\n       <use xlink:href=\"#TimesNewRomanPSMT-30\" x=\"156.396484\"/>\n       <use xlink:href=\"#TimesNewRomanPSMT-30\" x=\"206.396484\"/>\n       <use xlink:href=\"#TimesNewRomanPSMT-30\" x=\"256.396484\"/>\n      </g>\n     </g>\n    </g>\n    <g id=\"ytick_3\">\n     <g id=\"line2d_23\">\n      <path d=\"M 73.810625 142.555882 \nL 631.810625 142.555882 \n\" clip-path=\"url(#p9278d52a19)\" style=\"fill: none; stroke: #b0b0b0; stroke-width: 0.8; stroke-linecap: square\"/>\n     </g>\n     <g id=\"line2d_24\">\n      <g>\n       <use xlink:href=\"#mf841449e70\" x=\"73.810625\" y=\"142.555882\" style=\"stroke: #000000; stroke-width: 0.8\"/>\n      </g>\n     </g>\n     <g id=\"text_13\">\n      <!-- 0 -->\n      <g transform=\"translate(59.810625 147.416507)scale(0.14 -0.14)\">\n       <use xlink:href=\"#TimesNewRomanPSMT-30\"/>\n      </g>\n     </g>\n    </g>\n    <g id=\"ytick_4\">\n     <g id=\"line2d_25\">\n      <path d=\"M 73.810625 59.919217 \nL 631.810625 59.919217 \n\" clip-path=\"url(#p9278d52a19)\" style=\"fill: none; stroke: #b0b0b0; stroke-width: 0.8; stroke-linecap: square\"/>\n     </g>\n     <g id=\"line2d_26\">\n      <g>\n       <use xlink:href=\"#mf841449e70\" x=\"73.810625\" y=\"59.919217\" style=\"stroke: #000000; stroke-width: 0.8\"/>\n      </g>\n     </g>\n     <g id=\"text_14\">\n      <!-- 10000 -->\n      <g transform=\"translate(31.810625 64.779842)scale(0.14 -0.14)\">\n       <use xlink:href=\"#TimesNewRomanPSMT-31\"/>\n       <use xlink:href=\"#TimesNewRomanPSMT-30\" x=\"50\"/>\n       <use xlink:href=\"#TimesNewRomanPSMT-30\" x=\"100\"/>\n       <use xlink:href=\"#TimesNewRomanPSMT-30\" x=\"150\"/>\n       <use xlink:href=\"#TimesNewRomanPSMT-30\" x=\"200\"/>\n      </g>\n     </g>\n    </g>\n    <g id=\"text_15\">\n     <!-- $\\mathit{P}$, кН -->\n     <g transform=\"translate(16.92125 213.7)rotate(-90)scale(0.14 -0.14)\">\n      <defs>\n       <path id=\"STIXGeneral-Italic-50\" d=\"M 934 4179 \nL 2477 4179 \nQ 3872 4179 3872 3232 \nQ 3872 2976 3753 2729 \nQ 3635 2483 3437 2317 \nQ 2995 1952 2125 1952 \nQ 1773 1952 1549 2003 \nL 1210 768 \nQ 1120 422 1120 365 \nQ 1120 250 1216 189 \nQ 1312 128 1562 102 \nL 1562 0 \nL 0 0 \nL 0 102 \nQ 275 141 361 227 \nQ 448 314 538 627 \nL 1280 3277 \nQ 1389 3667 1389 3808 \nQ 1389 3936 1299 3990 \nQ 1210 4045 934 4077 \nL 934 4179 \nz\nM 2048 3789 \nL 1606 2221 \nQ 1792 2189 1939 2189 \nQ 2496 2189 2758 2342 \nQ 3213 2598 3213 3200 \nQ 3213 3987 2381 3987 \nQ 2099 3987 2048 3789 \nz\n\" transform=\"scale(0.015625)\"/>\n       <path id=\"TimesNewRomanPSMT-43a\" d=\"M 3072 0 \nL 2228 0 \nQ 1834 572 1516 1172 \nQ 1441 1309 1380 1376 \nQ 1319 1444 1213 1444 \nQ 1175 1444 1094 1438 \nL 1094 672 \nQ 1094 363 1130 277 \nQ 1166 191 1259 153 \nQ 1353 116 1575 116 \nL 1575 0 \nL 144 0 \nL 144 116 \nQ 422 116 500 217 \nQ 578 319 578 672 \nL 578 2191 \nQ 578 2525 543 2586 \nQ 509 2647 437 2695 \nQ 366 2744 144 2744 \nL 144 2863 \nL 1575 2863 \nL 1575 2744 \nQ 1316 2744 1255 2706 \nQ 1194 2669 1144 2614 \nQ 1094 2559 1094 2191 \nL 1094 1628 \nQ 1166 1622 1191 1622 \nQ 1381 1622 1548 1730 \nQ 1716 1838 1847 2188 \nQ 1969 2519 2048 2634 \nQ 2128 2750 2270 2823 \nQ 2413 2897 2569 2897 \nQ 2738 2897 2838 2815 \nQ 2938 2734 2938 2603 \nQ 2938 2494 2866 2417 \nQ 2794 2341 2666 2341 \nQ 2597 2341 2494 2378 \nQ 2363 2425 2294 2425 \nQ 2150 2425 2056 2178 \nQ 1950 1894 1900 1811 \nQ 1850 1728 1709 1591 \nQ 1806 1563 1920 1447 \nQ 2034 1331 2344 788 \nQ 2591 353 2714 237 \nQ 2838 122 3072 116 \nL 3072 0 \nz\n\" transform=\"scale(0.015625)\"/>\n       <path id=\"TimesNewRomanPSMT-41d\" d=\"M 1316 2272 \nL 3284 2272 \nL 3284 3484 \nQ 3284 3809 3244 3913 \nQ 3213 3991 3113 4047 \nQ 2978 4122 2828 4122 \nL 2678 4122 \nL 2678 4238 \nL 4491 4238 \nL 4491 4122 \nL 4341 4122 \nQ 4191 4122 4056 4050 \nQ 3956 4000 3920 3898 \nQ 3884 3797 3884 3484 \nL 3884 750 \nQ 3884 428 3925 325 \nQ 3956 247 4053 191 \nQ 4191 116 4341 116 \nL 4491 116 \nL 4491 0 \nL 2678 0 \nL 2678 116 \nL 2828 116 \nQ 3088 116 3206 269 \nQ 3284 369 3284 750 \nL 3284 2041 \nL 1316 2041 \nL 1316 750 \nQ 1316 428 1356 325 \nQ 1388 247 1488 191 \nQ 1622 116 1772 116 \nL 1925 116 \nL 1925 0 \nL 109 0 \nL 109 116 \nL 259 116 \nQ 522 116 641 269 \nQ 716 369 716 750 \nL 716 3484 \nQ 716 3809 675 3913 \nQ 644 3991 547 4047 \nQ 409 4122 259 4122 \nL 109 4122 \nL 109 4238 \nL 1925 4238 \nL 1925 4122 \nL 1772 4122 \nQ 1622 4122 1488 4050 \nQ 1391 4000 1353 3898 \nQ 1316 3797 1316 3484 \nL 1316 2272 \nz\n\" transform=\"scale(0.015625)\"/>\n      </defs>\n      <use xlink:href=\"#STIXGeneral-Italic-50\" transform=\"translate(0 0.78125)\"/>\n      <use xlink:href=\"#TimesNewRomanPSMT-2c\" transform=\"translate(61.099991 0.78125)\"/>\n      <use xlink:href=\"#TimesNewRomanPSMT-20\" transform=\"translate(86.099991 0.78125)\"/>\n      <use xlink:href=\"#TimesNewRomanPSMT-43a\" transform=\"translate(111.099991 0.78125)\"/>\n      <use xlink:href=\"#TimesNewRomanPSMT-41d\" transform=\"translate(159.683975 0.78125)\"/>\n     </g>\n    </g>\n   </g>\n   <g id=\"line2d_27\">\n    <path d=\"M 73.810625 142.558493 \nL 75.938811 142.677693 \nL 76.350718 142.904566 \nL 76.625322 143.340338 \nL 76.831276 144.102366 \nL 77.037229 145.81884 \nL 77.243183 149.91246 \nL 77.449136 159.803359 \nL 77.689415 186.287046 \nL 78.547555 305.276425 \nL 78.925136 322.483087 \nL 79.337043 331.694239 \nL 79.74895 336.502483 \nL 80.195182 339.318873 \nL 80.641415 340.808995 \nL 81.053322 341.498657 \nL 81.430903 341.760568 \nL 81.84281 341.770501 \nL 82.323368 341.527503 \nL 82.941228 340.939558 \nL 83.799368 339.788923 \nL 85.035088 337.724169 \nL 86.854344 334.213628 \nL 89.703367 328.187335 \nL 94.577599 317.295068 \nL 105.149876 293.007662 \nL 127.255547 242.262934 \nL 140.470894 212.505517 \nL 151.729683 187.688022 \nL 161.546798 166.573016 \nL 170.196843 148.481253 \nL 177.885772 132.902017 \nL 184.750887 119.481616 \nL 190.929491 107.881186 \nL 196.490235 97.904636 \nL 201.501769 89.35954 \nL 206.032745 82.060592 \nL 210.186139 75.783026 \nL 213.961953 70.470205 \nL 217.428836 65.968352 \nL 220.586789 62.221247 \nL 223.504463 59.09416 \nL 226.216184 56.507458 \nL 228.721951 54.418319 \nL 231.05609 52.756215 \nL 233.218601 51.481092 \nL 235.278136 50.521459 \nL 237.200368 49.865472 \nL 239.053949 49.465904 \nL 240.838879 49.309688 \nL 242.555158 49.381728 \nL 244.237111 49.673703 \nL 245.919064 50.193832 \nL 247.601018 50.950277 \nL 249.317296 51.973111 \nL 251.067901 53.283817 \nL 252.852831 54.902541 \nL 254.706412 56.886945 \nL 256.66297 59.314309 \nL 258.722504 62.228942 \nL 260.953667 65.781109 \nL 263.425108 70.151472 \nL 266.239805 75.600186 \nL 269.809665 83.029296 \nL 280.141664 104.840784 \nL 283.127989 110.448265 \nL 285.805384 115.011227 \nL 288.311151 118.846713 \nL 290.713941 122.121211 \nL 293.04808 124.932368 \nL 295.38222 127.39803 \nL 297.716359 129.544006 \nL 300.119149 131.450548 \nL 302.590591 133.126842 \nL 305.165009 134.604918 \nL 307.911055 135.923114 \nL 310.863055 137.090183 \nL 314.089659 138.122384 \nL 317.659519 139.027045 \nL 321.709937 139.818758 \nL 326.378215 140.499183 \nL 331.938958 141.077578 \nL 338.769748 141.555255 \nL 347.557096 141.935385 \nL 359.639698 142.22064 \nL 378.17551 142.414392 \nL 413.118946 142.521398 \nL 475.831774 142.551446 \nL 475.831774 142.551446 \n\" clip-path=\"url(#p9278d52a19)\" style=\"fill: none; stroke: #2ca02c; stroke-width: 1.5; stroke-linecap: square\"/>\n   </g>\n   <g id=\"line2d_28\">\n    <path d=\"M 73.810625 142.500453 \nL 631.810625 142.500453 \n\" clip-path=\"url(#p9278d52a19)\" style=\"fill: none; stroke-dasharray: 5.55,2.4; stroke-dashoffset: 0; stroke: #808080; stroke-width: 1.5\"/>\n   </g>\n   <g id=\"line2d_29\">\n    <path d=\"M 73.810625 142.558831 \nL 75.389602 142.676023 \nL 75.698532 142.885969 \nL 75.904485 143.270412 \nL 76.110439 144.261611 \nL 76.282066 146.391891 \nL 76.453694 151.857919 \nL 76.625322 165.934146 \nL 76.831276 205.149324 \nL 77.380485 322.332674 \nL 77.723741 347.899655 \nL 78.066996 359.218303 \nL 78.444578 365.237276 \nL 78.822159 368.23322 \nL 79.19974 369.705384 \nL 79.542996 370.288663 \nL 79.851926 370.423636 \nL 80.160857 370.304403 \nL 80.572764 369.867939 \nL 81.156298 368.884061 \nL 82.014438 366.959318 \nL 83.353135 363.341331 \nL 85.481321 356.871613 \nL 89.188483 344.801001 \nL 97.04904 318.302935 \nL 120.87099 237.818257 \nL 132.541686 199.256517 \nL 142.221498 168.015882 \nL 150.459637 142.156455 \nL 157.530705 120.669662 \nL 163.674984 102.691122 \nL 169.029774 87.692672 \nL 173.698052 75.256108 \nL 177.817121 64.892974 \nL 181.489958 56.239275 \nL 184.750887 49.111815 \nL 187.634236 43.324149 \nL 190.24298 38.572836 \nL 192.577119 34.771204 \nL 194.670979 31.771568 \nL 196.558886 29.440983 \nL 198.275164 27.664104 \nL 199.819815 26.370935 \nL 201.227164 25.467501 \nL 202.531536 24.88273 \nL 203.767257 24.56896 \nL 204.934326 24.501243 \nL 206.06707 24.660754 \nL 207.165489 25.039021 \nL 208.298233 25.671421 \nL 209.430977 26.561928 \nL 210.632372 27.801126 \nL 211.868093 29.404949 \nL 213.172465 31.472493 \nL 214.545488 34.075323 \nL 216.021487 37.367735 \nL 217.600464 41.453915 \nL 219.316743 46.534366 \nL 221.238975 52.951604 \nL 223.504463 61.341552 \nL 226.62809 73.863651 \nL 231.879904 94.933975 \nL 234.248368 103.452618 \nL 236.273577 109.943431 \nL 238.127158 115.17231 \nL 239.912088 119.55581 \nL 241.628367 123.191266 \nL 243.31032 126.243313 \nL 244.992274 128.839333 \nL 246.674227 131.032661 \nL 248.390506 132.910826 \nL 250.175436 134.535281 \nL 252.029017 135.92458 \nL 254.0199 137.138528 \nL 256.182412 138.193428 \nL 258.585202 139.111767 \nL 261.296922 139.902602 \nL 264.42055 140.575237 \nL 268.127712 141.139794 \nL 272.727339 141.605932 \nL 278.69999 141.974817 \nL 287.006779 142.248705 \nL 299.981847 142.431348 \nL 325.451424 142.528564 \nL 359.639698 142.550722 \nL 359.639698 142.550722 \n\" clip-path=\"url(#p9278d52a19)\" style=\"fill: none; stroke: #d62728; stroke-width: 1.5; stroke-linecap: square\"/>\n   </g>\n   <g id=\"line2d_30\">\n    <path d=\"M 73.810625 142.557982 \nL 76.590997 142.677363 \nL 77.10588 142.917304 \nL 77.414811 143.326795 \nL 77.65509 144.03854 \nL 77.895369 145.589709 \nL 78.101322 148.428723 \nL 78.307275 154.238993 \nL 78.547555 168.088932 \nL 78.89081 203.976435 \nL 79.44002 257.382366 \nL 79.851926 276.926352 \nL 80.263833 287.002025 \nL 80.710066 292.93231 \nL 81.190624 296.493003 \nL 81.671182 298.524829 \nL 82.15174 299.693635 \nL 82.632298 300.335761 \nL 83.112856 300.636208 \nL 83.62774 300.701921 \nL 84.2456 300.541612 \nL 85.035088 300.082413 \nL 86.099181 299.175927 \nL 87.575181 297.59384 \nL 89.703367 294.953158 \nL 92.929971 290.559061 \nL 98.250435 282.893776 \nL 108.994341 266.951273 \nL 135.630988 227.391615 \nL 150.185032 206.207808 \nL 162.816844 188.205988 \nL 174.041308 172.58915 \nL 184.098701 158.968753 \nL 193.194979 147.016826 \nL 201.433117 136.551821 \nL 208.950419 127.354958 \nL 215.815534 119.300584 \nL 222.097114 112.265886 \nL 227.898137 106.097242 \nL 233.252927 100.72276 \nL 238.19581 96.070868 \nL 242.795437 92.042353 \nL 247.086134 88.576262 \nL 251.067901 85.639535 \nL 254.809389 83.150567 \nL 258.344923 81.062357 \nL 261.674504 79.350654 \nL 264.832457 77.974094 \nL 267.818782 76.909826 \nL 270.70213 76.115986 \nL 273.448176 75.586525 \nL 276.125571 75.294696 \nL 278.734315 75.233778 \nL 281.274408 75.39514 \nL 283.780175 75.775192 \nL 286.285942 76.380584 \nL 288.791709 77.215805 \nL 291.331802 78.299383 \nL 293.90622 79.640834 \nL 296.549289 81.269117 \nL 299.329661 83.247773 \nL 302.247335 85.600885 \nL 305.405288 88.438751 \nL 308.940822 91.924402 \nL 313.162868 96.414566 \nL 319.753379 103.799577 \nL 326.927424 111.740387 \nL 331.286772 116.231376 \nL 335.062586 119.809149 \nL 338.563795 122.827083 \nL 341.927701 125.439103 \nL 345.257282 127.745525 \nL 348.586863 129.783042 \nL 351.985095 131.601617 \nL 355.486304 133.222188 \nL 359.15914 134.674587 \nL 363.03793 135.967071 \nL 367.225651 137.124112 \nL 371.790952 138.149966 \nL 376.836812 139.05172 \nL 382.534858 139.839663 \nL 389.125368 140.520481 \nL 396.9516 141.09748 \nL 406.528436 141.571957 \nL 418.851317 141.948973 \nL 435.842478 142.231198 \nL 461.964241 142.421177 \nL 511.770652 142.524514 \nL 605.239196 142.552422 \nL 605.239196 142.552422 \n\" clip-path=\"url(#p9278d52a19)\" style=\"fill: none; stroke: #1f77b4; stroke-width: 1.5; stroke-linecap: square\"/>\n   </g>\n   <g id=\"patch_3\">\n    <path d=\"M 73.810625 387.72 \nL 73.810625 7.2 \n\" style=\"fill: none; stroke: #000000; stroke-width: 0.8; stroke-linejoin: miter; stroke-linecap: square\"/>\n   </g>\n   <g id=\"patch_4\">\n    <path d=\"M 631.810625 387.72 \nL 631.810625 7.2 \n\" style=\"fill: none; stroke: #000000; stroke-width: 0.8; stroke-linejoin: miter; stroke-linecap: square\"/>\n   </g>\n   <g id=\"patch_5\">\n    <path d=\"M 73.810625 387.72 \nL 631.810625 387.72 \n\" style=\"fill: none; stroke: #000000; stroke-width: 0.8; stroke-linejoin: miter; stroke-linecap: square\"/>\n   </g>\n   <g id=\"patch_6\">\n    <path d=\"M 73.810625 7.2 \nL 631.810625 7.2 \n\" style=\"fill: none; stroke: #000000; stroke-width: 0.8; stroke-linejoin: miter; stroke-linecap: square\"/>\n   </g>\n   <g id=\"legend_1\">\n    <g id=\"patch_7\">\n     <path d=\"M 521.490625 77.784063 \nL 622.010625 77.784063 \nQ 624.810625 77.784063 624.810625 74.984062 \nL 624.810625 17 \nQ 624.810625 14.2 622.010625 14.2 \nL 521.490625 14.2 \nQ 518.690625 14.2 518.690625 17 \nL 518.690625 74.984062 \nQ 518.690625 77.784063 521.490625 77.784063 \nz\n\" style=\"fill: #ffffff; opacity: 0.8; stroke: #cccccc; stroke-linejoin: miter\"/>\n    </g>\n    <g id=\"line2d_31\">\n     <path d=\"M 524.290625 24.7 \nL 538.290625 24.7 \nL 552.290625 24.7 \n\" style=\"fill: none; stroke: #2ca02c; stroke-width: 1.5; stroke-linecap: square\"/>\n    </g>\n    <g id=\"text_16\">\n     <!-- $\\mathit{t}$ = +18°C -->\n     <g transform=\"translate(563.490625 29.6)scale(0.14 -0.14)\">\n      <defs>\n       <path id=\"TimesNewRomanPSMT-3d\" d=\"M 116 2759 \nL 3488 2759 \nL 3488 2503 \nL 116 2503 \nL 116 2759 \nz\nM 116 1741 \nL 3488 1741 \nL 3488 1484 \nL 116 1484 \nL 116 1741 \nz\n\" transform=\"scale(0.015625)\"/>\n       <path id=\"TimesNewRomanPSMT-2b\" d=\"M 1672 441 \nL 1672 2000 \nL 116 2000 \nL 116 2256 \nL 1672 2256 \nL 1672 3809 \nL 1922 3809 \nL 1922 2256 \nL 3484 2256 \nL 3484 2000 \nL 1922 2000 \nL 1922 441 \nL 1672 441 \nz\n\" transform=\"scale(0.015625)\"/>\n       <path id=\"TimesNewRomanPSMT-b0\" d=\"M 1266 4331 \nQ 1669 4331 1948 4050 \nQ 2228 3769 2228 3369 \nQ 2228 2972 1947 2690 \nQ 1666 2409 1266 2409 \nQ 869 2409 587 2690 \nQ 306 2972 306 3369 \nQ 306 3769 586 4050 \nQ 866 4331 1266 4331 \nz\nM 1266 4069 \nQ 975 4069 772 3866 \nQ 569 3663 569 3372 \nQ 569 3084 772 2879 \nQ 975 2675 1266 2675 \nQ 1553 2675 1758 2879 \nQ 1963 3084 1963 3372 \nQ 1963 3663 1759 3866 \nQ 1556 4069 1266 4069 \nz\n\" transform=\"scale(0.015625)\"/>\n       <path id=\"TimesNewRomanPSMT-43\" d=\"M 3853 4334 \nL 3950 2894 \nL 3853 2894 \nQ 3659 3541 3300 3825 \nQ 2941 4109 2438 4109 \nQ 2016 4109 1675 3895 \nQ 1334 3681 1139 3212 \nQ 944 2744 944 2047 \nQ 944 1472 1128 1050 \nQ 1313 628 1683 403 \nQ 2053 178 2528 178 \nQ 2941 178 3256 354 \nQ 3572 531 3950 1056 \nL 4047 994 \nQ 3728 428 3303 165 \nQ 2878 -97 2294 -97 \nQ 1241 -97 663 684 \nQ 231 1266 231 2053 \nQ 231 2688 515 3219 \nQ 800 3750 1298 4042 \nQ 1797 4334 2388 4334 \nQ 2847 4334 3294 4109 \nQ 3425 4041 3481 4041 \nQ 3566 4041 3628 4100 \nQ 3709 4184 3744 4334 \nL 3853 4334 \nz\n\" transform=\"scale(0.015625)\"/>\n      </defs>\n      <use xlink:href=\"#STIXGeneral-Italic-74\" transform=\"translate(0 0.28125)\"/>\n      <use xlink:href=\"#TimesNewRomanPSMT-20\" transform=\"translate(27.799988 0.28125)\"/>\n      <use xlink:href=\"#TimesNewRomanPSMT-3d\" transform=\"translate(52.799988 0.28125)\"/>\n      <use xlink:href=\"#TimesNewRomanPSMT-20\" transform=\"translate(109.196472 0.28125)\"/>\n      <use xlink:href=\"#TimesNewRomanPSMT-2b\" transform=\"translate(134.196472 0.28125)\"/>\n      <use xlink:href=\"#TimesNewRomanPSMT-31\" transform=\"translate(190.592957 0.28125)\"/>\n      <use xlink:href=\"#TimesNewRomanPSMT-38\" transform=\"translate(240.592957 0.28125)\"/>\n      <use xlink:href=\"#TimesNewRomanPSMT-b0\" transform=\"translate(290.592957 0.28125)\"/>\n      <use xlink:href=\"#TimesNewRomanPSMT-43\" transform=\"translate(330.583191 0.28125)\"/>\n     </g>\n    </g>\n    <g id=\"line2d_32\">\n     <path d=\"M 524.290625 44.494688 \nL 538.290625 44.494688 \nL 552.290625 44.494688 \n\" style=\"fill: none; stroke: #d62728; stroke-width: 1.5; stroke-linecap: square\"/>\n    </g>\n    <g id=\"text_17\">\n     <!-- $\\mathit{t}$ = +50°C -->\n     <g transform=\"translate(563.490625 49.394688)scale(0.14 -0.14)\">\n      <use xlink:href=\"#STIXGeneral-Italic-74\" transform=\"translate(0 0.28125)\"/>\n      <use xlink:href=\"#TimesNewRomanPSMT-20\" transform=\"translate(27.799988 0.28125)\"/>\n      <use xlink:href=\"#TimesNewRomanPSMT-3d\" transform=\"translate(52.799988 0.28125)\"/>\n      <use xlink:href=\"#TimesNewRomanPSMT-20\" transform=\"translate(109.196472 0.28125)\"/>\n      <use xlink:href=\"#TimesNewRomanPSMT-2b\" transform=\"translate(134.196472 0.28125)\"/>\n      <use xlink:href=\"#TimesNewRomanPSMT-35\" transform=\"translate(190.592957 0.28125)\"/>\n      <use xlink:href=\"#TimesNewRomanPSMT-30\" transform=\"translate(240.592957 0.28125)\"/>\n      <use xlink:href=\"#TimesNewRomanPSMT-b0\" transform=\"translate(290.592957 0.28125)\"/>\n      <use xlink:href=\"#TimesNewRomanPSMT-43\" transform=\"translate(330.583191 0.28125)\"/>\n     </g>\n    </g>\n    <g id=\"line2d_33\">\n     <path d=\"M 524.290625 64.289375 \nL 538.290625 64.289375 \nL 552.290625 64.289375 \n\" style=\"fill: none; stroke: #1f77b4; stroke-width: 1.5; stroke-linecap: square\"/>\n    </g>\n    <g id=\"text_18\">\n     <!-- $\\mathit{t}$ = $-$50°C -->\n     <g transform=\"translate(563.490625 69.189375)scale(0.14 -0.14)\">\n      <use xlink:href=\"#STIXGeneral-Italic-74\" transform=\"translate(0 0.28125)\"/>\n      <use xlink:href=\"#TimesNewRomanPSMT-20\" transform=\"translate(27.799988 0.28125)\"/>\n      <use xlink:href=\"#TimesNewRomanPSMT-3d\" transform=\"translate(52.799988 0.28125)\"/>\n      <use xlink:href=\"#TimesNewRomanPSMT-20\" transform=\"translate(109.196472 0.28125)\"/>\n      <use xlink:href=\"#TimesNewRomanPSMT-2212\" transform=\"translate(134.196472 0.28125)\"/>\n      <use xlink:href=\"#TimesNewRomanPSMT-35\" transform=\"translate(190.592957 0.28125)\"/>\n      <use xlink:href=\"#TimesNewRomanPSMT-30\" transform=\"translate(240.592957 0.28125)\"/>\n      <use xlink:href=\"#TimesNewRomanPSMT-b0\" transform=\"translate(290.592957 0.28125)\"/>\n      <use xlink:href=\"#TimesNewRomanPSMT-43\" transform=\"translate(330.583191 0.28125)\"/>\n     </g>\n    </g>\n   </g>\n  </g>\n </g>\n <defs>\n  <clipPath id=\"p9278d52a19\">\n   <rect x=\"73.810625\" y=\"7.2\" width=\"558\" height=\"380.52\"/>\n  </clipPath>\n </defs>\n</svg>\n",
      "text/plain": [
       "<Figure size 720x504 with 1 Axes>"
      ]
     },
     "metadata": {
      "needs_background": "light"
     },
     "output_type": "display_data"
    }
   ],
   "source": [
    "plt.figure(figsize = (10,7))\n",
    "plt.plot(res18['t'],Ps(res18,273.15+18)/1e3, c = 'tab:green', label = '$\\mathit{t}$ = +18°C')\n",
    "plt.axhline(P_need/1e3,ls = '--',c = 'grey')\n",
    "plt.plot(res50['t'],Ps(res50,273.15+50)/1e3, c = 'tab:red', label = '$\\mathit{t}$ = +50°C')\n",
    "plt.plot(res_50['t'],Ps(res_50,273.15-50)/1e3, c = 'tab:blue', label = '$\\mathit{t}$ = $-$50°C')\n",
    "\n",
    "plt.xlim(0)\n",
    "plt.xlabel('$\\mathit{t}$, с')\n",
    "plt.ylabel('$\\mathit{P}$, кН')\n",
    "plt.legend()\n",
    "plt.grid()\n",
    "# plt.savefig('Инд Pp.svg', dpi=500, bbox_inches='tight')"
   ]
  },
  {
   "cell_type": "code",
   "execution_count": null,
   "metadata": {},
   "outputs": [],
   "source": []
  },
  {
   "cell_type": "code",
   "execution_count": null,
   "metadata": {},
   "outputs": [],
   "source": []
  }
 ],
 "metadata": {
  "kernelspec": {
   "display_name": "Python 3",
   "language": "python",
   "name": "python3"
  },
  "language_info": {
   "codemirror_mode": {
    "name": "ipython",
    "version": 3
   },
   "file_extension": ".py",
   "mimetype": "text/x-python",
   "name": "python",
   "nbconvert_exporter": "python",
   "pygments_lexer": "ipython3",
   "version": "3.10.5"
  },
  "orig_nbformat": 4,
  "vscode": {
   "interpreter": {
    "hash": "df3017dee9db3bd863778624db07b417f16e9b9edb7134a2aae625b280bf7fd0"
   }
  }
 },
 "nbformat": 4,
 "nbformat_minor": 2
}
