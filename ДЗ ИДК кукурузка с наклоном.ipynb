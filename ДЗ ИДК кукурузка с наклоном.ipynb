{
 "cells": [
  {
   "cell_type": "code",
   "execution_count": 1,
   "metadata": {},
   "outputs": [],
   "source": [
    "import numpy as np\n",
    "import matplotlib.pyplot as plt\n",
    "import prop\n",
    "from pandas import DataFrame\n",
    "from scipy.optimize import fsolve\n",
    "from scipy.interpolate import interp1d\n",
    "from scipy.integrate import ode, simps\n",
    "import math\n",
    "\n",
    "%matplotlib inline\n",
    "%config InlineBackend.figure_format = 'svg'\n",
    "\n",
    "#Perараметры текста\n",
    "plt.rcParams[\"font.family\"] = 'serif'\n",
    "plt.rcParams['font.weight'] = 'ultralight'\n",
    "plt.rcParams['font.serif'] = 'Times New Roman'\n",
    "plt.rcParams['font.size'] = 14\n",
    "plt.rcParams['font.style'] = 'normal'\n",
    "plt.rcParams['mathtext.default'] = 'regular'\n",
    "plt.rcParams['mathtext.fontset'] = 'stix'"
   ]
  },
  {
   "cell_type": "code",
   "execution_count": 2,
   "metadata": {},
   "outputs": [],
   "source": [
    "# Исходные данные\n",
    "D_sn = 0.21    # калибр снаряда\n",
    "\n",
    "# скорость полета во время коррекции, м/с\n",
    "V_sn_kor_min = 210\n",
    "V_sn_kor_max = 260\n",
    "# угловая скорость снаряда, об/с\n",
    "nu_sn_min = 5\n",
    "nu_sn_max = 8\n",
    "I_kor = 160     # требуемый импульс коррекции\n",
    "fi2_tel = np.deg2rad(120) # телесный угол коррекции\n",
    "n_du = 18       # 18\n",
    "m_du_max = 0.35 # максимальная масса одного ИДК\n",
    "# кол-во коррекций: 6 (по 3 ДУ),   12 (6 по 2 ДУ + 6 по 1 ДУ),   18 (по 1 ДУ)\n",
    "# угол наклона сопла: 25 градусов\n",
    "# угол между осями ДУ: 60 градусов\n",
    "T_nom = 273.15 + 18\n",
    "T_min = T_nom - 60\n",
    "T_max = T_nom + 60\n",
    "\n",
    "mu_c = 0.95\n",
    "kappa_pred = 180\n",
    "#L_treb = 55e-3\n",
    "\n",
    "t_v = 4e-3  # = delta_t время выхода двигателя на режим\n",
    "#У Аркаши было 1e-3 вместо 4е-3\n",
    "\n",
    "#Не использовалось\n",
    "m_sn = 93       # масса снаряда"
   ]
  },
  {
   "cell_type": "markdown",
   "metadata": {},
   "source": [
    "#### 1. Формирование недостающих исходных данных"
   ]
  },
  {
   "cell_type": "code",
   "execution_count": 25,
   "metadata": {},
   "outputs": [
    {
     "name": "stdout",
     "output_type": "stream",
     "text": [
      "L_max = 64.0\n",
      "Толщина стенки = 4.4\n",
      "Внутренний диаметр КС = 36.2\n",
      "Время коррекции 0.042 ... 0.067 с\n",
      "ksi = 0.690\n",
      "Время горения заряда топлива: 0.02 c\n",
      "Время последействия: 0.011 c\n"
     ]
    }
   ],
   "source": [
    "D_du = 45/1000  # диаметр ИДК\n",
    "h = 4e-3\n",
    "\n",
    "# максимальная длина ДУ\n",
    "L_max = (D_sn / 2 - np.sqrt(3) / 2 * D_du - 2 * h) / np.cos(np.deg2rad(25))\n",
    "print(f'L_max = {L_max*1e3:.1f}')\n",
    "L_max = math.ceil(L_max * 1000) / 1000\n",
    "\n",
    "# толщина стенки при максимальном давлении\n",
    "p1_max = 150e6\n",
    "delta_st = np.round(1.3 * p1_max * D_du / (2 * 1000e6),4)\n",
    "print(f'Толщина стенки = {delta_st*1e3:.1f}')\n",
    "D_km = np.round(D_du - 2 * delta_st,4)\n",
    "print(f'Внутренний диаметр КС = {D_km*1e3:.1f}')\n",
    "\n",
    "# Определение времени работы ИДК\n",
    "t_d_min = 1 / nu_sn_max * fi2_tel / (2 * np.pi)\n",
    "t_d_max = 1 / nu_sn_min * fi2_tel / (2 * np.pi)\n",
    "print(f'Время коррекции {t_d_min:.3f} ... {t_d_max:.3f} с')\n",
    "\n",
    "# Окончательное время \n",
    "t_d = 0.035\n",
    "\n",
    "# Коэффициент заполнения индикаторной кривой\n",
    "ksi_max = interp1d(np.linspace(0.01,0.07,7),[0.5,0.55,0.65,0.75,0.79,0.8,0.8])\n",
    "ksi_min = interp1d(np.linspace(0.01,0.07,7),[0.5,0.52,0.59,0.68,0.71,0.72,0.72])\n",
    "# ksi = np.mean([ksi_min(t_d),ksi_max(t_d)])\n",
    "ksi = ksi_max(t_d) - 0.01\n",
    "print(f'ksi = {ksi:.3f}')\n",
    "\n",
    "t_g = t_d / 4 * (5 * ksi - 1) - 3/8 * t_v   # Время горения заряда топлива (первое приближение)\n",
    "t_g = math.ceil(t_g * 1000) / 1000\n",
    "t_p = t_d - t_v - t_g                       # Время последействия\n",
    "print(f'Время горения заряда топлива: {t_g} c\\nВремя последействия: {t_p:.3f} c')"
   ]
  },
  {
   "cell_type": "code",
   "execution_count": 37,
   "metadata": {},
   "outputs": [
    {
     "name": "stdout",
     "output_type": "stream",
     "text": [
      "Теоретический коэффициент тяги 1.51\n",
      "Действительный коэффициент тяги 1.363\n"
     ]
    }
   ],
   "source": [
    "# Назначим в первом приближении коэффициент расширения сопла\n",
    "zeta = 1.6\n",
    "\n",
    "# теоретический коэффициент тяги\n",
    "K_tf = interp1d(np.linspace(1.4,2.6,7),[1.46,1.51,1.56,1.6,1.62,1.64,1.67])\n",
    "K_t = K_tf(zeta) + 0\n",
    "print(f'Теоретический коэффициент тяги {K_t}')\n",
    "\n",
    "# потери\n",
    "fi1 = 0.95\n",
    "fi2 = 0.95\n",
    "\n",
    "# Действительный коэффициент тяги\n",
    "K_d = fi1 * fi2 * K_t\n",
    "print(f'Действительный коэффициент тяги {K_d:.3f}')"
   ]
  },
  {
   "cell_type": "code",
   "execution_count": 49,
   "metadata": {},
   "outputs": [
    {
     "name": "stdout",
     "output_type": "stream",
     "text": [
      "210 - 260\n",
      "0.6176470588235294 - 0.7647058823529411\n",
      "Необходимая тяга без потерь на угол 7580.39\n",
      "Необходимая тяга ИДК 8364.03\n"
     ]
    }
   ],
   "source": [
    "# Коэффициенты\n",
    "a = 340\n",
    "print(V_sn_kor_min, '-', V_sn_kor_max)\n",
    "print(V_sn_kor_min/a, '-', V_sn_kor_max/a)\n",
    "\n",
    "K1 = 0.92\n",
    "K2 = 0.95\n",
    "\n",
    "# необходимая тяга\n",
    "P_need_ = I_kor / (K1 * K2 * ksi * t_d)\n",
    "P_need = P_need_/np.cos(np.deg2rad(25))\n",
    "\n",
    "print(f'Необходимая тяга без потерь на угол {P_need_:.2f}')\n",
    "print(f'Необходимая тяга ИДК {P_need:.2f}')"
   ]
  },
  {
   "cell_type": "markdown",
   "metadata": {},
   "source": [
    "##### 1.6 Выбор марки топлива"
   ]
  },
  {
   "cell_type": "code",
   "execution_count": 6,
   "metadata": {},
   "outputs": [
    {
     "name": "stdout",
     "output_type": "stream",
     "text": [
      "0.0042 0.0366\n",
      "p1N = 81.940 МПа\n",
      "p1_min = 50.461 МПа\n"
     ]
    }
   ],
   "source": [
    "# посчитать тепловые потери\n",
    "\n",
    "propel = prop.get_propellant('B-3')\n",
    "p1_max = 145e6\n",
    "delta_st = np.round(1.3 * p1_max * D_du / (2 * 1000e6),4)\n",
    "D_km = np.round(D_du - 2 * delta_st,4)\n",
    "print(delta_st,D_km)\n",
    "\n",
    "# Из уравнения Бори находим минимальное и номинальное давления по одному заданному\n",
    "def fun(x):\n",
    "    p1N, p1_min = x[0], x[1]\n",
    "    return [propel.u(p1_max,T_max) / p1_max - propel.F1(p1N/1e6) / p1N,\n",
    "            propel.u(p1_max,T_max) / (p1_max * propel.F3(T_min)) - propel.F1(p1_min/1e6) / p1_min]\n",
    "\n",
    "find_p1N = lambda p1N: propel.u(p1_max,T_max) / p1_max - propel.F1(p1N/1e6) / p1N\n",
    "find_p1_min = lambda p1_min: propel.u(p1_max,T_max) / (p1_max * propel.F3(T_min)) - propel.F1(p1_min/1e6) / p1_min\n",
    "\n",
    "p1N, p1_min = fsolve(fun,[0.9 * p1_max, 0.6 * p1_max])\n",
    "\n",
    "print(f'p1N = {p1N/1e6:.3f} МПа\\np1_min = {p1_min/1e6:.3f} МПа')"
   ]
  },
  {
   "cell_type": "code",
   "execution_count": 7,
   "metadata": {},
   "outputs": [
    {
     "name": "stdout",
     "output_type": "stream",
     "text": [
      "Площадь критики 7.442981549719614e-05\n",
      "Диаметр критики 0.009734833557815572\n",
      "Длины блоков сопла: (0.008, 0.002, 0.0053)\n",
      " Общая длина сопла: 0.015300000000000001\n",
      " Макс допуст длина заряда 0.0497\n"
     ]
    }
   ],
   "source": [
    "# Площадь критического сечения сопла\n",
    "F_kr = P_need / (K_d * p1N)\n",
    "print(f'Площадь критики {F_kr}')\n",
    "\n",
    "# диаметр критического сечения сопла\n",
    "D_kr = np.sqrt(4 * F_kr / np.pi)\n",
    "print(f'Диаметр критики {D_kr}')\n",
    "\n",
    "fi_vx = np.deg2rad(60)\n",
    "fi_c = np.deg2rad(20)\n",
    "\n",
    "# Длины участков сопла\n",
    "L1 = np.round((D_km - D_kr) / (2 * np.tan(fi_vx)),3)\n",
    "L2 = 2e-3\n",
    "L3 = np.round(D_kr/(2*np.tan(fi_c)) * (zeta - 1),4)\n",
    "\n",
    "print(f'Длины блоков сопла: {L1,L2,L3}\\n',\n",
    "      f'Общая длина сопла: {L1 + L2 + L3}\\n',\n",
    "      f'Макс допуст длина заряда {L_max - (L1 + L2 + L3)}')"
   ]
  },
  {
   "cell_type": "code",
   "execution_count": 8,
   "metadata": {},
   "outputs": [
    {
     "name": "stdout",
     "output_type": "stream",
     "text": [
      "Безразм скорость потока 1.772\n",
      " Критическая скорость звука 1075.505\n",
      " Скорость 1905.735\n",
      " Давление 9.591\n",
      " Температура 2005.495\n",
      " Плотность 14.149\n"
     ]
    }
   ],
   "source": [
    "# Расчет газодинамических параметров в выходном сечении сопла\n",
    "\n",
    "#вспомогательные гд функции\n",
    "tau = lambda lmbd, k: 1 - (k - 1)/(k + 1)*lmbd**2\n",
    "pi = lambda lmbd, k: (1 - (k - 1)/(k + 1)*lmbd**2) ** (k / (k - 1))\n",
    "eps = lambda lmbd, k: pi(lmbd,k) / tau(lmbd,k)\n",
    "q = lambda lmbd, k:  ((k + 1) / 2)**(1 / (k - 1)) * lmbd * eps(lmbd, k)\n",
    "nu = lambda lmbd, k: 1 / q(lmbd,k)\n",
    "f = lambda lmbd, k: (lmbd**2 + 1) * (1 - (k - 1) / (k + 1) * lmbd**2) ** (1 / (k - 1))\n",
    "\n",
    "A = lambda k: np.sqrt(k * ((2 / (k + 1))**((k + 1) / (k - 1))))\n",
    "\n",
    "find_lambda_a = lambda lmbd: q(lmbd,propel.k) - 1 / zeta ** 2\n",
    "\n",
    "lambda_a = fsolve(find_lambda_a,1.5)[0]\n",
    "c_kr = np.sqrt(2 * propel.k / (propel.k + 1) * propel.R * propel.T0)\n",
    "V_a = lambda_a * c_kr\n",
    "p_a = pi(lambda_a,propel.k) * p1N\n",
    "T_a = tau(lambda_a,propel.k) * propel.T0\n",
    "rho_a = p_a / (propel.R * T_a)\n",
    "\n",
    "print(f'Безразм скорость потока {lambda_a:.3f}\\n',\n",
    "      f'Критическая скорость звука {c_kr:.3f}\\n',\n",
    "      f'Скорость {V_a:.3f}\\n',\n",
    "      f'Давление {p_a/1e6:.3f}\\n',\n",
    "      f'Температура {T_a:.3f}\\n',\n",
    "      f'Плотность {rho_a:.3f}')"
   ]
  },
  {
   "cell_type": "code",
   "execution_count": 9,
   "metadata": {},
   "outputs": [],
   "source": [
    "G_p = mu_c * A(propel.k) * F_kr * p1_min / np.sqrt(propel.R * propel.T0)\n",
    "omega_t = G_p * t_g\n",
    "e_0 = 2 * propel.u(p1_min,T_min) * t_g\n",
    "S_g = omega_t / (propel.rho * propel.u(p1_min,T_min) * t_g)\n",
    "\n",
    "def results_for_one_m(m):\n",
    "    n = 1\n",
    "    ki = 1\n",
    "    while m > ki:\n",
    "        n += 3 * (m - ki)\n",
    "        ki += 2\n",
    "\n",
    "    D_nar = (D_km - 2e-3) / m\n",
    "    D_vn = D_nar - 2 * e_0\n",
    "    L_zar = S_g / (np.pi * n * (D_nar + D_vn))\n",
    "    kappa_vn = 4 * L_zar / D_vn\n",
    "    kappa_nar = 4 * n * D_nar * L_zar / (D_km**2 - n * D_nar ** 2)\n",
    "    eps_s = (D_nar ** 2 - D_vn ** 2) / D_km ** 2 * n\n",
    "    Sh = 4 * F_kr / (np.pi * D_km**2 * (1 - eps_s))\n",
    "\n",
    "    result = {\n",
    "        'm': m,\n",
    "        'n': n,\n",
    "        'D_nar': np.round(D_nar*1e3,1),\n",
    "        'D_vn': np.round(D_vn*1e3,1),\n",
    "        'L_zar': np.round(L_zar*1e3),\n",
    "        'kappa_vn': np.round(kappa_vn,2),\n",
    "        'kappa_nar': np.round(kappa_nar,2),\n",
    "        'eps_s': np.round(eps_s,3),\n",
    "        'Sh': np.round(Sh,3),\n",
    "        'pass': []\n",
    "    }\n",
    "\n",
    "    if D_vn <= 1.5e-3:\n",
    "        result['pass'].append('D_вн')\n",
    "    if L_zar > L_max - L1 - L2 - L3:\n",
    "        result['pass'].append(f'L_з на {(L_zar - (L_max - L1 - L2 - L3))*1e3:.1f} мм')\n",
    "    if kappa_vn > kappa_pred:\n",
    "        result['pass'].append('к_вн')\n",
    "    if kappa_nar > kappa_pred:\n",
    "        result['pass'].append('к_нар')\n",
    "    if eps_s <= 0.5:\n",
    "        result['pass'].append('eps_s')\n",
    "    if Sh >= 0.75:\n",
    "        result['pass'].append('Sh')\n",
    "\n",
    "    return result"
   ]
  },
  {
   "cell_type": "code",
   "execution_count": 10,
   "metadata": {},
   "outputs": [],
   "source": [
    "results = []\n",
    "for m in range(3,13,2):\n",
    "    results.append(results_for_one_m(m))"
   ]
  },
  {
   "cell_type": "code",
   "execution_count": 11,
   "metadata": {},
   "outputs": [
    {
     "data": {
      "text/html": [
       "<div>\n",
       "<style scoped>\n",
       "    .dataframe tbody tr th:only-of-type {\n",
       "        vertical-align: middle;\n",
       "    }\n",
       "\n",
       "    .dataframe tbody tr th {\n",
       "        vertical-align: top;\n",
       "    }\n",
       "\n",
       "    .dataframe thead th {\n",
       "        text-align: right;\n",
       "    }\n",
       "</style>\n",
       "<table border=\"1\" class=\"dataframe\">\n",
       "  <thead>\n",
       "    <tr style=\"text-align: right;\">\n",
       "      <th></th>\n",
       "      <th>3</th>\n",
       "      <th>5</th>\n",
       "      <th>7</th>\n",
       "      <th>9</th>\n",
       "      <th>11</th>\n",
       "    </tr>\n",
       "  </thead>\n",
       "  <tbody>\n",
       "    <tr>\n",
       "      <th>n</th>\n",
       "      <td>7</td>\n",
       "      <td>19</td>\n",
       "      <td>37</td>\n",
       "      <td>61</td>\n",
       "      <td>91</td>\n",
       "    </tr>\n",
       "    <tr>\n",
       "      <th>D_н</th>\n",
       "      <td>11.5</td>\n",
       "      <td>6.9</td>\n",
       "      <td>4.9</td>\n",
       "      <td>3.8</td>\n",
       "      <td>3.1</td>\n",
       "    </tr>\n",
       "    <tr>\n",
       "      <th>D_вн</th>\n",
       "      <td>7.7</td>\n",
       "      <td>3.1</td>\n",
       "      <td>1.1</td>\n",
       "      <td>0.0</td>\n",
       "      <td>-0.7</td>\n",
       "    </tr>\n",
       "    <tr>\n",
       "      <th>L_з</th>\n",
       "      <td>63.0</td>\n",
       "      <td>44.0</td>\n",
       "      <td>38.0</td>\n",
       "      <td>36.0</td>\n",
       "      <td>37.0</td>\n",
       "    </tr>\n",
       "    <tr>\n",
       "      <th>к_вн</th>\n",
       "      <td>32.43</td>\n",
       "      <td>56.96</td>\n",
       "      <td>132.44</td>\n",
       "      <td>3993.33</td>\n",
       "      <td>-225.44</td>\n",
       "    </tr>\n",
       "    <tr>\n",
       "      <th>к_нар</th>\n",
       "      <td>49.52</td>\n",
       "      <td>54.22</td>\n",
       "      <td>63.07</td>\n",
       "      <td>76.4</td>\n",
       "      <td>97.44</td>\n",
       "    </tr>\n",
       "    <tr>\n",
       "      <th>eps_s</th>\n",
       "      <td>0.383</td>\n",
       "      <td>0.542</td>\n",
       "      <td>0.639</td>\n",
       "      <td>0.673</td>\n",
       "      <td>0.642</td>\n",
       "    </tr>\n",
       "    <tr>\n",
       "      <th>Sh</th>\n",
       "      <td>0.115</td>\n",
       "      <td>0.154</td>\n",
       "      <td>0.196</td>\n",
       "      <td>0.216</td>\n",
       "      <td>0.198</td>\n",
       "    </tr>\n",
       "    <tr>\n",
       "      <th>не подходит по</th>\n",
       "      <td>[L_з на 12.9 мм, eps_s]</td>\n",
       "      <td>[]</td>\n",
       "      <td>[D_вн]</td>\n",
       "      <td>[D_вн, к_вн]</td>\n",
       "      <td>[D_вн]</td>\n",
       "    </tr>\n",
       "  </tbody>\n",
       "</table>\n",
       "</div>"
      ],
      "text/plain": [
       "                                     3      5       7             9       11\n",
       "n                                     7     19      37            61      91\n",
       "D_н                                11.5    6.9     4.9           3.8     3.1\n",
       "D_вн                                7.7    3.1     1.1           0.0    -0.7\n",
       "L_з                                63.0   44.0    38.0          36.0    37.0\n",
       "к_вн                              32.43  56.96  132.44       3993.33 -225.44\n",
       "к_нар                             49.52  54.22   63.07          76.4   97.44\n",
       "eps_s                             0.383  0.542   0.639         0.673   0.642\n",
       "Sh                                0.115  0.154   0.196         0.216   0.198\n",
       "не подходит по  [L_з на 12.9 мм, eps_s]     []  [D_вн]  [D_вн, к_вн]  [D_вн]"
      ]
     },
     "execution_count": 11,
     "metadata": {},
     "output_type": "execute_result"
    }
   ],
   "source": [
    "df_dict = {}\n",
    "for data in results:\n",
    "    df_dict[data['m']] = list(data.values())[1:]\n",
    "df = DataFrame(df_dict,index = ['n','D_н','D_вн','L_з','к_вн','к_нар','eps_s','Sh','не подходит по'])\n",
    "df.style.hide(axis='index')\n",
    "\n",
    "df"
   ]
  },
  {
   "cell_type": "code",
   "execution_count": 12,
   "metadata": {},
   "outputs": [],
   "source": [
    "itog = results[-4]\n",
    "L_zar = itog['L_zar']/1e3\n",
    "D_nar = itog['D_nar']/1e3\n",
    "D_vn = itog['D_vn']/1e3\n",
    "n_zar = itog['n']"
   ]
  },
  {
   "cell_type": "code",
   "execution_count": 13,
   "metadata": {},
   "outputs": [],
   "source": [
    "sigma_t = 300\n",
    "nu_t = 0.7\n",
    "\n",
    "# тепловые потери\n",
    "# F_oxl = 1.2 * np.pi * D_km * L_zar + n_zar * np.pi * L_zar * (D_vn + D_nar) + \\\n",
    "#         np.pi * n_zar / 2 * (D_nar**2 - D_vn**2)\n",
    "# Q_zh = propel.k / (propel.k - 1) * propel.R * propel.T0\n",
    "\n",
    "# def chi_teplf(p0):\n",
    "#      chi_tepl1 = sigma_t * nu_t * F_oxl * p0 / (Q_zh * propel.R * G_p)\n",
    "#      chi_tepl2 = propel.k / (propel.k - 1) * p0 / (propel.rho * Q_zh)\n",
    "#      return 1 - chi_tepl1 - chi_tepl2\n",
    "# print(chi_teplf(p1_max))"
   ]
  },
  {
   "cell_type": "markdown",
   "metadata": {},
   "source": [
    "#### Расчет воспламенителя"
   ]
  },
  {
   "cell_type": "code",
   "execution_count": 14,
   "metadata": {},
   "outputs": [
    {
     "name": "stdout",
     "output_type": "stream",
     "text": [
      "p_vsp-50 = 1.721\n",
      "omega_v = 0.00449\n"
     ]
    }
   ],
   "source": [
    "sigma_t = 300\n",
    "v_t = 0.7\n",
    "\n",
    "R_v = 314\n",
    "Q_v = 3050e3\n",
    "u_v = 0.05\n",
    "k_v = 1.25\n",
    "rho_v = 1700\n",
    "e_v = 4e-3\n",
    "m_v = 3\n",
    "p_atm = 101325\n",
    "\n",
    "t_vv = e_v / u_v\n",
    "T_v = ((k_v - 1) / k_v) * (Q_v / R_v)\n",
    "T_s = 500\n",
    "\n",
    "W_0 = np.pi / 4 * (D_km**2) * L_zar - omega_t / propel.rho\n",
    "F_oxl = 1.2 * np.pi * D_km * L_zar + n_zar * np.pi * L_zar * (D_vn + D_nar) + \\\n",
    "        np.pi * n_zar / 2 * (D_nar**2 - D_vn**2)\n",
    "\n",
    "lambda_t = 0.23\n",
    "\n",
    "def p_vsp(T0):\n",
    "    return 1250 * propel.rho / sigma_t * propel.u(0.5e6, T0) * R_v * T_v * (T_s - T0) / (T_v - T_s)\n",
    "\n",
    "p_vsp_50 = p_vsp(273.15 - 50)\n",
    "#p_vsp_50 = 5e6\n",
    "p_max = 1.1 * p_vsp_50\n",
    "print(f'p_vsp-50 = {p_vsp_50/1e6:.3f}')\n",
    "\n",
    "b2 = (((propel.k - 1) / W_0) * (v_t * sigma_t * F_oxl / propel.R)) + ((propel.k * A(propel.k) * F_kr / W_0) *\\\n",
    "     (np.sqrt(propel.R * propel.T0)))\n",
    "S0_v = (p_max * b2 * ((m_v / (t_vv * b2)) ** (-m_v / (t_vv * b2 - m_v)))) / (((propel.k - 1) / W_0) * u_v * rho_v * Q_v)\n",
    "b1 = ((propel.k-1) / W_0) * rho_v * S0_v * u_v * Q_v\n",
    "\n",
    "\n",
    "def p_v(t):\n",
    "    p = - ((b1 / ((m_v / t_vv) - b2)) * (np.exp(- m_v * t / t_vv))) + ((p_atm + (b1 / ((m_v / t_vv) - b2))) * (np.exp(- b2 * t)))\n",
    "    return p\n",
    "\n",
    "omega_v = e_v * rho_v * S0_v * ((1 - np.exp(- m_v)) / m_v)\n",
    "print(f'omega_v = {(omega_v):.5f}')"
   ]
  },
  {
   "cell_type": "code",
   "execution_count": 15,
   "metadata": {},
   "outputs": [
    {
     "data": {
      "image/svg+xml": "<?xml version=\"1.0\" encoding=\"utf-8\" standalone=\"no\"?>\n<!DOCTYPE svg PUBLIC \"-//W3C//DTD SVG 1.1//EN\"\n  \"http://www.w3.org/Graphics/SVG/1.1/DTD/svg11.dtd\">\n<svg xmlns:xlink=\"http://www.w3.org/1999/xlink\" width=\"564.815938pt\" height=\"376.991875pt\" viewBox=\"0 0 564.815938 376.991875\" xmlns=\"http://www.w3.org/2000/svg\" version=\"1.1\">\n <metadata>\n  <rdf:RDF xmlns:dc=\"http://purl.org/dc/elements/1.1/\" xmlns:cc=\"http://creativecommons.org/ns#\" xmlns:rdf=\"http://www.w3.org/1999/02/22-rdf-syntax-ns#\">\n   <cc:Work>\n    <dc:type rdf:resource=\"http://purl.org/dc/dcmitype/StillImage\"/>\n    <dc:date>2022-11-18T19:09:49.100940</dc:date>\n    <dc:format>image/svg+xml</dc:format>\n    <dc:creator>\n     <cc:Agent>\n      <dc:title>Matplotlib v3.5.2, https://matplotlib.org/</dc:title>\n     </cc:Agent>\n    </dc:creator>\n   </cc:Work>\n  </rdf:RDF>\n </metadata>\n <defs>\n  <style type=\"text/css\">*{stroke-linejoin: round; stroke-linecap: butt}</style>\n </defs>\n <g id=\"figure_1\">\n  <g id=\"patch_1\">\n   <path d=\"M 0 376.991875 \nL 564.815938 376.991875 \nL 564.815938 0 \nL 0 0 \nL 0 376.991875 \nz\n\" style=\"fill: none\"/>\n  </g>\n  <g id=\"axes_1\">\n   <g id=\"patch_2\">\n    <path d=\"M 55.415938 333.36 \nL 557.615938 333.36 \nL 557.615938 7.2 \nL 55.415938 7.2 \nz\n\" style=\"fill: #ffffff\"/>\n   </g>\n   <g id=\"matplotlib.axis_1\">\n    <g id=\"xtick_1\">\n     <g id=\"line2d_1\">\n      <path d=\"M 78.24321 333.36 \nL 78.24321 7.2 \n\" clip-path=\"url(#p2691c50057)\" style=\"fill: none; stroke: #b0b0b0; stroke-width: 0.8; stroke-linecap: square\"/>\n     </g>\n     <g id=\"line2d_2\">\n      <defs>\n       <path id=\"m0f96844be6\" d=\"M 0 0 \nL 0 3.5 \n\" style=\"stroke: #000000; stroke-width: 0.8\"/>\n      </defs>\n      <g>\n       <use xlink:href=\"#m0f96844be6\" x=\"78.24321\" y=\"333.36\" style=\"stroke: #000000; stroke-width: 0.8\"/>\n      </g>\n     </g>\n     <g id=\"text_1\">\n      <!-- 0.00 -->\n      <g transform=\"translate(65.99321 350.08125)scale(0.14 -0.14)\">\n       <defs>\n        <path id=\"TimesNewRomanPSMT-30\" d=\"M 231 2094 \nQ 231 2819 450 3342 \nQ 669 3866 1031 4122 \nQ 1313 4325 1613 4325 \nQ 2100 4325 2488 3828 \nQ 2972 3213 2972 2159 \nQ 2972 1422 2759 906 \nQ 2547 391 2217 158 \nQ 1888 -75 1581 -75 \nQ 975 -75 572 641 \nQ 231 1244 231 2094 \nz\nM 844 2016 \nQ 844 1141 1059 588 \nQ 1238 122 1591 122 \nQ 1759 122 1940 273 \nQ 2122 425 2216 781 \nQ 2359 1319 2359 2297 \nQ 2359 3022 2209 3506 \nQ 2097 3866 1919 4016 \nQ 1791 4119 1609 4119 \nQ 1397 4119 1231 3928 \nQ 1006 3669 925 3112 \nQ 844 2556 844 2016 \nz\n\" transform=\"scale(0.015625)\"/>\n        <path id=\"TimesNewRomanPSMT-2e\" d=\"M 800 606 \nQ 947 606 1047 504 \nQ 1147 403 1147 259 \nQ 1147 116 1045 14 \nQ 944 -88 800 -88 \nQ 656 -88 554 14 \nQ 453 116 453 259 \nQ 453 406 554 506 \nQ 656 606 800 606 \nz\n\" transform=\"scale(0.015625)\"/>\n       </defs>\n       <use xlink:href=\"#TimesNewRomanPSMT-30\"/>\n       <use xlink:href=\"#TimesNewRomanPSMT-2e\" x=\"50\"/>\n       <use xlink:href=\"#TimesNewRomanPSMT-30\" x=\"75\"/>\n       <use xlink:href=\"#TimesNewRomanPSMT-30\" x=\"125\"/>\n      </g>\n     </g>\n    </g>\n    <g id=\"xtick_2\">\n     <g id=\"line2d_3\">\n      <path d=\"M 135.497562 333.36 \nL 135.497562 7.2 \n\" clip-path=\"url(#p2691c50057)\" style=\"fill: none; stroke: #b0b0b0; stroke-width: 0.8; stroke-linecap: square\"/>\n     </g>\n     <g id=\"line2d_4\">\n      <g>\n       <use xlink:href=\"#m0f96844be6\" x=\"135.497562\" y=\"333.36\" style=\"stroke: #000000; stroke-width: 0.8\"/>\n      </g>\n     </g>\n     <g id=\"text_2\">\n      <!-- 0.01 -->\n      <g transform=\"translate(123.247562 350.08125)scale(0.14 -0.14)\">\n       <defs>\n        <path id=\"TimesNewRomanPSMT-31\" d=\"M 750 3822 \nL 1781 4325 \nL 1884 4325 \nL 1884 747 \nQ 1884 391 1914 303 \nQ 1944 216 2037 169 \nQ 2131 122 2419 116 \nL 2419 0 \nL 825 0 \nL 825 116 \nQ 1125 122 1212 167 \nQ 1300 213 1334 289 \nQ 1369 366 1369 747 \nL 1369 3034 \nQ 1369 3497 1338 3628 \nQ 1316 3728 1258 3775 \nQ 1200 3822 1119 3822 \nQ 1003 3822 797 3725 \nL 750 3822 \nz\n\" transform=\"scale(0.015625)\"/>\n       </defs>\n       <use xlink:href=\"#TimesNewRomanPSMT-30\"/>\n       <use xlink:href=\"#TimesNewRomanPSMT-2e\" x=\"50\"/>\n       <use xlink:href=\"#TimesNewRomanPSMT-30\" x=\"75\"/>\n       <use xlink:href=\"#TimesNewRomanPSMT-31\" x=\"125\"/>\n      </g>\n     </g>\n    </g>\n    <g id=\"xtick_3\">\n     <g id=\"line2d_5\">\n      <path d=\"M 192.751913 333.36 \nL 192.751913 7.2 \n\" clip-path=\"url(#p2691c50057)\" style=\"fill: none; stroke: #b0b0b0; stroke-width: 0.8; stroke-linecap: square\"/>\n     </g>\n     <g id=\"line2d_6\">\n      <g>\n       <use xlink:href=\"#m0f96844be6\" x=\"192.751913\" y=\"333.36\" style=\"stroke: #000000; stroke-width: 0.8\"/>\n      </g>\n     </g>\n     <g id=\"text_3\">\n      <!-- 0.02 -->\n      <g transform=\"translate(180.501913 350.08125)scale(0.14 -0.14)\">\n       <defs>\n        <path id=\"TimesNewRomanPSMT-32\" d=\"M 2934 816 \nL 2638 0 \nL 138 0 \nL 138 116 \nQ 1241 1122 1691 1759 \nQ 2141 2397 2141 2925 \nQ 2141 3328 1894 3587 \nQ 1647 3847 1303 3847 \nQ 991 3847 742 3664 \nQ 494 3481 375 3128 \nL 259 3128 \nQ 338 3706 661 4015 \nQ 984 4325 1469 4325 \nQ 1984 4325 2329 3994 \nQ 2675 3663 2675 3213 \nQ 2675 2891 2525 2569 \nQ 2294 2063 1775 1497 \nQ 997 647 803 472 \nL 1909 472 \nQ 2247 472 2383 497 \nQ 2519 522 2628 598 \nQ 2738 675 2819 816 \nL 2934 816 \nz\n\" transform=\"scale(0.015625)\"/>\n       </defs>\n       <use xlink:href=\"#TimesNewRomanPSMT-30\"/>\n       <use xlink:href=\"#TimesNewRomanPSMT-2e\" x=\"50\"/>\n       <use xlink:href=\"#TimesNewRomanPSMT-30\" x=\"75\"/>\n       <use xlink:href=\"#TimesNewRomanPSMT-32\" x=\"125\"/>\n      </g>\n     </g>\n    </g>\n    <g id=\"xtick_4\">\n     <g id=\"line2d_7\">\n      <path d=\"M 250.006265 333.36 \nL 250.006265 7.2 \n\" clip-path=\"url(#p2691c50057)\" style=\"fill: none; stroke: #b0b0b0; stroke-width: 0.8; stroke-linecap: square\"/>\n     </g>\n     <g id=\"line2d_8\">\n      <g>\n       <use xlink:href=\"#m0f96844be6\" x=\"250.006265\" y=\"333.36\" style=\"stroke: #000000; stroke-width: 0.8\"/>\n      </g>\n     </g>\n     <g id=\"text_4\">\n      <!-- 0.03 -->\n      <g transform=\"translate(237.756265 350.08125)scale(0.14 -0.14)\">\n       <defs>\n        <path id=\"TimesNewRomanPSMT-33\" d=\"M 325 3431 \nQ 506 3859 782 4092 \nQ 1059 4325 1472 4325 \nQ 1981 4325 2253 3994 \nQ 2459 3747 2459 3466 \nQ 2459 3003 1878 2509 \nQ 2269 2356 2469 2072 \nQ 2669 1788 2669 1403 \nQ 2669 853 2319 450 \nQ 1863 -75 997 -75 \nQ 569 -75 414 31 \nQ 259 138 259 259 \nQ 259 350 332 419 \nQ 406 488 509 488 \nQ 588 488 669 463 \nQ 722 447 909 348 \nQ 1097 250 1169 231 \nQ 1284 197 1416 197 \nQ 1734 197 1970 444 \nQ 2206 691 2206 1028 \nQ 2206 1275 2097 1509 \nQ 2016 1684 1919 1775 \nQ 1784 1900 1550 2001 \nQ 1316 2103 1072 2103 \nL 972 2103 \nL 972 2197 \nQ 1219 2228 1467 2375 \nQ 1716 2522 1828 2728 \nQ 1941 2934 1941 3181 \nQ 1941 3503 1739 3701 \nQ 1538 3900 1238 3900 \nQ 753 3900 428 3381 \nL 325 3431 \nz\n\" transform=\"scale(0.015625)\"/>\n       </defs>\n       <use xlink:href=\"#TimesNewRomanPSMT-30\"/>\n       <use xlink:href=\"#TimesNewRomanPSMT-2e\" x=\"50\"/>\n       <use xlink:href=\"#TimesNewRomanPSMT-30\" x=\"75\"/>\n       <use xlink:href=\"#TimesNewRomanPSMT-33\" x=\"125\"/>\n      </g>\n     </g>\n    </g>\n    <g id=\"xtick_5\">\n     <g id=\"line2d_9\">\n      <path d=\"M 307.260616 333.36 \nL 307.260616 7.2 \n\" clip-path=\"url(#p2691c50057)\" style=\"fill: none; stroke: #b0b0b0; stroke-width: 0.8; stroke-linecap: square\"/>\n     </g>\n     <g id=\"line2d_10\">\n      <g>\n       <use xlink:href=\"#m0f96844be6\" x=\"307.260616\" y=\"333.36\" style=\"stroke: #000000; stroke-width: 0.8\"/>\n      </g>\n     </g>\n     <g id=\"text_5\">\n      <!-- 0.04 -->\n      <g transform=\"translate(295.010616 350.08125)scale(0.14 -0.14)\">\n       <defs>\n        <path id=\"TimesNewRomanPSMT-34\" d=\"M 2978 1563 \nL 2978 1119 \nL 2409 1119 \nL 2409 0 \nL 1894 0 \nL 1894 1119 \nL 100 1119 \nL 100 1519 \nL 2066 4325 \nL 2409 4325 \nL 2409 1563 \nL 2978 1563 \nz\nM 1894 1563 \nL 1894 3666 \nL 406 1563 \nL 1894 1563 \nz\n\" transform=\"scale(0.015625)\"/>\n       </defs>\n       <use xlink:href=\"#TimesNewRomanPSMT-30\"/>\n       <use xlink:href=\"#TimesNewRomanPSMT-2e\" x=\"50\"/>\n       <use xlink:href=\"#TimesNewRomanPSMT-30\" x=\"75\"/>\n       <use xlink:href=\"#TimesNewRomanPSMT-34\" x=\"125\"/>\n      </g>\n     </g>\n    </g>\n    <g id=\"xtick_6\">\n     <g id=\"line2d_11\">\n      <path d=\"M 364.514968 333.36 \nL 364.514968 7.2 \n\" clip-path=\"url(#p2691c50057)\" style=\"fill: none; stroke: #b0b0b0; stroke-width: 0.8; stroke-linecap: square\"/>\n     </g>\n     <g id=\"line2d_12\">\n      <g>\n       <use xlink:href=\"#m0f96844be6\" x=\"364.514968\" y=\"333.36\" style=\"stroke: #000000; stroke-width: 0.8\"/>\n      </g>\n     </g>\n     <g id=\"text_6\">\n      <!-- 0.05 -->\n      <g transform=\"translate(352.264968 350.08125)scale(0.14 -0.14)\">\n       <defs>\n        <path id=\"TimesNewRomanPSMT-35\" d=\"M 2778 4238 \nL 2534 3706 \nL 1259 3706 \nL 981 3138 \nQ 1809 3016 2294 2522 \nQ 2709 2097 2709 1522 \nQ 2709 1188 2573 903 \nQ 2438 619 2231 419 \nQ 2025 219 1772 97 \nQ 1413 -75 1034 -75 \nQ 653 -75 479 54 \nQ 306 184 306 341 \nQ 306 428 378 495 \nQ 450 563 559 563 \nQ 641 563 702 538 \nQ 763 513 909 409 \nQ 1144 247 1384 247 \nQ 1750 247 2026 523 \nQ 2303 800 2303 1197 \nQ 2303 1581 2056 1914 \nQ 1809 2247 1375 2428 \nQ 1034 2569 447 2591 \nL 1259 4238 \nL 2778 4238 \nz\n\" transform=\"scale(0.015625)\"/>\n       </defs>\n       <use xlink:href=\"#TimesNewRomanPSMT-30\"/>\n       <use xlink:href=\"#TimesNewRomanPSMT-2e\" x=\"50\"/>\n       <use xlink:href=\"#TimesNewRomanPSMT-30\" x=\"75\"/>\n       <use xlink:href=\"#TimesNewRomanPSMT-35\" x=\"125\"/>\n      </g>\n     </g>\n    </g>\n    <g id=\"xtick_7\">\n     <g id=\"line2d_13\">\n      <path d=\"M 421.76932 333.36 \nL 421.76932 7.2 \n\" clip-path=\"url(#p2691c50057)\" style=\"fill: none; stroke: #b0b0b0; stroke-width: 0.8; stroke-linecap: square\"/>\n     </g>\n     <g id=\"line2d_14\">\n      <g>\n       <use xlink:href=\"#m0f96844be6\" x=\"421.76932\" y=\"333.36\" style=\"stroke: #000000; stroke-width: 0.8\"/>\n      </g>\n     </g>\n     <g id=\"text_7\">\n      <!-- 0.06 -->\n      <g transform=\"translate(409.51932 350.08125)scale(0.14 -0.14)\">\n       <defs>\n        <path id=\"TimesNewRomanPSMT-36\" d=\"M 2869 4325 \nL 2869 4209 \nQ 2456 4169 2195 4045 \nQ 1934 3922 1679 3669 \nQ 1425 3416 1258 3105 \nQ 1091 2794 978 2366 \nQ 1428 2675 1881 2675 \nQ 2316 2675 2634 2325 \nQ 2953 1975 2953 1425 \nQ 2953 894 2631 456 \nQ 2244 -75 1606 -75 \nQ 1172 -75 869 213 \nQ 275 772 275 1663 \nQ 275 2231 503 2743 \nQ 731 3256 1154 3653 \nQ 1578 4050 1965 4187 \nQ 2353 4325 2688 4325 \nL 2869 4325 \nz\nM 925 2138 \nQ 869 1716 869 1456 \nQ 869 1156 980 804 \nQ 1091 453 1309 247 \nQ 1469 100 1697 100 \nQ 1969 100 2183 356 \nQ 2397 613 2397 1088 \nQ 2397 1622 2184 2012 \nQ 1972 2403 1581 2403 \nQ 1463 2403 1327 2353 \nQ 1191 2303 925 2138 \nz\n\" transform=\"scale(0.015625)\"/>\n       </defs>\n       <use xlink:href=\"#TimesNewRomanPSMT-30\"/>\n       <use xlink:href=\"#TimesNewRomanPSMT-2e\" x=\"50\"/>\n       <use xlink:href=\"#TimesNewRomanPSMT-30\" x=\"75\"/>\n       <use xlink:href=\"#TimesNewRomanPSMT-36\" x=\"125\"/>\n      </g>\n     </g>\n    </g>\n    <g id=\"xtick_8\">\n     <g id=\"line2d_15\">\n      <path d=\"M 479.023671 333.36 \nL 479.023671 7.2 \n\" clip-path=\"url(#p2691c50057)\" style=\"fill: none; stroke: #b0b0b0; stroke-width: 0.8; stroke-linecap: square\"/>\n     </g>\n     <g id=\"line2d_16\">\n      <g>\n       <use xlink:href=\"#m0f96844be6\" x=\"479.023671\" y=\"333.36\" style=\"stroke: #000000; stroke-width: 0.8\"/>\n      </g>\n     </g>\n     <g id=\"text_8\">\n      <!-- 0.07 -->\n      <g transform=\"translate(466.773671 350.08125)scale(0.14 -0.14)\">\n       <defs>\n        <path id=\"TimesNewRomanPSMT-37\" d=\"M 644 4238 \nL 2916 4238 \nL 2916 4119 \nL 1503 -88 \nL 1153 -88 \nL 2419 3728 \nL 1253 3728 \nQ 900 3728 750 3644 \nQ 488 3500 328 3200 \nL 238 3234 \nL 644 4238 \nz\n\" transform=\"scale(0.015625)\"/>\n       </defs>\n       <use xlink:href=\"#TimesNewRomanPSMT-30\"/>\n       <use xlink:href=\"#TimesNewRomanPSMT-2e\" x=\"50\"/>\n       <use xlink:href=\"#TimesNewRomanPSMT-30\" x=\"75\"/>\n       <use xlink:href=\"#TimesNewRomanPSMT-37\" x=\"125\"/>\n      </g>\n     </g>\n    </g>\n    <g id=\"xtick_9\">\n     <g id=\"line2d_17\">\n      <path d=\"M 536.278023 333.36 \nL 536.278023 7.2 \n\" clip-path=\"url(#p2691c50057)\" style=\"fill: none; stroke: #b0b0b0; stroke-width: 0.8; stroke-linecap: square\"/>\n     </g>\n     <g id=\"line2d_18\">\n      <g>\n       <use xlink:href=\"#m0f96844be6\" x=\"536.278023\" y=\"333.36\" style=\"stroke: #000000; stroke-width: 0.8\"/>\n      </g>\n     </g>\n     <g id=\"text_9\">\n      <!-- 0.08 -->\n      <g transform=\"translate(524.028023 350.08125)scale(0.14 -0.14)\">\n       <defs>\n        <path id=\"TimesNewRomanPSMT-38\" d=\"M 1228 2134 \nQ 725 2547 579 2797 \nQ 434 3047 434 3316 \nQ 434 3728 753 4026 \nQ 1072 4325 1600 4325 \nQ 2113 4325 2425 4047 \nQ 2738 3769 2738 3413 \nQ 2738 3175 2569 2928 \nQ 2400 2681 1866 2347 \nQ 2416 1922 2594 1678 \nQ 2831 1359 2831 1006 \nQ 2831 559 2490 242 \nQ 2150 -75 1597 -75 \nQ 994 -75 656 303 \nQ 388 606 388 966 \nQ 388 1247 577 1523 \nQ 766 1800 1228 2134 \nz\nM 1719 2469 \nQ 2094 2806 2194 3001 \nQ 2294 3197 2294 3444 \nQ 2294 3772 2109 3958 \nQ 1925 4144 1606 4144 \nQ 1288 4144 1088 3959 \nQ 888 3775 888 3528 \nQ 888 3366 970 3203 \nQ 1053 3041 1206 2894 \nL 1719 2469 \nz\nM 1375 2016 \nQ 1116 1797 991 1539 \nQ 866 1281 866 981 \nQ 866 578 1086 336 \nQ 1306 94 1647 94 \nQ 1984 94 2187 284 \nQ 2391 475 2391 747 \nQ 2391 972 2272 1150 \nQ 2050 1481 1375 2016 \nz\n\" transform=\"scale(0.015625)\"/>\n       </defs>\n       <use xlink:href=\"#TimesNewRomanPSMT-30\"/>\n       <use xlink:href=\"#TimesNewRomanPSMT-2e\" x=\"50\"/>\n       <use xlink:href=\"#TimesNewRomanPSMT-30\" x=\"75\"/>\n       <use xlink:href=\"#TimesNewRomanPSMT-38\" x=\"125\"/>\n      </g>\n     </g>\n    </g>\n    <g id=\"text_10\">\n     <!-- $\\mathit{t}, с$ -->\n     <g transform=\"translate(298.605938 366.797188)scale(0.14 -0.14)\">\n      <defs>\n       <path id=\"STIXGeneral-Italic-74\" d=\"M 1894 2739 \nL 1862 2534 \nL 1325 2534 \nL 768 435 \nQ 755 384 755 346 \nQ 755 243 851 243 \nQ 928 243 1030 342 \nQ 1133 442 1370 749 \nL 1453 704 \nQ 1158 256 969 93 \nQ 781 -70 538 -70 \nQ 243 -70 243 166 \nQ 243 230 346 640 \nL 845 2534 \nL 365 2534 \nL 358 2573 \nQ 358 2688 570 2733 \nQ 730 2771 992 2979 \nQ 1254 3187 1421 3437 \nQ 1459 3494 1510 3494 \nQ 1568 3494 1568 3443 \nQ 1568 3411 1562 3398 \nL 1382 2739 \nL 1894 2739 \nz\n\" transform=\"scale(0.015625)\"/>\n       <path id=\"TimesNewRomanPSMT-2c\" d=\"M 344 -1066 \nL 344 -928 \nQ 666 -822 842 -598 \nQ 1019 -375 1019 -125 \nQ 1019 -66 991 -25 \nQ 969 3 947 3 \nQ 913 3 797 -59 \nQ 741 -88 678 -88 \nQ 525 -88 434 3 \nQ 344 94 344 253 \nQ 344 406 461 515 \nQ 578 625 747 625 \nQ 953 625 1114 445 \nQ 1275 266 1275 -31 \nQ 1275 -353 1051 -629 \nQ 828 -906 344 -1066 \nz\n\" transform=\"scale(0.015625)\"/>\n       <path id=\"TimesNewRomanPSMT-441\" d=\"M 2631 1088 \nQ 2516 522 2178 217 \nQ 1841 -88 1431 -88 \nQ 944 -88 581 321 \nQ 219 731 219 1428 \nQ 219 2103 620 2525 \nQ 1022 2947 1584 2947 \nQ 2006 2947 2278 2723 \nQ 2550 2500 2550 2259 \nQ 2550 2141 2473 2067 \nQ 2397 1994 2259 1994 \nQ 2075 1994 1981 2113 \nQ 1928 2178 1911 2362 \nQ 1894 2547 1784 2644 \nQ 1675 2738 1481 2738 \nQ 1169 2738 978 2506 \nQ 725 2200 725 1697 \nQ 725 1184 976 792 \nQ 1228 400 1656 400 \nQ 1963 400 2206 609 \nQ 2378 753 2541 1131 \nL 2631 1088 \nz\n\" transform=\"scale(0.015625)\"/>\n      </defs>\n      <use xlink:href=\"#STIXGeneral-Italic-74\" transform=\"translate(0 0.40625)\"/>\n      <use xlink:href=\"#TimesNewRomanPSMT-2c\" transform=\"translate(27.799988 0.40625)\"/>\n      <use xlink:href=\"#TimesNewRomanPSMT-441\" transform=\"translate(68.356628 0.40625)\"/>\n     </g>\n    </g>\n   </g>\n   <g id=\"matplotlib.axis_2\">\n    <g id=\"ytick_1\">\n     <g id=\"line2d_19\">\n      <path d=\"M 55.415938 293.94336 \nL 557.615938 293.94336 \n\" clip-path=\"url(#p2691c50057)\" style=\"fill: none; stroke: #b0b0b0; stroke-width: 0.8; stroke-linecap: square\"/>\n     </g>\n     <g id=\"line2d_20\">\n      <defs>\n       <path id=\"m08b62a6bcb\" d=\"M 0 0 \nL -3.5 0 \n\" style=\"stroke: #000000; stroke-width: 0.8\"/>\n      </defs>\n      <g>\n       <use xlink:href=\"#m08b62a6bcb\" x=\"55.415938\" y=\"293.94336\" style=\"stroke: #000000; stroke-width: 0.8\"/>\n      </g>\n     </g>\n     <g id=\"text_11\">\n      <!-- 0.25 -->\n      <g transform=\"translate(23.915938 298.803985)scale(0.14 -0.14)\">\n       <use xlink:href=\"#TimesNewRomanPSMT-30\"/>\n       <use xlink:href=\"#TimesNewRomanPSMT-2e\" x=\"50\"/>\n       <use xlink:href=\"#TimesNewRomanPSMT-32\" x=\"75\"/>\n       <use xlink:href=\"#TimesNewRomanPSMT-35\" x=\"125\"/>\n      </g>\n     </g>\n    </g>\n    <g id=\"ytick_2\">\n     <g id=\"line2d_21\">\n      <path d=\"M 55.415938 252.592788 \nL 557.615938 252.592788 \n\" clip-path=\"url(#p2691c50057)\" style=\"fill: none; stroke: #b0b0b0; stroke-width: 0.8; stroke-linecap: square\"/>\n     </g>\n     <g id=\"line2d_22\">\n      <g>\n       <use xlink:href=\"#m08b62a6bcb\" x=\"55.415938\" y=\"252.592788\" style=\"stroke: #000000; stroke-width: 0.8\"/>\n      </g>\n     </g>\n     <g id=\"text_12\">\n      <!-- 0.50 -->\n      <g transform=\"translate(23.915938 257.453413)scale(0.14 -0.14)\">\n       <use xlink:href=\"#TimesNewRomanPSMT-30\"/>\n       <use xlink:href=\"#TimesNewRomanPSMT-2e\" x=\"50\"/>\n       <use xlink:href=\"#TimesNewRomanPSMT-35\" x=\"75\"/>\n       <use xlink:href=\"#TimesNewRomanPSMT-30\" x=\"125\"/>\n      </g>\n     </g>\n    </g>\n    <g id=\"ytick_3\">\n     <g id=\"line2d_23\">\n      <path d=\"M 55.415938 211.242215 \nL 557.615938 211.242215 \n\" clip-path=\"url(#p2691c50057)\" style=\"fill: none; stroke: #b0b0b0; stroke-width: 0.8; stroke-linecap: square\"/>\n     </g>\n     <g id=\"line2d_24\">\n      <g>\n       <use xlink:href=\"#m08b62a6bcb\" x=\"55.415938\" y=\"211.242215\" style=\"stroke: #000000; stroke-width: 0.8\"/>\n      </g>\n     </g>\n     <g id=\"text_13\">\n      <!-- 0.75 -->\n      <g transform=\"translate(23.915938 216.10284)scale(0.14 -0.14)\">\n       <use xlink:href=\"#TimesNewRomanPSMT-30\"/>\n       <use xlink:href=\"#TimesNewRomanPSMT-2e\" x=\"50\"/>\n       <use xlink:href=\"#TimesNewRomanPSMT-37\" x=\"75\"/>\n       <use xlink:href=\"#TimesNewRomanPSMT-35\" x=\"125\"/>\n      </g>\n     </g>\n    </g>\n    <g id=\"ytick_4\">\n     <g id=\"line2d_25\">\n      <path d=\"M 55.415938 169.891643 \nL 557.615938 169.891643 \n\" clip-path=\"url(#p2691c50057)\" style=\"fill: none; stroke: #b0b0b0; stroke-width: 0.8; stroke-linecap: square\"/>\n     </g>\n     <g id=\"line2d_26\">\n      <g>\n       <use xlink:href=\"#m08b62a6bcb\" x=\"55.415938\" y=\"169.891643\" style=\"stroke: #000000; stroke-width: 0.8\"/>\n      </g>\n     </g>\n     <g id=\"text_14\">\n      <!-- 1.00 -->\n      <g transform=\"translate(23.915938 174.752268)scale(0.14 -0.14)\">\n       <use xlink:href=\"#TimesNewRomanPSMT-31\"/>\n       <use xlink:href=\"#TimesNewRomanPSMT-2e\" x=\"50\"/>\n       <use xlink:href=\"#TimesNewRomanPSMT-30\" x=\"75\"/>\n       <use xlink:href=\"#TimesNewRomanPSMT-30\" x=\"125\"/>\n      </g>\n     </g>\n    </g>\n    <g id=\"ytick_5\">\n     <g id=\"line2d_27\">\n      <path d=\"M 55.415938 128.54107 \nL 557.615938 128.54107 \n\" clip-path=\"url(#p2691c50057)\" style=\"fill: none; stroke: #b0b0b0; stroke-width: 0.8; stroke-linecap: square\"/>\n     </g>\n     <g id=\"line2d_28\">\n      <g>\n       <use xlink:href=\"#m08b62a6bcb\" x=\"55.415938\" y=\"128.54107\" style=\"stroke: #000000; stroke-width: 0.8\"/>\n      </g>\n     </g>\n     <g id=\"text_15\">\n      <!-- 1.25 -->\n      <g transform=\"translate(23.915938 133.401695)scale(0.14 -0.14)\">\n       <use xlink:href=\"#TimesNewRomanPSMT-31\"/>\n       <use xlink:href=\"#TimesNewRomanPSMT-2e\" x=\"50\"/>\n       <use xlink:href=\"#TimesNewRomanPSMT-32\" x=\"75\"/>\n       <use xlink:href=\"#TimesNewRomanPSMT-35\" x=\"125\"/>\n      </g>\n     </g>\n    </g>\n    <g id=\"ytick_6\">\n     <g id=\"line2d_29\">\n      <path d=\"M 55.415938 87.190498 \nL 557.615938 87.190498 \n\" clip-path=\"url(#p2691c50057)\" style=\"fill: none; stroke: #b0b0b0; stroke-width: 0.8; stroke-linecap: square\"/>\n     </g>\n     <g id=\"line2d_30\">\n      <g>\n       <use xlink:href=\"#m08b62a6bcb\" x=\"55.415938\" y=\"87.190498\" style=\"stroke: #000000; stroke-width: 0.8\"/>\n      </g>\n     </g>\n     <g id=\"text_16\">\n      <!-- 1.50 -->\n      <g transform=\"translate(23.915938 92.051123)scale(0.14 -0.14)\">\n       <use xlink:href=\"#TimesNewRomanPSMT-31\"/>\n       <use xlink:href=\"#TimesNewRomanPSMT-2e\" x=\"50\"/>\n       <use xlink:href=\"#TimesNewRomanPSMT-35\" x=\"75\"/>\n       <use xlink:href=\"#TimesNewRomanPSMT-30\" x=\"125\"/>\n      </g>\n     </g>\n    </g>\n    <g id=\"ytick_7\">\n     <g id=\"line2d_31\">\n      <path d=\"M 55.415938 45.839926 \nL 557.615938 45.839926 \n\" clip-path=\"url(#p2691c50057)\" style=\"fill: none; stroke: #b0b0b0; stroke-width: 0.8; stroke-linecap: square\"/>\n     </g>\n     <g id=\"line2d_32\">\n      <g>\n       <use xlink:href=\"#m08b62a6bcb\" x=\"55.415938\" y=\"45.839926\" style=\"stroke: #000000; stroke-width: 0.8\"/>\n      </g>\n     </g>\n     <g id=\"text_17\">\n      <!-- 1.75 -->\n      <g transform=\"translate(23.915938 50.700551)scale(0.14 -0.14)\">\n       <use xlink:href=\"#TimesNewRomanPSMT-31\"/>\n       <use xlink:href=\"#TimesNewRomanPSMT-2e\" x=\"50\"/>\n       <use xlink:href=\"#TimesNewRomanPSMT-37\" x=\"75\"/>\n       <use xlink:href=\"#TimesNewRomanPSMT-35\" x=\"125\"/>\n      </g>\n     </g>\n    </g>\n    <g id=\"text_18\">\n     <!-- $\\mathit{p}, МПа$ -->\n     <g transform=\"translate(16.92125 191.07)rotate(-90)scale(0.14 -0.14)\">\n      <defs>\n       <path id=\"STIXGeneral-Italic-70\" d=\"M 1376 2739 \nL 1190 2099 \nQ 1670 2822 2285 2822 \nQ 2637 2822 2829 2611 \nQ 3021 2400 3021 2022 \nQ 3021 1235 2422 582 \nQ 1824 -70 1120 -70 \nQ 890 -70 678 38 \nQ 422 -1018 422 -1024 \nQ 422 -1126 508 -1168 \nQ 595 -1210 819 -1210 \nL 819 -1312 \nL -480 -1312 \nL -480 -1210 \nQ -275 -1203 -188 -1120 \nQ -102 -1037 -45 -806 \nL 691 1958 \nQ 794 2330 794 2413 \nQ 794 2586 512 2586 \nL 371 2586 \nL 358 2682 \nL 1357 2822 \nQ 1389 2822 1389 2797 \nQ 1382 2765 1376 2739 \nz\nM 2445 2003 \nQ 2445 2285 2352 2416 \nQ 2259 2547 2048 2547 \nQ 1798 2547 1548 2329 \nQ 1299 2112 1184 1818 \nQ 1043 1453 905 953 \nQ 768 454 768 294 \nQ 768 186 854 118 \nQ 941 51 1075 51 \nQ 1574 51 2003 659 \nQ 2445 1274 2445 2003 \nz\n\" transform=\"scale(0.015625)\"/>\n       <path id=\"TimesNewRomanPSMT-41c\" d=\"M 2619 0 \nL 981 3566 \nL 981 734 \nQ 981 344 1066 247 \nQ 1181 116 1431 116 \nL 1581 116 \nL 1581 0 \nL 106 0 \nL 106 116 \nL 256 116 \nQ 525 116 638 278 \nQ 706 378 706 734 \nL 706 3503 \nQ 706 3784 644 3909 \nQ 600 4000 483 4061 \nQ 366 4122 106 4122 \nL 106 4238 \nL 1306 4238 \nL 2844 922 \nL 4356 4238 \nL 5556 4238 \nL 5556 4122 \nL 5409 4122 \nQ 5138 4122 5025 3959 \nQ 4956 3859 4956 3503 \nL 4956 734 \nQ 4956 344 5044 247 \nQ 5159 116 5409 116 \nL 5556 116 \nL 5556 0 \nL 3756 0 \nL 3756 116 \nL 3906 116 \nQ 4178 116 4288 278 \nQ 4356 378 4356 734 \nL 4356 3566 \nL 2722 0 \nL 2619 0 \nz\n\" transform=\"scale(0.015625)\"/>\n       <path id=\"TimesNewRomanPSMT-41f\" d=\"M 3294 4006 \nL 1328 4006 \nL 1328 772 \nQ 1328 353 1436 240 \nQ 1544 128 1941 116 \nL 1941 0 \nL 116 0 \nL 116 116 \nQ 509 128 618 240 \nQ 728 353 728 772 \nL 728 3466 \nQ 728 3884 618 3996 \nQ 509 4109 116 4122 \nL 116 4238 \nL 4506 4238 \nL 4506 4122 \nQ 4113 4109 4003 3996 \nQ 3894 3884 3894 3466 \nL 3894 772 \nQ 3894 353 4003 240 \nQ 4113 128 4506 116 \nL 4506 0 \nL 2684 0 \nL 2684 116 \nQ 3075 128 3184 239 \nQ 3294 350 3294 772 \nL 3294 4006 \nz\n\" transform=\"scale(0.015625)\"/>\n       <path id=\"TimesNewRomanPSMT-430\" d=\"M 1822 413 \nQ 1381 72 1269 19 \nQ 1100 -59 909 -59 \nQ 613 -59 420 144 \nQ 228 347 228 678 \nQ 228 888 322 1041 \nQ 450 1253 767 1440 \nQ 1084 1628 1822 1897 \nL 1822 2009 \nQ 1822 2438 1686 2597 \nQ 1550 2756 1291 2756 \nQ 1094 2756 978 2650 \nQ 859 2544 859 2406 \nL 866 2225 \nQ 866 2081 792 2003 \nQ 719 1925 600 1925 \nQ 484 1925 411 2006 \nQ 338 2088 338 2228 \nQ 338 2497 613 2722 \nQ 888 2947 1384 2947 \nQ 1766 2947 2009 2819 \nQ 2194 2722 2281 2516 \nQ 2338 2381 2338 1966 \nL 2338 994 \nQ 2338 584 2353 492 \nQ 2369 400 2405 369 \nQ 2441 338 2488 338 \nQ 2538 338 2575 359 \nQ 2641 400 2828 588 \nL 2828 413 \nQ 2478 -56 2159 -56 \nQ 2006 -56 1915 50 \nQ 1825 156 1822 413 \nz\nM 1822 616 \nL 1822 1706 \nQ 1350 1519 1213 1441 \nQ 966 1303 859 1153 \nQ 753 1003 753 825 \nQ 753 600 887 451 \nQ 1022 303 1197 303 \nQ 1434 303 1822 616 \nz\n\" transform=\"scale(0.015625)\"/>\n      </defs>\n      <use xlink:href=\"#STIXGeneral-Italic-70\" transform=\"translate(0 0.78125)\"/>\n      <use xlink:href=\"#TimesNewRomanPSMT-2c\" transform=\"translate(50.399994 0.78125)\"/>\n      <use xlink:href=\"#TimesNewRomanPSMT-41c\" transform=\"translate(90.956635 0.78125)\"/>\n      <use xlink:href=\"#TimesNewRomanPSMT-41f\" transform=\"translate(179.87265 0.78125)\"/>\n      <use xlink:href=\"#TimesNewRomanPSMT-430\" transform=\"translate(252.089447 0.78125)\"/>\n     </g>\n    </g>\n   </g>\n   <g id=\"line2d_33\">\n    <path d=\"M 78.24321 318.534545 \nL 78.81604 232.520428 \nL 79.38887 170.516802 \nL 79.9617 125.914702 \nL 80.53453 93.923957 \nL 81.10736 71.072658 \nL 81.68019 54.844369 \nL 82.25302 43.415184 \nL 82.82585 35.463142 \nL 83.39868 30.030088 \nL 83.97151 26.421558 \nL 84.544339 24.13421 \nL 85.117169 22.803225 \nL 85.689999 22.164188 \nL 86.262829 22.025455 \nL 86.835659 22.248126 \nL 87.408489 22.731534 \nL 88.267734 23.791578 \nL 89.413394 25.589998 \nL 91.418299 29.23511 \nL 107.743952 60.098884 \nL 114.045081 71.225166 \nL 120.34621 81.901624 \nL 126.647339 92.146427 \nL 132.948469 101.977026 \nL 139.249598 111.410168 \nL 145.837142 120.864556 \nL 152.424686 129.919695 \nL 159.01223 138.592445 \nL 165.599775 146.898953 \nL 172.187319 154.854685 \nL 178.774863 162.474455 \nL 185.648822 170.082666 \nL 192.522781 177.355933 \nL 199.396741 184.309002 \nL 206.2707 190.955968 \nL 213.431074 197.568914 \nL 220.591448 203.878884 \nL 227.751822 209.899757 \nL 235.198611 215.869024 \nL 242.6454 221.55413 \nL 250.378604 227.171624 \nL 258.111808 232.511674 \nL 265.845012 237.587986 \nL 273.864631 242.587657 \nL 281.88425 247.331493 \nL 290.190284 251.989005 \nL 298.782733 256.547769 \nL 307.375182 260.85706 \nL 316.254046 265.062403 \nL 325.419325 269.154354 \nL 334.871019 273.124628 \nL 344.322713 276.856572 \nL 354.060822 280.467439 \nL 364.085346 283.951595 \nL 374.396284 287.304447 \nL 385.280053 290.606322 \nL 396.450237 293.759004 \nL 407.906835 296.761619 \nL 419.936264 299.681037 \nL 432.252107 302.440952 \nL 445.140781 305.100475 \nL 458.602284 307.64862 \nL 472.636617 310.076508 \nL 487.243781 312.377313 \nL 502.710189 314.58507 \nL 518.749427 316.650215 \nL 534.788665 318.509418 \nL 534.788665 318.509418 \n\" clip-path=\"url(#p2691c50057)\" style=\"fill: none; stroke: #1f77b4; stroke-width: 1.5; stroke-linecap: square\"/>\n   </g>\n   <g id=\"line2d_34\">\n    <path d=\"M 55.415938 50.672638 \nL 557.615938 50.672638 \n\" clip-path=\"url(#p2691c50057)\" style=\"fill: none; stroke-dasharray: 5.55,2.4; stroke-dashoffset: 0; stroke: #d62728; stroke-width: 1.5\"/>\n   </g>\n   <g id=\"patch_3\">\n    <path d=\"M 55.415938 333.36 \nL 55.415938 7.2 \n\" style=\"fill: none; stroke: #000000; stroke-width: 0.8; stroke-linejoin: miter; stroke-linecap: square\"/>\n   </g>\n   <g id=\"patch_4\">\n    <path d=\"M 557.615938 333.36 \nL 557.615938 7.2 \n\" style=\"fill: none; stroke: #000000; stroke-width: 0.8; stroke-linejoin: miter; stroke-linecap: square\"/>\n   </g>\n   <g id=\"patch_5\">\n    <path d=\"M 55.415938 333.36 \nL 557.615938 333.36 \n\" style=\"fill: none; stroke: #000000; stroke-width: 0.8; stroke-linejoin: miter; stroke-linecap: square\"/>\n   </g>\n   <g id=\"patch_6\">\n    <path d=\"M 55.415938 7.2 \nL 557.615938 7.2 \n\" style=\"fill: none; stroke: #000000; stroke-width: 0.8; stroke-linejoin: miter; stroke-linecap: square\"/>\n   </g>\n   <g id=\"legend_1\">\n    <g id=\"patch_7\">\n     <path d=\"M 416.355938 38.98 \nL 547.815938 38.98 \nQ 550.615938 38.98 550.615938 36.18 \nL 550.615938 17 \nQ 550.615938 14.2 547.815938 14.2 \nL 416.355938 14.2 \nQ 413.555938 14.2 413.555938 17 \nL 413.555938 36.18 \nQ 413.555938 38.98 416.355938 38.98 \nz\n\" style=\"fill: #ffffff; opacity: 0.8; stroke: #cccccc; stroke-linejoin: miter\"/>\n    </g>\n    <g id=\"line2d_35\">\n     <path d=\"M 419.155938 24.7 \nL 433.155938 24.7 \nL 447.155938 24.7 \n\" style=\"fill: none; stroke-dasharray: 5.55,2.4; stroke-dashoffset: 0; stroke: #d62728; stroke-width: 1.5\"/>\n    </g>\n    <g id=\"text_19\">\n     <!-- $\\mathit{p}_{всп}$ = 1.7 МПа -->\n     <g transform=\"translate(458.355938 29.6)scale(0.14 -0.14)\">\n      <defs>\n       <path id=\"TimesNewRomanPSMT-432\" d=\"M 2016 1513 \nQ 2800 1350 2800 778 \nQ 2800 388 2473 194 \nQ 2147 0 1563 0 \nL 150 0 \nL 150 116 \nQ 428 116 501 220 \nQ 575 325 575 672 \nL 575 2191 \nQ 575 2528 542 2587 \nQ 509 2647 439 2695 \nQ 369 2744 150 2744 \nL 150 2863 \nL 1469 2863 \nQ 1850 2863 2086 2803 \nQ 2322 2744 2473 2569 \nQ 2625 2394 2625 2144 \nQ 2625 1656 2016 1513 \nz\nM 1094 1584 \nQ 1231 1581 1259 1581 \nQ 1688 1581 1878 1745 \nQ 2069 1909 2069 2144 \nQ 2069 2416 1875 2537 \nQ 1681 2659 1256 2659 \nL 1094 2659 \nL 1094 1584 \nz\nM 1094 253 \nQ 1250 203 1466 203 \nQ 1838 203 2019 365 \nQ 2200 528 2200 784 \nQ 2200 1072 1965 1225 \nQ 1731 1378 1316 1378 \nQ 1213 1378 1094 1372 \nL 1094 253 \nz\n\" transform=\"scale(0.015625)\"/>\n       <path id=\"TimesNewRomanPSMT-43f\" d=\"M 2331 2659 \nL 1094 2659 \nL 1094 672 \nQ 1094 341 1128 277 \nQ 1163 213 1236 164 \nQ 1309 116 1528 116 \nL 1528 0 \nL 144 0 \nL 144 116 \nQ 422 116 500 217 \nQ 578 319 578 672 \nL 578 2191 \nQ 578 2525 543 2586 \nQ 509 2647 437 2695 \nQ 366 2744 144 2744 \nL 144 2863 \nL 3281 2863 \nL 3281 2744 \nQ 3072 2744 3000 2701 \nQ 2928 2659 2887 2596 \nQ 2847 2534 2847 2191 \nL 2847 672 \nQ 2847 341 2881 277 \nQ 2916 213 2989 164 \nQ 3063 116 3281 116 \nL 3281 0 \nL 1897 0 \nL 1897 116 \nQ 2156 116 2243 211 \nQ 2331 306 2331 672 \nL 2331 2659 \nz\n\" transform=\"scale(0.015625)\"/>\n       <path id=\"TimesNewRomanPSMT-20\" transform=\"scale(0.015625)\"/>\n       <path id=\"TimesNewRomanPSMT-3d\" d=\"M 116 2759 \nL 3488 2759 \nL 3488 2503 \nL 116 2503 \nL 116 2759 \nz\nM 116 1741 \nL 3488 1741 \nL 3488 1484 \nL 116 1484 \nL 116 1741 \nz\n\" transform=\"scale(0.015625)\"/>\n      </defs>\n      <use xlink:href=\"#STIXGeneral-Italic-70\" transform=\"translate(0 0.421875)\"/>\n      <use xlink:href=\"#TimesNewRomanPSMT-432\" transform=\"translate(50.399994 -25.340625)scale(0.7)\"/>\n      <use xlink:href=\"#TimesNewRomanPSMT-441\" transform=\"translate(83.451752 -25.340625)scale(0.7)\"/>\n      <use xlink:href=\"#TimesNewRomanPSMT-43f\" transform=\"translate(114.521088 -25.340625)scale(0.7)\"/>\n      <use xlink:href=\"#TimesNewRomanPSMT-20\" transform=\"translate(156.275775 0.421875)\"/>\n      <use xlink:href=\"#TimesNewRomanPSMT-3d\" transform=\"translate(181.275775 0.421875)\"/>\n      <use xlink:href=\"#TimesNewRomanPSMT-20\" transform=\"translate(237.67226 0.421875)\"/>\n      <use xlink:href=\"#TimesNewRomanPSMT-31\" transform=\"translate(262.67226 0.421875)\"/>\n      <use xlink:href=\"#TimesNewRomanPSMT-2e\" transform=\"translate(312.67226 0.421875)\"/>\n      <use xlink:href=\"#TimesNewRomanPSMT-37\" transform=\"translate(337.67226 0.421875)\"/>\n      <use xlink:href=\"#TimesNewRomanPSMT-20\" transform=\"translate(387.67226 0.421875)\"/>\n      <use xlink:href=\"#TimesNewRomanPSMT-41c\" transform=\"translate(412.67226 0.421875)\"/>\n      <use xlink:href=\"#TimesNewRomanPSMT-41f\" transform=\"translate(501.588275 0.421875)\"/>\n      <use xlink:href=\"#TimesNewRomanPSMT-430\" transform=\"translate(573.805072 0.421875)\"/>\n     </g>\n    </g>\n   </g>\n  </g>\n </g>\n <defs>\n  <clipPath id=\"p2691c50057\">\n   <rect x=\"55.415938\" y=\"7.2\" width=\"502.2\" height=\"326.16\"/>\n  </clipPath>\n </defs>\n</svg>\n",
      "text/plain": [
       "<Figure size 648x432 with 1 Axes>"
      ]
     },
     "metadata": {
      "needs_background": "light"
     },
     "output_type": "display_data"
    }
   ],
   "source": [
    "t_vs = np.linspace(0,0.1,2000)\n",
    "p_vs = np.array([p_v(t) for t in t_vs])\n",
    "\n",
    "f = plt.figure(figsize=(9, 6))\n",
    "plt.plot(t_vs[p_vs >= p_atm], p_vs[p_vs >= p_atm]/1e6)\n",
    "plt.axhline(p_vsp_50/1e6, linestyle = '--', color = 'tab:red', label = '$\\mathit{p}_{всп}$ = '+f'{p_vsp_50/1e6:.1f} МПа')\n",
    "\n",
    "plt.legend(loc = 'upper right')\n",
    "plt.grid()\n",
    "plt.xlabel('$\\mathit{t}, с$')\n",
    "plt.ylabel('$\\mathit{p}, МПа$')\n",
    "# plt.savefig('График pW0.svg', dpi=500, bbox_inches='tight')\n",
    "\n",
    "plt.show()"
   ]
  },
  {
   "cell_type": "code",
   "execution_count": 16,
   "metadata": {},
   "outputs": [
    {
     "data": {
      "text/plain": [
       "0.6503251625812907"
      ]
     },
     "execution_count": 16,
     "metadata": {},
     "output_type": "execute_result"
    }
   ],
   "source": [
    "t_vs[p_vs >= p_vsp_50][0]*1e3"
   ]
  },
  {
   "cell_type": "markdown",
   "metadata": {},
   "source": [
    "#### ОЗВБ"
   ]
  },
  {
   "cell_type": "code",
   "execution_count": 17,
   "metadata": {},
   "outputs": [],
   "source": [
    "mu_c = 0.95\n",
    "e_max = e_0\n",
    "Q_t = propel.k / (propel.k - 1) * propel.R * propel.T0\n",
    "\n",
    "def S_zar(e):\n",
    "    return n_zar * (np.pi * (D_vn + 2 * e)*(L_zar - 2 * e) + np.pi * (D_nar - 2 * e) * (L_zar - 2 * e) + \\\n",
    "        2 * np.pi * 0.25 * (((D_nar - 2 * e) ** 2) - ((D_vn + 2 * e) ** 2)))"
   ]
  },
  {
   "cell_type": "code",
   "execution_count": 18,
   "metadata": {},
   "outputs": [],
   "source": [
    "def sys_int(t, Y, T0, p_vsp):\n",
    "\n",
    "    p, W, omega_g, omega_vg, e_t = Y\n",
    "    U = np.zeros(5)\n",
    "\n",
    "    Hev_v = 1 if t <= t_v else 0\n",
    "    Hev_p = 1 if p > p_vsp or abs(e_t) > 0 else 0\n",
    "    Hev_e = 1 if 0 <= abs(e_t) <= e_max else 0\n",
    "\n",
    "    u_g = propel.u(p,T0)\n",
    "    S_g = S_zar(abs(e_t))\n",
    "\n",
    "    #domega_v/dt\n",
    "    U[3] = S0_v * np.exp(-m_v * t / t_v) * u_v * rho_v * Hev_v\n",
    "\n",
    "    #dp/dt\n",
    "    p1 = (propel.k - 1) * Q_v / (propel.rho * S_g * u_g) * U[3] + (propel.k - 1) * Q_t * Hev_e\n",
    "    p2 = propel.k * (mu_c * A(propel.k) * F_kr * p / (propel.rho * S_g * u_g)) ** 2\n",
    "    p3 = (propel.k - 1) * sigma_t * v_t * F_oxl * p / (propel.R * propel.rho * S_g * u_g)\n",
    "    p4 = propel.k * p / (rho_v * propel.rho * S_g * u_g) * U[3]\n",
    "    p5 = propel.k * p / propel.rho * Hev_e\n",
    "    U[0] = (p1 - p2 - p3 - p4 - p5) * propel.rho * S_g * u_g / W\n",
    "\n",
    "    #de/dt\n",
    "    U[4] = u_g * Hev_p * Hev_e\n",
    "\n",
    "    #domega_t/dt\n",
    "    U[2] = S_g * propel.rho * U[4]\n",
    "\n",
    "    #dW/dt\n",
    "    U[1] = 1 / propel.rho * U[2] + 1 / rho_v * U[3]\n",
    "\n",
    "    return U\n",
    "\n",
    "def res_int(T0):\n",
    "\n",
    "    stop = lambda p: p * pi(1,propel.k) <= p_atm\n",
    "    # stop = lambda p: p <= p_atm\n",
    "\n",
    "    Y_0 = [0, p_atm, W_0, 0, 0, 0]\n",
    "\n",
    "    result = dict()\n",
    "    keys = ['t','p','W','omega_g','omega_gv','e_t']\n",
    "    for key, val in zip(keys,Y_0):\n",
    "        result[key] = np.array([val])\n",
    "\n",
    "    r = ode(sys_int).set_integrator('vode', method = 'adams')     #'vode', method = 'adams'\n",
    "    r.set_initial_value(Y_0[1:])\n",
    "    r.set_f_params(T0, p_vsp(T0))\n",
    "\n",
    "    while r.successful() and (not stop(result['p'][-1]) or result['t'][-1] < 0.005):\n",
    "        dt = 5e-6\n",
    "        result['t'] = np.append(result['t'], result['t'][-1] + dt)\n",
    "        Y_tek = r.integrate(r.t+dt)\n",
    "        for key, val in zip(keys[1:],Y_tek):\n",
    "            if key != 'p':\n",
    "                result[key] = np.append(result[key], val)\n",
    "            else:\n",
    "                result[key] = np.append(result[key], val * 1)\n",
    "\n",
    "    return result"
   ]
  },
  {
   "cell_type": "code",
   "execution_count": 19,
   "metadata": {},
   "outputs": [],
   "source": [
    "res18 = res_int(T_nom)\n",
    "res50 = res_int(T_max)\n",
    "res_50 = res_int(T_min)"
   ]
  },
  {
   "cell_type": "code",
   "execution_count": 20,
   "metadata": {},
   "outputs": [
    {
     "data": {
      "image/svg+xml": "<?xml version=\"1.0\" encoding=\"utf-8\" standalone=\"no\"?>\n<!DOCTYPE svg PUBLIC \"-//W3C//DTD SVG 1.1//EN\"\n  \"http://www.w3.org/Graphics/SVG/1.1/DTD/svg11.dtd\">\n<svg xmlns:xlink=\"http://www.w3.org/1999/xlink\" width=\"619.042239pt\" height=\"431.351875pt\" viewBox=\"0 0 619.042239 431.351875\" xmlns=\"http://www.w3.org/2000/svg\" version=\"1.1\">\n <metadata>\n  <rdf:RDF xmlns:dc=\"http://purl.org/dc/elements/1.1/\" xmlns:cc=\"http://creativecommons.org/ns#\" xmlns:rdf=\"http://www.w3.org/1999/02/22-rdf-syntax-ns#\">\n   <cc:Work>\n    <dc:type rdf:resource=\"http://purl.org/dc/dcmitype/StillImage\"/>\n    <dc:date>2022-11-18T19:09:52.117751</dc:date>\n    <dc:format>image/svg+xml</dc:format>\n    <dc:creator>\n     <cc:Agent>\n      <dc:title>Matplotlib v3.5.2, https://matplotlib.org/</dc:title>\n     </cc:Agent>\n    </dc:creator>\n   </cc:Work>\n  </rdf:RDF>\n </metadata>\n <defs>\n  <style type=\"text/css\">*{stroke-linejoin: round; stroke-linecap: butt}</style>\n </defs>\n <g id=\"figure_1\">\n  <g id=\"patch_1\">\n   <path d=\"M 0 431.351875 \nL 619.042239 431.351875 \nL 619.042239 0 \nL 0 0 \nL 0 431.351875 \nz\n\" style=\"fill: none\"/>\n  </g>\n  <g id=\"axes_1\">\n   <g id=\"patch_2\">\n    <path d=\"M 51.915937 387.72 \nL 609.915938 387.72 \nL 609.915938 7.2 \nL 51.915937 7.2 \nz\n\" style=\"fill: #ffffff\"/>\n   </g>\n   <g id=\"matplotlib.axis_1\">\n    <g id=\"xtick_1\">\n     <g id=\"line2d_1\">\n      <path d=\"M 51.915937 387.72 \nL 51.915937 7.2 \n\" clip-path=\"url(#p971802ad52)\" style=\"fill: none; stroke: #b0b0b0; stroke-width: 0.8; stroke-linecap: square\"/>\n     </g>\n     <g id=\"line2d_2\">\n      <defs>\n       <path id=\"m9970ed1402\" d=\"M 0 0 \nL 0 3.5 \n\" style=\"stroke: #000000; stroke-width: 0.8\"/>\n      </defs>\n      <g>\n       <use xlink:href=\"#m9970ed1402\" x=\"51.915937\" y=\"387.72\" style=\"stroke: #000000; stroke-width: 0.8\"/>\n      </g>\n     </g>\n     <g id=\"text_1\">\n      <!-- 0.00 -->\n      <g transform=\"translate(39.665937 404.44125)scale(0.14 -0.14)\">\n       <defs>\n        <path id=\"TimesNewRomanPSMT-30\" d=\"M 231 2094 \nQ 231 2819 450 3342 \nQ 669 3866 1031 4122 \nQ 1313 4325 1613 4325 \nQ 2100 4325 2488 3828 \nQ 2972 3213 2972 2159 \nQ 2972 1422 2759 906 \nQ 2547 391 2217 158 \nQ 1888 -75 1581 -75 \nQ 975 -75 572 641 \nQ 231 1244 231 2094 \nz\nM 844 2016 \nQ 844 1141 1059 588 \nQ 1238 122 1591 122 \nQ 1759 122 1940 273 \nQ 2122 425 2216 781 \nQ 2359 1319 2359 2297 \nQ 2359 3022 2209 3506 \nQ 2097 3866 1919 4016 \nQ 1791 4119 1609 4119 \nQ 1397 4119 1231 3928 \nQ 1006 3669 925 3112 \nQ 844 2556 844 2016 \nz\n\" transform=\"scale(0.015625)\"/>\n        <path id=\"TimesNewRomanPSMT-2e\" d=\"M 800 606 \nQ 947 606 1047 504 \nQ 1147 403 1147 259 \nQ 1147 116 1045 14 \nQ 944 -88 800 -88 \nQ 656 -88 554 14 \nQ 453 116 453 259 \nQ 453 406 554 506 \nQ 656 606 800 606 \nz\n\" transform=\"scale(0.015625)\"/>\n       </defs>\n       <use xlink:href=\"#TimesNewRomanPSMT-30\"/>\n       <use xlink:href=\"#TimesNewRomanPSMT-2e\" x=\"50\"/>\n       <use xlink:href=\"#TimesNewRomanPSMT-30\" x=\"75\"/>\n       <use xlink:href=\"#TimesNewRomanPSMT-30\" x=\"125\"/>\n      </g>\n     </g>\n    </g>\n    <g id=\"xtick_2\">\n     <g id=\"line2d_3\">\n      <path d=\"M 143.195321 387.72 \nL 143.195321 7.2 \n\" clip-path=\"url(#p971802ad52)\" style=\"fill: none; stroke: #b0b0b0; stroke-width: 0.8; stroke-linecap: square\"/>\n     </g>\n     <g id=\"line2d_4\">\n      <g>\n       <use xlink:href=\"#m9970ed1402\" x=\"143.195321\" y=\"387.72\" style=\"stroke: #000000; stroke-width: 0.8\"/>\n      </g>\n     </g>\n     <g id=\"text_2\">\n      <!-- 0.01 -->\n      <g transform=\"translate(130.945321 404.44125)scale(0.14 -0.14)\">\n       <defs>\n        <path id=\"TimesNewRomanPSMT-31\" d=\"M 750 3822 \nL 1781 4325 \nL 1884 4325 \nL 1884 747 \nQ 1884 391 1914 303 \nQ 1944 216 2037 169 \nQ 2131 122 2419 116 \nL 2419 0 \nL 825 0 \nL 825 116 \nQ 1125 122 1212 167 \nQ 1300 213 1334 289 \nQ 1369 366 1369 747 \nL 1369 3034 \nQ 1369 3497 1338 3628 \nQ 1316 3728 1258 3775 \nQ 1200 3822 1119 3822 \nQ 1003 3822 797 3725 \nL 750 3822 \nz\n\" transform=\"scale(0.015625)\"/>\n       </defs>\n       <use xlink:href=\"#TimesNewRomanPSMT-30\"/>\n       <use xlink:href=\"#TimesNewRomanPSMT-2e\" x=\"50\"/>\n       <use xlink:href=\"#TimesNewRomanPSMT-30\" x=\"75\"/>\n       <use xlink:href=\"#TimesNewRomanPSMT-31\" x=\"125\"/>\n      </g>\n     </g>\n    </g>\n    <g id=\"xtick_3\">\n     <g id=\"line2d_5\">\n      <path d=\"M 234.474705 387.72 \nL 234.474705 7.2 \n\" clip-path=\"url(#p971802ad52)\" style=\"fill: none; stroke: #b0b0b0; stroke-width: 0.8; stroke-linecap: square\"/>\n     </g>\n     <g id=\"line2d_6\">\n      <g>\n       <use xlink:href=\"#m9970ed1402\" x=\"234.474705\" y=\"387.72\" style=\"stroke: #000000; stroke-width: 0.8\"/>\n      </g>\n     </g>\n     <g id=\"text_3\">\n      <!-- 0.02 -->\n      <g transform=\"translate(222.224705 404.44125)scale(0.14 -0.14)\">\n       <defs>\n        <path id=\"TimesNewRomanPSMT-32\" d=\"M 2934 816 \nL 2638 0 \nL 138 0 \nL 138 116 \nQ 1241 1122 1691 1759 \nQ 2141 2397 2141 2925 \nQ 2141 3328 1894 3587 \nQ 1647 3847 1303 3847 \nQ 991 3847 742 3664 \nQ 494 3481 375 3128 \nL 259 3128 \nQ 338 3706 661 4015 \nQ 984 4325 1469 4325 \nQ 1984 4325 2329 3994 \nQ 2675 3663 2675 3213 \nQ 2675 2891 2525 2569 \nQ 2294 2063 1775 1497 \nQ 997 647 803 472 \nL 1909 472 \nQ 2247 472 2383 497 \nQ 2519 522 2628 598 \nQ 2738 675 2819 816 \nL 2934 816 \nz\n\" transform=\"scale(0.015625)\"/>\n       </defs>\n       <use xlink:href=\"#TimesNewRomanPSMT-30\"/>\n       <use xlink:href=\"#TimesNewRomanPSMT-2e\" x=\"50\"/>\n       <use xlink:href=\"#TimesNewRomanPSMT-30\" x=\"75\"/>\n       <use xlink:href=\"#TimesNewRomanPSMT-32\" x=\"125\"/>\n      </g>\n     </g>\n    </g>\n    <g id=\"xtick_4\">\n     <g id=\"line2d_7\">\n      <path d=\"M 325.754088 387.72 \nL 325.754088 7.2 \n\" clip-path=\"url(#p971802ad52)\" style=\"fill: none; stroke: #b0b0b0; stroke-width: 0.8; stroke-linecap: square\"/>\n     </g>\n     <g id=\"line2d_8\">\n      <g>\n       <use xlink:href=\"#m9970ed1402\" x=\"325.754088\" y=\"387.72\" style=\"stroke: #000000; stroke-width: 0.8\"/>\n      </g>\n     </g>\n     <g id=\"text_4\">\n      <!-- 0.03 -->\n      <g transform=\"translate(313.504088 404.44125)scale(0.14 -0.14)\">\n       <defs>\n        <path id=\"TimesNewRomanPSMT-33\" d=\"M 325 3431 \nQ 506 3859 782 4092 \nQ 1059 4325 1472 4325 \nQ 1981 4325 2253 3994 \nQ 2459 3747 2459 3466 \nQ 2459 3003 1878 2509 \nQ 2269 2356 2469 2072 \nQ 2669 1788 2669 1403 \nQ 2669 853 2319 450 \nQ 1863 -75 997 -75 \nQ 569 -75 414 31 \nQ 259 138 259 259 \nQ 259 350 332 419 \nQ 406 488 509 488 \nQ 588 488 669 463 \nQ 722 447 909 348 \nQ 1097 250 1169 231 \nQ 1284 197 1416 197 \nQ 1734 197 1970 444 \nQ 2206 691 2206 1028 \nQ 2206 1275 2097 1509 \nQ 2016 1684 1919 1775 \nQ 1784 1900 1550 2001 \nQ 1316 2103 1072 2103 \nL 972 2103 \nL 972 2197 \nQ 1219 2228 1467 2375 \nQ 1716 2522 1828 2728 \nQ 1941 2934 1941 3181 \nQ 1941 3503 1739 3701 \nQ 1538 3900 1238 3900 \nQ 753 3900 428 3381 \nL 325 3431 \nz\n\" transform=\"scale(0.015625)\"/>\n       </defs>\n       <use xlink:href=\"#TimesNewRomanPSMT-30\"/>\n       <use xlink:href=\"#TimesNewRomanPSMT-2e\" x=\"50\"/>\n       <use xlink:href=\"#TimesNewRomanPSMT-30\" x=\"75\"/>\n       <use xlink:href=\"#TimesNewRomanPSMT-33\" x=\"125\"/>\n      </g>\n     </g>\n    </g>\n    <g id=\"xtick_5\">\n     <g id=\"line2d_9\">\n      <path d=\"M 417.033472 387.72 \nL 417.033472 7.2 \n\" clip-path=\"url(#p971802ad52)\" style=\"fill: none; stroke: #b0b0b0; stroke-width: 0.8; stroke-linecap: square\"/>\n     </g>\n     <g id=\"line2d_10\">\n      <g>\n       <use xlink:href=\"#m9970ed1402\" x=\"417.033472\" y=\"387.72\" style=\"stroke: #000000; stroke-width: 0.8\"/>\n      </g>\n     </g>\n     <g id=\"text_5\">\n      <!-- 0.04 -->\n      <g transform=\"translate(404.783472 404.44125)scale(0.14 -0.14)\">\n       <defs>\n        <path id=\"TimesNewRomanPSMT-34\" d=\"M 2978 1563 \nL 2978 1119 \nL 2409 1119 \nL 2409 0 \nL 1894 0 \nL 1894 1119 \nL 100 1119 \nL 100 1519 \nL 2066 4325 \nL 2409 4325 \nL 2409 1563 \nL 2978 1563 \nz\nM 1894 1563 \nL 1894 3666 \nL 406 1563 \nL 1894 1563 \nz\n\" transform=\"scale(0.015625)\"/>\n       </defs>\n       <use xlink:href=\"#TimesNewRomanPSMT-30\"/>\n       <use xlink:href=\"#TimesNewRomanPSMT-2e\" x=\"50\"/>\n       <use xlink:href=\"#TimesNewRomanPSMT-30\" x=\"75\"/>\n       <use xlink:href=\"#TimesNewRomanPSMT-34\" x=\"125\"/>\n      </g>\n     </g>\n    </g>\n    <g id=\"xtick_6\">\n     <g id=\"line2d_11\">\n      <path d=\"M 508.312856 387.72 \nL 508.312856 7.2 \n\" clip-path=\"url(#p971802ad52)\" style=\"fill: none; stroke: #b0b0b0; stroke-width: 0.8; stroke-linecap: square\"/>\n     </g>\n     <g id=\"line2d_12\">\n      <g>\n       <use xlink:href=\"#m9970ed1402\" x=\"508.312856\" y=\"387.72\" style=\"stroke: #000000; stroke-width: 0.8\"/>\n      </g>\n     </g>\n     <g id=\"text_6\">\n      <!-- 0.05 -->\n      <g transform=\"translate(496.062856 404.44125)scale(0.14 -0.14)\">\n       <defs>\n        <path id=\"TimesNewRomanPSMT-35\" d=\"M 2778 4238 \nL 2534 3706 \nL 1259 3706 \nL 981 3138 \nQ 1809 3016 2294 2522 \nQ 2709 2097 2709 1522 \nQ 2709 1188 2573 903 \nQ 2438 619 2231 419 \nQ 2025 219 1772 97 \nQ 1413 -75 1034 -75 \nQ 653 -75 479 54 \nQ 306 184 306 341 \nQ 306 428 378 495 \nQ 450 563 559 563 \nQ 641 563 702 538 \nQ 763 513 909 409 \nQ 1144 247 1384 247 \nQ 1750 247 2026 523 \nQ 2303 800 2303 1197 \nQ 2303 1581 2056 1914 \nQ 1809 2247 1375 2428 \nQ 1034 2569 447 2591 \nL 1259 4238 \nL 2778 4238 \nz\n\" transform=\"scale(0.015625)\"/>\n       </defs>\n       <use xlink:href=\"#TimesNewRomanPSMT-30\"/>\n       <use xlink:href=\"#TimesNewRomanPSMT-2e\" x=\"50\"/>\n       <use xlink:href=\"#TimesNewRomanPSMT-30\" x=\"75\"/>\n       <use xlink:href=\"#TimesNewRomanPSMT-35\" x=\"125\"/>\n      </g>\n     </g>\n    </g>\n    <g id=\"xtick_7\">\n     <g id=\"line2d_13\">\n      <path d=\"M 599.592239 387.72 \nL 599.592239 7.2 \n\" clip-path=\"url(#p971802ad52)\" style=\"fill: none; stroke: #b0b0b0; stroke-width: 0.8; stroke-linecap: square\"/>\n     </g>\n     <g id=\"line2d_14\">\n      <g>\n       <use xlink:href=\"#m9970ed1402\" x=\"599.592239\" y=\"387.72\" style=\"stroke: #000000; stroke-width: 0.8\"/>\n      </g>\n     </g>\n     <g id=\"text_7\">\n      <!-- 0.06 -->\n      <g transform=\"translate(587.342239 404.44125)scale(0.14 -0.14)\">\n       <defs>\n        <path id=\"TimesNewRomanPSMT-36\" d=\"M 2869 4325 \nL 2869 4209 \nQ 2456 4169 2195 4045 \nQ 1934 3922 1679 3669 \nQ 1425 3416 1258 3105 \nQ 1091 2794 978 2366 \nQ 1428 2675 1881 2675 \nQ 2316 2675 2634 2325 \nQ 2953 1975 2953 1425 \nQ 2953 894 2631 456 \nQ 2244 -75 1606 -75 \nQ 1172 -75 869 213 \nQ 275 772 275 1663 \nQ 275 2231 503 2743 \nQ 731 3256 1154 3653 \nQ 1578 4050 1965 4187 \nQ 2353 4325 2688 4325 \nL 2869 4325 \nz\nM 925 2138 \nQ 869 1716 869 1456 \nQ 869 1156 980 804 \nQ 1091 453 1309 247 \nQ 1469 100 1697 100 \nQ 1969 100 2183 356 \nQ 2397 613 2397 1088 \nQ 2397 1622 2184 2012 \nQ 1972 2403 1581 2403 \nQ 1463 2403 1327 2353 \nQ 1191 2303 925 2138 \nz\n\" transform=\"scale(0.015625)\"/>\n       </defs>\n       <use xlink:href=\"#TimesNewRomanPSMT-30\"/>\n       <use xlink:href=\"#TimesNewRomanPSMT-2e\" x=\"50\"/>\n       <use xlink:href=\"#TimesNewRomanPSMT-30\" x=\"75\"/>\n       <use xlink:href=\"#TimesNewRomanPSMT-36\" x=\"125\"/>\n      </g>\n     </g>\n    </g>\n    <g id=\"text_8\">\n     <!-- $\\mathit{t}$, с -->\n     <g transform=\"translate(322.305937 421.157187)scale(0.14 -0.14)\">\n      <defs>\n       <path id=\"STIXGeneral-Italic-74\" d=\"M 1894 2739 \nL 1862 2534 \nL 1325 2534 \nL 768 435 \nQ 755 384 755 346 \nQ 755 243 851 243 \nQ 928 243 1030 342 \nQ 1133 442 1370 749 \nL 1453 704 \nQ 1158 256 969 93 \nQ 781 -70 538 -70 \nQ 243 -70 243 166 \nQ 243 230 346 640 \nL 845 2534 \nL 365 2534 \nL 358 2573 \nQ 358 2688 570 2733 \nQ 730 2771 992 2979 \nQ 1254 3187 1421 3437 \nQ 1459 3494 1510 3494 \nQ 1568 3494 1568 3443 \nQ 1568 3411 1562 3398 \nL 1382 2739 \nL 1894 2739 \nz\n\" transform=\"scale(0.015625)\"/>\n       <path id=\"TimesNewRomanPSMT-2c\" d=\"M 344 -1066 \nL 344 -928 \nQ 666 -822 842 -598 \nQ 1019 -375 1019 -125 \nQ 1019 -66 991 -25 \nQ 969 3 947 3 \nQ 913 3 797 -59 \nQ 741 -88 678 -88 \nQ 525 -88 434 3 \nQ 344 94 344 253 \nQ 344 406 461 515 \nQ 578 625 747 625 \nQ 953 625 1114 445 \nQ 1275 266 1275 -31 \nQ 1275 -353 1051 -629 \nQ 828 -906 344 -1066 \nz\n\" transform=\"scale(0.015625)\"/>\n       <path id=\"TimesNewRomanPSMT-20\" transform=\"scale(0.015625)\"/>\n       <path id=\"TimesNewRomanPSMT-441\" d=\"M 2631 1088 \nQ 2516 522 2178 217 \nQ 1841 -88 1431 -88 \nQ 944 -88 581 321 \nQ 219 731 219 1428 \nQ 219 2103 620 2525 \nQ 1022 2947 1584 2947 \nQ 2006 2947 2278 2723 \nQ 2550 2500 2550 2259 \nQ 2550 2141 2473 2067 \nQ 2397 1994 2259 1994 \nQ 2075 1994 1981 2113 \nQ 1928 2178 1911 2362 \nQ 1894 2547 1784 2644 \nQ 1675 2738 1481 2738 \nQ 1169 2738 978 2506 \nQ 725 2200 725 1697 \nQ 725 1184 976 792 \nQ 1228 400 1656 400 \nQ 1963 400 2206 609 \nQ 2378 753 2541 1131 \nL 2631 1088 \nz\n\" transform=\"scale(0.015625)\"/>\n      </defs>\n      <use xlink:href=\"#STIXGeneral-Italic-74\" transform=\"translate(0 0.40625)\"/>\n      <use xlink:href=\"#TimesNewRomanPSMT-2c\" transform=\"translate(27.799988 0.40625)\"/>\n      <use xlink:href=\"#TimesNewRomanPSMT-20\" transform=\"translate(52.799988 0.40625)\"/>\n      <use xlink:href=\"#TimesNewRomanPSMT-441\" transform=\"translate(77.799988 0.40625)\"/>\n     </g>\n    </g>\n   </g>\n   <g id=\"matplotlib.axis_2\">\n    <g id=\"ytick_1\">\n     <g id=\"line2d_15\">\n      <path d=\"M 51.915937 370.665537 \nL 609.915938 370.665537 \n\" clip-path=\"url(#p971802ad52)\" style=\"fill: none; stroke: #b0b0b0; stroke-width: 0.8; stroke-linecap: square\"/>\n     </g>\n     <g id=\"line2d_16\">\n      <defs>\n       <path id=\"me861207a79\" d=\"M 0 0 \nL -3.5 0 \n\" style=\"stroke: #000000; stroke-width: 0.8\"/>\n      </defs>\n      <g>\n       <use xlink:href=\"#me861207a79\" x=\"51.915937\" y=\"370.665537\" style=\"stroke: #000000; stroke-width: 0.8\"/>\n      </g>\n     </g>\n     <g id=\"text_9\">\n      <!-- 0 -->\n      <g transform=\"translate(37.915937 375.526162)scale(0.14 -0.14)\">\n       <use xlink:href=\"#TimesNewRomanPSMT-30\"/>\n      </g>\n     </g>\n    </g>\n    <g id=\"ytick_2\">\n     <g id=\"line2d_17\">\n      <path d=\"M 51.915937 322.918065 \nL 609.915938 322.918065 \n\" clip-path=\"url(#p971802ad52)\" style=\"fill: none; stroke: #b0b0b0; stroke-width: 0.8; stroke-linecap: square\"/>\n     </g>\n     <g id=\"line2d_18\">\n      <g>\n       <use xlink:href=\"#me861207a79\" x=\"51.915937\" y=\"322.918065\" style=\"stroke: #000000; stroke-width: 0.8\"/>\n      </g>\n     </g>\n     <g id=\"text_10\">\n      <!-- 20 -->\n      <g transform=\"translate(30.915937 327.77869)scale(0.14 -0.14)\">\n       <use xlink:href=\"#TimesNewRomanPSMT-32\"/>\n       <use xlink:href=\"#TimesNewRomanPSMT-30\" x=\"50\"/>\n      </g>\n     </g>\n    </g>\n    <g id=\"ytick_3\">\n     <g id=\"line2d_19\">\n      <path d=\"M 51.915937 275.170593 \nL 609.915938 275.170593 \n\" clip-path=\"url(#p971802ad52)\" style=\"fill: none; stroke: #b0b0b0; stroke-width: 0.8; stroke-linecap: square\"/>\n     </g>\n     <g id=\"line2d_20\">\n      <g>\n       <use xlink:href=\"#me861207a79\" x=\"51.915937\" y=\"275.170593\" style=\"stroke: #000000; stroke-width: 0.8\"/>\n      </g>\n     </g>\n     <g id=\"text_11\">\n      <!-- 40 -->\n      <g transform=\"translate(30.915937 280.031218)scale(0.14 -0.14)\">\n       <use xlink:href=\"#TimesNewRomanPSMT-34\"/>\n       <use xlink:href=\"#TimesNewRomanPSMT-30\" x=\"50\"/>\n      </g>\n     </g>\n    </g>\n    <g id=\"ytick_4\">\n     <g id=\"line2d_21\">\n      <path d=\"M 51.915937 227.42312 \nL 609.915938 227.42312 \n\" clip-path=\"url(#p971802ad52)\" style=\"fill: none; stroke: #b0b0b0; stroke-width: 0.8; stroke-linecap: square\"/>\n     </g>\n     <g id=\"line2d_22\">\n      <g>\n       <use xlink:href=\"#me861207a79\" x=\"51.915937\" y=\"227.42312\" style=\"stroke: #000000; stroke-width: 0.8\"/>\n      </g>\n     </g>\n     <g id=\"text_12\">\n      <!-- 60 -->\n      <g transform=\"translate(30.915937 232.283745)scale(0.14 -0.14)\">\n       <use xlink:href=\"#TimesNewRomanPSMT-36\"/>\n       <use xlink:href=\"#TimesNewRomanPSMT-30\" x=\"50\"/>\n      </g>\n     </g>\n    </g>\n    <g id=\"ytick_5\">\n     <g id=\"line2d_23\">\n      <path d=\"M 51.915937 179.675648 \nL 609.915938 179.675648 \n\" clip-path=\"url(#p971802ad52)\" style=\"fill: none; stroke: #b0b0b0; stroke-width: 0.8; stroke-linecap: square\"/>\n     </g>\n     <g id=\"line2d_24\">\n      <g>\n       <use xlink:href=\"#me861207a79\" x=\"51.915937\" y=\"179.675648\" style=\"stroke: #000000; stroke-width: 0.8\"/>\n      </g>\n     </g>\n     <g id=\"text_13\">\n      <!-- 80 -->\n      <g transform=\"translate(30.915937 184.536273)scale(0.14 -0.14)\">\n       <defs>\n        <path id=\"TimesNewRomanPSMT-38\" d=\"M 1228 2134 \nQ 725 2547 579 2797 \nQ 434 3047 434 3316 \nQ 434 3728 753 4026 \nQ 1072 4325 1600 4325 \nQ 2113 4325 2425 4047 \nQ 2738 3769 2738 3413 \nQ 2738 3175 2569 2928 \nQ 2400 2681 1866 2347 \nQ 2416 1922 2594 1678 \nQ 2831 1359 2831 1006 \nQ 2831 559 2490 242 \nQ 2150 -75 1597 -75 \nQ 994 -75 656 303 \nQ 388 606 388 966 \nQ 388 1247 577 1523 \nQ 766 1800 1228 2134 \nz\nM 1719 2469 \nQ 2094 2806 2194 3001 \nQ 2294 3197 2294 3444 \nQ 2294 3772 2109 3958 \nQ 1925 4144 1606 4144 \nQ 1288 4144 1088 3959 \nQ 888 3775 888 3528 \nQ 888 3366 970 3203 \nQ 1053 3041 1206 2894 \nL 1719 2469 \nz\nM 1375 2016 \nQ 1116 1797 991 1539 \nQ 866 1281 866 981 \nQ 866 578 1086 336 \nQ 1306 94 1647 94 \nQ 1984 94 2187 284 \nQ 2391 475 2391 747 \nQ 2391 972 2272 1150 \nQ 2050 1481 1375 2016 \nz\n\" transform=\"scale(0.015625)\"/>\n       </defs>\n       <use xlink:href=\"#TimesNewRomanPSMT-38\"/>\n       <use xlink:href=\"#TimesNewRomanPSMT-30\" x=\"50\"/>\n      </g>\n     </g>\n    </g>\n    <g id=\"ytick_6\">\n     <g id=\"line2d_25\">\n      <path d=\"M 51.915937 131.928176 \nL 609.915938 131.928176 \n\" clip-path=\"url(#p971802ad52)\" style=\"fill: none; stroke: #b0b0b0; stroke-width: 0.8; stroke-linecap: square\"/>\n     </g>\n     <g id=\"line2d_26\">\n      <g>\n       <use xlink:href=\"#me861207a79\" x=\"51.915937\" y=\"131.928176\" style=\"stroke: #000000; stroke-width: 0.8\"/>\n      </g>\n     </g>\n     <g id=\"text_14\">\n      <!-- 100 -->\n      <g transform=\"translate(23.915937 136.788801)scale(0.14 -0.14)\">\n       <use xlink:href=\"#TimesNewRomanPSMT-31\"/>\n       <use xlink:href=\"#TimesNewRomanPSMT-30\" x=\"50\"/>\n       <use xlink:href=\"#TimesNewRomanPSMT-30\" x=\"100\"/>\n      </g>\n     </g>\n    </g>\n    <g id=\"ytick_7\">\n     <g id=\"line2d_27\">\n      <path d=\"M 51.915937 84.180704 \nL 609.915938 84.180704 \n\" clip-path=\"url(#p971802ad52)\" style=\"fill: none; stroke: #b0b0b0; stroke-width: 0.8; stroke-linecap: square\"/>\n     </g>\n     <g id=\"line2d_28\">\n      <g>\n       <use xlink:href=\"#me861207a79\" x=\"51.915937\" y=\"84.180704\" style=\"stroke: #000000; stroke-width: 0.8\"/>\n      </g>\n     </g>\n     <g id=\"text_15\">\n      <!-- 120 -->\n      <g transform=\"translate(23.915937 89.041329)scale(0.14 -0.14)\">\n       <use xlink:href=\"#TimesNewRomanPSMT-31\"/>\n       <use xlink:href=\"#TimesNewRomanPSMT-32\" x=\"50\"/>\n       <use xlink:href=\"#TimesNewRomanPSMT-30\" x=\"100\"/>\n      </g>\n     </g>\n    </g>\n    <g id=\"ytick_8\">\n     <g id=\"line2d_29\">\n      <path d=\"M 51.915937 36.433232 \nL 609.915938 36.433232 \n\" clip-path=\"url(#p971802ad52)\" style=\"fill: none; stroke: #b0b0b0; stroke-width: 0.8; stroke-linecap: square\"/>\n     </g>\n     <g id=\"line2d_30\">\n      <g>\n       <use xlink:href=\"#me861207a79\" x=\"51.915937\" y=\"36.433232\" style=\"stroke: #000000; stroke-width: 0.8\"/>\n      </g>\n     </g>\n     <g id=\"text_16\">\n      <!-- 140 -->\n      <g transform=\"translate(23.915937 41.293857)scale(0.14 -0.14)\">\n       <use xlink:href=\"#TimesNewRomanPSMT-31\"/>\n       <use xlink:href=\"#TimesNewRomanPSMT-34\" x=\"50\"/>\n       <use xlink:href=\"#TimesNewRomanPSMT-30\" x=\"100\"/>\n      </g>\n     </g>\n    </g>\n    <g id=\"text_17\">\n     <!-- $\\mathit{p}$, МПа -->\n     <g transform=\"translate(16.92125 218.88)rotate(-90)scale(0.14 -0.14)\">\n      <defs>\n       <path id=\"STIXGeneral-Italic-70\" d=\"M 1376 2739 \nL 1190 2099 \nQ 1670 2822 2285 2822 \nQ 2637 2822 2829 2611 \nQ 3021 2400 3021 2022 \nQ 3021 1235 2422 582 \nQ 1824 -70 1120 -70 \nQ 890 -70 678 38 \nQ 422 -1018 422 -1024 \nQ 422 -1126 508 -1168 \nQ 595 -1210 819 -1210 \nL 819 -1312 \nL -480 -1312 \nL -480 -1210 \nQ -275 -1203 -188 -1120 \nQ -102 -1037 -45 -806 \nL 691 1958 \nQ 794 2330 794 2413 \nQ 794 2586 512 2586 \nL 371 2586 \nL 358 2682 \nL 1357 2822 \nQ 1389 2822 1389 2797 \nQ 1382 2765 1376 2739 \nz\nM 2445 2003 \nQ 2445 2285 2352 2416 \nQ 2259 2547 2048 2547 \nQ 1798 2547 1548 2329 \nQ 1299 2112 1184 1818 \nQ 1043 1453 905 953 \nQ 768 454 768 294 \nQ 768 186 854 118 \nQ 941 51 1075 51 \nQ 1574 51 2003 659 \nQ 2445 1274 2445 2003 \nz\n\" transform=\"scale(0.015625)\"/>\n       <path id=\"TimesNewRomanPSMT-41c\" d=\"M 2619 0 \nL 981 3566 \nL 981 734 \nQ 981 344 1066 247 \nQ 1181 116 1431 116 \nL 1581 116 \nL 1581 0 \nL 106 0 \nL 106 116 \nL 256 116 \nQ 525 116 638 278 \nQ 706 378 706 734 \nL 706 3503 \nQ 706 3784 644 3909 \nQ 600 4000 483 4061 \nQ 366 4122 106 4122 \nL 106 4238 \nL 1306 4238 \nL 2844 922 \nL 4356 4238 \nL 5556 4238 \nL 5556 4122 \nL 5409 4122 \nQ 5138 4122 5025 3959 \nQ 4956 3859 4956 3503 \nL 4956 734 \nQ 4956 344 5044 247 \nQ 5159 116 5409 116 \nL 5556 116 \nL 5556 0 \nL 3756 0 \nL 3756 116 \nL 3906 116 \nQ 4178 116 4288 278 \nQ 4356 378 4356 734 \nL 4356 3566 \nL 2722 0 \nL 2619 0 \nz\n\" transform=\"scale(0.015625)\"/>\n       <path id=\"TimesNewRomanPSMT-41f\" d=\"M 3294 4006 \nL 1328 4006 \nL 1328 772 \nQ 1328 353 1436 240 \nQ 1544 128 1941 116 \nL 1941 0 \nL 116 0 \nL 116 116 \nQ 509 128 618 240 \nQ 728 353 728 772 \nL 728 3466 \nQ 728 3884 618 3996 \nQ 509 4109 116 4122 \nL 116 4238 \nL 4506 4238 \nL 4506 4122 \nQ 4113 4109 4003 3996 \nQ 3894 3884 3894 3466 \nL 3894 772 \nQ 3894 353 4003 240 \nQ 4113 128 4506 116 \nL 4506 0 \nL 2684 0 \nL 2684 116 \nQ 3075 128 3184 239 \nQ 3294 350 3294 772 \nL 3294 4006 \nz\n\" transform=\"scale(0.015625)\"/>\n       <path id=\"TimesNewRomanPSMT-430\" d=\"M 1822 413 \nQ 1381 72 1269 19 \nQ 1100 -59 909 -59 \nQ 613 -59 420 144 \nQ 228 347 228 678 \nQ 228 888 322 1041 \nQ 450 1253 767 1440 \nQ 1084 1628 1822 1897 \nL 1822 2009 \nQ 1822 2438 1686 2597 \nQ 1550 2756 1291 2756 \nQ 1094 2756 978 2650 \nQ 859 2544 859 2406 \nL 866 2225 \nQ 866 2081 792 2003 \nQ 719 1925 600 1925 \nQ 484 1925 411 2006 \nQ 338 2088 338 2228 \nQ 338 2497 613 2722 \nQ 888 2947 1384 2947 \nQ 1766 2947 2009 2819 \nQ 2194 2722 2281 2516 \nQ 2338 2381 2338 1966 \nL 2338 994 \nQ 2338 584 2353 492 \nQ 2369 400 2405 369 \nQ 2441 338 2488 338 \nQ 2538 338 2575 359 \nQ 2641 400 2828 588 \nL 2828 413 \nQ 2478 -56 2159 -56 \nQ 2006 -56 1915 50 \nQ 1825 156 1822 413 \nz\nM 1822 616 \nL 1822 1706 \nQ 1350 1519 1213 1441 \nQ 966 1303 859 1153 \nQ 753 1003 753 825 \nQ 753 600 887 451 \nQ 1022 303 1197 303 \nQ 1434 303 1822 616 \nz\n\" transform=\"scale(0.015625)\"/>\n      </defs>\n      <use xlink:href=\"#STIXGeneral-Italic-70\" transform=\"translate(0 0.78125)\"/>\n      <use xlink:href=\"#TimesNewRomanPSMT-2c\" transform=\"translate(50.399994 0.78125)\"/>\n      <use xlink:href=\"#TimesNewRomanPSMT-20\" transform=\"translate(75.399994 0.78125)\"/>\n      <use xlink:href=\"#TimesNewRomanPSMT-41c\" transform=\"translate(100.399994 0.78125)\"/>\n      <use xlink:href=\"#TimesNewRomanPSMT-41f\" transform=\"translate(189.31601 0.78125)\"/>\n      <use xlink:href=\"#TimesNewRomanPSMT-430\" transform=\"translate(261.532806 0.78125)\"/>\n     </g>\n    </g>\n   </g>\n   <g id=\"line2d_31\">\n    <path d=\"M 51.915937 370.423636 \nL 52.326695 369.207111 \nL 52.874371 366.771599 \nL 53.513327 362.792562 \nL 54.289201 356.396756 \nL 55.247635 346.422616 \nL 56.525546 330.507147 \nL 61.545912 265.280159 \nL 62.915103 251.556837 \nL 64.193015 240.881079 \nL 65.425286 232.411215 \nL 66.611918 225.76337 \nL 67.752911 220.579505 \nL 68.893903 216.403112 \nL 69.989255 213.190827 \nL 71.084608 210.629829 \nL 72.179961 208.60931 \nL 73.275313 207.034692 \nL 74.416306 205.782769 \nL 75.557298 204.853762 \nL 76.74393 204.1643 \nL 78.021841 203.67405 \nL 79.436672 203.370958 \nL 81.034061 203.260347 \nL 82.905288 203.360604 \nL 85.187273 203.716564 \nL 88.108213 204.411926 \nL 90.11636 205.068178 \nL 128.59062 217.981342 \nL 145.568585 223.330165 \nL 162.820389 228.532335 \nL 180.482949 233.625514 \nL 198.601907 238.618162 \nL 217.131622 243.492142 \nL 236.117734 248.255552 \nL 255.605882 252.914504 \nL 275.641707 257.47454 \nL 296.179568 261.91991 \nL 317.310745 266.265138 \nL 319.729649 266.748373 \nL 320.140406 270.721424 \nL 321.509597 282.944583 \nL 322.924427 293.632737 \nL 324.384898 302.976907 \nL 325.845368 310.917661 \nL 327.351478 317.900321 \nL 328.903227 324.039924 \nL 330.454977 329.295721 \nL 332.052366 333.941616 \nL 333.695395 338.048228 \nL 335.384063 341.678461 \nL 337.118372 344.888184 \nL 338.89832 347.726917 \nL 340.769547 350.296651 \nL 342.732054 352.61191 \nL 344.78584 354.689115 \nL 346.930905 356.546007 \nL 349.21289 358.231851 \nL 351.677433 359.777037 \nL 354.370175 361.198677 \nL 357.291115 362.48653 \nL 360.531534 363.668061 \nL 364.137069 364.741807 \nL 368.199002 365.715715 \nL 372.85425 366.598224 \nL 378.239734 367.387898 \nL 384.629291 368.092824 \nL 392.296759 368.707735 \nL 401.789815 369.237476 \nL 413.929973 369.681861 \nL 430.177703 370.041413 \nL 444.189089 370.229904 \nL 444.189089 370.229904 \n\" clip-path=\"url(#p971802ad52)\" style=\"fill: none; stroke: #2ca02c; stroke-width: 1.5; stroke-linecap: square\"/>\n   </g>\n   <g id=\"line2d_32\">\n    <path d=\"M 51.915937 24.496364 \nL 609.915938 24.496364 \n\" clip-path=\"url(#p971802ad52)\" style=\"fill: none; stroke-dasharray: 5.55,2.4; stroke-dashoffset: 0; stroke: #ffa500; stroke-width: 1.5\"/>\n   </g>\n   <g id=\"line2d_33\">\n    <path d=\"M 51.915937 250.195378 \nL 609.915938 250.195378 \n\" clip-path=\"url(#p971802ad52)\" style=\"fill: none; stroke-dasharray: 5.55,2.4; stroke-dashoffset: 0; stroke: #ffa500; stroke-width: 1.5\"/>\n   </g>\n   <g id=\"line2d_34\">\n    <path d=\"M 51.915937 175.043703 \nL 609.915938 175.043703 \n\" clip-path=\"url(#p971802ad52)\" style=\"fill: none; stroke-dasharray: 5.55,2.4; stroke-dashoffset: 0; stroke: #ffa500; stroke-width: 1.5\"/>\n   </g>\n   <g id=\"line2d_35\">\n    <path d=\"M 51.915937 370.423636 \nL 52.281055 369.25338 \nL 52.737452 366.975993 \nL 53.285128 363.001045 \nL 53.924084 356.594547 \nL 54.699959 346.295791 \nL 55.612753 330.98814 \nL 56.845024 306.142945 \nL 59.674685 242.584497 \nL 61.454633 205.980554 \nL 62.869464 181.227206 \nL 64.147375 162.513617 \nL 65.379647 147.608197 \nL 66.566279 135.884866 \nL 67.707271 126.736609 \nL 68.802623 119.632883 \nL 69.897976 113.921428 \nL 70.993329 109.378587 \nL 72.043042 105.940864 \nL 73.092754 103.249373 \nL 74.096828 101.257438 \nL 75.100901 99.740579 \nL 76.104974 98.620917 \nL 77.109047 97.832661 \nL 78.113121 97.321067 \nL 79.162834 97.032303 \nL 80.303826 96.95418 \nL 81.536097 97.09442 \nL 82.950928 97.484662 \nL 84.593957 98.176388 \nL 86.556464 99.251745 \nL 88.792808 100.727699 \nL 92.717822 103.772439 \nL 98.92482 108.903483 \nL 120.694953 127.067421 \nL 130.826965 135.147999 \nL 140.776417 142.798404 \nL 150.77151 150.202735 \nL 160.812242 157.364167 \nL 170.944254 164.318809 \nL 181.258824 171.129276 \nL 191.664674 177.734007 \nL 202.253082 184.191339 \nL 209.96619 188.734239 \nL 210.05747 189.815438 \nL 211.42666 212.062114 \nL 212.841491 231.494877 \nL 214.256321 247.978312 \nL 215.716791 262.460665 \nL 217.222901 275.182145 \nL 218.729011 286.052264 \nL 220.280761 295.651984 \nL 221.83251 303.903968 \nL 223.429899 311.227035 \nL 225.072928 317.72452 \nL 226.715957 323.34413 \nL 228.404626 328.352665 \nL 230.138934 332.816002 \nL 231.918882 336.793401 \nL 233.74447 340.338011 \nL 235.615697 343.497422 \nL 237.578204 346.376593 \nL 239.58635 348.934767 \nL 241.685776 351.256061 \nL 243.922121 353.395192 \nL 246.249745 355.315638 \nL 248.759928 357.095221 \nL 251.40703 358.699974 \nL 254.282331 360.182465 \nL 257.43147 361.551582 \nL 260.854447 362.795479 \nL 264.688181 363.947174 \nL 268.978312 364.997661 \nL 273.816119 365.94851 \nL 279.384161 366.810362 \nL 285.864998 367.581792 \nL 293.532466 368.263776 \nL 302.842963 368.860181 \nL 314.435445 369.369833 \nL 329.359624 369.792354 \nL 349.623647 370.129897 \nL 358.797225 370.229789 \nL 358.797225 370.229789 \n\" clip-path=\"url(#p971802ad52)\" style=\"fill: none; stroke: #d62728; stroke-width: 1.5; stroke-linecap: square\"/>\n   </g>\n   <g id=\"line2d_36\">\n    <path d=\"M 51.915937 370.423636 \nL 52.372334 369.152817 \nL 52.96565 366.787704 \nL 53.695885 362.889334 \nL 54.608679 356.706484 \nL 55.840951 346.66934 \nL 61.043876 302.268829 \nL 62.413067 293.394251 \nL 63.690978 286.524606 \nL 64.92325 281.098857 \nL 66.109882 276.858369 \nL 67.250874 273.565272 \nL 68.391866 270.922546 \nL 69.532859 268.822832 \nL 70.673851 267.171294 \nL 71.860483 265.841584 \nL 73.092754 264.798087 \nL 74.370666 264.004565 \nL 75.785496 263.393113 \nL 77.337246 262.968255 \nL 79.117194 262.713068 \nL 81.262259 262.634833 \nL 84.000641 262.767927 \nL 87.788735 263.190269 \nL 90.207639 263.625859 \nL 96.962313 264.799085 \nL 109.421949 266.704162 \nL 134.249942 270.251372 \nL 164.554697 274.361586 \nL 195.863525 278.384221 \nL 228.222067 282.317942 \nL 261.76724 286.170977 \nL 296.407767 289.925145 \nL 332.326204 293.59239 \nL 369.476913 297.161296 \nL 408.042453 300.64127 \nL 448.114102 304.032493 \nL 477.506064 306.38439 \nL 478.281938 311.009883 \nL 479.696769 318.467863 \nL 481.111599 324.771225 \nL 482.572069 330.290705 \nL 484.078179 335.123439 \nL 485.629929 339.355252 \nL 487.227318 343.061722 \nL 488.870347 346.309213 \nL 490.559015 349.155893 \nL 492.293324 351.652603 \nL 494.118911 353.895579 \nL 496.035778 355.900815 \nL 498.089565 357.723244 \nL 500.28027 359.363899 \nL 502.607894 360.828838 \nL 505.163717 362.171452 \nL 507.947738 363.381069 \nL 511.051237 364.484459 \nL 514.565493 365.491715 \nL 518.536147 366.39391 \nL 523.145755 367.20747 \nL 528.576879 367.932465 \nL 535.057715 368.56626 \nL 543.044661 369.115509 \nL 553.176673 369.579274 \nL 566.594742 369.958594 \nL 583.344509 370.229693 \nL 583.344509 370.229693 \n\" clip-path=\"url(#p971802ad52)\" style=\"fill: none; stroke: #1f77b4; stroke-width: 1.5; stroke-linecap: square\"/>\n   </g>\n   <g id=\"line2d_37\">\n    <path d=\"M 223.977576 387.72 \nL 223.977576 7.2 \n\" clip-path=\"url(#p971802ad52)\" style=\"fill: none; stroke-dasharray: 5.55,2.4; stroke-dashoffset: 0; stroke: #808080; stroke-width: 1.5\"/>\n   </g>\n   <g id=\"patch_3\">\n    <path d=\"M 51.915937 387.72 \nL 51.915937 7.2 \n\" style=\"fill: none; stroke: #000000; stroke-width: 0.8; stroke-linejoin: miter; stroke-linecap: square\"/>\n   </g>\n   <g id=\"patch_4\">\n    <path d=\"M 609.915938 387.72 \nL 609.915938 7.2 \n\" style=\"fill: none; stroke: #000000; stroke-width: 0.8; stroke-linejoin: miter; stroke-linecap: square\"/>\n   </g>\n   <g id=\"patch_5\">\n    <path d=\"M 51.915937 387.72 \nL 609.915938 387.72 \n\" style=\"fill: none; stroke: #000000; stroke-width: 0.8; stroke-linejoin: miter; stroke-linecap: square\"/>\n   </g>\n   <g id=\"patch_6\">\n    <path d=\"M 51.915937 7.2 \nL 609.915938 7.2 \n\" style=\"fill: none; stroke: #000000; stroke-width: 0.8; stroke-linejoin: miter; stroke-linecap: square\"/>\n   </g>\n   <g id=\"legend_1\">\n    <g id=\"patch_7\">\n     <path d=\"M 499.595937 98.364062 \nL 600.115937 98.364062 \nQ 602.915937 98.364062 602.915937 95.564062 \nL 602.915937 17 \nQ 602.915937 14.2 600.115937 14.2 \nL 499.595937 14.2 \nQ 496.795937 14.2 496.795937 17 \nL 496.795937 95.564062 \nQ 496.795937 98.364062 499.595937 98.364062 \nz\n\" style=\"fill: #ffffff; opacity: 0.8; stroke: #cccccc; stroke-linejoin: miter\"/>\n    </g>\n    <g id=\"line2d_38\">\n     <path d=\"M 502.395938 24.7 \nL 516.395937 24.7 \nL 530.395937 24.7 \n\" style=\"fill: none; stroke: #2ca02c; stroke-width: 1.5; stroke-linecap: square\"/>\n    </g>\n    <g id=\"text_18\">\n     <!-- $\\mathit{t}$ = +18°C -->\n     <g transform=\"translate(541.595937 29.6)scale(0.14 -0.14)\">\n      <defs>\n       <path id=\"TimesNewRomanPSMT-3d\" d=\"M 116 2759 \nL 3488 2759 \nL 3488 2503 \nL 116 2503 \nL 116 2759 \nz\nM 116 1741 \nL 3488 1741 \nL 3488 1484 \nL 116 1484 \nL 116 1741 \nz\n\" transform=\"scale(0.015625)\"/>\n       <path id=\"TimesNewRomanPSMT-2b\" d=\"M 1672 441 \nL 1672 2000 \nL 116 2000 \nL 116 2256 \nL 1672 2256 \nL 1672 3809 \nL 1922 3809 \nL 1922 2256 \nL 3484 2256 \nL 3484 2000 \nL 1922 2000 \nL 1922 441 \nL 1672 441 \nz\n\" transform=\"scale(0.015625)\"/>\n       <path id=\"TimesNewRomanPSMT-b0\" d=\"M 1266 4331 \nQ 1669 4331 1948 4050 \nQ 2228 3769 2228 3369 \nQ 2228 2972 1947 2690 \nQ 1666 2409 1266 2409 \nQ 869 2409 587 2690 \nQ 306 2972 306 3369 \nQ 306 3769 586 4050 \nQ 866 4331 1266 4331 \nz\nM 1266 4069 \nQ 975 4069 772 3866 \nQ 569 3663 569 3372 \nQ 569 3084 772 2879 \nQ 975 2675 1266 2675 \nQ 1553 2675 1758 2879 \nQ 1963 3084 1963 3372 \nQ 1963 3663 1759 3866 \nQ 1556 4069 1266 4069 \nz\n\" transform=\"scale(0.015625)\"/>\n       <path id=\"TimesNewRomanPSMT-43\" d=\"M 3853 4334 \nL 3950 2894 \nL 3853 2894 \nQ 3659 3541 3300 3825 \nQ 2941 4109 2438 4109 \nQ 2016 4109 1675 3895 \nQ 1334 3681 1139 3212 \nQ 944 2744 944 2047 \nQ 944 1472 1128 1050 \nQ 1313 628 1683 403 \nQ 2053 178 2528 178 \nQ 2941 178 3256 354 \nQ 3572 531 3950 1056 \nL 4047 994 \nQ 3728 428 3303 165 \nQ 2878 -97 2294 -97 \nQ 1241 -97 663 684 \nQ 231 1266 231 2053 \nQ 231 2688 515 3219 \nQ 800 3750 1298 4042 \nQ 1797 4334 2388 4334 \nQ 2847 4334 3294 4109 \nQ 3425 4041 3481 4041 \nQ 3566 4041 3628 4100 \nQ 3709 4184 3744 4334 \nL 3853 4334 \nz\n\" transform=\"scale(0.015625)\"/>\n      </defs>\n      <use xlink:href=\"#STIXGeneral-Italic-74\" transform=\"translate(0 0.28125)\"/>\n      <use xlink:href=\"#TimesNewRomanPSMT-20\" transform=\"translate(27.799988 0.28125)\"/>\n      <use xlink:href=\"#TimesNewRomanPSMT-3d\" transform=\"translate(52.799988 0.28125)\"/>\n      <use xlink:href=\"#TimesNewRomanPSMT-20\" transform=\"translate(109.196472 0.28125)\"/>\n      <use xlink:href=\"#TimesNewRomanPSMT-2b\" transform=\"translate(134.196472 0.28125)\"/>\n      <use xlink:href=\"#TimesNewRomanPSMT-31\" transform=\"translate(190.592957 0.28125)\"/>\n      <use xlink:href=\"#TimesNewRomanPSMT-38\" transform=\"translate(240.592957 0.28125)\"/>\n      <use xlink:href=\"#TimesNewRomanPSMT-b0\" transform=\"translate(290.592957 0.28125)\"/>\n      <use xlink:href=\"#TimesNewRomanPSMT-43\" transform=\"translate(330.583191 0.28125)\"/>\n     </g>\n    </g>\n    <g id=\"line2d_39\">\n     <path d=\"M 502.395938 44.494687 \nL 516.395937 44.494687 \nL 530.395937 44.494687 \n\" style=\"fill: none; stroke: #d62728; stroke-width: 1.5; stroke-linecap: square\"/>\n    </g>\n    <g id=\"text_19\">\n     <!-- $\\mathit{t}$ = +50°C -->\n     <g transform=\"translate(541.595937 49.394687)scale(0.14 -0.14)\">\n      <use xlink:href=\"#STIXGeneral-Italic-74\" transform=\"translate(0 0.28125)\"/>\n      <use xlink:href=\"#TimesNewRomanPSMT-20\" transform=\"translate(27.799988 0.28125)\"/>\n      <use xlink:href=\"#TimesNewRomanPSMT-3d\" transform=\"translate(52.799988 0.28125)\"/>\n      <use xlink:href=\"#TimesNewRomanPSMT-20\" transform=\"translate(109.196472 0.28125)\"/>\n      <use xlink:href=\"#TimesNewRomanPSMT-2b\" transform=\"translate(134.196472 0.28125)\"/>\n      <use xlink:href=\"#TimesNewRomanPSMT-35\" transform=\"translate(190.592957 0.28125)\"/>\n      <use xlink:href=\"#TimesNewRomanPSMT-30\" transform=\"translate(240.592957 0.28125)\"/>\n      <use xlink:href=\"#TimesNewRomanPSMT-b0\" transform=\"translate(290.592957 0.28125)\"/>\n      <use xlink:href=\"#TimesNewRomanPSMT-43\" transform=\"translate(330.583191 0.28125)\"/>\n     </g>\n    </g>\n    <g id=\"line2d_40\">\n     <path d=\"M 502.395938 64.289375 \nL 516.395937 64.289375 \nL 530.395937 64.289375 \n\" style=\"fill: none; stroke: #1f77b4; stroke-width: 1.5; stroke-linecap: square\"/>\n    </g>\n    <g id=\"text_20\">\n     <!-- $\\mathit{t}$ = $-$50°C -->\n     <g transform=\"translate(541.595937 69.189375)scale(0.14 -0.14)\">\n      <defs>\n       <path id=\"TimesNewRomanPSMT-2212\" d=\"M 3484 2000 \nL 116 2000 \nL 116 2256 \nL 3484 2256 \nL 3484 2000 \nz\n\" transform=\"scale(0.015625)\"/>\n      </defs>\n      <use xlink:href=\"#STIXGeneral-Italic-74\" transform=\"translate(0 0.28125)\"/>\n      <use xlink:href=\"#TimesNewRomanPSMT-20\" transform=\"translate(27.799988 0.28125)\"/>\n      <use xlink:href=\"#TimesNewRomanPSMT-3d\" transform=\"translate(52.799988 0.28125)\"/>\n      <use xlink:href=\"#TimesNewRomanPSMT-20\" transform=\"translate(109.196472 0.28125)\"/>\n      <use xlink:href=\"#TimesNewRomanPSMT-2212\" transform=\"translate(134.196472 0.28125)\"/>\n      <use xlink:href=\"#TimesNewRomanPSMT-35\" transform=\"translate(190.592957 0.28125)\"/>\n      <use xlink:href=\"#TimesNewRomanPSMT-30\" transform=\"translate(240.592957 0.28125)\"/>\n      <use xlink:href=\"#TimesNewRomanPSMT-b0\" transform=\"translate(290.592957 0.28125)\"/>\n      <use xlink:href=\"#TimesNewRomanPSMT-43\" transform=\"translate(330.583191 0.28125)\"/>\n     </g>\n    </g>\n    <g id=\"line2d_41\">\n     <path d=\"M 502.395938 84.084062 \nL 516.395937 84.084062 \nL 530.395937 84.084062 \n\" style=\"fill: none; stroke-dasharray: 5.55,2.4; stroke-dashoffset: 0; stroke: #808080; stroke-width: 1.5\"/>\n    </g>\n    <g id=\"text_21\">\n     <!-- $\\mathit{t}_{всп}$ + $\\mathit{t}_г$ -->\n     <g transform=\"translate(541.595937 88.984062)scale(0.14 -0.14)\">\n      <defs>\n       <path id=\"TimesNewRomanPSMT-432\" d=\"M 2016 1513 \nQ 2800 1350 2800 778 \nQ 2800 388 2473 194 \nQ 2147 0 1563 0 \nL 150 0 \nL 150 116 \nQ 428 116 501 220 \nQ 575 325 575 672 \nL 575 2191 \nQ 575 2528 542 2587 \nQ 509 2647 439 2695 \nQ 369 2744 150 2744 \nL 150 2863 \nL 1469 2863 \nQ 1850 2863 2086 2803 \nQ 2322 2744 2473 2569 \nQ 2625 2394 2625 2144 \nQ 2625 1656 2016 1513 \nz\nM 1094 1584 \nQ 1231 1581 1259 1581 \nQ 1688 1581 1878 1745 \nQ 2069 1909 2069 2144 \nQ 2069 2416 1875 2537 \nQ 1681 2659 1256 2659 \nL 1094 2659 \nL 1094 1584 \nz\nM 1094 253 \nQ 1250 203 1466 203 \nQ 1838 203 2019 365 \nQ 2200 528 2200 784 \nQ 2200 1072 1965 1225 \nQ 1731 1378 1316 1378 \nQ 1213 1378 1094 1372 \nL 1094 253 \nz\n\" transform=\"scale(0.015625)\"/>\n       <path id=\"TimesNewRomanPSMT-43f\" d=\"M 2331 2659 \nL 1094 2659 \nL 1094 672 \nQ 1094 341 1128 277 \nQ 1163 213 1236 164 \nQ 1309 116 1528 116 \nL 1528 0 \nL 144 0 \nL 144 116 \nQ 422 116 500 217 \nQ 578 319 578 672 \nL 578 2191 \nQ 578 2525 543 2586 \nQ 509 2647 437 2695 \nQ 366 2744 144 2744 \nL 144 2863 \nL 3281 2863 \nL 3281 2744 \nQ 3072 2744 3000 2701 \nQ 2928 2659 2887 2596 \nQ 2847 2534 2847 2191 \nL 2847 672 \nQ 2847 341 2881 277 \nQ 2916 213 2989 164 \nQ 3063 116 3281 116 \nL 3281 0 \nL 1897 0 \nL 1897 116 \nQ 2156 116 2243 211 \nQ 2331 306 2331 672 \nL 2331 2659 \nz\n\" transform=\"scale(0.015625)\"/>\n       <path id=\"TimesNewRomanPSMT-433\" d=\"M 2469 2863 \nL 2584 2081 \nL 2447 2081 \nQ 2328 2469 2208 2564 \nQ 2088 2659 1700 2659 \nL 1094 2659 \nL 1094 672 \nQ 1094 341 1128 277 \nQ 1163 213 1236 164 \nQ 1309 116 1528 116 \nL 1528 0 \nL 97 0 \nL 97 116 \nQ 403 122 490 211 \nQ 578 300 578 672 \nL 578 2191 \nQ 578 2494 543 2580 \nQ 509 2666 423 2703 \nQ 338 2741 97 2744 \nL 97 2863 \nL 2469 2863 \nz\n\" transform=\"scale(0.015625)\"/>\n      </defs>\n      <use xlink:href=\"#STIXGeneral-Italic-74\" transform=\"translate(0 0.484375)\"/>\n      <use xlink:href=\"#TimesNewRomanPSMT-432\" transform=\"translate(27.799988 -25.278125)scale(0.7)\"/>\n      <use xlink:href=\"#TimesNewRomanPSMT-441\" transform=\"translate(60.851746 -25.278125)scale(0.7)\"/>\n      <use xlink:href=\"#TimesNewRomanPSMT-43f\" transform=\"translate(91.921082 -25.278125)scale(0.7)\"/>\n      <use xlink:href=\"#TimesNewRomanPSMT-20\" transform=\"translate(133.675769 0.484375)\"/>\n      <use xlink:href=\"#TimesNewRomanPSMT-2b\" transform=\"translate(158.675769 0.484375)\"/>\n      <use xlink:href=\"#TimesNewRomanPSMT-20\" transform=\"translate(215.072253 0.484375)\"/>\n      <use xlink:href=\"#STIXGeneral-Italic-74\" transform=\"translate(240.072253 0.484375)\"/>\n      <use xlink:href=\"#TimesNewRomanPSMT-433\" transform=\"translate(267.872241 -25.278125)scale(0.7)\"/>\n     </g>\n    </g>\n   </g>\n  </g>\n </g>\n <defs>\n  <clipPath id=\"p971802ad52\">\n   <rect x=\"51.915937\" y=\"7.2\" width=\"558\" height=\"380.52\"/>\n  </clipPath>\n </defs>\n</svg>\n",
      "text/plain": [
       "<Figure size 720x504 with 1 Axes>"
      ]
     },
     "metadata": {
      "needs_background": "light"
     },
     "output_type": "display_data"
    }
   ],
   "source": [
    "plt.figure(figsize = (10,7))\n",
    "plt.plot(res18['t'],res18['p']/1e6, c = 'tab:green', label = '$\\mathit{t}$ = +18°C')\n",
    "plt.axhline(p1_max/1e6,ls = '--',c = 'orange')\n",
    "plt.axhline(p1_min/1e6,ls = '--',c = 'orange')\n",
    "plt.axhline(p1N/1e6,ls = '--',c = 'orange')\n",
    "plt.plot(res50['t'],res50['p']/1e6, c = 'tab:red', label = '$\\mathit{t}$ = +50°C')\n",
    "plt.plot(res_50['t'],res_50['p']/1e6, c = 'tab:blue', label = '$\\mathit{t}$ = $-$50°C')\n",
    "plt.axvline(t_g + 0.85e-3,ls = '--',c = 'grey', label = '$\\mathit{t}_{всп}$ + $\\mathit{t}_г$')\n",
    "\n",
    "plt.xlim(0)\n",
    "# plt.ylim(top = 18.5)\n",
    "plt.xlabel('$\\mathit{t}$, с')\n",
    "plt.ylabel('$\\mathit{p}$, МПа')\n",
    "plt.legend()\n",
    "plt.grid()\n",
    "# plt.savefig('Инд p.svg', dpi=500, bbox_inches='tight')\n",
    "plt.show()"
   ]
  },
  {
   "cell_type": "code",
   "execution_count": 21,
   "metadata": {},
   "outputs": [
    {
     "data": {
      "text/plain": [
       "(240.28388476438516, 245.85822843707808, 322.3310659444967, 160)"
      ]
     },
     "execution_count": 21,
     "metadata": {},
     "output_type": "execute_result"
    }
   ],
   "source": [
    "G_ts = lambda res, T_0: np.array([S_zar(abs(e_t)) * propel.rho * propel.u(p,T_0) for e_t, p in zip(res['e_t'],res['p'])])\n",
    "Ps = lambda res, T_0: 1.365*np.array([G_t * V_a + np.pi * zeta * D_kr**2 / 4 * (p * 1.05 * pi(lambda_a,propel.k) - p_atm) for G_t, p in zip(G_ts(res,T_0),res['p'])])\n",
    "\n",
    "I_sumf = lambda res, T_0: simps(Ps(res,T_0),res['t'])\n",
    "\n",
    "# Импульсы\n",
    "I_sumf(res_50,T_min), I_sumf(res18,T_nom), I_sumf(res_50,T_max), I_kor"
   ]
  },
  {
   "cell_type": "code",
   "execution_count": 22,
   "metadata": {},
   "outputs": [
    {
     "data": {
      "image/svg+xml": "<?xml version=\"1.0\" encoding=\"utf-8\" standalone=\"no\"?>\n<!DOCTYPE svg PUBLIC \"-//W3C//DTD SVG 1.1//EN\"\n  \"http://www.w3.org/Graphics/SVG/1.1/DTD/svg11.dtd\">\n<svg xmlns:xlink=\"http://www.w3.org/1999/xlink\" width=\"612.042239pt\" height=\"431.351875pt\" viewBox=\"0 0 612.042239 431.351875\" xmlns=\"http://www.w3.org/2000/svg\" version=\"1.1\">\n <metadata>\n  <rdf:RDF xmlns:dc=\"http://purl.org/dc/elements/1.1/\" xmlns:cc=\"http://creativecommons.org/ns#\" xmlns:rdf=\"http://www.w3.org/1999/02/22-rdf-syntax-ns#\">\n   <cc:Work>\n    <dc:type rdf:resource=\"http://purl.org/dc/dcmitype/StillImage\"/>\n    <dc:date>2022-11-18T19:09:53.128422</dc:date>\n    <dc:format>image/svg+xml</dc:format>\n    <dc:creator>\n     <cc:Agent>\n      <dc:title>Matplotlib v3.5.2, https://matplotlib.org/</dc:title>\n     </cc:Agent>\n    </dc:creator>\n   </cc:Work>\n  </rdf:RDF>\n </metadata>\n <defs>\n  <style type=\"text/css\">*{stroke-linejoin: round; stroke-linecap: butt}</style>\n </defs>\n <g id=\"figure_1\">\n  <g id=\"patch_1\">\n   <path d=\"M 0 431.351875 \nL 612.042239 431.351875 \nL 612.042239 0 \nL 0 0 \nL 0 431.351875 \nz\n\" style=\"fill: none\"/>\n  </g>\n  <g id=\"axes_1\">\n   <g id=\"patch_2\">\n    <path d=\"M 44.915937 387.72 \nL 602.915938 387.72 \nL 602.915938 7.2 \nL 44.915937 7.2 \nz\n\" style=\"fill: #ffffff\"/>\n   </g>\n   <g id=\"matplotlib.axis_1\">\n    <g id=\"xtick_1\">\n     <g id=\"line2d_1\">\n      <path d=\"M 44.915937 387.72 \nL 44.915937 7.2 \n\" clip-path=\"url(#p0e43b30b9c)\" style=\"fill: none; stroke: #b0b0b0; stroke-width: 0.8; stroke-linecap: square\"/>\n     </g>\n     <g id=\"line2d_2\">\n      <defs>\n       <path id=\"mcb17b63ce2\" d=\"M 0 0 \nL 0 3.5 \n\" style=\"stroke: #000000; stroke-width: 0.8\"/>\n      </defs>\n      <g>\n       <use xlink:href=\"#mcb17b63ce2\" x=\"44.915937\" y=\"387.72\" style=\"stroke: #000000; stroke-width: 0.8\"/>\n      </g>\n     </g>\n     <g id=\"text_1\">\n      <!-- 0.00 -->\n      <g transform=\"translate(32.665937 404.44125)scale(0.14 -0.14)\">\n       <defs>\n        <path id=\"TimesNewRomanPSMT-30\" d=\"M 231 2094 \nQ 231 2819 450 3342 \nQ 669 3866 1031 4122 \nQ 1313 4325 1613 4325 \nQ 2100 4325 2488 3828 \nQ 2972 3213 2972 2159 \nQ 2972 1422 2759 906 \nQ 2547 391 2217 158 \nQ 1888 -75 1581 -75 \nQ 975 -75 572 641 \nQ 231 1244 231 2094 \nz\nM 844 2016 \nQ 844 1141 1059 588 \nQ 1238 122 1591 122 \nQ 1759 122 1940 273 \nQ 2122 425 2216 781 \nQ 2359 1319 2359 2297 \nQ 2359 3022 2209 3506 \nQ 2097 3866 1919 4016 \nQ 1791 4119 1609 4119 \nQ 1397 4119 1231 3928 \nQ 1006 3669 925 3112 \nQ 844 2556 844 2016 \nz\n\" transform=\"scale(0.015625)\"/>\n        <path id=\"TimesNewRomanPSMT-2e\" d=\"M 800 606 \nQ 947 606 1047 504 \nQ 1147 403 1147 259 \nQ 1147 116 1045 14 \nQ 944 -88 800 -88 \nQ 656 -88 554 14 \nQ 453 116 453 259 \nQ 453 406 554 506 \nQ 656 606 800 606 \nz\n\" transform=\"scale(0.015625)\"/>\n       </defs>\n       <use xlink:href=\"#TimesNewRomanPSMT-30\"/>\n       <use xlink:href=\"#TimesNewRomanPSMT-2e\" x=\"50\"/>\n       <use xlink:href=\"#TimesNewRomanPSMT-30\" x=\"75\"/>\n       <use xlink:href=\"#TimesNewRomanPSMT-30\" x=\"125\"/>\n      </g>\n     </g>\n    </g>\n    <g id=\"xtick_2\">\n     <g id=\"line2d_3\">\n      <path d=\"M 136.195321 387.72 \nL 136.195321 7.2 \n\" clip-path=\"url(#p0e43b30b9c)\" style=\"fill: none; stroke: #b0b0b0; stroke-width: 0.8; stroke-linecap: square\"/>\n     </g>\n     <g id=\"line2d_4\">\n      <g>\n       <use xlink:href=\"#mcb17b63ce2\" x=\"136.195321\" y=\"387.72\" style=\"stroke: #000000; stroke-width: 0.8\"/>\n      </g>\n     </g>\n     <g id=\"text_2\">\n      <!-- 0.01 -->\n      <g transform=\"translate(123.945321 404.44125)scale(0.14 -0.14)\">\n       <defs>\n        <path id=\"TimesNewRomanPSMT-31\" d=\"M 750 3822 \nL 1781 4325 \nL 1884 4325 \nL 1884 747 \nQ 1884 391 1914 303 \nQ 1944 216 2037 169 \nQ 2131 122 2419 116 \nL 2419 0 \nL 825 0 \nL 825 116 \nQ 1125 122 1212 167 \nQ 1300 213 1334 289 \nQ 1369 366 1369 747 \nL 1369 3034 \nQ 1369 3497 1338 3628 \nQ 1316 3728 1258 3775 \nQ 1200 3822 1119 3822 \nQ 1003 3822 797 3725 \nL 750 3822 \nz\n\" transform=\"scale(0.015625)\"/>\n       </defs>\n       <use xlink:href=\"#TimesNewRomanPSMT-30\"/>\n       <use xlink:href=\"#TimesNewRomanPSMT-2e\" x=\"50\"/>\n       <use xlink:href=\"#TimesNewRomanPSMT-30\" x=\"75\"/>\n       <use xlink:href=\"#TimesNewRomanPSMT-31\" x=\"125\"/>\n      </g>\n     </g>\n    </g>\n    <g id=\"xtick_3\">\n     <g id=\"line2d_5\">\n      <path d=\"M 227.474705 387.72 \nL 227.474705 7.2 \n\" clip-path=\"url(#p0e43b30b9c)\" style=\"fill: none; stroke: #b0b0b0; stroke-width: 0.8; stroke-linecap: square\"/>\n     </g>\n     <g id=\"line2d_6\">\n      <g>\n       <use xlink:href=\"#mcb17b63ce2\" x=\"227.474705\" y=\"387.72\" style=\"stroke: #000000; stroke-width: 0.8\"/>\n      </g>\n     </g>\n     <g id=\"text_3\">\n      <!-- 0.02 -->\n      <g transform=\"translate(215.224705 404.44125)scale(0.14 -0.14)\">\n       <defs>\n        <path id=\"TimesNewRomanPSMT-32\" d=\"M 2934 816 \nL 2638 0 \nL 138 0 \nL 138 116 \nQ 1241 1122 1691 1759 \nQ 2141 2397 2141 2925 \nQ 2141 3328 1894 3587 \nQ 1647 3847 1303 3847 \nQ 991 3847 742 3664 \nQ 494 3481 375 3128 \nL 259 3128 \nQ 338 3706 661 4015 \nQ 984 4325 1469 4325 \nQ 1984 4325 2329 3994 \nQ 2675 3663 2675 3213 \nQ 2675 2891 2525 2569 \nQ 2294 2063 1775 1497 \nQ 997 647 803 472 \nL 1909 472 \nQ 2247 472 2383 497 \nQ 2519 522 2628 598 \nQ 2738 675 2819 816 \nL 2934 816 \nz\n\" transform=\"scale(0.015625)\"/>\n       </defs>\n       <use xlink:href=\"#TimesNewRomanPSMT-30\"/>\n       <use xlink:href=\"#TimesNewRomanPSMT-2e\" x=\"50\"/>\n       <use xlink:href=\"#TimesNewRomanPSMT-30\" x=\"75\"/>\n       <use xlink:href=\"#TimesNewRomanPSMT-32\" x=\"125\"/>\n      </g>\n     </g>\n    </g>\n    <g id=\"xtick_4\">\n     <g id=\"line2d_7\">\n      <path d=\"M 318.754088 387.72 \nL 318.754088 7.2 \n\" clip-path=\"url(#p0e43b30b9c)\" style=\"fill: none; stroke: #b0b0b0; stroke-width: 0.8; stroke-linecap: square\"/>\n     </g>\n     <g id=\"line2d_8\">\n      <g>\n       <use xlink:href=\"#mcb17b63ce2\" x=\"318.754088\" y=\"387.72\" style=\"stroke: #000000; stroke-width: 0.8\"/>\n      </g>\n     </g>\n     <g id=\"text_4\">\n      <!-- 0.03 -->\n      <g transform=\"translate(306.504088 404.44125)scale(0.14 -0.14)\">\n       <defs>\n        <path id=\"TimesNewRomanPSMT-33\" d=\"M 325 3431 \nQ 506 3859 782 4092 \nQ 1059 4325 1472 4325 \nQ 1981 4325 2253 3994 \nQ 2459 3747 2459 3466 \nQ 2459 3003 1878 2509 \nQ 2269 2356 2469 2072 \nQ 2669 1788 2669 1403 \nQ 2669 853 2319 450 \nQ 1863 -75 997 -75 \nQ 569 -75 414 31 \nQ 259 138 259 259 \nQ 259 350 332 419 \nQ 406 488 509 488 \nQ 588 488 669 463 \nQ 722 447 909 348 \nQ 1097 250 1169 231 \nQ 1284 197 1416 197 \nQ 1734 197 1970 444 \nQ 2206 691 2206 1028 \nQ 2206 1275 2097 1509 \nQ 2016 1684 1919 1775 \nQ 1784 1900 1550 2001 \nQ 1316 2103 1072 2103 \nL 972 2103 \nL 972 2197 \nQ 1219 2228 1467 2375 \nQ 1716 2522 1828 2728 \nQ 1941 2934 1941 3181 \nQ 1941 3503 1739 3701 \nQ 1538 3900 1238 3900 \nQ 753 3900 428 3381 \nL 325 3431 \nz\n\" transform=\"scale(0.015625)\"/>\n       </defs>\n       <use xlink:href=\"#TimesNewRomanPSMT-30\"/>\n       <use xlink:href=\"#TimesNewRomanPSMT-2e\" x=\"50\"/>\n       <use xlink:href=\"#TimesNewRomanPSMT-30\" x=\"75\"/>\n       <use xlink:href=\"#TimesNewRomanPSMT-33\" x=\"125\"/>\n      </g>\n     </g>\n    </g>\n    <g id=\"xtick_5\">\n     <g id=\"line2d_9\">\n      <path d=\"M 410.033472 387.72 \nL 410.033472 7.2 \n\" clip-path=\"url(#p0e43b30b9c)\" style=\"fill: none; stroke: #b0b0b0; stroke-width: 0.8; stroke-linecap: square\"/>\n     </g>\n     <g id=\"line2d_10\">\n      <g>\n       <use xlink:href=\"#mcb17b63ce2\" x=\"410.033472\" y=\"387.72\" style=\"stroke: #000000; stroke-width: 0.8\"/>\n      </g>\n     </g>\n     <g id=\"text_5\">\n      <!-- 0.04 -->\n      <g transform=\"translate(397.783472 404.44125)scale(0.14 -0.14)\">\n       <defs>\n        <path id=\"TimesNewRomanPSMT-34\" d=\"M 2978 1563 \nL 2978 1119 \nL 2409 1119 \nL 2409 0 \nL 1894 0 \nL 1894 1119 \nL 100 1119 \nL 100 1519 \nL 2066 4325 \nL 2409 4325 \nL 2409 1563 \nL 2978 1563 \nz\nM 1894 1563 \nL 1894 3666 \nL 406 1563 \nL 1894 1563 \nz\n\" transform=\"scale(0.015625)\"/>\n       </defs>\n       <use xlink:href=\"#TimesNewRomanPSMT-30\"/>\n       <use xlink:href=\"#TimesNewRomanPSMT-2e\" x=\"50\"/>\n       <use xlink:href=\"#TimesNewRomanPSMT-30\" x=\"75\"/>\n       <use xlink:href=\"#TimesNewRomanPSMT-34\" x=\"125\"/>\n      </g>\n     </g>\n    </g>\n    <g id=\"xtick_6\">\n     <g id=\"line2d_11\">\n      <path d=\"M 501.312856 387.72 \nL 501.312856 7.2 \n\" clip-path=\"url(#p0e43b30b9c)\" style=\"fill: none; stroke: #b0b0b0; stroke-width: 0.8; stroke-linecap: square\"/>\n     </g>\n     <g id=\"line2d_12\">\n      <g>\n       <use xlink:href=\"#mcb17b63ce2\" x=\"501.312856\" y=\"387.72\" style=\"stroke: #000000; stroke-width: 0.8\"/>\n      </g>\n     </g>\n     <g id=\"text_6\">\n      <!-- 0.05 -->\n      <g transform=\"translate(489.062856 404.44125)scale(0.14 -0.14)\">\n       <defs>\n        <path id=\"TimesNewRomanPSMT-35\" d=\"M 2778 4238 \nL 2534 3706 \nL 1259 3706 \nL 981 3138 \nQ 1809 3016 2294 2522 \nQ 2709 2097 2709 1522 \nQ 2709 1188 2573 903 \nQ 2438 619 2231 419 \nQ 2025 219 1772 97 \nQ 1413 -75 1034 -75 \nQ 653 -75 479 54 \nQ 306 184 306 341 \nQ 306 428 378 495 \nQ 450 563 559 563 \nQ 641 563 702 538 \nQ 763 513 909 409 \nQ 1144 247 1384 247 \nQ 1750 247 2026 523 \nQ 2303 800 2303 1197 \nQ 2303 1581 2056 1914 \nQ 1809 2247 1375 2428 \nQ 1034 2569 447 2591 \nL 1259 4238 \nL 2778 4238 \nz\n\" transform=\"scale(0.015625)\"/>\n       </defs>\n       <use xlink:href=\"#TimesNewRomanPSMT-30\"/>\n       <use xlink:href=\"#TimesNewRomanPSMT-2e\" x=\"50\"/>\n       <use xlink:href=\"#TimesNewRomanPSMT-30\" x=\"75\"/>\n       <use xlink:href=\"#TimesNewRomanPSMT-35\" x=\"125\"/>\n      </g>\n     </g>\n    </g>\n    <g id=\"xtick_7\">\n     <g id=\"line2d_13\">\n      <path d=\"M 592.592239 387.72 \nL 592.592239 7.2 \n\" clip-path=\"url(#p0e43b30b9c)\" style=\"fill: none; stroke: #b0b0b0; stroke-width: 0.8; stroke-linecap: square\"/>\n     </g>\n     <g id=\"line2d_14\">\n      <g>\n       <use xlink:href=\"#mcb17b63ce2\" x=\"592.592239\" y=\"387.72\" style=\"stroke: #000000; stroke-width: 0.8\"/>\n      </g>\n     </g>\n     <g id=\"text_7\">\n      <!-- 0.06 -->\n      <g transform=\"translate(580.342239 404.44125)scale(0.14 -0.14)\">\n       <defs>\n        <path id=\"TimesNewRomanPSMT-36\" d=\"M 2869 4325 \nL 2869 4209 \nQ 2456 4169 2195 4045 \nQ 1934 3922 1679 3669 \nQ 1425 3416 1258 3105 \nQ 1091 2794 978 2366 \nQ 1428 2675 1881 2675 \nQ 2316 2675 2634 2325 \nQ 2953 1975 2953 1425 \nQ 2953 894 2631 456 \nQ 2244 -75 1606 -75 \nQ 1172 -75 869 213 \nQ 275 772 275 1663 \nQ 275 2231 503 2743 \nQ 731 3256 1154 3653 \nQ 1578 4050 1965 4187 \nQ 2353 4325 2688 4325 \nL 2869 4325 \nz\nM 925 2138 \nQ 869 1716 869 1456 \nQ 869 1156 980 804 \nQ 1091 453 1309 247 \nQ 1469 100 1697 100 \nQ 1969 100 2183 356 \nQ 2397 613 2397 1088 \nQ 2397 1622 2184 2012 \nQ 1972 2403 1581 2403 \nQ 1463 2403 1327 2353 \nQ 1191 2303 925 2138 \nz\n\" transform=\"scale(0.015625)\"/>\n       </defs>\n       <use xlink:href=\"#TimesNewRomanPSMT-30\"/>\n       <use xlink:href=\"#TimesNewRomanPSMT-2e\" x=\"50\"/>\n       <use xlink:href=\"#TimesNewRomanPSMT-30\" x=\"75\"/>\n       <use xlink:href=\"#TimesNewRomanPSMT-36\" x=\"125\"/>\n      </g>\n     </g>\n    </g>\n    <g id=\"text_8\">\n     <!-- $\\mathit{t}$, с -->\n     <g transform=\"translate(315.305937 421.157187)scale(0.14 -0.14)\">\n      <defs>\n       <path id=\"STIXGeneral-Italic-74\" d=\"M 1894 2739 \nL 1862 2534 \nL 1325 2534 \nL 768 435 \nQ 755 384 755 346 \nQ 755 243 851 243 \nQ 928 243 1030 342 \nQ 1133 442 1370 749 \nL 1453 704 \nQ 1158 256 969 93 \nQ 781 -70 538 -70 \nQ 243 -70 243 166 \nQ 243 230 346 640 \nL 845 2534 \nL 365 2534 \nL 358 2573 \nQ 358 2688 570 2733 \nQ 730 2771 992 2979 \nQ 1254 3187 1421 3437 \nQ 1459 3494 1510 3494 \nQ 1568 3494 1568 3443 \nQ 1568 3411 1562 3398 \nL 1382 2739 \nL 1894 2739 \nz\n\" transform=\"scale(0.015625)\"/>\n       <path id=\"TimesNewRomanPSMT-2c\" d=\"M 344 -1066 \nL 344 -928 \nQ 666 -822 842 -598 \nQ 1019 -375 1019 -125 \nQ 1019 -66 991 -25 \nQ 969 3 947 3 \nQ 913 3 797 -59 \nQ 741 -88 678 -88 \nQ 525 -88 434 3 \nQ 344 94 344 253 \nQ 344 406 461 515 \nQ 578 625 747 625 \nQ 953 625 1114 445 \nQ 1275 266 1275 -31 \nQ 1275 -353 1051 -629 \nQ 828 -906 344 -1066 \nz\n\" transform=\"scale(0.015625)\"/>\n       <path id=\"TimesNewRomanPSMT-20\" transform=\"scale(0.015625)\"/>\n       <path id=\"TimesNewRomanPSMT-441\" d=\"M 2631 1088 \nQ 2516 522 2178 217 \nQ 1841 -88 1431 -88 \nQ 944 -88 581 321 \nQ 219 731 219 1428 \nQ 219 2103 620 2525 \nQ 1022 2947 1584 2947 \nQ 2006 2947 2278 2723 \nQ 2550 2500 2550 2259 \nQ 2550 2141 2473 2067 \nQ 2397 1994 2259 1994 \nQ 2075 1994 1981 2113 \nQ 1928 2178 1911 2362 \nQ 1894 2547 1784 2644 \nQ 1675 2738 1481 2738 \nQ 1169 2738 978 2506 \nQ 725 2200 725 1697 \nQ 725 1184 976 792 \nQ 1228 400 1656 400 \nQ 1963 400 2206 609 \nQ 2378 753 2541 1131 \nL 2631 1088 \nz\n\" transform=\"scale(0.015625)\"/>\n      </defs>\n      <use xlink:href=\"#STIXGeneral-Italic-74\" transform=\"translate(0 0.40625)\"/>\n      <use xlink:href=\"#TimesNewRomanPSMT-2c\" transform=\"translate(27.799988 0.40625)\"/>\n      <use xlink:href=\"#TimesNewRomanPSMT-20\" transform=\"translate(52.799988 0.40625)\"/>\n      <use xlink:href=\"#TimesNewRomanPSMT-441\" transform=\"translate(77.799988 0.40625)\"/>\n     </g>\n    </g>\n   </g>\n   <g id=\"matplotlib.axis_2\">\n    <g id=\"ytick_1\">\n     <g id=\"line2d_15\">\n      <path d=\"M 44.915937 372.01291 \nL 602.915938 372.01291 \n\" clip-path=\"url(#p0e43b30b9c)\" style=\"fill: none; stroke: #b0b0b0; stroke-width: 0.8; stroke-linecap: square\"/>\n     </g>\n     <g id=\"line2d_16\">\n      <defs>\n       <path id=\"mf330437748\" d=\"M 0 0 \nL -3.5 0 \n\" style=\"stroke: #000000; stroke-width: 0.8\"/>\n      </defs>\n      <g>\n       <use xlink:href=\"#mf330437748\" x=\"44.915937\" y=\"372.01291\" style=\"stroke: #000000; stroke-width: 0.8\"/>\n      </g>\n     </g>\n     <g id=\"text_9\">\n      <!-- 0 -->\n      <g transform=\"translate(30.915937 376.873535)scale(0.14 -0.14)\">\n       <use xlink:href=\"#TimesNewRomanPSMT-30\"/>\n      </g>\n     </g>\n    </g>\n    <g id=\"ytick_2\">\n     <g id=\"line2d_17\">\n      <path d=\"M 44.915937 327.205701 \nL 602.915938 327.205701 \n\" clip-path=\"url(#p0e43b30b9c)\" style=\"fill: none; stroke: #b0b0b0; stroke-width: 0.8; stroke-linecap: square\"/>\n     </g>\n     <g id=\"line2d_18\">\n      <g>\n       <use xlink:href=\"#mf330437748\" x=\"44.915937\" y=\"327.205701\" style=\"stroke: #000000; stroke-width: 0.8\"/>\n      </g>\n     </g>\n     <g id=\"text_10\">\n      <!-- 2 -->\n      <g transform=\"translate(30.915937 332.066326)scale(0.14 -0.14)\">\n       <use xlink:href=\"#TimesNewRomanPSMT-32\"/>\n      </g>\n     </g>\n    </g>\n    <g id=\"ytick_3\">\n     <g id=\"line2d_19\">\n      <path d=\"M 44.915937 282.398492 \nL 602.915938 282.398492 \n\" clip-path=\"url(#p0e43b30b9c)\" style=\"fill: none; stroke: #b0b0b0; stroke-width: 0.8; stroke-linecap: square\"/>\n     </g>\n     <g id=\"line2d_20\">\n      <g>\n       <use xlink:href=\"#mf330437748\" x=\"44.915937\" y=\"282.398492\" style=\"stroke: #000000; stroke-width: 0.8\"/>\n      </g>\n     </g>\n     <g id=\"text_11\">\n      <!-- 4 -->\n      <g transform=\"translate(30.915937 287.259117)scale(0.14 -0.14)\">\n       <use xlink:href=\"#TimesNewRomanPSMT-34\"/>\n      </g>\n     </g>\n    </g>\n    <g id=\"ytick_4\">\n     <g id=\"line2d_21\">\n      <path d=\"M 44.915937 237.591282 \nL 602.915938 237.591282 \n\" clip-path=\"url(#p0e43b30b9c)\" style=\"fill: none; stroke: #b0b0b0; stroke-width: 0.8; stroke-linecap: square\"/>\n     </g>\n     <g id=\"line2d_22\">\n      <g>\n       <use xlink:href=\"#mf330437748\" x=\"44.915937\" y=\"237.591282\" style=\"stroke: #000000; stroke-width: 0.8\"/>\n      </g>\n     </g>\n     <g id=\"text_12\">\n      <!-- 6 -->\n      <g transform=\"translate(30.915937 242.451907)scale(0.14 -0.14)\">\n       <use xlink:href=\"#TimesNewRomanPSMT-36\"/>\n      </g>\n     </g>\n    </g>\n    <g id=\"ytick_5\">\n     <g id=\"line2d_23\">\n      <path d=\"M 44.915937 192.784073 \nL 602.915938 192.784073 \n\" clip-path=\"url(#p0e43b30b9c)\" style=\"fill: none; stroke: #b0b0b0; stroke-width: 0.8; stroke-linecap: square\"/>\n     </g>\n     <g id=\"line2d_24\">\n      <g>\n       <use xlink:href=\"#mf330437748\" x=\"44.915937\" y=\"192.784073\" style=\"stroke: #000000; stroke-width: 0.8\"/>\n      </g>\n     </g>\n     <g id=\"text_13\">\n      <!-- 8 -->\n      <g transform=\"translate(30.915937 197.644698)scale(0.14 -0.14)\">\n       <defs>\n        <path id=\"TimesNewRomanPSMT-38\" d=\"M 1228 2134 \nQ 725 2547 579 2797 \nQ 434 3047 434 3316 \nQ 434 3728 753 4026 \nQ 1072 4325 1600 4325 \nQ 2113 4325 2425 4047 \nQ 2738 3769 2738 3413 \nQ 2738 3175 2569 2928 \nQ 2400 2681 1866 2347 \nQ 2416 1922 2594 1678 \nQ 2831 1359 2831 1006 \nQ 2831 559 2490 242 \nQ 2150 -75 1597 -75 \nQ 994 -75 656 303 \nQ 388 606 388 966 \nQ 388 1247 577 1523 \nQ 766 1800 1228 2134 \nz\nM 1719 2469 \nQ 2094 2806 2194 3001 \nQ 2294 3197 2294 3444 \nQ 2294 3772 2109 3958 \nQ 1925 4144 1606 4144 \nQ 1288 4144 1088 3959 \nQ 888 3775 888 3528 \nQ 888 3366 970 3203 \nQ 1053 3041 1206 2894 \nL 1719 2469 \nz\nM 1375 2016 \nQ 1116 1797 991 1539 \nQ 866 1281 866 981 \nQ 866 578 1086 336 \nQ 1306 94 1647 94 \nQ 1984 94 2187 284 \nQ 2391 475 2391 747 \nQ 2391 972 2272 1150 \nQ 2050 1481 1375 2016 \nz\n\" transform=\"scale(0.015625)\"/>\n       </defs>\n       <use xlink:href=\"#TimesNewRomanPSMT-38\"/>\n      </g>\n     </g>\n    </g>\n    <g id=\"ytick_6\">\n     <g id=\"line2d_25\">\n      <path d=\"M 44.915937 147.976864 \nL 602.915938 147.976864 \n\" clip-path=\"url(#p0e43b30b9c)\" style=\"fill: none; stroke: #b0b0b0; stroke-width: 0.8; stroke-linecap: square\"/>\n     </g>\n     <g id=\"line2d_26\">\n      <g>\n       <use xlink:href=\"#mf330437748\" x=\"44.915937\" y=\"147.976864\" style=\"stroke: #000000; stroke-width: 0.8\"/>\n      </g>\n     </g>\n     <g id=\"text_14\">\n      <!-- 10 -->\n      <g transform=\"translate(23.915937 152.837489)scale(0.14 -0.14)\">\n       <use xlink:href=\"#TimesNewRomanPSMT-31\"/>\n       <use xlink:href=\"#TimesNewRomanPSMT-30\" x=\"50\"/>\n      </g>\n     </g>\n    </g>\n    <g id=\"ytick_7\">\n     <g id=\"line2d_27\">\n      <path d=\"M 44.915937 103.169654 \nL 602.915938 103.169654 \n\" clip-path=\"url(#p0e43b30b9c)\" style=\"fill: none; stroke: #b0b0b0; stroke-width: 0.8; stroke-linecap: square\"/>\n     </g>\n     <g id=\"line2d_28\">\n      <g>\n       <use xlink:href=\"#mf330437748\" x=\"44.915937\" y=\"103.169654\" style=\"stroke: #000000; stroke-width: 0.8\"/>\n      </g>\n     </g>\n     <g id=\"text_15\">\n      <!-- 12 -->\n      <g transform=\"translate(23.915937 108.030279)scale(0.14 -0.14)\">\n       <use xlink:href=\"#TimesNewRomanPSMT-31\"/>\n       <use xlink:href=\"#TimesNewRomanPSMT-32\" x=\"50\"/>\n      </g>\n     </g>\n    </g>\n    <g id=\"ytick_8\">\n     <g id=\"line2d_29\">\n      <path d=\"M 44.915937 58.362445 \nL 602.915938 58.362445 \n\" clip-path=\"url(#p0e43b30b9c)\" style=\"fill: none; stroke: #b0b0b0; stroke-width: 0.8; stroke-linecap: square\"/>\n     </g>\n     <g id=\"line2d_30\">\n      <g>\n       <use xlink:href=\"#mf330437748\" x=\"44.915937\" y=\"58.362445\" style=\"stroke: #000000; stroke-width: 0.8\"/>\n      </g>\n     </g>\n     <g id=\"text_16\">\n      <!-- 14 -->\n      <g transform=\"translate(23.915937 63.22307)scale(0.14 -0.14)\">\n       <use xlink:href=\"#TimesNewRomanPSMT-31\"/>\n       <use xlink:href=\"#TimesNewRomanPSMT-34\" x=\"50\"/>\n      </g>\n     </g>\n    </g>\n    <g id=\"ytick_9\">\n     <g id=\"line2d_31\">\n      <path d=\"M 44.915937 13.555236 \nL 602.915938 13.555236 \n\" clip-path=\"url(#p0e43b30b9c)\" style=\"fill: none; stroke: #b0b0b0; stroke-width: 0.8; stroke-linecap: square\"/>\n     </g>\n     <g id=\"line2d_32\">\n      <g>\n       <use xlink:href=\"#mf330437748\" x=\"44.915937\" y=\"13.555236\" style=\"stroke: #000000; stroke-width: 0.8\"/>\n      </g>\n     </g>\n     <g id=\"text_17\">\n      <!-- 16 -->\n      <g transform=\"translate(23.915937 18.415861)scale(0.14 -0.14)\">\n       <use xlink:href=\"#TimesNewRomanPSMT-31\"/>\n       <use xlink:href=\"#TimesNewRomanPSMT-36\" x=\"50\"/>\n      </g>\n     </g>\n    </g>\n    <g id=\"text_18\">\n     <!-- $\\mathit{P}$, кН -->\n     <g transform=\"translate(16.92125 213.7)rotate(-90)scale(0.14 -0.14)\">\n      <defs>\n       <path id=\"STIXGeneral-Italic-50\" d=\"M 934 4179 \nL 2477 4179 \nQ 3872 4179 3872 3232 \nQ 3872 2976 3753 2729 \nQ 3635 2483 3437 2317 \nQ 2995 1952 2125 1952 \nQ 1773 1952 1549 2003 \nL 1210 768 \nQ 1120 422 1120 365 \nQ 1120 250 1216 189 \nQ 1312 128 1562 102 \nL 1562 0 \nL 0 0 \nL 0 102 \nQ 275 141 361 227 \nQ 448 314 538 627 \nL 1280 3277 \nQ 1389 3667 1389 3808 \nQ 1389 3936 1299 3990 \nQ 1210 4045 934 4077 \nL 934 4179 \nz\nM 2048 3789 \nL 1606 2221 \nQ 1792 2189 1939 2189 \nQ 2496 2189 2758 2342 \nQ 3213 2598 3213 3200 \nQ 3213 3987 2381 3987 \nQ 2099 3987 2048 3789 \nz\n\" transform=\"scale(0.015625)\"/>\n       <path id=\"TimesNewRomanPSMT-43a\" d=\"M 3072 0 \nL 2228 0 \nQ 1834 572 1516 1172 \nQ 1441 1309 1380 1376 \nQ 1319 1444 1213 1444 \nQ 1175 1444 1094 1438 \nL 1094 672 \nQ 1094 363 1130 277 \nQ 1166 191 1259 153 \nQ 1353 116 1575 116 \nL 1575 0 \nL 144 0 \nL 144 116 \nQ 422 116 500 217 \nQ 578 319 578 672 \nL 578 2191 \nQ 578 2525 543 2586 \nQ 509 2647 437 2695 \nQ 366 2744 144 2744 \nL 144 2863 \nL 1575 2863 \nL 1575 2744 \nQ 1316 2744 1255 2706 \nQ 1194 2669 1144 2614 \nQ 1094 2559 1094 2191 \nL 1094 1628 \nQ 1166 1622 1191 1622 \nQ 1381 1622 1548 1730 \nQ 1716 1838 1847 2188 \nQ 1969 2519 2048 2634 \nQ 2128 2750 2270 2823 \nQ 2413 2897 2569 2897 \nQ 2738 2897 2838 2815 \nQ 2938 2734 2938 2603 \nQ 2938 2494 2866 2417 \nQ 2794 2341 2666 2341 \nQ 2597 2341 2494 2378 \nQ 2363 2425 2294 2425 \nQ 2150 2425 2056 2178 \nQ 1950 1894 1900 1811 \nQ 1850 1728 1709 1591 \nQ 1806 1563 1920 1447 \nQ 2034 1331 2344 788 \nQ 2591 353 2714 237 \nQ 2838 122 3072 116 \nL 3072 0 \nz\n\" transform=\"scale(0.015625)\"/>\n       <path id=\"TimesNewRomanPSMT-41d\" d=\"M 1316 2272 \nL 3284 2272 \nL 3284 3484 \nQ 3284 3809 3244 3913 \nQ 3213 3991 3113 4047 \nQ 2978 4122 2828 4122 \nL 2678 4122 \nL 2678 4238 \nL 4491 4238 \nL 4491 4122 \nL 4341 4122 \nQ 4191 4122 4056 4050 \nQ 3956 4000 3920 3898 \nQ 3884 3797 3884 3484 \nL 3884 750 \nQ 3884 428 3925 325 \nQ 3956 247 4053 191 \nQ 4191 116 4341 116 \nL 4491 116 \nL 4491 0 \nL 2678 0 \nL 2678 116 \nL 2828 116 \nQ 3088 116 3206 269 \nQ 3284 369 3284 750 \nL 3284 2041 \nL 1316 2041 \nL 1316 750 \nQ 1316 428 1356 325 \nQ 1388 247 1488 191 \nQ 1622 116 1772 116 \nL 1925 116 \nL 1925 0 \nL 109 0 \nL 109 116 \nL 259 116 \nQ 522 116 641 269 \nQ 716 369 716 750 \nL 716 3484 \nQ 716 3809 675 3913 \nQ 644 3991 547 4047 \nQ 409 4122 259 4122 \nL 109 4122 \nL 109 4238 \nL 1925 4238 \nL 1925 4122 \nL 1772 4122 \nQ 1622 4122 1488 4050 \nQ 1391 4000 1353 3898 \nQ 1316 3797 1316 3484 \nL 1316 2272 \nz\n\" transform=\"scale(0.015625)\"/>\n      </defs>\n      <use xlink:href=\"#STIXGeneral-Italic-50\" transform=\"translate(0 0.78125)\"/>\n      <use xlink:href=\"#TimesNewRomanPSMT-2c\" transform=\"translate(61.099991 0.78125)\"/>\n      <use xlink:href=\"#TimesNewRomanPSMT-20\" transform=\"translate(86.099991 0.78125)\"/>\n      <use xlink:href=\"#TimesNewRomanPSMT-43a\" transform=\"translate(111.099991 0.78125)\"/>\n      <use xlink:href=\"#TimesNewRomanPSMT-41d\" transform=\"translate(159.683975 0.78125)\"/>\n     </g>\n    </g>\n   </g>\n   <g id=\"line2d_33\">\n    <path d=\"M 44.915937 370.079506 \nL 46.924084 339.549582 \nL 48.567113 308.9612 \nL 51.716252 250.072821 \nL 53.222361 226.282207 \nL 54.545912 208.651594 \nL 55.823824 194.525575 \nL 57.010456 183.758516 \nL 58.151448 175.294435 \nL 59.29244 168.429791 \nL 60.387793 163.11886 \nL 61.483146 158.860396 \nL 62.578498 155.479088 \nL 63.628211 152.921289 \nL 64.677924 150.916124 \nL 65.727637 149.367371 \nL 66.77735 148.194834 \nL 67.872702 147.299888 \nL 69.013695 146.658326 \nL 70.200327 146.244611 \nL 71.523878 146.02541 \nL 72.984348 146.013858 \nL 74.673017 146.227535 \nL 76.726803 146.722899 \nL 79.282625 147.58109 \nL 82.066647 148.738603 \nL 111.732446 162.764389 \nL 125.92639 169.140002 \nL 140.302893 175.353458 \nL 154.907595 181.423625 \nL 169.831774 187.385053 \nL 185.075431 193.233939 \nL 200.592926 198.949327 \nL 216.475539 204.561764 \nL 232.67763 210.050756 \nL 249.290477 215.443114 \nL 266.268443 220.719566 \nL 283.657165 225.890084 \nL 301.456645 230.950061 \nL 312.729649 234.038518 \nL 313.140406 237.909079 \nL 314.692156 251.577785 \nL 316.289545 263.689969 \nL 317.886934 274.160747 \nL 319.529963 283.509622 \nL 321.218632 291.866484 \nL 322.95294 299.345499 \nL 324.732888 306.047025 \nL 326.558476 312.059279 \nL 328.429703 317.459845 \nL 330.34657 322.316993 \nL 332.309077 326.690818 \nL 334.317223 330.634339 \nL 336.416649 334.268578 \nL 338.561715 337.543187 \nL 340.79806 340.555798 \nL 343.125684 343.321151 \nL 345.544587 345.854747 \nL 348.10041 348.211824 \nL 350.793152 350.39366 \nL 353.668453 352.434937 \nL 356.726312 354.33052 \nL 360.01237 356.10253 \nL 363.526626 357.744212 \nL 367.36036 359.287593 \nL 371.559212 360.734147 \nL 376.168821 362.082925 \nL 381.280466 363.342304 \nL 386.985428 364.513834 \nL 393.374984 365.59528 \nL 400.677335 366.600037 \nL 409.029399 367.519237 \nL 418.750653 368.359132 \nL 430.206216 369.118476 \nL 437.189089 369.489988 \nL 437.189089 369.489988 \n\" clip-path=\"url(#p0e43b30b9c)\" style=\"fill: none; stroke: #2ca02c; stroke-width: 1.5; stroke-linecap: square\"/>\n   </g>\n   <g id=\"line2d_34\">\n    <path d=\"M 44.915937 191.975878 \nL 602.915938 191.975878 \n\" clip-path=\"url(#p0e43b30b9c)\" style=\"fill: none; stroke-dasharray: 5.55,2.4; stroke-dashoffset: 0; stroke: #808080; stroke-width: 1.5\"/>\n   </g>\n   <g id=\"line2d_35\">\n    <path d=\"M 44.915937 369.86965 \nL 46.193849 346.695994 \nL 47.197922 323.12348 \nL 48.612753 283.976285 \nL 52.720325 166.8452 \nL 54.135155 134.177422 \nL 55.413067 109.474448 \nL 56.645338 89.823171 \nL 57.83197 74.406252 \nL 58.972963 62.418579 \nL 60.068315 53.150959 \nL 61.163668 45.738717 \nL 62.213381 40.096646 \nL 63.263094 35.648305 \nL 64.267167 32.325177 \nL 65.27124 29.761127 \nL 66.229674 27.905641 \nL 67.142467 26.589499 \nL 68.055261 25.64408 \nL 68.968055 25.012218 \nL 69.880849 24.644916 \nL 70.839282 24.499538 \nL 71.888995 24.576075 \nL 73.029988 24.889901 \nL 74.353539 25.496619 \nL 75.905288 26.4677 \nL 77.776516 27.918006 \nL 80.10414 30.022041 \nL 82.614323 32.583067 \nL 87.908527 38.424028 \nL 110.637094 63.800844 \nL 119.582473 73.313047 \nL 128.345294 82.309467 \nL 137.153755 91.034809 \nL 146.007855 99.493604 \nL 154.953234 107.732464 \nL 163.989893 115.753384 \nL 173.163471 123.597936 \nL 182.428329 131.227152 \nL 191.784466 138.644203 \nL 201.277522 145.886981 \nL 202.96619 147.146413 \nL 203.05747 148.132348 \nL 204.609219 171.157718 \nL 206.160969 190.989147 \nL 207.758358 208.648074 \nL 209.401387 224.391184 \nL 211.090055 238.443639 \nL 212.778724 250.6939 \nL 214.513032 261.701635 \nL 216.29298 271.602747 \nL 218.118568 280.517646 \nL 219.989795 288.552977 \nL 221.906662 295.803234 \nL 223.869169 302.352161 \nL 225.877316 308.273995 \nL 227.931102 313.634599 \nL 230.030527 318.492424 \nL 232.175593 322.899381 \nL 234.366298 326.901612 \nL 236.648283 330.610147 \nL 238.975907 333.97635 \nL 241.394811 337.090996 \nL 243.904994 339.967303 \nL 246.552096 342.662923 \nL 249.336117 345.177061 \nL 252.257057 347.512106 \nL 255.314917 349.67282 \nL 258.555335 351.692497 \nL 262.023951 353.592872 \nL 265.766406 355.386892 \nL 269.782699 357.063399 \nL 274.164109 358.647092 \nL 278.910637 360.123398 \nL 284.113562 361.506577 \nL 289.864163 362.802391 \nL 296.25372 364.011099 \nL 303.419152 365.136508 \nL 311.543017 366.181968 \nL 320.807874 367.144115 \nL 331.487562 368.023593 \nL 343.947198 368.820548 \nL 351.797225 369.226756 \nL 351.797225 369.226756 \n\" clip-path=\"url(#p0e43b30b9c)\" style=\"fill: none; stroke: #d62728; stroke-width: 1.5; stroke-linecap: square\"/>\n   </g>\n   <g id=\"line2d_36\">\n    <path d=\"M 44.915937 370.423636 \nL 52.537766 282.106863 \nL 53.861317 270.668757 \nL 55.139228 261.509476 \nL 56.32586 254.531382 \nL 57.512492 248.850992 \nL 58.653485 244.442261 \nL 59.794477 240.90543 \nL 60.88983 238.19548 \nL 61.985182 236.041815 \nL 63.126175 234.284677 \nL 64.267167 232.931619 \nL 65.453799 231.869847 \nL 66.68607 231.064577 \nL 68.009622 230.465088 \nL 69.470092 230.048992 \nL 71.15876 229.807371 \nL 73.166907 229.757238 \nL 75.63145 229.928888 \nL 78.917508 230.393066 \nL 82.386124 231.085397 \nL 88.730042 232.539222 \nL 99.866126 234.832627 \nL 120.449627 238.822473 \nL 146.099134 243.56913 \nL 172.524516 248.232447 \nL 199.725772 252.806271 \nL 227.794183 257.298718 \nL 256.592828 261.681966 \nL 286.258628 265.971869 \nL 316.882861 270.174339 \nL 348.511167 274.289335 \nL 381.143547 278.30916 \nL 414.82564 282.233422 \nL 449.694364 286.071424 \nL 470.506064 288.259591 \nL 471.236299 292.456389 \nL 472.788048 300.524985 \nL 474.385437 307.682286 \nL 476.028466 314.040222 \nL 477.717135 319.696215 \nL 479.451443 324.735097 \nL 481.231391 329.230779 \nL 483.056979 333.247714 \nL 484.928206 336.842143 \nL 486.890713 340.134776 \nL 488.898859 343.079186 \nL 490.998285 345.771387 \nL 493.18899 348.22691 \nL 495.516615 350.503664 \nL 497.981158 352.601906 \nL 500.582621 354.525615 \nL 503.366642 356.308718 \nL 506.378861 357.972114 \nL 509.61928 359.507395 \nL 513.179175 360.945767 \nL 517.104189 362.28741 \nL 521.43996 363.530546 \nL 526.277767 364.682862 \nL 531.75453 365.753619 \nL 537.961528 366.736086 \nL 545.12696 367.639664 \nL 553.479023 368.46241 \nL 563.337197 369.203819 \nL 575.203517 369.866324 \nL 576.344509 369.919889 \nL 576.344509 369.919889 \n\" clip-path=\"url(#p0e43b30b9c)\" style=\"fill: none; stroke: #1f77b4; stroke-width: 1.5; stroke-linecap: square\"/>\n   </g>\n   <g id=\"patch_3\">\n    <path d=\"M 44.915937 387.72 \nL 44.915937 7.2 \n\" style=\"fill: none; stroke: #000000; stroke-width: 0.8; stroke-linejoin: miter; stroke-linecap: square\"/>\n   </g>\n   <g id=\"patch_4\">\n    <path d=\"M 602.915938 387.72 \nL 602.915938 7.2 \n\" style=\"fill: none; stroke: #000000; stroke-width: 0.8; stroke-linejoin: miter; stroke-linecap: square\"/>\n   </g>\n   <g id=\"patch_5\">\n    <path d=\"M 44.915937 387.72 \nL 602.915938 387.72 \n\" style=\"fill: none; stroke: #000000; stroke-width: 0.8; stroke-linejoin: miter; stroke-linecap: square\"/>\n   </g>\n   <g id=\"patch_6\">\n    <path d=\"M 44.915937 7.2 \nL 602.915938 7.2 \n\" style=\"fill: none; stroke: #000000; stroke-width: 0.8; stroke-linejoin: miter; stroke-linecap: square\"/>\n   </g>\n   <g id=\"legend_1\">\n    <g id=\"patch_7\">\n     <path d=\"M 492.595937 77.784063 \nL 593.115937 77.784063 \nQ 595.915937 77.784063 595.915937 74.984062 \nL 595.915937 17 \nQ 595.915937 14.2 593.115937 14.2 \nL 492.595937 14.2 \nQ 489.795937 14.2 489.795937 17 \nL 489.795937 74.984062 \nQ 489.795937 77.784063 492.595937 77.784063 \nz\n\" style=\"fill: #ffffff; opacity: 0.8; stroke: #cccccc; stroke-linejoin: miter\"/>\n    </g>\n    <g id=\"line2d_37\">\n     <path d=\"M 495.395938 24.7 \nL 509.395938 24.7 \nL 523.395937 24.7 \n\" style=\"fill: none; stroke: #2ca02c; stroke-width: 1.5; stroke-linecap: square\"/>\n    </g>\n    <g id=\"text_19\">\n     <!-- $\\mathit{t}$ = +18°C -->\n     <g transform=\"translate(534.595937 29.6)scale(0.14 -0.14)\">\n      <defs>\n       <path id=\"TimesNewRomanPSMT-3d\" d=\"M 116 2759 \nL 3488 2759 \nL 3488 2503 \nL 116 2503 \nL 116 2759 \nz\nM 116 1741 \nL 3488 1741 \nL 3488 1484 \nL 116 1484 \nL 116 1741 \nz\n\" transform=\"scale(0.015625)\"/>\n       <path id=\"TimesNewRomanPSMT-2b\" d=\"M 1672 441 \nL 1672 2000 \nL 116 2000 \nL 116 2256 \nL 1672 2256 \nL 1672 3809 \nL 1922 3809 \nL 1922 2256 \nL 3484 2256 \nL 3484 2000 \nL 1922 2000 \nL 1922 441 \nL 1672 441 \nz\n\" transform=\"scale(0.015625)\"/>\n       <path id=\"TimesNewRomanPSMT-b0\" d=\"M 1266 4331 \nQ 1669 4331 1948 4050 \nQ 2228 3769 2228 3369 \nQ 2228 2972 1947 2690 \nQ 1666 2409 1266 2409 \nQ 869 2409 587 2690 \nQ 306 2972 306 3369 \nQ 306 3769 586 4050 \nQ 866 4331 1266 4331 \nz\nM 1266 4069 \nQ 975 4069 772 3866 \nQ 569 3663 569 3372 \nQ 569 3084 772 2879 \nQ 975 2675 1266 2675 \nQ 1553 2675 1758 2879 \nQ 1963 3084 1963 3372 \nQ 1963 3663 1759 3866 \nQ 1556 4069 1266 4069 \nz\n\" transform=\"scale(0.015625)\"/>\n       <path id=\"TimesNewRomanPSMT-43\" d=\"M 3853 4334 \nL 3950 2894 \nL 3853 2894 \nQ 3659 3541 3300 3825 \nQ 2941 4109 2438 4109 \nQ 2016 4109 1675 3895 \nQ 1334 3681 1139 3212 \nQ 944 2744 944 2047 \nQ 944 1472 1128 1050 \nQ 1313 628 1683 403 \nQ 2053 178 2528 178 \nQ 2941 178 3256 354 \nQ 3572 531 3950 1056 \nL 4047 994 \nQ 3728 428 3303 165 \nQ 2878 -97 2294 -97 \nQ 1241 -97 663 684 \nQ 231 1266 231 2053 \nQ 231 2688 515 3219 \nQ 800 3750 1298 4042 \nQ 1797 4334 2388 4334 \nQ 2847 4334 3294 4109 \nQ 3425 4041 3481 4041 \nQ 3566 4041 3628 4100 \nQ 3709 4184 3744 4334 \nL 3853 4334 \nz\n\" transform=\"scale(0.015625)\"/>\n      </defs>\n      <use xlink:href=\"#STIXGeneral-Italic-74\" transform=\"translate(0 0.28125)\"/>\n      <use xlink:href=\"#TimesNewRomanPSMT-20\" transform=\"translate(27.799988 0.28125)\"/>\n      <use xlink:href=\"#TimesNewRomanPSMT-3d\" transform=\"translate(52.799988 0.28125)\"/>\n      <use xlink:href=\"#TimesNewRomanPSMT-20\" transform=\"translate(109.196472 0.28125)\"/>\n      <use xlink:href=\"#TimesNewRomanPSMT-2b\" transform=\"translate(134.196472 0.28125)\"/>\n      <use xlink:href=\"#TimesNewRomanPSMT-31\" transform=\"translate(190.592957 0.28125)\"/>\n      <use xlink:href=\"#TimesNewRomanPSMT-38\" transform=\"translate(240.592957 0.28125)\"/>\n      <use xlink:href=\"#TimesNewRomanPSMT-b0\" transform=\"translate(290.592957 0.28125)\"/>\n      <use xlink:href=\"#TimesNewRomanPSMT-43\" transform=\"translate(330.583191 0.28125)\"/>\n     </g>\n    </g>\n    <g id=\"line2d_38\">\n     <path d=\"M 495.395938 44.494688 \nL 509.395938 44.494688 \nL 523.395937 44.494688 \n\" style=\"fill: none; stroke: #d62728; stroke-width: 1.5; stroke-linecap: square\"/>\n    </g>\n    <g id=\"text_20\">\n     <!-- $\\mathit{t}$ = +50°C -->\n     <g transform=\"translate(534.595937 49.394688)scale(0.14 -0.14)\">\n      <use xlink:href=\"#STIXGeneral-Italic-74\" transform=\"translate(0 0.28125)\"/>\n      <use xlink:href=\"#TimesNewRomanPSMT-20\" transform=\"translate(27.799988 0.28125)\"/>\n      <use xlink:href=\"#TimesNewRomanPSMT-3d\" transform=\"translate(52.799988 0.28125)\"/>\n      <use xlink:href=\"#TimesNewRomanPSMT-20\" transform=\"translate(109.196472 0.28125)\"/>\n      <use xlink:href=\"#TimesNewRomanPSMT-2b\" transform=\"translate(134.196472 0.28125)\"/>\n      <use xlink:href=\"#TimesNewRomanPSMT-35\" transform=\"translate(190.592957 0.28125)\"/>\n      <use xlink:href=\"#TimesNewRomanPSMT-30\" transform=\"translate(240.592957 0.28125)\"/>\n      <use xlink:href=\"#TimesNewRomanPSMT-b0\" transform=\"translate(290.592957 0.28125)\"/>\n      <use xlink:href=\"#TimesNewRomanPSMT-43\" transform=\"translate(330.583191 0.28125)\"/>\n     </g>\n    </g>\n    <g id=\"line2d_39\">\n     <path d=\"M 495.395938 64.289375 \nL 509.395938 64.289375 \nL 523.395937 64.289375 \n\" style=\"fill: none; stroke: #1f77b4; stroke-width: 1.5; stroke-linecap: square\"/>\n    </g>\n    <g id=\"text_21\">\n     <!-- $\\mathit{t}$ = $-$50°C -->\n     <g transform=\"translate(534.595937 69.189375)scale(0.14 -0.14)\">\n      <defs>\n       <path id=\"TimesNewRomanPSMT-2212\" d=\"M 3484 2000 \nL 116 2000 \nL 116 2256 \nL 3484 2256 \nL 3484 2000 \nz\n\" transform=\"scale(0.015625)\"/>\n      </defs>\n      <use xlink:href=\"#STIXGeneral-Italic-74\" transform=\"translate(0 0.28125)\"/>\n      <use xlink:href=\"#TimesNewRomanPSMT-20\" transform=\"translate(27.799988 0.28125)\"/>\n      <use xlink:href=\"#TimesNewRomanPSMT-3d\" transform=\"translate(52.799988 0.28125)\"/>\n      <use xlink:href=\"#TimesNewRomanPSMT-20\" transform=\"translate(109.196472 0.28125)\"/>\n      <use xlink:href=\"#TimesNewRomanPSMT-2212\" transform=\"translate(134.196472 0.28125)\"/>\n      <use xlink:href=\"#TimesNewRomanPSMT-35\" transform=\"translate(190.592957 0.28125)\"/>\n      <use xlink:href=\"#TimesNewRomanPSMT-30\" transform=\"translate(240.592957 0.28125)\"/>\n      <use xlink:href=\"#TimesNewRomanPSMT-b0\" transform=\"translate(290.592957 0.28125)\"/>\n      <use xlink:href=\"#TimesNewRomanPSMT-43\" transform=\"translate(330.583191 0.28125)\"/>\n     </g>\n    </g>\n   </g>\n  </g>\n </g>\n <defs>\n  <clipPath id=\"p0e43b30b9c\">\n   <rect x=\"44.915937\" y=\"7.2\" width=\"558\" height=\"380.52\"/>\n  </clipPath>\n </defs>\n</svg>\n",
      "text/plain": [
       "<Figure size 720x504 with 1 Axes>"
      ]
     },
     "metadata": {
      "needs_background": "light"
     },
     "output_type": "display_data"
    }
   ],
   "source": [
    "plt.figure(figsize = (10,7))\n",
    "plt.plot(res18['t'],Ps(res18,273.15+18)/1e3, c = 'tab:green', label = '$\\mathit{t}$ = +18°C')\n",
    "plt.axhline(P_need/1e3,ls = '--',c = 'grey')\n",
    "plt.plot(res50['t'],Ps(res50,273.15+50)/1e3, c = 'tab:red', label = '$\\mathit{t}$ = +50°C')\n",
    "plt.plot(res_50['t'],Ps(res_50,273.15-50)/1e3, c = 'tab:blue', label = '$\\mathit{t}$ = $-$50°C')\n",
    "\n",
    "plt.xlim(0)\n",
    "plt.xlabel('$\\mathit{t}$, с')\n",
    "plt.ylabel('$\\mathit{P}$, кН')\n",
    "plt.legend()\n",
    "plt.grid()\n",
    "# plt.savefig('Инд Pp.svg', dpi=500, bbox_inches='tight')"
   ]
  },
  {
   "cell_type": "code",
   "execution_count": null,
   "metadata": {},
   "outputs": [],
   "source": []
  },
  {
   "cell_type": "code",
   "execution_count": null,
   "metadata": {},
   "outputs": [],
   "source": []
  }
 ],
 "metadata": {
  "kernelspec": {
   "display_name": "Python 3",
   "language": "python",
   "name": "python3"
  },
  "language_info": {
   "codemirror_mode": {
    "name": "ipython",
    "version": 3
   },
   "file_extension": ".py",
   "mimetype": "text/x-python",
   "name": "python",
   "nbconvert_exporter": "python",
   "pygments_lexer": "ipython3",
   "version": "3.10.5"
  },
  "orig_nbformat": 4,
  "vscode": {
   "interpreter": {
    "hash": "df3017dee9db3bd863778624db07b417f16e9b9edb7134a2aae625b280bf7fd0"
   }
  }
 },
 "nbformat": 4,
 "nbformat_minor": 2
}
